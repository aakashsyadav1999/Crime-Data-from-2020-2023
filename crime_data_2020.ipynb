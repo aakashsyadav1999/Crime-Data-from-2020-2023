{
 "cells": [
  {
   "cell_type": "code",
   "execution_count": 1,
   "metadata": {},
   "outputs": [],
   "source": [
    "#Basic Libs\n",
    "import pandas as pd\n",
    "import glob\n",
    "pd.set_option('display.max_rows', 500)\n",
    "pd.set_option('display.max_columns', 500)\n",
    "pd.set_option('display.width', 9000)\n",
    "import numpy as np\n",
    "import matplotlib.pyplot as plt\n",
    "import seaborn as sns\n",
    "from numerize import numerize\n",
    "import missingno as mso # missging values visualization\n",
    "import plotly.express as px\n",
    "import plotly.graph_objects as go\n",
    "\n",
    "# Time\n",
    "import time\n",
    "\n",
    "# Stats\n",
    "from scipy.stats import norm\n",
    "from scipy.stats import shapiro\n",
    "from statsmodels.graphics.gofplots import qqplot\n",
    "\n",
    "# Warnings\n",
    "import warnings\n",
    "warnings.filterwarnings(\"ignore\")\n",
    "import os"
   ]
  },
  {
   "cell_type": "code",
   "execution_count": 2,
   "metadata": {},
   "outputs": [
    {
     "name": "stdout",
     "output_type": "stream",
     "text": [
      "         DR_NO               Date Rptd                DATE OCC  TIME OCC  AREA    AREA NAME  Rpt Dist No  Part 1-2  Crm Cd                                        Crm Cd Desc                        Mocodes  Vict Age Vict Sex Vict Descent  Premis Cd                                   Premis Desc  Weapon Used Cd                                     Weapon Desc Status   Status Desc  Crm Cd 1  Crm Cd 2  Crm Cd 3  Crm Cd 4                                  LOCATION Cross Street      LAT       LON\n",
      "0     10304468  01/08/2020 12:00:00 AM  01/08/2020 12:00:00 AM      2230     3    Southwest          377         2     624                           BATTERY - SIMPLE ASSAULT                      0444 0913        36        F            B        501                        SINGLE FAMILY DWELLING           400.0  STRONG-ARM (HANDS, FIST, FEET OR BODILY FORCE)     AO   Adult Other       624       NaN       NaN       NaN   1100 W  39TH                         PL          NaN  34.0141 -118.2978\n",
      "1    190101086  01/02/2020 12:00:00 AM  01/01/2020 12:00:00 AM       330     1      Central          163         2     624                           BATTERY - SIMPLE ASSAULT                 0416 1822 1414        25        M            H        102                                      SIDEWALK           500.0                     UNKNOWN WEAPON/OTHER WEAPON     IC   Invest Cont       624       NaN       NaN       NaN    700 S  HILL                         ST          NaN  34.0459 -118.2545\n",
      "2    200110444  04/14/2020 12:00:00 AM  02/13/2020 12:00:00 AM      1200     1      Central          155         2     845          SEX OFFENDER REGISTRANT OUT OF COMPLIANCE                           1501         0        X            X        726                               POLICE FACILITY             NaN                                             NaN     AA  Adult Arrest       845       NaN       NaN       NaN    200 E  6TH                          ST          NaN  34.0448 -118.2474\n",
      "3    191501505  01/01/2020 12:00:00 AM  01/01/2020 12:00:00 AM      1730    15  N Hollywood         1543         2     745           VANDALISM - MISDEAMEANOR ($399 OR UNDER)                      0329 1402        76        F            W        502  MULTI-UNIT DWELLING (APARTMENT, DUPLEX, ETC)             NaN                                             NaN     IC   Invest Cont       745     998.0       NaN       NaN   5400    CORTEEN                      PL          NaN  34.1685 -118.4019\n",
      "4    191921269  01/01/2020 12:00:00 AM  01/01/2020 12:00:00 AM       415    19      Mission         1998         2     740  VANDALISM - FELONY ($400 & OVER, ALL CHURCH VA...                           0329        31        X            X        409                           BEAUTY SUPPLY STORE             NaN                                             NaN     IC   Invest Cont       740       NaN       NaN       NaN  14400    TITUS                        ST          NaN  34.2198 -118.4468\n",
      "..         ...                     ...                     ...       ...   ...          ...          ...       ...     ...                                                ...                            ...       ...      ...          ...        ...                                           ...             ...                                             ...    ...           ...       ...       ...       ...       ...                                       ...          ...      ...       ...\n",
      "995  200105946  01/29/2020 12:00:00 AM  01/29/2020 12:00:00 AM       720     1      Central          157         2     624                           BATTERY - SIMPLE ASSAULT            1814 0913 1601 0416        50        M            H        102                                      SIDEWALK           400.0  STRONG-ARM (HANDS, FIST, FEET OR BODILY FORCE)     IC   Invest Cont       624       NaN       NaN       NaN    600 S  SAN PEDRO                    ST          NaN  34.0423 -118.2452\n",
      "996  200105947  01/29/2020 12:00:00 AM  01/28/2020 12:00:00 AM      1730     1      Central          159         1     510                                   VEHICLE - STOLEN                            NaN         0      NaN          NaN        101                                        STREET             NaN                                             NaN     IC   Invest Cont       510       NaN       NaN       NaN   1800    INDUSTRIAL                   ST          NaN  34.0359 -118.2344\n",
      "997  210817688  12/16/2021 12:00:00 AM  12/09/2020 12:00:00 AM      1300     8      West LA          835         2     649                   DOCUMENT FORGERY / STOLEN FELONY                 1822 0100 0923        55        F            W        501                        SINGLE FAMILY DWELLING             NaN                                             NaN     IC   Invest Cont       649       NaN       NaN       NaN   1800    CAMDEN                       AV          NaN  34.0466 -118.4408\n",
      "998  200504494  01/11/2020 12:00:00 AM  01/11/2020 12:00:00 AM      1340     5       Harbor          565         2     930             CRIMINAL THREATS - NO WEAPON DISPLAYED  0913 2000 0443 2004 1813 1309        33        F            H        203                                OTHER BUSINESS           511.0                                   VERBAL THREAT     AA  Adult Arrest       930       NaN       NaN       NaN    900 S  GRAND                        AV          NaN  33.7361 -118.2901\n",
      "999  201108617  04/22/2020 12:00:00 AM  04/07/2020 12:00:00 AM      1420    11    Northeast         1143         2     354                                  THEFT OF IDENTITY                      0930 1822        48        M            H        707                                GARAGE/CARPORT             NaN                                             NaN     IC   Invest Cont       354       NaN       NaN       NaN   2900    SAINT GEORGE                 ST          NaN  34.1097 -118.2739\n",
      "\n",
      "[1000 rows x 28 columns]\n"
     ]
    }
   ],
   "source": [
    "# specifying the path to csv files\n",
    "path = os.getcwd()\n",
    "  \n",
    "# csv files in the path\n",
    "files = glob.glob(path + \"/*.csv\")\n",
    "  \n",
    "# defining an empty list to store \n",
    "# content\n",
    "data_frame = pd.DataFrame()\n",
    "content = []\n",
    "  \n",
    "# checking all the csv files in the \n",
    "# specified path\n",
    "for filename in files:\n",
    "    \n",
    "    # reading content of csv file\n",
    "    # content.append(filename)\n",
    "    df = pd.read_csv(filename, index_col=None,nrows=1000)\n",
    "    content.append(df)\n",
    "  \n",
    "# converting content to data frame\n",
    "data_frame = pd.concat(content)\n",
    "print(data_frame)"
   ]
  },
  {
   "cell_type": "code",
   "execution_count": 3,
   "metadata": {},
   "outputs": [
    {
     "data": {
      "text/html": [
       "<div>\n",
       "<style scoped>\n",
       "    .dataframe tbody tr th:only-of-type {\n",
       "        vertical-align: middle;\n",
       "    }\n",
       "\n",
       "    .dataframe tbody tr th {\n",
       "        vertical-align: top;\n",
       "    }\n",
       "\n",
       "    .dataframe thead th {\n",
       "        text-align: right;\n",
       "    }\n",
       "</style>\n",
       "<table border=\"1\" class=\"dataframe\">\n",
       "  <thead>\n",
       "    <tr style=\"text-align: right;\">\n",
       "      <th></th>\n",
       "      <th>DR_NO</th>\n",
       "      <th>Date Rptd</th>\n",
       "      <th>DATE OCC</th>\n",
       "      <th>TIME OCC</th>\n",
       "      <th>AREA</th>\n",
       "      <th>AREA NAME</th>\n",
       "      <th>Rpt Dist No</th>\n",
       "      <th>Part 1-2</th>\n",
       "      <th>Crm Cd</th>\n",
       "      <th>Crm Cd Desc</th>\n",
       "      <th>Mocodes</th>\n",
       "      <th>Vict Age</th>\n",
       "      <th>Vict Sex</th>\n",
       "      <th>Vict Descent</th>\n",
       "      <th>Premis Cd</th>\n",
       "      <th>Premis Desc</th>\n",
       "      <th>Weapon Used Cd</th>\n",
       "      <th>Weapon Desc</th>\n",
       "      <th>Status</th>\n",
       "      <th>Status Desc</th>\n",
       "      <th>Crm Cd 1</th>\n",
       "      <th>Crm Cd 2</th>\n",
       "      <th>Crm Cd 3</th>\n",
       "      <th>Crm Cd 4</th>\n",
       "      <th>LOCATION</th>\n",
       "      <th>Cross Street</th>\n",
       "      <th>LAT</th>\n",
       "      <th>LON</th>\n",
       "    </tr>\n",
       "  </thead>\n",
       "  <tbody>\n",
       "    <tr>\n",
       "      <th>0</th>\n",
       "      <td>10304468</td>\n",
       "      <td>01/08/2020 12:00:00 AM</td>\n",
       "      <td>01/08/2020 12:00:00 AM</td>\n",
       "      <td>2230</td>\n",
       "      <td>3</td>\n",
       "      <td>Southwest</td>\n",
       "      <td>377</td>\n",
       "      <td>2</td>\n",
       "      <td>624</td>\n",
       "      <td>BATTERY - SIMPLE ASSAULT</td>\n",
       "      <td>0444 0913</td>\n",
       "      <td>36</td>\n",
       "      <td>F</td>\n",
       "      <td>B</td>\n",
       "      <td>501</td>\n",
       "      <td>SINGLE FAMILY DWELLING</td>\n",
       "      <td>400.0</td>\n",
       "      <td>STRONG-ARM (HANDS, FIST, FEET OR BODILY FORCE)</td>\n",
       "      <td>AO</td>\n",
       "      <td>Adult Other</td>\n",
       "      <td>624</td>\n",
       "      <td>NaN</td>\n",
       "      <td>NaN</td>\n",
       "      <td>NaN</td>\n",
       "      <td>1100 W  39TH                         PL</td>\n",
       "      <td>NaN</td>\n",
       "      <td>34.0141</td>\n",
       "      <td>-118.2978</td>\n",
       "    </tr>\n",
       "    <tr>\n",
       "      <th>1</th>\n",
       "      <td>190101086</td>\n",
       "      <td>01/02/2020 12:00:00 AM</td>\n",
       "      <td>01/01/2020 12:00:00 AM</td>\n",
       "      <td>330</td>\n",
       "      <td>1</td>\n",
       "      <td>Central</td>\n",
       "      <td>163</td>\n",
       "      <td>2</td>\n",
       "      <td>624</td>\n",
       "      <td>BATTERY - SIMPLE ASSAULT</td>\n",
       "      <td>0416 1822 1414</td>\n",
       "      <td>25</td>\n",
       "      <td>M</td>\n",
       "      <td>H</td>\n",
       "      <td>102</td>\n",
       "      <td>SIDEWALK</td>\n",
       "      <td>500.0</td>\n",
       "      <td>UNKNOWN WEAPON/OTHER WEAPON</td>\n",
       "      <td>IC</td>\n",
       "      <td>Invest Cont</td>\n",
       "      <td>624</td>\n",
       "      <td>NaN</td>\n",
       "      <td>NaN</td>\n",
       "      <td>NaN</td>\n",
       "      <td>700 S  HILL                         ST</td>\n",
       "      <td>NaN</td>\n",
       "      <td>34.0459</td>\n",
       "      <td>-118.2545</td>\n",
       "    </tr>\n",
       "    <tr>\n",
       "      <th>2</th>\n",
       "      <td>200110444</td>\n",
       "      <td>04/14/2020 12:00:00 AM</td>\n",
       "      <td>02/13/2020 12:00:00 AM</td>\n",
       "      <td>1200</td>\n",
       "      <td>1</td>\n",
       "      <td>Central</td>\n",
       "      <td>155</td>\n",
       "      <td>2</td>\n",
       "      <td>845</td>\n",
       "      <td>SEX OFFENDER REGISTRANT OUT OF COMPLIANCE</td>\n",
       "      <td>1501</td>\n",
       "      <td>0</td>\n",
       "      <td>X</td>\n",
       "      <td>X</td>\n",
       "      <td>726</td>\n",
       "      <td>POLICE FACILITY</td>\n",
       "      <td>NaN</td>\n",
       "      <td>NaN</td>\n",
       "      <td>AA</td>\n",
       "      <td>Adult Arrest</td>\n",
       "      <td>845</td>\n",
       "      <td>NaN</td>\n",
       "      <td>NaN</td>\n",
       "      <td>NaN</td>\n",
       "      <td>200 E  6TH                          ST</td>\n",
       "      <td>NaN</td>\n",
       "      <td>34.0448</td>\n",
       "      <td>-118.2474</td>\n",
       "    </tr>\n",
       "    <tr>\n",
       "      <th>3</th>\n",
       "      <td>191501505</td>\n",
       "      <td>01/01/2020 12:00:00 AM</td>\n",
       "      <td>01/01/2020 12:00:00 AM</td>\n",
       "      <td>1730</td>\n",
       "      <td>15</td>\n",
       "      <td>N Hollywood</td>\n",
       "      <td>1543</td>\n",
       "      <td>2</td>\n",
       "      <td>745</td>\n",
       "      <td>VANDALISM - MISDEAMEANOR ($399 OR UNDER)</td>\n",
       "      <td>0329 1402</td>\n",
       "      <td>76</td>\n",
       "      <td>F</td>\n",
       "      <td>W</td>\n",
       "      <td>502</td>\n",
       "      <td>MULTI-UNIT DWELLING (APARTMENT, DUPLEX, ETC)</td>\n",
       "      <td>NaN</td>\n",
       "      <td>NaN</td>\n",
       "      <td>IC</td>\n",
       "      <td>Invest Cont</td>\n",
       "      <td>745</td>\n",
       "      <td>998.0</td>\n",
       "      <td>NaN</td>\n",
       "      <td>NaN</td>\n",
       "      <td>5400    CORTEEN                      PL</td>\n",
       "      <td>NaN</td>\n",
       "      <td>34.1685</td>\n",
       "      <td>-118.4019</td>\n",
       "    </tr>\n",
       "    <tr>\n",
       "      <th>4</th>\n",
       "      <td>191921269</td>\n",
       "      <td>01/01/2020 12:00:00 AM</td>\n",
       "      <td>01/01/2020 12:00:00 AM</td>\n",
       "      <td>415</td>\n",
       "      <td>19</td>\n",
       "      <td>Mission</td>\n",
       "      <td>1998</td>\n",
       "      <td>2</td>\n",
       "      <td>740</td>\n",
       "      <td>VANDALISM - FELONY ($400 &amp; OVER, ALL CHURCH VA...</td>\n",
       "      <td>0329</td>\n",
       "      <td>31</td>\n",
       "      <td>X</td>\n",
       "      <td>X</td>\n",
       "      <td>409</td>\n",
       "      <td>BEAUTY SUPPLY STORE</td>\n",
       "      <td>NaN</td>\n",
       "      <td>NaN</td>\n",
       "      <td>IC</td>\n",
       "      <td>Invest Cont</td>\n",
       "      <td>740</td>\n",
       "      <td>NaN</td>\n",
       "      <td>NaN</td>\n",
       "      <td>NaN</td>\n",
       "      <td>14400    TITUS                        ST</td>\n",
       "      <td>NaN</td>\n",
       "      <td>34.2198</td>\n",
       "      <td>-118.4468</td>\n",
       "    </tr>\n",
       "  </tbody>\n",
       "</table>\n",
       "</div>"
      ],
      "text/plain": [
       "       DR_NO               Date Rptd                DATE OCC  TIME OCC  AREA    AREA NAME  Rpt Dist No  Part 1-2  Crm Cd                                        Crm Cd Desc         Mocodes  Vict Age Vict Sex Vict Descent  Premis Cd                                   Premis Desc  Weapon Used Cd                                     Weapon Desc Status   Status Desc  Crm Cd 1  Crm Cd 2  Crm Cd 3  Crm Cd 4                                  LOCATION Cross Street      LAT       LON\n",
       "0   10304468  01/08/2020 12:00:00 AM  01/08/2020 12:00:00 AM      2230     3    Southwest          377         2     624                           BATTERY - SIMPLE ASSAULT       0444 0913        36        F            B        501                        SINGLE FAMILY DWELLING           400.0  STRONG-ARM (HANDS, FIST, FEET OR BODILY FORCE)     AO   Adult Other       624       NaN       NaN       NaN   1100 W  39TH                         PL          NaN  34.0141 -118.2978\n",
       "1  190101086  01/02/2020 12:00:00 AM  01/01/2020 12:00:00 AM       330     1      Central          163         2     624                           BATTERY - SIMPLE ASSAULT  0416 1822 1414        25        M            H        102                                      SIDEWALK           500.0                     UNKNOWN WEAPON/OTHER WEAPON     IC   Invest Cont       624       NaN       NaN       NaN    700 S  HILL                         ST          NaN  34.0459 -118.2545\n",
       "2  200110444  04/14/2020 12:00:00 AM  02/13/2020 12:00:00 AM      1200     1      Central          155         2     845          SEX OFFENDER REGISTRANT OUT OF COMPLIANCE            1501         0        X            X        726                               POLICE FACILITY             NaN                                             NaN     AA  Adult Arrest       845       NaN       NaN       NaN    200 E  6TH                          ST          NaN  34.0448 -118.2474\n",
       "3  191501505  01/01/2020 12:00:00 AM  01/01/2020 12:00:00 AM      1730    15  N Hollywood         1543         2     745           VANDALISM - MISDEAMEANOR ($399 OR UNDER)       0329 1402        76        F            W        502  MULTI-UNIT DWELLING (APARTMENT, DUPLEX, ETC)             NaN                                             NaN     IC   Invest Cont       745     998.0       NaN       NaN   5400    CORTEEN                      PL          NaN  34.1685 -118.4019\n",
       "4  191921269  01/01/2020 12:00:00 AM  01/01/2020 12:00:00 AM       415    19      Mission         1998         2     740  VANDALISM - FELONY ($400 & OVER, ALL CHURCH VA...            0329        31        X            X        409                           BEAUTY SUPPLY STORE             NaN                                             NaN     IC   Invest Cont       740       NaN       NaN       NaN  14400    TITUS                        ST          NaN  34.2198 -118.4468"
      ]
     },
     "execution_count": 3,
     "metadata": {},
     "output_type": "execute_result"
    }
   ],
   "source": [
    "df.head()"
   ]
  },
  {
   "cell_type": "code",
   "execution_count": 4,
   "metadata": {},
   "outputs": [
    {
     "data": {
      "text/plain": [
       "array(['BATTERY - SIMPLE ASSAULT',\n",
       "       'SEX OFFENDER REGISTRANT OUT OF COMPLIANCE',\n",
       "       'VANDALISM - MISDEAMEANOR ($399 OR UNDER)',\n",
       "       'VANDALISM - FELONY ($400 & OVER, ALL CHURCH VANDALISMS)',\n",
       "       'RAPE, FORCIBLE', 'SHOPLIFTING - PETTY THEFT ($950 & UNDER)',\n",
       "       'OTHER MISCELLANEOUS CRIME',\n",
       "       'THEFT-GRAND ($950.01 & OVER)EXCPT,GUNS,FOWL,LIVESTK,PROD',\n",
       "       'BURGLARY FROM VEHICLE', 'CRIMINAL THREATS - NO WEAPON DISPLAYED',\n",
       "       'ARSON', 'INTIMATE PARTNER - SIMPLE ASSAULT',\n",
       "       'THEFT PLAIN - PETTY ($950 & UNDER)', 'THEFT OF IDENTITY',\n",
       "       'ROBBERY', 'ASSAULT WITH DEADLY WEAPON, AGGRAVATED ASSAULT',\n",
       "       'BURGLARY', 'VEHICLE - STOLEN',\n",
       "       'THEFT FROM MOTOR VEHICLE - PETTY ($950 & UNDER)',\n",
       "       'BRANDISH WEAPON', 'INTIMATE PARTNER - AGGRAVATED ASSAULT',\n",
       "       'BUNCO, GRAND THEFT', 'THEFT, PERSON',\n",
       "       'BATTERY WITH SEXUAL CONTACT', 'BIKE - STOLEN',\n",
       "       'BATTERY POLICE (SIMPLE)',\n",
       "       'LETTERS, LEWD  -  TELEPHONE CALLS, LEWD',\n",
       "       'VIOLATION OF COURT ORDER', 'TRESPASSING',\n",
       "       'THEFT FROM MOTOR VEHICLE - GRAND ($950.01 AND OVER)',\n",
       "       'VIOLATION OF RESTRAINING ORDER', 'DISTURBING THE PEACE',\n",
       "       'THEFT FROM MOTOR VEHICLE - ATTEMPT',\n",
       "       'THROWING OBJECT AT MOVING VEHICLE', 'EXTORTION',\n",
       "       'SEX,UNLAWFUL(INC MUTUAL CONSENT, PENETRATION W/ FRGN OBJ',\n",
       "       'CHILD STEALING',\n",
       "       'CRM AGNST CHLD (13 OR UNDER) (14-15 & SUSP 10 YRS OLDER)',\n",
       "       'ATTEMPTED ROBBERY', 'OTHER ASSAULT', 'BOMB SCARE',\n",
       "       'DOCUMENT FORGERY / STOLEN FELONY',\n",
       "       'SEXUAL PENETRATION W/FOREIGN OBJECT',\n",
       "       'SHOTS FIRED AT INHABITED DWELLING', 'BURGLARY, ATTEMPTED',\n",
       "       'FAILURE TO YIELD', 'INDECENT EXPOSURE', 'ORAL COPULATION',\n",
       "       'EMBEZZLEMENT, GRAND THEFT ($950.01 & OVER)',\n",
       "       'VIOLATION OF TEMPORARY RESTRAINING ORDER', 'BUNCO, PETTY THEFT',\n",
       "       'KIDNAPPING - GRAND ATTEMPT',\n",
       "       'SHOPLIFTING-GRAND THEFT ($950.01 & OVER)', 'RESISTING ARREST',\n",
       "       'DISCHARGE FIREARMS/SHOTS FIRED',\n",
       "       'THREATENING PHONE CALLS/LETTERS', 'KIDNAPPING',\n",
       "       'LEWD/LASCIVIOUS ACTS WITH CHILD', 'LEWD CONDUCT',\n",
       "       'UNAUTHORIZED COMPUTER ACCESS', 'PURSE SNATCHING',\n",
       "       'SODOMY/SEXUAL CONTACT B/W PENIS OF ONE PERS TO ANUS OTH',\n",
       "       'CHILD NEGLECT (SEE 300 W.I.C.)', 'CONTEMPT OF COURT'],\n",
       "      dtype=object)"
      ]
     },
     "execution_count": 4,
     "metadata": {},
     "output_type": "execute_result"
    }
   ],
   "source": [
    "df['Crm Cd Desc'].unique()"
   ]
  },
  {
   "cell_type": "code",
   "execution_count": 5,
   "metadata": {},
   "outputs": [
    {
     "name": "stdout",
     "output_type": "stream",
     "text": [
      "<class 'pandas.core.frame.DataFrame'>\n",
      "RangeIndex: 1000 entries, 0 to 999\n",
      "Data columns (total 28 columns):\n",
      " #   Column          Non-Null Count  Dtype  \n",
      "---  ------          --------------  -----  \n",
      " 0   DR_NO           1000 non-null   int64  \n",
      " 1   Date Rptd       1000 non-null   object \n",
      " 2   DATE OCC        1000 non-null   object \n",
      " 3   TIME OCC        1000 non-null   int64  \n",
      " 4   AREA            1000 non-null   int64  \n",
      " 5   AREA NAME       1000 non-null   object \n",
      " 6   Rpt Dist No     1000 non-null   int64  \n",
      " 7   Part 1-2        1000 non-null   int64  \n",
      " 8   Crm Cd          1000 non-null   int64  \n",
      " 9   Crm Cd Desc     1000 non-null   object \n",
      " 10  Mocodes         930 non-null    object \n",
      " 11  Vict Age        1000 non-null   int64  \n",
      " 12  Vict Sex        938 non-null    object \n",
      " 13  Vict Descent    938 non-null    object \n",
      " 14  Premis Cd       1000 non-null   int64  \n",
      " 15  Premis Desc     1000 non-null   object \n",
      " 16  Weapon Used Cd  391 non-null    float64\n",
      " 17  Weapon Desc     391 non-null    object \n",
      " 18  Status          1000 non-null   object \n",
      " 19  Status Desc     1000 non-null   object \n",
      " 20  Crm Cd 1        1000 non-null   int64  \n",
      " 21  Crm Cd 2        76 non-null     float64\n",
      " 22  Crm Cd 3        0 non-null      float64\n",
      " 23  Crm Cd 4        0 non-null      float64\n",
      " 24  LOCATION        1000 non-null   object \n",
      " 25  Cross Street    257 non-null    object \n",
      " 26  LAT             1000 non-null   float64\n",
      " 27  LON             1000 non-null   float64\n",
      "dtypes: float64(6), int64(9), object(13)\n",
      "memory usage: 218.9+ KB\n"
     ]
    }
   ],
   "source": [
    "df.info()"
   ]
  },
  {
   "cell_type": "code",
   "execution_count": 6,
   "metadata": {},
   "outputs": [
    {
     "data": {
      "text/plain": [
       "(1000, 28)"
      ]
     },
     "execution_count": 6,
     "metadata": {},
     "output_type": "execute_result"
    }
   ],
   "source": [
    "df.shape"
   ]
  },
  {
   "cell_type": "code",
   "execution_count": 7,
   "metadata": {},
   "outputs": [
    {
     "data": {
      "text/plain": [
       "array(['01/08/2020 12:00:00 AM', '01/02/2020 12:00:00 AM',\n",
       "       '04/14/2020 12:00:00 AM', '01/01/2020 12:00:00 AM',\n",
       "       '01/04/2020 12:00:00 AM', '06/19/2020 12:00:00 AM',\n",
       "       '01/05/2020 12:00:00 AM', '01/07/2020 12:00:00 AM',\n",
       "       '11/26/2021 12:00:00 AM', '11/29/2020 12:00:00 AM',\n",
       "       '02/22/2020 12:00:00 AM', '11/22/2021 12:00:00 AM',\n",
       "       '01/14/2020 12:00:00 AM', '09/10/2020 12:00:00 AM',\n",
       "       '01/15/2020 12:00:00 AM', '11/18/2021 12:00:00 AM',\n",
       "       '11/29/2021 12:00:00 AM', '02/15/2020 12:00:00 AM',\n",
       "       '01/19/2020 12:00:00 AM', '10/15/2020 12:00:00 AM',\n",
       "       '01/20/2020 12:00:00 AM', '01/23/2020 12:00:00 AM',\n",
       "       '11/24/2021 12:00:00 AM', '07/29/2020 12:00:00 AM',\n",
       "       '09/15/2020 12:00:00 AM', '01/27/2020 12:00:00 AM',\n",
       "       '12/04/2020 12:00:00 AM', '08/27/2020 12:00:00 AM',\n",
       "       '01/28/2020 12:00:00 AM', '06/20/2020 12:00:00 AM',\n",
       "       '01/30/2020 12:00:00 AM', '01/31/2020 12:00:00 AM',\n",
       "       '02/04/2020 12:00:00 AM', '06/15/2022 12:00:00 AM',\n",
       "       '02/06/2020 12:00:00 AM', '12/11/2020 12:00:00 AM',\n",
       "       '11/26/2020 12:00:00 AM', '02/08/2020 12:00:00 AM',\n",
       "       '03/27/2020 12:00:00 AM', '03/22/2020 12:00:00 AM',\n",
       "       '08/04/2020 12:00:00 AM', '04/23/2021 12:00:00 AM',\n",
       "       '06/24/2020 12:00:00 AM', '12/09/2020 12:00:00 AM',\n",
       "       '07/23/2020 12:00:00 AM', '12/07/2020 12:00:00 AM',\n",
       "       '10/26/2021 12:00:00 AM', '08/10/2020 12:00:00 AM',\n",
       "       '01/03/2020 12:00:00 AM', '11/12/2020 12:00:00 AM',\n",
       "       '04/15/2020 12:00:00 AM', '12/02/2021 12:00:00 AM',\n",
       "       '01/23/2021 12:00:00 AM', '06/10/2020 12:00:00 AM',\n",
       "       '02/17/2020 12:00:00 AM', '12/24/2020 12:00:00 AM',\n",
       "       '10/20/2020 12:00:00 AM', '09/19/2020 12:00:00 AM',\n",
       "       '02/07/2020 12:00:00 AM', '09/17/2020 12:00:00 AM',\n",
       "       '11/08/2020 12:00:00 AM', '11/28/2020 12:00:00 AM',\n",
       "       '03/26/2020 12:00:00 AM', '10/27/2020 12:00:00 AM',\n",
       "       '10/25/2020 12:00:00 AM', '12/06/2021 12:00:00 AM',\n",
       "       '01/06/2020 12:00:00 AM', '07/22/2022 12:00:00 AM',\n",
       "       '11/09/2021 12:00:00 AM', '12/20/2021 12:00:00 AM',\n",
       "       '11/20/2020 12:00:00 AM', '03/04/2020 12:00:00 AM',\n",
       "       '07/20/2020 12:00:00 AM', '12/08/2020 12:00:00 AM',\n",
       "       '12/15/2020 12:00:00 AM', '11/16/2020 12:00:00 AM',\n",
       "       '01/28/2022 12:00:00 AM', '12/05/2020 12:00:00 AM',\n",
       "       '01/25/2022 12:00:00 AM', '05/20/2020 12:00:00 AM',\n",
       "       '11/08/2021 12:00:00 AM', '01/09/2020 12:00:00 AM',\n",
       "       '12/28/2020 12:00:00 AM', '10/24/2020 12:00:00 AM',\n",
       "       '05/11/2020 12:00:00 AM', '11/07/2020 12:00:00 AM',\n",
       "       '01/10/2020 12:00:00 AM', '07/09/2020 12:00:00 AM',\n",
       "       '10/19/2021 12:00:00 AM', '01/14/2021 12:00:00 AM',\n",
       "       '12/01/2021 12:00:00 AM', '05/29/2020 12:00:00 AM',\n",
       "       '01/11/2020 12:00:00 AM', '02/01/2020 12:00:00 AM',\n",
       "       '09/28/2020 12:00:00 AM', '07/16/2020 12:00:00 AM',\n",
       "       '01/12/2020 12:00:00 AM', '03/13/2020 12:00:00 AM',\n",
       "       '12/12/2021 12:00:00 AM', '12/12/2020 12:00:00 AM',\n",
       "       '10/17/2020 12:00:00 AM', '03/12/2020 12:00:00 AM',\n",
       "       '11/30/2021 12:00:00 AM', '11/27/2021 12:00:00 AM',\n",
       "       '01/13/2020 12:00:00 AM', '04/12/2020 12:00:00 AM',\n",
       "       '01/30/2022 12:00:00 AM', '05/10/2020 12:00:00 AM',\n",
       "       '06/13/2020 12:00:00 AM', '12/03/2021 12:00:00 AM',\n",
       "       '10/22/2020 12:00:00 AM', '11/16/2021 12:00:00 AM',\n",
       "       '12/13/2020 12:00:00 AM', '12/27/2020 12:00:00 AM',\n",
       "       '12/05/2021 12:00:00 AM', '09/23/2020 12:00:00 AM',\n",
       "       '06/18/2020 12:00:00 AM', '09/30/2020 12:00:00 AM',\n",
       "       '02/24/2020 12:00:00 AM', '01/16/2020 12:00:00 AM',\n",
       "       '09/14/2020 12:00:00 AM', '11/17/2021 12:00:00 AM',\n",
       "       '06/16/2020 12:00:00 AM', '11/24/2020 12:00:00 AM',\n",
       "       '03/10/2020 12:00:00 AM', '05/28/2020 12:00:00 AM',\n",
       "       '05/14/2020 12:00:00 AM', '01/17/2020 12:00:00 AM',\n",
       "       '10/11/2020 12:00:00 AM', '08/25/2020 12:00:00 AM',\n",
       "       '02/15/2022 12:00:00 AM', '09/13/2020 12:00:00 AM',\n",
       "       '09/18/2020 12:00:00 AM', '04/11/2021 12:00:00 AM',\n",
       "       '02/10/2020 12:00:00 AM', '10/10/2020 12:00:00 AM',\n",
       "       '01/18/2020 12:00:00 AM', '12/10/2020 12:00:00 AM',\n",
       "       '12/16/2020 12:00:00 AM', '12/17/2020 12:00:00 AM',\n",
       "       '02/20/2020 12:00:00 AM', '06/14/2021 12:00:00 AM',\n",
       "       '02/16/2020 12:00:00 AM', '08/06/2022 12:00:00 AM',\n",
       "       '09/16/2020 12:00:00 AM', '01/21/2022 12:00:00 AM',\n",
       "       '09/20/2020 12:00:00 AM', '03/29/2020 12:00:00 AM',\n",
       "       '05/05/2020 12:00:00 AM', '06/25/2020 12:00:00 AM',\n",
       "       '02/03/2022 12:00:00 AM', '08/30/2020 12:00:00 AM',\n",
       "       '12/16/2021 12:00:00 AM', '08/02/2021 12:00:00 AM',\n",
       "       '10/28/2020 12:00:00 AM', '07/02/2020 12:00:00 AM',\n",
       "       '01/21/2020 12:00:00 AM', '01/01/2021 12:00:00 AM',\n",
       "       '03/18/2020 12:00:00 AM', '01/19/2022 12:00:00 AM',\n",
       "       '01/22/2020 12:00:00 AM', '05/04/2020 12:00:00 AM',\n",
       "       '03/19/2020 12:00:00 AM', '04/18/2020 12:00:00 AM',\n",
       "       '09/24/2020 12:00:00 AM', '12/19/2021 12:00:00 AM',\n",
       "       '02/02/2020 12:00:00 AM', '10/14/2020 12:00:00 AM',\n",
       "       '06/15/2020 12:00:00 AM', '03/01/2021 12:00:00 AM',\n",
       "       '02/27/2020 12:00:00 AM', '06/28/2020 12:00:00 AM',\n",
       "       '01/24/2020 12:00:00 AM', '09/03/2020 12:00:00 AM',\n",
       "       '08/18/2022 12:00:00 AM', '07/15/2020 12:00:00 AM',\n",
       "       '05/15/2020 12:00:00 AM', '04/16/2020 12:00:00 AM',\n",
       "       '07/29/2021 12:00:00 AM', '12/17/2021 12:00:00 AM',\n",
       "       '04/17/2020 12:00:00 AM', '12/15/2021 12:00:00 AM',\n",
       "       '03/17/2020 12:00:00 AM', '01/25/2020 12:00:00 AM',\n",
       "       '05/27/2020 12:00:00 AM', '08/06/2020 12:00:00 AM',\n",
       "       '12/13/2021 12:00:00 AM', '01/26/2020 12:00:00 AM',\n",
       "       '03/24/2020 12:00:00 AM', '03/21/2022 12:00:00 AM',\n",
       "       '04/09/2020 12:00:00 AM', '06/11/2020 12:00:00 AM',\n",
       "       '10/07/2021 12:00:00 AM', '06/29/2021 12:00:00 AM',\n",
       "       '12/31/2020 12:00:00 AM', '11/18/2020 12:00:00 AM',\n",
       "       '01/29/2020 12:00:00 AM', '06/21/2020 12:00:00 AM',\n",
       "       '11/30/2020 12:00:00 AM', '02/29/2020 12:00:00 AM',\n",
       "       '04/22/2020 12:00:00 AM'], dtype=object)"
      ]
     },
     "execution_count": 7,
     "metadata": {},
     "output_type": "execute_result"
    }
   ],
   "source": [
    "df['Date Rptd'].unique()"
   ]
  },
  {
   "cell_type": "code",
   "execution_count": 8,
   "metadata": {},
   "outputs": [
    {
     "data": {
      "text/plain": [
       "array(['01/08/2020 12:00:00 AM', '01/01/2020 12:00:00 AM',\n",
       "       '02/13/2020 12:00:00 AM', '01/02/2020 12:00:00 AM',\n",
       "       '01/04/2020 12:00:00 AM', '05/26/2020 12:00:00 AM',\n",
       "       '01/05/2020 12:00:00 AM', '01/07/2020 12:00:00 AM',\n",
       "       '11/30/2020 12:00:00 AM', '11/28/2020 12:00:00 AM',\n",
       "       '02/22/2020 12:00:00 AM', '11/19/2020 12:00:00 AM',\n",
       "       '01/14/2020 12:00:00 AM', '09/09/2020 12:00:00 AM',\n",
       "       '01/15/2020 12:00:00 AM', '12/28/2020 12:00:00 AM',\n",
       "       '11/01/2020 12:00:00 AM', '02/15/2020 12:00:00 AM',\n",
       "       '01/19/2020 12:00:00 AM', '10/15/2020 12:00:00 AM',\n",
       "       '01/20/2020 12:00:00 AM', '01/23/2020 12:00:00 AM',\n",
       "       '04/28/2020 12:00:00 AM', '07/29/2020 12:00:00 AM',\n",
       "       '09/03/2020 12:00:00 AM', '01/27/2020 12:00:00 AM',\n",
       "       '12/03/2020 12:00:00 AM', '08/27/2020 12:00:00 AM',\n",
       "       '01/28/2020 12:00:00 AM', '06/20/2020 12:00:00 AM',\n",
       "       '01/29/2020 12:00:00 AM', '01/30/2020 12:00:00 AM',\n",
       "       '02/04/2020 12:00:00 AM', '11/12/2020 12:00:00 AM',\n",
       "       '02/06/2020 12:00:00 AM', '12/11/2020 12:00:00 AM',\n",
       "       '11/26/2020 12:00:00 AM', '02/08/2020 12:00:00 AM',\n",
       "       '03/27/2020 12:00:00 AM', '03/22/2020 12:00:00 AM',\n",
       "       '07/16/2020 12:00:00 AM', '12/01/2020 12:00:00 AM',\n",
       "       '06/23/2020 12:00:00 AM', '12/09/2020 12:00:00 AM',\n",
       "       '06/22/2020 12:00:00 AM', '12/07/2020 12:00:00 AM',\n",
       "       '10/18/2020 12:00:00 AM', '08/10/2020 12:00:00 AM',\n",
       "       '04/12/2020 12:00:00 AM', '12/02/2020 12:00:00 AM',\n",
       "       '01/03/2020 12:00:00 AM', '07/24/2020 12:00:00 AM',\n",
       "       '06/10/2020 12:00:00 AM', '02/16/2020 12:00:00 AM',\n",
       "       '12/24/2020 12:00:00 AM', '09/18/2020 12:00:00 AM',\n",
       "       '09/19/2020 12:00:00 AM', '09/17/2020 12:00:00 AM',\n",
       "       '11/07/2020 12:00:00 AM', '03/26/2020 12:00:00 AM',\n",
       "       '10/27/2020 12:00:00 AM', '10/24/2020 12:00:00 AM',\n",
       "       '09/20/2020 12:00:00 AM', '05/15/2020 12:00:00 AM',\n",
       "       '01/06/2020 12:00:00 AM', '05/12/2020 12:00:00 AM',\n",
       "       '11/09/2020 12:00:00 AM', '11/17/2020 12:00:00 AM',\n",
       "       '03/02/2020 12:00:00 AM', '07/19/2020 12:00:00 AM',\n",
       "       '11/16/2020 12:00:00 AM', '12/27/2020 12:00:00 AM',\n",
       "       '09/01/2020 12:00:00 AM', '05/20/2020 12:00:00 AM',\n",
       "       '10/23/2020 12:00:00 AM', '01/09/2020 12:00:00 AM',\n",
       "       '01/31/2020 12:00:00 AM', '05/11/2020 12:00:00 AM',\n",
       "       '07/09/2020 12:00:00 AM', '01/10/2020 12:00:00 AM',\n",
       "       '07/05/2020 12:00:00 AM', '05/13/2020 12:00:00 AM',\n",
       "       '04/25/2020 12:00:00 AM', '12/14/2020 12:00:00 AM',\n",
       "       '05/29/2020 12:00:00 AM', '02/01/2020 12:00:00 AM',\n",
       "       '01/11/2020 12:00:00 AM', '09/27/2020 12:00:00 AM',\n",
       "       '03/13/2020 12:00:00 AM', '07/22/2020 12:00:00 AM',\n",
       "       '01/12/2020 12:00:00 AM', '12/12/2020 12:00:00 AM',\n",
       "       '10/17/2020 12:00:00 AM', '03/12/2020 12:00:00 AM',\n",
       "       '08/26/2020 12:00:00 AM', '01/13/2020 12:00:00 AM',\n",
       "       '05/10/2020 12:00:00 AM', '06/11/2020 12:00:00 AM',\n",
       "       '10/22/2020 12:00:00 AM', '02/19/2020 12:00:00 AM',\n",
       "       '03/14/2020 12:00:00 AM', '09/23/2020 12:00:00 AM',\n",
       "       '06/17/2020 12:00:00 AM', '09/30/2020 12:00:00 AM',\n",
       "       '02/11/2020 12:00:00 AM', '01/16/2020 12:00:00 AM',\n",
       "       '09/14/2020 12:00:00 AM', '07/17/2020 12:00:00 AM',\n",
       "       '06/15/2020 12:00:00 AM', '11/24/2020 12:00:00 AM',\n",
       "       '09/12/2020 12:00:00 AM', '03/10/2020 12:00:00 AM',\n",
       "       '05/27/2020 12:00:00 AM', '04/10/2020 12:00:00 AM',\n",
       "       '01/17/2020 12:00:00 AM', '10/11/2020 12:00:00 AM',\n",
       "       '08/11/2020 12:00:00 AM', '09/13/2020 12:00:00 AM',\n",
       "       '10/09/2020 12:00:00 AM', '12/10/2020 12:00:00 AM',\n",
       "       '12/13/2020 12:00:00 AM', '12/16/2020 12:00:00 AM',\n",
       "       '02/20/2020 12:00:00 AM', '01/18/2020 12:00:00 AM',\n",
       "       '06/04/2020 12:00:00 AM', '09/15/2020 12:00:00 AM',\n",
       "       '07/01/2020 12:00:00 AM', '04/30/2020 12:00:00 AM',\n",
       "       '06/25/2020 12:00:00 AM', '08/30/2020 12:00:00 AM',\n",
       "       '03/03/2020 12:00:00 AM', '06/26/2020 12:00:00 AM',\n",
       "       '01/21/2020 12:00:00 AM', '12/30/2020 12:00:00 AM',\n",
       "       '01/22/2020 12:00:00 AM', '05/04/2020 12:00:00 AM',\n",
       "       '03/18/2020 12:00:00 AM', '09/24/2020 12:00:00 AM',\n",
       "       '02/23/2020 12:00:00 AM', '12/19/2020 12:00:00 AM',\n",
       "       '02/02/2020 12:00:00 AM', '10/13/2020 12:00:00 AM',\n",
       "       '06/09/2020 12:00:00 AM', '02/25/2020 12:00:00 AM',\n",
       "       '06/28/2020 12:00:00 AM', '12/08/2020 12:00:00 AM',\n",
       "       '12/05/2020 12:00:00 AM', '01/24/2020 12:00:00 AM',\n",
       "       '07/27/2020 12:00:00 AM', '08/17/2020 12:00:00 AM',\n",
       "       '07/15/2020 12:00:00 AM', '04/16/2020 12:00:00 AM',\n",
       "       '08/02/2020 12:00:00 AM', '12/25/2020 12:00:00 AM',\n",
       "       '04/17/2020 12:00:00 AM', '11/20/2020 12:00:00 AM',\n",
       "       '03/17/2020 12:00:00 AM', '01/25/2020 12:00:00 AM',\n",
       "       '08/06/2020 12:00:00 AM', '05/01/2020 12:00:00 AM',\n",
       "       '03/08/2020 12:00:00 AM', '01/26/2020 12:00:00 AM',\n",
       "       '10/01/2020 12:00:00 AM', '04/08/2020 12:00:00 AM',\n",
       "       '06/08/2020 12:00:00 AM', '11/29/2020 12:00:00 AM',\n",
       "       '03/25/2020 12:00:00 AM', '12/31/2020 12:00:00 AM',\n",
       "       '07/20/2020 12:00:00 AM', '06/21/2020 12:00:00 AM',\n",
       "       '10/20/2020 12:00:00 AM', '02/29/2020 12:00:00 AM',\n",
       "       '04/07/2020 12:00:00 AM'], dtype=object)"
      ]
     },
     "execution_count": 8,
     "metadata": {},
     "output_type": "execute_result"
    }
   ],
   "source": [
    "df['DATE OCC'].unique()"
   ]
  },
  {
   "cell_type": "code",
   "execution_count": 9,
   "metadata": {},
   "outputs": [
    {
     "name": "stdout",
     "output_type": "stream",
     "text": [
      "===========================================================================\n",
      "Data Information\n",
      "===========================================================================\n",
      "<class 'pandas.core.frame.DataFrame'>\n",
      "RangeIndex: 1000 entries, 0 to 999\n",
      "Data columns (total 28 columns):\n",
      " #   Column          Non-Null Count  Dtype  \n",
      "---  ------          --------------  -----  \n",
      " 0   DR_NO           1000 non-null   int64  \n",
      " 1   Date Rptd       1000 non-null   object \n",
      " 2   DATE OCC        1000 non-null   object \n",
      " 3   TIME OCC        1000 non-null   int64  \n",
      " 4   AREA            1000 non-null   int64  \n",
      " 5   AREA NAME       1000 non-null   object \n",
      " 6   Rpt Dist No     1000 non-null   int64  \n",
      " 7   Part 1-2        1000 non-null   int64  \n",
      " 8   Crm Cd          1000 non-null   int64  \n",
      " 9   Crm Cd Desc     1000 non-null   object \n",
      " 10  Mocodes         930 non-null    object \n",
      " 11  Vict Age        1000 non-null   int64  \n",
      " 12  Vict Sex        938 non-null    object \n",
      " 13  Vict Descent    938 non-null    object \n",
      " 14  Premis Cd       1000 non-null   int64  \n",
      " 15  Premis Desc     1000 non-null   object \n",
      " 16  Weapon Used Cd  391 non-null    float64\n",
      " 17  Weapon Desc     391 non-null    object \n",
      " 18  Status          1000 non-null   object \n",
      " 19  Status Desc     1000 non-null   object \n",
      " 20  Crm Cd 1        1000 non-null   int64  \n",
      " 21  Crm Cd 2        76 non-null     float64\n",
      " 22  Crm Cd 3        0 non-null      float64\n",
      " 23  Crm Cd 4        0 non-null      float64\n",
      " 24  LOCATION        1000 non-null   object \n",
      " 25  Cross Street    257 non-null    object \n",
      " 26  LAT             1000 non-null   float64\n",
      " 27  LON             1000 non-null   float64\n",
      "dtypes: float64(6), int64(9), object(13)\n",
      "memory usage: 218.9+ KB\n",
      "None\n"
     ]
    }
   ],
   "source": [
    "print(\"===\"*25)\n",
    "print(\"Data Information\")\n",
    "print(\"===\"*25)\n",
    "print(df.info())"
   ]
  },
  {
   "cell_type": "code",
   "execution_count": 10,
   "metadata": {},
   "outputs": [
    {
     "name": "stdout",
     "output_type": "stream",
     "text": [
      "===========================================================================\n",
      "Checking Data has null values or not\n",
      "===========================================================================\n",
      "DR_NO               0.0\n",
      "Date Rptd           0.0\n",
      "DATE OCC            0.0\n",
      "TIME OCC            0.0\n",
      "AREA                0.0\n",
      "AREA NAME           0.0\n",
      "Rpt Dist No         0.0\n",
      "Part 1-2            0.0\n",
      "Crm Cd              0.0\n",
      "Crm Cd Desc         0.0\n",
      "Mocodes             7.0\n",
      "Vict Age            0.0\n",
      "Vict Sex            6.2\n",
      "Vict Descent        6.2\n",
      "Premis Cd           0.0\n",
      "Premis Desc         0.0\n",
      "Weapon Used Cd     60.9\n",
      "Weapon Desc        60.9\n",
      "Status              0.0\n",
      "Status Desc         0.0\n",
      "Crm Cd 1            0.0\n",
      "Crm Cd 2           92.4\n",
      "Crm Cd 3          100.0\n",
      "Crm Cd 4          100.0\n",
      "LOCATION            0.0\n",
      "Cross Street       74.3\n",
      "LAT                 0.0\n",
      "LON                 0.0\n",
      "dtype: float64\n"
     ]
    }
   ],
   "source": [
    "#Checking null values percentage\n",
    "print(\"===\"*25)\n",
    "print(\"Checking Data has null values or not\")\n",
    "print(\"===\"*25)\n",
    "print(round(df.isnull().sum() * 100 / len(df),2))"
   ]
  },
  {
   "cell_type": "code",
   "execution_count": 11,
   "metadata": {},
   "outputs": [],
   "source": [
    "#Drop Columns\n",
    "df.drop(columns=['Weapon Used Cd','Weapon Desc','Crm Cd 2','Crm Cd 3','Crm Cd 4','Cross Street'],inplace=True,axis=1)\n",
    "df.drop(columns=['Crm Cd 1'],inplace=True,axis=1)"
   ]
  },
  {
   "cell_type": "code",
   "execution_count": 12,
   "metadata": {},
   "outputs": [
    {
     "name": "stdout",
     "output_type": "stream",
     "text": [
      "************************************************************\n",
      "Shape of the data are as follow 1000 rows & 21 Columns\n",
      "************************************************************\n"
     ]
    }
   ],
   "source": [
    "#Data Shape\n",
    "print(\"**\"*30)\n",
    "print(f\"Shape of the data are as follow {df.shape[0]} rows & {df.shape[1]} Columns\")\n",
    "print(\"**\"*30)"
   ]
  },
  {
   "cell_type": "code",
   "execution_count": 13,
   "metadata": {},
   "outputs": [
    {
     "data": {
      "text/html": [
       "<div>\n",
       "<style scoped>\n",
       "    .dataframe tbody tr th:only-of-type {\n",
       "        vertical-align: middle;\n",
       "    }\n",
       "\n",
       "    .dataframe tbody tr th {\n",
       "        vertical-align: top;\n",
       "    }\n",
       "\n",
       "    .dataframe thead th {\n",
       "        text-align: right;\n",
       "    }\n",
       "</style>\n",
       "<table border=\"1\" class=\"dataframe\">\n",
       "  <thead>\n",
       "    <tr style=\"text-align: right;\">\n",
       "      <th></th>\n",
       "      <th>DR_NO</th>\n",
       "      <th>Date Rptd</th>\n",
       "      <th>DATE OCC</th>\n",
       "      <th>TIME OCC</th>\n",
       "      <th>AREA</th>\n",
       "      <th>AREA NAME</th>\n",
       "      <th>Rpt Dist No</th>\n",
       "      <th>Part 1-2</th>\n",
       "      <th>Crm Cd</th>\n",
       "      <th>Crm Cd Desc</th>\n",
       "      <th>Mocodes</th>\n",
       "      <th>Vict Age</th>\n",
       "      <th>Vict Sex</th>\n",
       "      <th>Vict Descent</th>\n",
       "      <th>Premis Cd</th>\n",
       "      <th>Premis Desc</th>\n",
       "      <th>Status</th>\n",
       "      <th>Status Desc</th>\n",
       "      <th>LOCATION</th>\n",
       "      <th>LAT</th>\n",
       "      <th>LON</th>\n",
       "    </tr>\n",
       "  </thead>\n",
       "  <tbody>\n",
       "    <tr>\n",
       "      <th>0</th>\n",
       "      <td>10304468</td>\n",
       "      <td>01/08/2020 12:00:00 AM</td>\n",
       "      <td>01/08/2020 12:00:00 AM</td>\n",
       "      <td>2230</td>\n",
       "      <td>3</td>\n",
       "      <td>Southwest</td>\n",
       "      <td>377</td>\n",
       "      <td>2</td>\n",
       "      <td>624</td>\n",
       "      <td>BATTERY - SIMPLE ASSAULT</td>\n",
       "      <td>0444 0913</td>\n",
       "      <td>36</td>\n",
       "      <td>F</td>\n",
       "      <td>B</td>\n",
       "      <td>501</td>\n",
       "      <td>SINGLE FAMILY DWELLING</td>\n",
       "      <td>AO</td>\n",
       "      <td>Adult Other</td>\n",
       "      <td>1100 W  39TH                         PL</td>\n",
       "      <td>34.0141</td>\n",
       "      <td>-118.2978</td>\n",
       "    </tr>\n",
       "    <tr>\n",
       "      <th>1</th>\n",
       "      <td>190101086</td>\n",
       "      <td>01/02/2020 12:00:00 AM</td>\n",
       "      <td>01/01/2020 12:00:00 AM</td>\n",
       "      <td>330</td>\n",
       "      <td>1</td>\n",
       "      <td>Central</td>\n",
       "      <td>163</td>\n",
       "      <td>2</td>\n",
       "      <td>624</td>\n",
       "      <td>BATTERY - SIMPLE ASSAULT</td>\n",
       "      <td>0416 1822 1414</td>\n",
       "      <td>25</td>\n",
       "      <td>M</td>\n",
       "      <td>H</td>\n",
       "      <td>102</td>\n",
       "      <td>SIDEWALK</td>\n",
       "      <td>IC</td>\n",
       "      <td>Invest Cont</td>\n",
       "      <td>700 S  HILL                         ST</td>\n",
       "      <td>34.0459</td>\n",
       "      <td>-118.2545</td>\n",
       "    </tr>\n",
       "    <tr>\n",
       "      <th>2</th>\n",
       "      <td>200110444</td>\n",
       "      <td>04/14/2020 12:00:00 AM</td>\n",
       "      <td>02/13/2020 12:00:00 AM</td>\n",
       "      <td>1200</td>\n",
       "      <td>1</td>\n",
       "      <td>Central</td>\n",
       "      <td>155</td>\n",
       "      <td>2</td>\n",
       "      <td>845</td>\n",
       "      <td>SEX OFFENDER REGISTRANT OUT OF COMPLIANCE</td>\n",
       "      <td>1501</td>\n",
       "      <td>0</td>\n",
       "      <td>X</td>\n",
       "      <td>X</td>\n",
       "      <td>726</td>\n",
       "      <td>POLICE FACILITY</td>\n",
       "      <td>AA</td>\n",
       "      <td>Adult Arrest</td>\n",
       "      <td>200 E  6TH                          ST</td>\n",
       "      <td>34.0448</td>\n",
       "      <td>-118.2474</td>\n",
       "    </tr>\n",
       "    <tr>\n",
       "      <th>3</th>\n",
       "      <td>191501505</td>\n",
       "      <td>01/01/2020 12:00:00 AM</td>\n",
       "      <td>01/01/2020 12:00:00 AM</td>\n",
       "      <td>1730</td>\n",
       "      <td>15</td>\n",
       "      <td>N Hollywood</td>\n",
       "      <td>1543</td>\n",
       "      <td>2</td>\n",
       "      <td>745</td>\n",
       "      <td>VANDALISM - MISDEAMEANOR ($399 OR UNDER)</td>\n",
       "      <td>0329 1402</td>\n",
       "      <td>76</td>\n",
       "      <td>F</td>\n",
       "      <td>W</td>\n",
       "      <td>502</td>\n",
       "      <td>MULTI-UNIT DWELLING (APARTMENT, DUPLEX, ETC)</td>\n",
       "      <td>IC</td>\n",
       "      <td>Invest Cont</td>\n",
       "      <td>5400    CORTEEN                      PL</td>\n",
       "      <td>34.1685</td>\n",
       "      <td>-118.4019</td>\n",
       "    </tr>\n",
       "    <tr>\n",
       "      <th>4</th>\n",
       "      <td>191921269</td>\n",
       "      <td>01/01/2020 12:00:00 AM</td>\n",
       "      <td>01/01/2020 12:00:00 AM</td>\n",
       "      <td>415</td>\n",
       "      <td>19</td>\n",
       "      <td>Mission</td>\n",
       "      <td>1998</td>\n",
       "      <td>2</td>\n",
       "      <td>740</td>\n",
       "      <td>VANDALISM - FELONY ($400 &amp; OVER, ALL CHURCH VA...</td>\n",
       "      <td>0329</td>\n",
       "      <td>31</td>\n",
       "      <td>X</td>\n",
       "      <td>X</td>\n",
       "      <td>409</td>\n",
       "      <td>BEAUTY SUPPLY STORE</td>\n",
       "      <td>IC</td>\n",
       "      <td>Invest Cont</td>\n",
       "      <td>14400    TITUS                        ST</td>\n",
       "      <td>34.2198</td>\n",
       "      <td>-118.4468</td>\n",
       "    </tr>\n",
       "  </tbody>\n",
       "</table>\n",
       "</div>"
      ],
      "text/plain": [
       "       DR_NO               Date Rptd                DATE OCC  TIME OCC  AREA    AREA NAME  Rpt Dist No  Part 1-2  Crm Cd                                        Crm Cd Desc         Mocodes  Vict Age Vict Sex Vict Descent  Premis Cd                                   Premis Desc Status   Status Desc                                  LOCATION      LAT       LON\n",
       "0   10304468  01/08/2020 12:00:00 AM  01/08/2020 12:00:00 AM      2230     3    Southwest          377         2     624                           BATTERY - SIMPLE ASSAULT       0444 0913        36        F            B        501                        SINGLE FAMILY DWELLING     AO   Adult Other   1100 W  39TH                         PL  34.0141 -118.2978\n",
       "1  190101086  01/02/2020 12:00:00 AM  01/01/2020 12:00:00 AM       330     1      Central          163         2     624                           BATTERY - SIMPLE ASSAULT  0416 1822 1414        25        M            H        102                                      SIDEWALK     IC   Invest Cont    700 S  HILL                         ST  34.0459 -118.2545\n",
       "2  200110444  04/14/2020 12:00:00 AM  02/13/2020 12:00:00 AM      1200     1      Central          155         2     845          SEX OFFENDER REGISTRANT OUT OF COMPLIANCE            1501         0        X            X        726                               POLICE FACILITY     AA  Adult Arrest    200 E  6TH                          ST  34.0448 -118.2474\n",
       "3  191501505  01/01/2020 12:00:00 AM  01/01/2020 12:00:00 AM      1730    15  N Hollywood         1543         2     745           VANDALISM - MISDEAMEANOR ($399 OR UNDER)       0329 1402        76        F            W        502  MULTI-UNIT DWELLING (APARTMENT, DUPLEX, ETC)     IC   Invest Cont   5400    CORTEEN                      PL  34.1685 -118.4019\n",
       "4  191921269  01/01/2020 12:00:00 AM  01/01/2020 12:00:00 AM       415    19      Mission         1998         2     740  VANDALISM - FELONY ($400 & OVER, ALL CHURCH VA...            0329        31        X            X        409                           BEAUTY SUPPLY STORE     IC   Invest Cont  14400    TITUS                        ST  34.2198 -118.4468"
      ]
     },
     "execution_count": 13,
     "metadata": {},
     "output_type": "execute_result"
    }
   ],
   "source": [
    "df.head()"
   ]
  },
  {
   "cell_type": "code",
   "execution_count": 14,
   "metadata": {},
   "outputs": [],
   "source": [
    "#Changing Datatype\n",
    "df['Vict Descent'].fillna(value='None',inplace=True)\n",
    "df['Vict Sex'].fillna(value='None',inplace=True)\n",
    "df['Mocodes'].fillna(value='none',inplace=True)\n",
    "df['Premis Desc'].fillna(value='None',inplace=True)"
   ]
  },
  {
   "cell_type": "code",
   "execution_count": 15,
   "metadata": {},
   "outputs": [],
   "source": [
    "df['Date Rptd'] = df['Date Rptd'].str[:10]\n",
    "df['DATE OCC'] = df['Date Rptd'].str[:10]\n",
    "df['Date Rptd']= pd.to_datetime(df['Date Rptd'])\n",
    "df['DATE OCC']= pd.to_datetime(df['DATE OCC'])"
   ]
  },
  {
   "cell_type": "code",
   "execution_count": 16,
   "metadata": {},
   "outputs": [
    {
     "data": {
      "text/plain": [
       "DR_NO           0\n",
       "Date Rptd       0\n",
       "DATE OCC        0\n",
       "TIME OCC        0\n",
       "AREA            0\n",
       "AREA NAME       0\n",
       "Rpt Dist No     0\n",
       "Part 1-2        0\n",
       "Crm Cd          0\n",
       "Crm Cd Desc     0\n",
       "Mocodes         0\n",
       "Vict Age        0\n",
       "Vict Sex        0\n",
       "Vict Descent    0\n",
       "Premis Cd       0\n",
       "Premis Desc     0\n",
       "Status          0\n",
       "Status Desc     0\n",
       "LOCATION        0\n",
       "LAT             0\n",
       "LON             0\n",
       "dtype: int64"
      ]
     },
     "execution_count": 16,
     "metadata": {},
     "output_type": "execute_result"
    }
   ],
   "source": [
    "df.isnull().sum()"
   ]
  },
  {
   "cell_type": "code",
   "execution_count": 17,
   "metadata": {},
   "outputs": [],
   "source": [
    "#Change Dtype of Columns\n",
    "for column in df.columns:\n",
    "    if df[column].dtype == 'int':\n",
    "        df[column] = df[column].astype(int)"
   ]
  },
  {
   "cell_type": "code",
   "execution_count": 18,
   "metadata": {},
   "outputs": [],
   "source": [
    "number=df.select_dtypes(include=np.number)\n",
    "category=df.select_dtypes(include=object)"
   ]
  },
  {
   "cell_type": "code",
   "execution_count": 19,
   "metadata": {},
   "outputs": [
    {
     "data": {
      "image/png": "[encoded data removed]",
      "text/plain": [
       "<Figure size 2000x600 with 2 Axes>"
      ]
     },
     "metadata": {},
     "output_type": "display_data"
    }
   ],
   "source": [
    "# Calculate the correlation matrix\n",
    "numerical_columns = df.select_dtypes(include=['int64','float64']).corr()\n",
    "\n",
    "# Visualize the correlation matrix using a heatmap\n",
    "plt.figure(figsize=(20, 6))\n",
    "sns.heatmap(numerical_columns, annot=True, cmap='coolwarm')\n",
    "plt.title(\"Correlation Matrix\")\n",
    "plt.show()"
   ]
  },
  {
   "cell_type": "code",
   "execution_count": 20,
   "metadata": {},
   "outputs": [
    {
     "data": {
      "text/html": [
       "<div>\n",
       "<style scoped>\n",
       "    .dataframe tbody tr th:only-of-type {\n",
       "        vertical-align: middle;\n",
       "    }\n",
       "\n",
       "    .dataframe tbody tr th {\n",
       "        vertical-align: top;\n",
       "    }\n",
       "\n",
       "    .dataframe thead th {\n",
       "        text-align: right;\n",
       "    }\n",
       "</style>\n",
       "<table border=\"1\" class=\"dataframe\">\n",
       "  <thead>\n",
       "    <tr style=\"text-align: right;\">\n",
       "      <th></th>\n",
       "      <th>DR_NO</th>\n",
       "      <th>Date Rptd</th>\n",
       "      <th>DATE OCC</th>\n",
       "      <th>TIME OCC</th>\n",
       "      <th>AREA</th>\n",
       "      <th>AREA NAME</th>\n",
       "      <th>Rpt Dist No</th>\n",
       "      <th>Part 1-2</th>\n",
       "      <th>Crm Cd</th>\n",
       "      <th>Crm Cd Desc</th>\n",
       "      <th>Mocodes</th>\n",
       "      <th>Vict Age</th>\n",
       "      <th>Vict Sex</th>\n",
       "      <th>Vict Descent</th>\n",
       "      <th>Premis Cd</th>\n",
       "      <th>Premis Desc</th>\n",
       "      <th>Status</th>\n",
       "      <th>Status Desc</th>\n",
       "      <th>LOCATION</th>\n",
       "      <th>LAT</th>\n",
       "      <th>LON</th>\n",
       "    </tr>\n",
       "  </thead>\n",
       "  <tbody>\n",
       "    <tr>\n",
       "      <th>0</th>\n",
       "      <td>10304468</td>\n",
       "      <td>2020-01-08</td>\n",
       "      <td>2020-01-08</td>\n",
       "      <td>2230</td>\n",
       "      <td>3</td>\n",
       "      <td>Southwest</td>\n",
       "      <td>377</td>\n",
       "      <td>2</td>\n",
       "      <td>624</td>\n",
       "      <td>BATTERY - SIMPLE ASSAULT</td>\n",
       "      <td>0444 0913</td>\n",
       "      <td>36</td>\n",
       "      <td>F</td>\n",
       "      <td>B</td>\n",
       "      <td>501</td>\n",
       "      <td>SINGLE FAMILY DWELLING</td>\n",
       "      <td>AO</td>\n",
       "      <td>Adult Other</td>\n",
       "      <td>1100 W  39TH                         PL</td>\n",
       "      <td>34.0141</td>\n",
       "      <td>-118.2978</td>\n",
       "    </tr>\n",
       "    <tr>\n",
       "      <th>1</th>\n",
       "      <td>190101086</td>\n",
       "      <td>2020-01-02</td>\n",
       "      <td>2020-01-02</td>\n",
       "      <td>330</td>\n",
       "      <td>1</td>\n",
       "      <td>Central</td>\n",
       "      <td>163</td>\n",
       "      <td>2</td>\n",
       "      <td>624</td>\n",
       "      <td>BATTERY - SIMPLE ASSAULT</td>\n",
       "      <td>0416 1822 1414</td>\n",
       "      <td>25</td>\n",
       "      <td>M</td>\n",
       "      <td>H</td>\n",
       "      <td>102</td>\n",
       "      <td>SIDEWALK</td>\n",
       "      <td>IC</td>\n",
       "      <td>Invest Cont</td>\n",
       "      <td>700 S  HILL                         ST</td>\n",
       "      <td>34.0459</td>\n",
       "      <td>-118.2545</td>\n",
       "    </tr>\n",
       "    <tr>\n",
       "      <th>2</th>\n",
       "      <td>200110444</td>\n",
       "      <td>2020-04-14</td>\n",
       "      <td>2020-04-14</td>\n",
       "      <td>1200</td>\n",
       "      <td>1</td>\n",
       "      <td>Central</td>\n",
       "      <td>155</td>\n",
       "      <td>2</td>\n",
       "      <td>845</td>\n",
       "      <td>SEX OFFENDER REGISTRANT OUT OF COMPLIANCE</td>\n",
       "      <td>1501</td>\n",
       "      <td>0</td>\n",
       "      <td>X</td>\n",
       "      <td>X</td>\n",
       "      <td>726</td>\n",
       "      <td>POLICE FACILITY</td>\n",
       "      <td>AA</td>\n",
       "      <td>Adult Arrest</td>\n",
       "      <td>200 E  6TH                          ST</td>\n",
       "      <td>34.0448</td>\n",
       "      <td>-118.2474</td>\n",
       "    </tr>\n",
       "    <tr>\n",
       "      <th>3</th>\n",
       "      <td>191501505</td>\n",
       "      <td>2020-01-01</td>\n",
       "      <td>2020-01-01</td>\n",
       "      <td>1730</td>\n",
       "      <td>15</td>\n",
       "      <td>N Hollywood</td>\n",
       "      <td>1543</td>\n",
       "      <td>2</td>\n",
       "      <td>745</td>\n",
       "      <td>VANDALISM - MISDEAMEANOR ($399 OR UNDER)</td>\n",
       "      <td>0329 1402</td>\n",
       "      <td>76</td>\n",
       "      <td>F</td>\n",
       "      <td>W</td>\n",
       "      <td>502</td>\n",
       "      <td>MULTI-UNIT DWELLING (APARTMENT, DUPLEX, ETC)</td>\n",
       "      <td>IC</td>\n",
       "      <td>Invest Cont</td>\n",
       "      <td>5400    CORTEEN                      PL</td>\n",
       "      <td>34.1685</td>\n",
       "      <td>-118.4019</td>\n",
       "    </tr>\n",
       "    <tr>\n",
       "      <th>4</th>\n",
       "      <td>191921269</td>\n",
       "      <td>2020-01-01</td>\n",
       "      <td>2020-01-01</td>\n",
       "      <td>415</td>\n",
       "      <td>19</td>\n",
       "      <td>Mission</td>\n",
       "      <td>1998</td>\n",
       "      <td>2</td>\n",
       "      <td>740</td>\n",
       "      <td>VANDALISM - FELONY ($400 &amp; OVER, ALL CHURCH VA...</td>\n",
       "      <td>0329</td>\n",
       "      <td>31</td>\n",
       "      <td>X</td>\n",
       "      <td>X</td>\n",
       "      <td>409</td>\n",
       "      <td>BEAUTY SUPPLY STORE</td>\n",
       "      <td>IC</td>\n",
       "      <td>Invest Cont</td>\n",
       "      <td>14400    TITUS                        ST</td>\n",
       "      <td>34.2198</td>\n",
       "      <td>-118.4468</td>\n",
       "    </tr>\n",
       "  </tbody>\n",
       "</table>\n",
       "</div>"
      ],
      "text/plain": [
       "       DR_NO  Date Rptd   DATE OCC  TIME OCC  AREA    AREA NAME  Rpt Dist No  Part 1-2  Crm Cd                                        Crm Cd Desc         Mocodes  Vict Age Vict Sex Vict Descent  Premis Cd                                   Premis Desc Status   Status Desc                                  LOCATION      LAT       LON\n",
       "0   10304468 2020-01-08 2020-01-08      2230     3    Southwest          377         2     624                           BATTERY - SIMPLE ASSAULT       0444 0913        36        F            B        501                        SINGLE FAMILY DWELLING     AO   Adult Other   1100 W  39TH                         PL  34.0141 -118.2978\n",
       "1  190101086 2020-01-02 2020-01-02       330     1      Central          163         2     624                           BATTERY - SIMPLE ASSAULT  0416 1822 1414        25        M            H        102                                      SIDEWALK     IC   Invest Cont    700 S  HILL                         ST  34.0459 -118.2545\n",
       "2  200110444 2020-04-14 2020-04-14      1200     1      Central          155         2     845          SEX OFFENDER REGISTRANT OUT OF COMPLIANCE            1501         0        X            X        726                               POLICE FACILITY     AA  Adult Arrest    200 E  6TH                          ST  34.0448 -118.2474\n",
       "3  191501505 2020-01-01 2020-01-01      1730    15  N Hollywood         1543         2     745           VANDALISM - MISDEAMEANOR ($399 OR UNDER)       0329 1402        76        F            W        502  MULTI-UNIT DWELLING (APARTMENT, DUPLEX, ETC)     IC   Invest Cont   5400    CORTEEN                      PL  34.1685 -118.4019\n",
       "4  191921269 2020-01-01 2020-01-01       415    19      Mission         1998         2     740  VANDALISM - FELONY ($400 & OVER, ALL CHURCH VA...            0329        31        X            X        409                           BEAUTY SUPPLY STORE     IC   Invest Cont  14400    TITUS                        ST  34.2198 -118.4468"
      ]
     },
     "execution_count": 20,
     "metadata": {},
     "output_type": "execute_result"
    }
   ],
   "source": [
    "df.head()"
   ]
  },
  {
   "cell_type": "code",
   "execution_count": 21,
   "metadata": {},
   "outputs": [
    {
     "name": "stdout",
     "output_type": "stream",
     "text": [
      "DR_NO        DR_NO          1.000000\n",
      "Premis Cd    Premis Cd      1.000000\n",
      "Vict Age     Vict Age       1.000000\n",
      "Crm Cd       Crm Cd         1.000000\n",
      "Part 1-2     Part 1-2       1.000000\n",
      "Rpt Dist No  Rpt Dist No    1.000000\n",
      "AREA         AREA           1.000000\n",
      "TIME OCC     TIME OCC       1.000000\n",
      "LAT          LAT            1.000000\n",
      "LON          LON            1.000000\n",
      "Rpt Dist No  AREA           0.998057\n",
      "AREA         Rpt Dist No    0.998057\n",
      "Part 1-2     Crm Cd         0.765979\n",
      "Crm Cd       Part 1-2       0.765979\n",
      "AREA         DR_NO          0.267787\n",
      "DR_NO        AREA           0.267787\n",
      "Rpt Dist No  DR_NO          0.265512\n",
      "DR_NO        Rpt Dist No    0.265512\n",
      "LAT          AREA           0.228763\n",
      "AREA         LAT            0.228763\n",
      "Rpt Dist No  LAT            0.221219\n",
      "LAT          Rpt Dist No    0.221219\n",
      "Part 1-2     Premis Cd      0.207252\n",
      "Premis Cd    Part 1-2       0.207252\n",
      "Crm Cd       Premis Cd      0.166715\n",
      "Premis Cd    Crm Cd         0.166715\n",
      "Part 1-2     AREA           0.135742\n",
      "AREA         Part 1-2       0.135742\n",
      "Part 1-2     Rpt Dist No    0.131259\n",
      "Rpt Dist No  Part 1-2       0.131259\n",
      "dtype: float64\n"
     ]
    }
   ],
   "source": [
    "# Convert correlation matrix to 1-D Series and sort\n",
    "sorted_mat = numerical_columns.unstack().sort_values()\n",
    "highest_corr_pairs = sorted_mat.nlargest(30)\n",
    "print(highest_corr_pairs)"
   ]
  },
  {
   "cell_type": "code",
   "execution_count": 22,
   "metadata": {},
   "outputs": [
    {
     "data": {
      "text/html": [
       "<div>\n",
       "<style scoped>\n",
       "    .dataframe tbody tr th:only-of-type {\n",
       "        vertical-align: middle;\n",
       "    }\n",
       "\n",
       "    .dataframe tbody tr th {\n",
       "        vertical-align: top;\n",
       "    }\n",
       "\n",
       "    .dataframe thead th {\n",
       "        text-align: right;\n",
       "    }\n",
       "</style>\n",
       "<table border=\"1\" class=\"dataframe\">\n",
       "  <thead>\n",
       "    <tr style=\"text-align: right;\">\n",
       "      <th></th>\n",
       "      <th>count</th>\n",
       "      <th>mean</th>\n",
       "      <th>std</th>\n",
       "      <th>min</th>\n",
       "      <th>25%</th>\n",
       "      <th>50%</th>\n",
       "      <th>75%</th>\n",
       "      <th>max</th>\n",
       "    </tr>\n",
       "  </thead>\n",
       "  <tbody>\n",
       "    <tr>\n",
       "      <th>DR_NO</th>\n",
       "      <td>1000.0</td>\n",
       "      <td>2.007867e+08</td>\n",
       "      <td>6.889409e+06</td>\n",
       "      <td>1.030447e+07</td>\n",
       "      <td>2.001047e+08</td>\n",
       "      <td>2.001053e+08</td>\n",
       "      <td>2.001059e+08</td>\n",
       "      <td>2.220130e+08</td>\n",
       "    </tr>\n",
       "    <tr>\n",
       "      <th>TIME OCC</th>\n",
       "      <td>1000.0</td>\n",
       "      <td>1.323103e+03</td>\n",
       "      <td>6.665112e+02</td>\n",
       "      <td>1.000000e+00</td>\n",
       "      <td>9.000000e+02</td>\n",
       "      <td>1.405000e+03</td>\n",
       "      <td>1.900000e+03</td>\n",
       "      <td>2.355000e+03</td>\n",
       "    </tr>\n",
       "    <tr>\n",
       "      <th>AREA</th>\n",
       "      <td>1000.0</td>\n",
       "      <td>2.601000e+00</td>\n",
       "      <td>3.871794e+00</td>\n",
       "      <td>1.000000e+00</td>\n",
       "      <td>1.000000e+00</td>\n",
       "      <td>1.000000e+00</td>\n",
       "      <td>1.000000e+00</td>\n",
       "      <td>2.100000e+01</td>\n",
       "    </tr>\n",
       "    <tr>\n",
       "      <th>Rpt Dist No</th>\n",
       "      <td>1000.0</td>\n",
       "      <td>3.104880e+02</td>\n",
       "      <td>3.846204e+02</td>\n",
       "      <td>1.010000e+02</td>\n",
       "      <td>1.437500e+02</td>\n",
       "      <td>1.620000e+02</td>\n",
       "      <td>1.920000e+02</td>\n",
       "      <td>2.137000e+03</td>\n",
       "    </tr>\n",
       "    <tr>\n",
       "      <th>Part 1-2</th>\n",
       "      <td>1000.0</td>\n",
       "      <td>1.419000e+00</td>\n",
       "      <td>4.936423e-01</td>\n",
       "      <td>1.000000e+00</td>\n",
       "      <td>1.000000e+00</td>\n",
       "      <td>1.000000e+00</td>\n",
       "      <td>2.000000e+00</td>\n",
       "      <td>2.000000e+00</td>\n",
       "    </tr>\n",
       "    <tr>\n",
       "      <th>Crm Cd</th>\n",
       "      <td>1000.0</td>\n",
       "      <td>5.122670e+02</td>\n",
       "      <td>2.137893e+02</td>\n",
       "      <td>1.210000e+02</td>\n",
       "      <td>3.300000e+02</td>\n",
       "      <td>4.420000e+02</td>\n",
       "      <td>6.260000e+02</td>\n",
       "      <td>9.560000e+02</td>\n",
       "    </tr>\n",
       "    <tr>\n",
       "      <th>Vict Age</th>\n",
       "      <td>1000.0</td>\n",
       "      <td>3.248800e+01</td>\n",
       "      <td>1.972316e+01</td>\n",
       "      <td>0.000000e+00</td>\n",
       "      <td>2.300000e+01</td>\n",
       "      <td>3.200000e+01</td>\n",
       "      <td>4.600000e+01</td>\n",
       "      <td>9.400000e+01</td>\n",
       "    </tr>\n",
       "    <tr>\n",
       "      <th>Premis Cd</th>\n",
       "      <td>1000.0</td>\n",
       "      <td>3.107120e+02</td>\n",
       "      <td>2.465581e+02</td>\n",
       "      <td>1.010000e+02</td>\n",
       "      <td>1.020000e+02</td>\n",
       "      <td>1.495000e+02</td>\n",
       "      <td>5.020000e+02</td>\n",
       "      <td>9.660000e+02</td>\n",
       "    </tr>\n",
       "    <tr>\n",
       "      <th>LAT</th>\n",
       "      <td>1000.0</td>\n",
       "      <td>3.404990e+01</td>\n",
       "      <td>5.456524e-02</td>\n",
       "      <td>3.371470e+01</td>\n",
       "      <td>3.404310e+01</td>\n",
       "      <td>3.404730e+01</td>\n",
       "      <td>3.405490e+01</td>\n",
       "      <td>3.430550e+01</td>\n",
       "    </tr>\n",
       "    <tr>\n",
       "      <th>LON</th>\n",
       "      <td>1000.0</td>\n",
       "      <td>-1.182696e+02</td>\n",
       "      <td>5.903224e-02</td>\n",
       "      <td>-1.185884e+02</td>\n",
       "      <td>-1.182631e+02</td>\n",
       "      <td>-1.182527e+02</td>\n",
       "      <td>-1.182442e+02</td>\n",
       "      <td>-1.181614e+02</td>\n",
       "    </tr>\n",
       "  </tbody>\n",
       "</table>\n",
       "</div>"
      ],
      "text/plain": [
       "              count          mean           std           min           25%           50%           75%           max\n",
       "DR_NO        1000.0  2.007867e+08  6.889409e+06  1.030447e+07  2.001047e+08  2.001053e+08  2.001059e+08  2.220130e+08\n",
       "TIME OCC     1000.0  1.323103e+03  6.665112e+02  1.000000e+00  9.000000e+02  1.405000e+03  1.900000e+03  2.355000e+03\n",
       "AREA         1000.0  2.601000e+00  3.871794e+00  1.000000e+00  1.000000e+00  1.000000e+00  1.000000e+00  2.100000e+01\n",
       "Rpt Dist No  1000.0  3.104880e+02  3.846204e+02  1.010000e+02  1.437500e+02  1.620000e+02  1.920000e+02  2.137000e+03\n",
       "Part 1-2     1000.0  1.419000e+00  4.936423e-01  1.000000e+00  1.000000e+00  1.000000e+00  2.000000e+00  2.000000e+00\n",
       "Crm Cd       1000.0  5.122670e+02  2.137893e+02  1.210000e+02  3.300000e+02  4.420000e+02  6.260000e+02  9.560000e+02\n",
       "Vict Age     1000.0  3.248800e+01  1.972316e+01  0.000000e+00  2.300000e+01  3.200000e+01  4.600000e+01  9.400000e+01\n",
       "Premis Cd    1000.0  3.107120e+02  2.465581e+02  1.010000e+02  1.020000e+02  1.495000e+02  5.020000e+02  9.660000e+02\n",
       "LAT          1000.0  3.404990e+01  5.456524e-02  3.371470e+01  3.404310e+01  3.404730e+01  3.405490e+01  3.430550e+01\n",
       "LON          1000.0 -1.182696e+02  5.903224e-02 -1.185884e+02 -1.182631e+02 -1.182527e+02 -1.182442e+02 -1.181614e+02"
      ]
     },
     "execution_count": 22,
     "metadata": {},
     "output_type": "execute_result"
    }
   ],
   "source": [
    "#Descriptive Stats\n",
    "number.describe().T"
   ]
  },
  {
   "cell_type": "code",
   "execution_count": 23,
   "metadata": {},
   "outputs": [
    {
     "data": {
      "text/html": [
       "<div>\n",
       "<style scoped>\n",
       "    .dataframe tbody tr th:only-of-type {\n",
       "        vertical-align: middle;\n",
       "    }\n",
       "\n",
       "    .dataframe tbody tr th {\n",
       "        vertical-align: top;\n",
       "    }\n",
       "\n",
       "    .dataframe thead th {\n",
       "        text-align: right;\n",
       "    }\n",
       "</style>\n",
       "<table border=\"1\" class=\"dataframe\">\n",
       "  <thead>\n",
       "    <tr style=\"text-align: right;\">\n",
       "      <th></th>\n",
       "      <th>count</th>\n",
       "      <th>unique</th>\n",
       "      <th>top</th>\n",
       "      <th>freq</th>\n",
       "    </tr>\n",
       "  </thead>\n",
       "  <tbody>\n",
       "    <tr>\n",
       "      <th>AREA NAME</th>\n",
       "      <td>1000</td>\n",
       "      <td>21</td>\n",
       "      <td>Central</td>\n",
       "      <td>794</td>\n",
       "    </tr>\n",
       "    <tr>\n",
       "      <th>Crm Cd Desc</th>\n",
       "      <td>1000</td>\n",
       "      <td>64</td>\n",
       "      <td>BURGLARY FROM VEHICLE</td>\n",
       "      <td>127</td>\n",
       "    </tr>\n",
       "    <tr>\n",
       "      <th>Mocodes</th>\n",
       "      <td>1000</td>\n",
       "      <td>717</td>\n",
       "      <td>none</td>\n",
       "      <td>70</td>\n",
       "    </tr>\n",
       "    <tr>\n",
       "      <th>Vict Sex</th>\n",
       "      <td>1000</td>\n",
       "      <td>4</td>\n",
       "      <td>M</td>\n",
       "      <td>511</td>\n",
       "    </tr>\n",
       "    <tr>\n",
       "      <th>Vict Descent</th>\n",
       "      <td>1000</td>\n",
       "      <td>11</td>\n",
       "      <td>H</td>\n",
       "      <td>306</td>\n",
       "    </tr>\n",
       "    <tr>\n",
       "      <th>Premis Desc</th>\n",
       "      <td>1000</td>\n",
       "      <td>82</td>\n",
       "      <td>STREET</td>\n",
       "      <td>215</td>\n",
       "    </tr>\n",
       "    <tr>\n",
       "      <th>Status</th>\n",
       "      <td>1000</td>\n",
       "      <td>4</td>\n",
       "      <td>IC</td>\n",
       "      <td>834</td>\n",
       "    </tr>\n",
       "    <tr>\n",
       "      <th>Status Desc</th>\n",
       "      <td>1000</td>\n",
       "      <td>4</td>\n",
       "      <td>Invest Cont</td>\n",
       "      <td>834</td>\n",
       "    </tr>\n",
       "    <tr>\n",
       "      <th>LOCATION</th>\n",
       "      <td>1000</td>\n",
       "      <td>525</td>\n",
       "      <td>700 W  7TH                          ST</td>\n",
       "      <td>34</td>\n",
       "    </tr>\n",
       "  </tbody>\n",
       "</table>\n",
       "</div>"
      ],
      "text/plain": [
       "             count unique                                     top freq\n",
       "AREA NAME     1000     21                                 Central  794\n",
       "Crm Cd Desc   1000     64                   BURGLARY FROM VEHICLE  127\n",
       "Mocodes       1000    717                                    none   70\n",
       "Vict Sex      1000      4                                       M  511\n",
       "Vict Descent  1000     11                                       H  306\n",
       "Premis Desc   1000     82                                  STREET  215\n",
       "Status        1000      4                                      IC  834\n",
       "Status Desc   1000      4                             Invest Cont  834\n",
       "LOCATION      1000    525  700 W  7TH                          ST   34"
      ]
     },
     "execution_count": 23,
     "metadata": {},
     "output_type": "execute_result"
    }
   ],
   "source": [
    "category.describe().T"
   ]
  },
  {
   "cell_type": "code",
   "execution_count": 24,
   "metadata": {},
   "outputs": [
    {
     "name": "stdout",
     "output_type": "stream",
     "text": [
      "DR_NO:\n",
      "Skewness = -20.71340281843546\n",
      "Kurtosis = 586.7142569533668\n",
      "========================================\n",
      "TIME OCC:\n",
      "Skewness = -0.44762810388415214\n",
      "Kurtosis = -0.8380989861701087\n",
      "========================================\n",
      "AREA:\n",
      "Skewness = 2.6951785008740443\n",
      "Kurtosis = 6.828237087538781\n",
      "========================================\n",
      "Rpt Dist No:\n",
      "Skewness = 2.692250668699682\n",
      "Kurtosis = 6.851986610032915\n",
      "========================================\n",
      "Part 1-2:\n",
      "Skewness = 0.328830535478926\n",
      "Kurtosis = -1.8956658221832985\n",
      "========================================\n",
      "Crm Cd:\n",
      "Skewness = 0.43776491000803275\n",
      "Kurtosis = -0.8572934474811933\n",
      "========================================\n",
      "Vict Age:\n",
      "Skewness = -0.02957094942424637\n",
      "Kurtosis = -0.46778000304572176\n",
      "========================================\n",
      "Premis Cd:\n",
      "Skewness = 0.8097433540570848\n",
      "Kurtosis = -0.6051471809684283\n",
      "========================================\n",
      "LAT:\n",
      "Skewness = -1.404378461896648\n",
      "Kurtosis = 15.487736303497817\n",
      "========================================\n",
      "LON:\n",
      "Skewness = -2.9040936056111715\n",
      "Kurtosis = 8.583118319194075\n",
      "========================================\n"
     ]
    }
   ],
   "source": [
    "# Now let's check your skewness and kurtosis of each numerical variable.\n",
    "for col in number:\n",
    "    print(f\"{col}:\")\n",
    "    print(f\"Skewness = {df[col].skew()}\")\n",
    "    print(f\"Kurtosis = {df[col].kurt()}\")\n",
    "    print(\"==\"*20)"
   ]
  },
  {
   "cell_type": "code",
   "execution_count": 25,
   "metadata": {},
   "outputs": [],
   "source": [
    "# fig,axes = plt.subplots(nrows = 4, ncols = 3, figsize = (10, 20))\n",
    "# axes = axes.flat\n",
    "\n",
    "\n",
    "# for i,col in enumerate(number):\n",
    "#     sns.histplot(\n",
    "#         number,\n",
    "#         x=col,\n",
    "#         kde=True,\n",
    "#         line_kws={\"linewidth\":2.0},\n",
    "#         stat=\"count\",\n",
    "#         color = (list(plt.rcParams['axes.prop_cycle'])*5)[i][\"color\"],\n",
    "#         ax = axes[i]\n",
    "#     )\n",
    "\n",
    "    \n",
    "#     axes[i].set_xlabel(\"\")\n",
    "#     axes[i].set_title(f\"{col}\", fontsize = 8, fontweight = \"bold\", color = \"darkblue\")\n",
    "#     axes[i].tick_params(labelsize = 7)\n",
    "\n",
    "\n",
    "# fig.suptitle(\"Distribution of numerical variables\", fontsize = 12, fontweight = \"bold\", color = \"darkred\")\n",
    "# fig.tight_layout()\n",
    "# fig.subplots_adjust(top = 0.9)\n",
    "# fig.show()"
   ]
  },
  {
   "cell_type": "code",
   "execution_count": 26,
   "metadata": {},
   "outputs": [],
   "source": [
    "# fig,axes = plt.subplots(nrows = 4, ncols = 3, figsize = (10, 20))\n",
    "# axes = axes.flat\n",
    "\n",
    "# for i,col in enumerate(number):\n",
    "#     qqplot(\n",
    "#         number[col],\n",
    "#         line = \"s\",\n",
    "#         ax = axes[i]\n",
    "#           )\n",
    "    \n",
    "\n",
    "    \n",
    "#     axes[i].set_title(f\"{col}\", \n",
    "#                       fontsize = 8, \n",
    "#                       fontweight = \"bold\", \n",
    "#                       color = \"darkblue\")\n",
    "#     axes[i].tick_params(labelsize = 7)\n",
    "\n",
    "\n",
    "\n",
    "# fig.suptitle(\"QQ-plots\", fontsize = 12, fontweight = \"bold\", color = \"darkred\")\n",
    "# fig.tight_layout()\n",
    "# fig.subplots_adjust(top = 0.9)\n",
    "# fig.show()"
   ]
  },
  {
   "cell_type": "code",
   "execution_count": 27,
   "metadata": {},
   "outputs": [
    {
     "data": {
      "text/html": [
       "<div>\n",
       "<style scoped>\n",
       "    .dataframe tbody tr th:only-of-type {\n",
       "        vertical-align: middle;\n",
       "    }\n",
       "\n",
       "    .dataframe tbody tr th {\n",
       "        vertical-align: top;\n",
       "    }\n",
       "\n",
       "    .dataframe thead th {\n",
       "        text-align: right;\n",
       "    }\n",
       "</style>\n",
       "<table border=\"1\" class=\"dataframe\">\n",
       "  <thead>\n",
       "    <tr style=\"text-align: right;\">\n",
       "      <th></th>\n",
       "      <th>DR_NO</th>\n",
       "      <th>Date Rptd</th>\n",
       "      <th>DATE OCC</th>\n",
       "      <th>TIME OCC</th>\n",
       "      <th>AREA</th>\n",
       "      <th>AREA NAME</th>\n",
       "      <th>Rpt Dist No</th>\n",
       "      <th>Part 1-2</th>\n",
       "      <th>Crm Cd</th>\n",
       "      <th>Crm Cd Desc</th>\n",
       "      <th>Mocodes</th>\n",
       "      <th>Vict Age</th>\n",
       "      <th>Vict Sex</th>\n",
       "      <th>Vict Descent</th>\n",
       "      <th>Premis Cd</th>\n",
       "      <th>Premis Desc</th>\n",
       "      <th>Status</th>\n",
       "      <th>Status Desc</th>\n",
       "      <th>LOCATION</th>\n",
       "      <th>LAT</th>\n",
       "      <th>LON</th>\n",
       "    </tr>\n",
       "  </thead>\n",
       "  <tbody>\n",
       "    <tr>\n",
       "      <th>0</th>\n",
       "      <td>10304468</td>\n",
       "      <td>2020-01-08</td>\n",
       "      <td>2020-01-08</td>\n",
       "      <td>2230</td>\n",
       "      <td>3</td>\n",
       "      <td>Southwest</td>\n",
       "      <td>377</td>\n",
       "      <td>2</td>\n",
       "      <td>624</td>\n",
       "      <td>BATTERY - SIMPLE ASSAULT</td>\n",
       "      <td>0444 0913</td>\n",
       "      <td>36</td>\n",
       "      <td>F</td>\n",
       "      <td>B</td>\n",
       "      <td>501</td>\n",
       "      <td>SINGLE FAMILY DWELLING</td>\n",
       "      <td>AO</td>\n",
       "      <td>Adult Other</td>\n",
       "      <td>1100 W  39TH                         PL</td>\n",
       "      <td>34.0141</td>\n",
       "      <td>-118.2978</td>\n",
       "    </tr>\n",
       "    <tr>\n",
       "      <th>1</th>\n",
       "      <td>190101086</td>\n",
       "      <td>2020-01-02</td>\n",
       "      <td>2020-01-02</td>\n",
       "      <td>330</td>\n",
       "      <td>1</td>\n",
       "      <td>Central</td>\n",
       "      <td>163</td>\n",
       "      <td>2</td>\n",
       "      <td>624</td>\n",
       "      <td>BATTERY - SIMPLE ASSAULT</td>\n",
       "      <td>0416 1822 1414</td>\n",
       "      <td>25</td>\n",
       "      <td>M</td>\n",
       "      <td>H</td>\n",
       "      <td>102</td>\n",
       "      <td>SIDEWALK</td>\n",
       "      <td>IC</td>\n",
       "      <td>Invest Cont</td>\n",
       "      <td>700 S  HILL                         ST</td>\n",
       "      <td>34.0459</td>\n",
       "      <td>-118.2545</td>\n",
       "    </tr>\n",
       "    <tr>\n",
       "      <th>2</th>\n",
       "      <td>200110444</td>\n",
       "      <td>2020-04-14</td>\n",
       "      <td>2020-04-14</td>\n",
       "      <td>1200</td>\n",
       "      <td>1</td>\n",
       "      <td>Central</td>\n",
       "      <td>155</td>\n",
       "      <td>2</td>\n",
       "      <td>845</td>\n",
       "      <td>SEX OFFENDER REGISTRANT OUT OF COMPLIANCE</td>\n",
       "      <td>1501</td>\n",
       "      <td>0</td>\n",
       "      <td>X</td>\n",
       "      <td>X</td>\n",
       "      <td>726</td>\n",
       "      <td>POLICE FACILITY</td>\n",
       "      <td>AA</td>\n",
       "      <td>Adult Arrest</td>\n",
       "      <td>200 E  6TH                          ST</td>\n",
       "      <td>34.0448</td>\n",
       "      <td>-118.2474</td>\n",
       "    </tr>\n",
       "    <tr>\n",
       "      <th>3</th>\n",
       "      <td>191501505</td>\n",
       "      <td>2020-01-01</td>\n",
       "      <td>2020-01-01</td>\n",
       "      <td>1730</td>\n",
       "      <td>15</td>\n",
       "      <td>N Hollywood</td>\n",
       "      <td>1543</td>\n",
       "      <td>2</td>\n",
       "      <td>745</td>\n",
       "      <td>VANDALISM - MISDEAMEANOR ($399 OR UNDER)</td>\n",
       "      <td>0329 1402</td>\n",
       "      <td>76</td>\n",
       "      <td>F</td>\n",
       "      <td>W</td>\n",
       "      <td>502</td>\n",
       "      <td>MULTI-UNIT DWELLING (APARTMENT, DUPLEX, ETC)</td>\n",
       "      <td>IC</td>\n",
       "      <td>Invest Cont</td>\n",
       "      <td>5400    CORTEEN                      PL</td>\n",
       "      <td>34.1685</td>\n",
       "      <td>-118.4019</td>\n",
       "    </tr>\n",
       "    <tr>\n",
       "      <th>4</th>\n",
       "      <td>191921269</td>\n",
       "      <td>2020-01-01</td>\n",
       "      <td>2020-01-01</td>\n",
       "      <td>415</td>\n",
       "      <td>19</td>\n",
       "      <td>Mission</td>\n",
       "      <td>1998</td>\n",
       "      <td>2</td>\n",
       "      <td>740</td>\n",
       "      <td>VANDALISM - FELONY ($400 &amp; OVER, ALL CHURCH VA...</td>\n",
       "      <td>0329</td>\n",
       "      <td>31</td>\n",
       "      <td>X</td>\n",
       "      <td>X</td>\n",
       "      <td>409</td>\n",
       "      <td>BEAUTY SUPPLY STORE</td>\n",
       "      <td>IC</td>\n",
       "      <td>Invest Cont</td>\n",
       "      <td>14400    TITUS                        ST</td>\n",
       "      <td>34.2198</td>\n",
       "      <td>-118.4468</td>\n",
       "    </tr>\n",
       "  </tbody>\n",
       "</table>\n",
       "</div>"
      ],
      "text/plain": [
       "       DR_NO  Date Rptd   DATE OCC  TIME OCC  AREA    AREA NAME  Rpt Dist No  Part 1-2  Crm Cd                                        Crm Cd Desc         Mocodes  Vict Age Vict Sex Vict Descent  Premis Cd                                   Premis Desc Status   Status Desc                                  LOCATION      LAT       LON\n",
       "0   10304468 2020-01-08 2020-01-08      2230     3    Southwest          377         2     624                           BATTERY - SIMPLE ASSAULT       0444 0913        36        F            B        501                        SINGLE FAMILY DWELLING     AO   Adult Other   1100 W  39TH                         PL  34.0141 -118.2978\n",
       "1  190101086 2020-01-02 2020-01-02       330     1      Central          163         2     624                           BATTERY - SIMPLE ASSAULT  0416 1822 1414        25        M            H        102                                      SIDEWALK     IC   Invest Cont    700 S  HILL                         ST  34.0459 -118.2545\n",
       "2  200110444 2020-04-14 2020-04-14      1200     1      Central          155         2     845          SEX OFFENDER REGISTRANT OUT OF COMPLIANCE            1501         0        X            X        726                               POLICE FACILITY     AA  Adult Arrest    200 E  6TH                          ST  34.0448 -118.2474\n",
       "3  191501505 2020-01-01 2020-01-01      1730    15  N Hollywood         1543         2     745           VANDALISM - MISDEAMEANOR ($399 OR UNDER)       0329 1402        76        F            W        502  MULTI-UNIT DWELLING (APARTMENT, DUPLEX, ETC)     IC   Invest Cont   5400    CORTEEN                      PL  34.1685 -118.4019\n",
       "4  191921269 2020-01-01 2020-01-01       415    19      Mission         1998         2     740  VANDALISM - FELONY ($400 & OVER, ALL CHURCH VA...            0329        31        X            X        409                           BEAUTY SUPPLY STORE     IC   Invest Cont  14400    TITUS                        ST  34.2198 -118.4468"
      ]
     },
     "execution_count": 27,
     "metadata": {},
     "output_type": "execute_result"
    }
   ],
   "source": [
    "df.head()"
   ]
  },
  {
   "cell_type": "code",
   "execution_count": 28,
   "metadata": {},
   "outputs": [
    {
     "data": {
      "application/vnd.plotly.v1+json": {
       "config": {
        "plotlyServerURL": "https://plot.ly"
       },
       "data": [
        {
         "alignmentgroup": "True",
         "box": {
          "fillcolor": "green",
          "visible": true
         },
         "hovertemplate": "x=%{x}<br>y=%{y}<extra></extra>",
         "legendgroup": "",
         "marker": {
          "color": "#636efa"
         },
         "name": "",
         "offsetgroup": "",
         "opacity": 0.5,
         "orientation": "v",
         "points": "all",
         "scalegroup": "True",
         "showlegend": false,
         "type": "violin",
         "x": [
          "F",
          "M",
          "X",
          "F",
          "X",
          "F",
          "M",
          "X",
          "M",
          "X",
          "M",
          "M",
          "M",
          "X",
          "F",
          "F",
          "F",
          "F",
          "M",
          "M",
          "M",
          "M",
          "M",
          "F",
          "M",
          "F",
          "M",
          "M",
          "F",
          "F",
          "M",
          "M",
          "F",
          "None",
          "M",
          "M",
          "M",
          "F",
          "X",
          "F",
          "M",
          "M",
          "M",
          "F",
          "M",
          "None",
          "F",
          "M",
          "F",
          "M",
          "M",
          "F",
          "F",
          "M",
          "M",
          "M",
          "M",
          "M",
          "M",
          "F",
          "F",
          "M",
          "M",
          "M",
          "M",
          "F",
          "X",
          "X",
          "F",
          "M",
          "F",
          "M",
          "M",
          "F",
          "F",
          "M",
          "X",
          "X",
          "None",
          "M",
          "M",
          "F",
          "X",
          "M",
          "M",
          "M",
          "F",
          "M",
          "M",
          "F",
          "M",
          "M",
          "F",
          "F",
          "F",
          "M",
          "M",
          "M",
          "F",
          "M",
          "M",
          "F",
          "M",
          "M",
          "None",
          "None",
          "F",
          "F",
          "X",
          "F",
          "M",
          "M",
          "M",
          "M",
          "M",
          "F",
          "F",
          "M",
          "M",
          "M",
          "M",
          "None",
          "M",
          "M",
          "F",
          "F",
          "M",
          "M",
          "X",
          "F",
          "F",
          "F",
          "F",
          "F",
          "M",
          "None",
          "F",
          "F",
          "F",
          "M",
          "M",
          "F",
          "X",
          "M",
          "M",
          "X",
          "F",
          "M",
          "X",
          "M",
          "M",
          "M",
          "F",
          "F",
          "M",
          "F",
          "F",
          "M",
          "F",
          "F",
          "None",
          "M",
          "M",
          "M",
          "None",
          "F",
          "X",
          "M",
          "F",
          "M",
          "M",
          "F",
          "M",
          "X",
          "F",
          "F",
          "M",
          "F",
          "X",
          "F",
          "M",
          "M",
          "F",
          "M",
          "M",
          "None",
          "F",
          "X",
          "M",
          "M",
          "F",
          "M",
          "M",
          "None",
          "M",
          "F",
          "F",
          "F",
          "M",
          "F",
          "F",
          "M",
          "M",
          "F",
          "M",
          "M",
          "None",
          "M",
          "M",
          "F",
          "F",
          "M",
          "F",
          "F",
          "M",
          "M",
          "M",
          "M",
          "F",
          "M",
          "F",
          "M",
          "M",
          "F",
          "M",
          "M",
          "X",
          "X",
          "M",
          "F",
          "X",
          "M",
          "F",
          "M",
          "F",
          "F",
          "M",
          "F",
          "M",
          "M",
          "F",
          "M",
          "F",
          "X",
          "M",
          "M",
          "M",
          "F",
          "M",
          "X",
          "F",
          "M",
          "None",
          "M",
          "M",
          "F",
          "M",
          "M",
          "M",
          "F",
          "M",
          "M",
          "M",
          "M",
          "M",
          "F",
          "M",
          "M",
          "M",
          "M",
          "None",
          "M",
          "F",
          "M",
          "M",
          "M",
          "M",
          "M",
          "F",
          "M",
          "M",
          "F",
          "X",
          "M",
          "F",
          "F",
          "F",
          "M",
          "M",
          "X",
          "F",
          "X",
          "M",
          "F",
          "M",
          "F",
          "F",
          "F",
          "F",
          "F",
          "M",
          "M",
          "F",
          "F",
          "F",
          "M",
          "F",
          "M",
          "X",
          "M",
          "X",
          "M",
          "M",
          "F",
          "F",
          "M",
          "None",
          "M",
          "F",
          "F",
          "M",
          "X",
          "None",
          "M",
          "M",
          "M",
          "F",
          "None",
          "M",
          "None",
          "F",
          "M",
          "M",
          "M",
          "F",
          "M",
          "M",
          "F",
          "M",
          "M",
          "M",
          "M",
          "M",
          "F",
          "F",
          "M",
          "F",
          "M",
          "M",
          "None",
          "M",
          "M",
          "M",
          "M",
          "M",
          "M",
          "X",
          "F",
          "F",
          "M",
          "F",
          "M",
          "M",
          "M",
          "F",
          "F",
          "X",
          "M",
          "M",
          "F",
          "F",
          "F",
          "F",
          "M",
          "M",
          "F",
          "F",
          "M",
          "M",
          "F",
          "M",
          "M",
          "M",
          "X",
          "F",
          "M",
          "F",
          "F",
          "F",
          "M",
          "M",
          "F",
          "M",
          "F",
          "M",
          "F",
          "F",
          "None",
          "F",
          "M",
          "M",
          "F",
          "M",
          "F",
          "M",
          "M",
          "F",
          "M",
          "M",
          "M",
          "X",
          "X",
          "F",
          "X",
          "X",
          "M",
          "F",
          "M",
          "M",
          "F",
          "M",
          "None",
          "X",
          "F",
          "M",
          "M",
          "M",
          "M",
          "F",
          "M",
          "M",
          "M",
          "M",
          "F",
          "M",
          "F",
          "M",
          "F",
          "M",
          "F",
          "M",
          "M",
          "F",
          "M",
          "F",
          "X",
          "F",
          "M",
          "None",
          "M",
          "F",
          "X",
          "M",
          "M",
          "F",
          "F",
          "M",
          "X",
          "M",
          "M",
          "X",
          "M",
          "F",
          "M",
          "None",
          "M",
          "F",
          "X",
          "None",
          "M",
          "None",
          "F",
          "M",
          "M",
          "M",
          "M",
          "M",
          "M",
          "M",
          "M",
          "F",
          "F",
          "M",
          "M",
          "F",
          "F",
          "F",
          "M",
          "M",
          "M",
          "M",
          "F",
          "M",
          "M",
          "M",
          "F",
          "M",
          "M",
          "F",
          "X",
          "M",
          "X",
          "F",
          "M",
          "F",
          "M",
          "M",
          "None",
          "M",
          "F",
          "F",
          "M",
          "M",
          "None",
          "M",
          "F",
          "F",
          "M",
          "F",
          "M",
          "F",
          "M",
          "M",
          "X",
          "M",
          "M",
          "F",
          "X",
          "F",
          "F",
          "M",
          "X",
          "F",
          "M",
          "M",
          "F",
          "M",
          "F",
          "F",
          "M",
          "F",
          "F",
          "M",
          "M",
          "M",
          "F",
          "X",
          "M",
          "M",
          "None",
          "F",
          "F",
          "M",
          "F",
          "F",
          "F",
          "F",
          "F",
          "X",
          "M",
          "M",
          "M",
          "M",
          "F",
          "M",
          "M",
          "F",
          "M",
          "M",
          "M",
          "M",
          "F",
          "None",
          "None",
          "M",
          "F",
          "F",
          "M",
          "M",
          "None",
          "None",
          "M",
          "F",
          "M",
          "F",
          "M",
          "F",
          "F",
          "M",
          "M",
          "F",
          "M",
          "M",
          "None",
          "F",
          "M",
          "M",
          "F",
          "F",
          "M",
          "F",
          "F",
          "M",
          "M",
          "M",
          "F",
          "None",
          "M",
          "None",
          "F",
          "F",
          "M",
          "M",
          "F",
          "F",
          "F",
          "M",
          "M",
          "F",
          "F",
          "M",
          "F",
          "M",
          "F",
          "M",
          "M",
          "M",
          "M",
          "F",
          "F",
          "M",
          "M",
          "M",
          "F",
          "M",
          "M",
          "F",
          "M",
          "F",
          "F",
          "F",
          "None",
          "M",
          "M",
          "F",
          "M",
          "F",
          "F",
          "F",
          "M",
          "M",
          "None",
          "M",
          "M",
          "M",
          "M",
          "M",
          "M",
          "M",
          "M",
          "F",
          "F",
          "None",
          "F",
          "M",
          "M",
          "F",
          "F",
          "M",
          "None",
          "F",
          "F",
          "X",
          "F",
          "F",
          "M",
          "M",
          "M",
          "M",
          "F",
          "X",
          "F",
          "F",
          "M",
          "F",
          "M",
          "M",
          "F",
          "M",
          "M",
          "M",
          "M",
          "M",
          "M",
          "M",
          "M",
          "F",
          "F",
          "F",
          "None",
          "F",
          "F",
          "F",
          "F",
          "F",
          "M",
          "M",
          "M",
          "M",
          "F",
          "None",
          "M",
          "M",
          "M",
          "M",
          "M",
          "M",
          "M",
          "None",
          "F",
          "F",
          "M",
          "M",
          "M",
          "M",
          "F",
          "F",
          "M",
          "F",
          "F",
          "None",
          "F",
          "F",
          "M",
          "M",
          "F",
          "F",
          "M",
          "M",
          "M",
          "F",
          "M",
          "F",
          "F",
          "X",
          "F",
          "None",
          "F",
          "M",
          "F",
          "None",
          "M",
          "None",
          "None",
          "X",
          "M",
          "F",
          "F",
          "X",
          "M",
          "F",
          "M",
          "M",
          "F",
          "F",
          "F",
          "F",
          "M",
          "F",
          "M",
          "F",
          "M",
          "M",
          "F",
          "F",
          "F",
          "M",
          "M",
          "F",
          "F",
          "M",
          "None",
          "M",
          "F",
          "M",
          "F",
          "M",
          "M",
          "F",
          "M",
          "M",
          "M",
          "M",
          "F",
          "M",
          "M",
          "F",
          "M",
          "F",
          "F",
          "F",
          "F",
          "None",
          "M",
          "M",
          "M",
          "M",
          "M",
          "F",
          "M",
          "F",
          "M",
          "F",
          "None",
          "F",
          "F",
          "F",
          "F",
          "F",
          "X",
          "M",
          "F",
          "M",
          "M",
          "M",
          "M",
          "F",
          "M",
          "F",
          "None",
          "M",
          "M",
          "None",
          "F",
          "F",
          "F",
          "F",
          "None",
          "M",
          "M",
          "M",
          "M",
          "M",
          "M",
          "M",
          "F",
          "M",
          "M",
          "M",
          "M",
          "F",
          "None",
          "M",
          "M",
          "F",
          "M",
          "F",
          "M",
          "F",
          "F",
          "M",
          "M",
          "X",
          "M",
          "F",
          "M",
          "M",
          "M",
          "F",
          "F",
          "F",
          "F",
          "M",
          "X",
          "M",
          "X",
          "F",
          "M",
          "F",
          "M",
          "M",
          "M",
          "None",
          "M",
          "M",
          "F",
          "M",
          "F",
          "M",
          "M",
          "M",
          "M",
          "F",
          "None",
          "M",
          "M",
          "M",
          "M",
          "F",
          "None",
          "M",
          "M",
          "M",
          "M",
          "M",
          "F",
          "M",
          "F",
          "M",
          "F",
          "M",
          "X",
          "M",
          "F",
          "M",
          "M",
          "F",
          "M",
          "F",
          "M",
          "F",
          "M",
          "F",
          "M",
          "M",
          "M",
          "M",
          "F",
          "F",
          "None",
          "F",
          "F",
          "M",
          "M",
          "F",
          "None",
          "F",
          "F",
          "M",
          "F",
          "M",
          "M",
          "M",
          "M",
          "F",
          "M",
          "X",
          "F",
          "None",
          "M",
          "M",
          "F",
          "M",
          "F",
          "M",
          "M",
          "M",
          "M",
          "M",
          "F",
          "M",
          "X",
          "X",
          "X",
          "M",
          "M",
          "M",
          "M",
          "M",
          "F",
          "X",
          "X",
          "F",
          "M",
          "M",
          "F",
          "M",
          "F",
          "M",
          "F",
          "M",
          "M",
          "F",
          "M",
          "M",
          "M",
          "F",
          "F",
          "F",
          "M",
          "M",
          "None",
          "F",
          "F",
          "X",
          "M",
          "None",
          "F",
          "F",
          "M"
         ],
         "x0": " ",
         "xaxis": "x",
         "y": [
          36,
          25,
          0,
          76,
          31,
          25,
          23,
          0,
          23,
          0,
          29,
          35,
          41,
          0,
          24,
          24,
          34,
          29,
          46,
          66,
          40,
          31,
          27,
          46,
          62,
          34,
          43,
          71,
          50,
          19,
          51,
          27,
          33,
          0,
          69,
          39,
          19,
          57,
          0,
          78,
          0,
          24,
          52,
          38,
          55,
          0,
          66,
          34,
          50,
          35,
          40,
          27,
          51,
          0,
          44,
          41,
          57,
          25,
          24,
          34,
          18,
          57,
          55,
          23,
          55,
          54,
          0,
          0,
          22,
          28,
          42,
          43,
          46,
          56,
          55,
          55,
          0,
          0,
          0,
          67,
          57,
          37,
          0,
          60,
          0,
          51,
          52,
          61,
          38,
          36,
          59,
          32,
          44,
          60,
          24,
          31,
          30,
          50,
          50,
          40,
          34,
          34,
          45,
          62,
          0,
          0,
          20,
          31,
          0,
          15,
          51,
          23,
          29,
          58,
          24,
          51,
          41,
          32,
          23,
          35,
          28,
          0,
          58,
          57,
          27,
          30,
          30,
          31,
          0,
          24,
          29,
          47,
          48,
          32,
          23,
          0,
          46,
          40,
          57,
          32,
          58,
          25,
          0,
          18,
          25,
          0,
          37,
          23,
          0,
          67,
          26,
          47,
          21,
          26,
          64,
          26,
          31,
          39,
          35,
          25,
          0,
          28,
          33,
          75,
          0,
          32,
          0,
          0,
          30,
          44,
          28,
          26,
          56,
          0,
          35,
          28,
          19,
          43,
          0,
          12,
          43,
          59,
          34,
          38,
          37,
          0,
          27,
          61,
          49,
          22,
          43,
          71,
          71,
          0,
          55,
          19,
          68,
          38,
          48,
          69,
          14,
          37,
          26,
          50,
          13,
          61,
          0,
          50,
          26,
          26,
          26,
          45,
          36,
          45,
          24,
          0,
          0,
          50,
          25,
          27,
          10,
          33,
          53,
          38,
          23,
          74,
          0,
          0,
          23,
          26,
          0,
          23,
          49,
          57,
          40,
          25,
          0,
          34,
          35,
          38,
          29,
          24,
          26,
          0,
          56,
          26,
          47,
          29,
          29,
          0,
          45,
          38,
          0,
          32,
          30,
          62,
          71,
          53,
          31,
          53,
          0,
          49,
          38,
          55,
          43,
          64,
          56,
          34,
          30,
          35,
          0,
          36,
          25,
          67,
          37,
          57,
          40,
          0,
          59,
          34,
          20,
          69,
          0,
          0,
          58,
          33,
          28,
          31,
          38,
          0,
          25,
          0,
          25,
          34,
          41,
          49,
          20,
          45,
          30,
          27,
          38,
          32,
          39,
          35,
          64,
          57,
          34,
          29,
          0,
          27,
          0,
          17,
          17,
          26,
          32,
          53,
          0,
          0,
          46,
          55,
          33,
          0,
          0,
          33,
          27,
          48,
          60,
          0,
          30,
          0,
          45,
          54,
          26,
          26,
          28,
          36,
          0,
          33,
          27,
          0,
          0,
          48,
          0,
          28,
          58,
          51,
          64,
          32,
          32,
          0,
          39,
          38,
          29,
          38,
          20,
          57,
          0,
          65,
          22,
          67,
          37,
          22,
          0,
          30,
          30,
          46,
          0,
          65,
          28,
          41,
          35,
          28,
          35,
          35,
          38,
          32,
          39,
          57,
          56,
          29,
          29,
          36,
          45,
          0,
          47,
          30,
          45,
          34,
          57,
          45,
          30,
          28,
          62,
          21,
          27,
          26,
          26,
          0,
          51,
          29,
          23,
          38,
          27,
          37,
          35,
          60,
          28,
          26,
          36,
          45,
          0,
          0,
          20,
          0,
          19,
          27,
          46,
          44,
          26,
          22,
          32,
          0,
          0,
          40,
          0,
          63,
          57,
          61,
          39,
          28,
          22,
          35,
          38,
          22,
          22,
          34,
          40,
          33,
          54,
          21,
          21,
          29,
          24,
          31,
          18,
          0,
          62,
          36,
          0,
          0,
          27,
          19,
          61,
          30,
          28,
          35,
          27,
          0,
          31,
          50,
          0,
          56,
          32,
          22,
          0,
          21,
          26,
          0,
          0,
          0,
          0,
          41,
          29,
          27,
          24,
          0,
          29,
          28,
          22,
          59,
          33,
          27,
          31,
          56,
          60,
          61,
          31,
          24,
          30,
          36,
          0,
          32,
          50,
          43,
          24,
          8,
          25,
          0,
          28,
          0,
          66,
          0,
          65,
          37,
          37,
          30,
          52,
          0,
          40,
          33,
          22,
          0,
          74,
          0,
          41,
          16,
          45,
          64,
          51,
          24,
          30,
          53,
          59,
          0,
          47,
          35,
          8,
          0,
          38,
          44,
          33,
          0,
          22,
          51,
          23,
          71,
          28,
          59,
          50,
          34,
          14,
          29,
          33,
          34,
          60,
          65,
          0,
          60,
          69,
          0,
          72,
          23,
          31,
          26,
          46,
          57,
          39,
          30,
          0,
          56,
          33,
          35,
          28,
          31,
          55,
          59,
          29,
          33,
          30,
          46,
          20,
          18,
          0,
          0,
          40,
          46,
          43,
          27,
          25,
          0,
          0,
          41,
          43,
          48,
          33,
          30,
          68,
          23,
          53,
          29,
          23,
          38,
          48,
          0,
          34,
          69,
          23,
          30,
          31,
          45,
          22,
          38,
          28,
          61,
          23,
          24,
          0,
          60,
          0,
          56,
          46,
          53,
          26,
          21,
          21,
          50,
          71,
          24,
          36,
          30,
          57,
          38,
          63,
          25,
          14,
          12,
          0,
          65,
          46,
          46,
          64,
          0,
          0,
          23,
          60,
          63,
          66,
          55,
          27,
          20,
          76,
          0,
          38,
          38,
          47,
          60,
          51,
          60,
          28,
          23,
          24,
          0,
          39,
          33,
          0,
          28,
          14,
          38,
          32,
          33,
          25,
          57,
          0,
          26,
          31,
          37,
          33,
          57,
          23,
          0,
          33,
          70,
          0,
          27,
          9,
          30,
          30,
          36,
          27,
          39,
          0,
          48,
          39,
          31,
          34,
          29,
          0,
          30,
          0,
          38,
          21,
          38,
          60,
          58,
          36,
          34,
          48,
          27,
          34,
          0,
          24,
          51,
          27,
          34,
          29,
          52,
          0,
          52,
          37,
          43,
          0,
          31,
          52,
          55,
          50,
          61,
          26,
          60,
          0,
          62,
          24,
          34,
          56,
          34,
          0,
          48,
          29,
          27,
          33,
          15,
          0,
          34,
          61,
          31,
          35,
          31,
          28,
          48,
          25,
          54,
          37,
          21,
          28,
          46,
          0,
          23,
          0,
          54,
          52,
          34,
          0,
          35,
          0,
          0,
          0,
          37,
          35,
          9,
          0,
          64,
          43,
          29,
          40,
          44,
          38,
          32,
          53,
          40,
          23,
          25,
          58,
          68,
          45,
          30,
          65,
          90,
          29,
          26,
          55,
          52,
          60,
          0,
          33,
          38,
          46,
          63,
          34,
          28,
          40,
          0,
          29,
          36,
          35,
          52,
          48,
          35,
          53,
          32,
          26,
          20,
          34,
          39,
          0,
          0,
          55,
          49,
          49,
          23,
          26,
          85,
          49,
          37,
          59,
          0,
          57,
          81,
          28,
          41,
          33,
          19,
          0,
          37,
          22,
          49,
          49,
          19,
          23,
          35,
          32,
          0,
          32,
          50,
          0,
          19,
          38,
          23,
          56,
          0,
          35,
          36,
          32,
          48,
          0,
          50,
          65,
          53,
          79,
          52,
          38,
          23,
          20,
          0,
          50,
          32,
          27,
          26,
          44,
          29,
          28,
          25,
          19,
          25,
          19,
          94,
          37,
          37,
          47,
          36,
          26,
          23,
          22,
          23,
          42,
          0,
          57,
          0,
          50,
          55,
          62,
          44,
          36,
          62,
          0,
          34,
          34,
          25,
          41,
          27,
          28,
          45,
          62,
          49,
          27,
          0,
          51,
          35,
          31,
          35,
          24,
          0,
          44,
          55,
          27,
          32,
          48,
          39,
          35,
          26,
          35,
          20,
          67,
          0,
          0,
          34,
          27,
          26,
          23,
          37,
          31,
          37,
          31,
          30,
          24,
          0,
          25,
          38,
          31,
          21,
          22,
          0,
          26,
          21,
          33,
          50,
          52,
          0,
          29,
          68,
          41,
          51,
          54,
          36,
          25,
          37,
          14,
          23,
          0,
          32,
          0,
          28,
          28,
          22,
          14,
          54,
          35,
          27,
          53,
          23,
          68,
          41,
          45,
          0,
          0,
          0,
          33,
          0,
          31,
          27,
          28,
          30,
          0,
          0,
          63,
          48,
          61,
          0,
          72,
          23,
          41,
          60,
          73,
          24,
          21,
          0,
          30,
          37,
          30,
          76,
          38,
          57,
          32,
          0,
          64,
          25,
          0,
          50,
          0,
          55,
          33,
          48
         ],
         "y0": " ",
         "yaxis": "y"
        }
       ],
       "layout": {
        "legend": {
         "tracegroupgap": 0
        },
        "margin": {
         "t": 60
        },
        "template": {
         "data": {
          "bar": [
           {
            "error_x": {
             "color": "#2a3f5f"
            },
            "error_y": {
             "color": "#2a3f5f"
            },
            "marker": {
             "line": {
              "color": "#E5ECF6",
              "width": 0.5
             },
             "pattern": {
              "fillmode": "overlay",
              "size": 10,
              "solidity": 0.2
             }
            },
            "type": "bar"
           }
          ],
          "barpolar": [
           {
            "marker": {
             "line": {
              "color": "#E5ECF6",
              "width": 0.5
             },
             "pattern": {
              "fillmode": "overlay",
              "size": 10,
              "solidity": 0.2
             }
            },
            "type": "barpolar"
           }
          ],
          "carpet": [
           {
            "aaxis": {
             "endlinecolor": "#2a3f5f",
             "gridcolor": "white",
             "linecolor": "white",
             "minorgridcolor": "white",
             "startlinecolor": "#2a3f5f"
            },
            "baxis": {
             "endlinecolor": "#2a3f5f",
             "gridcolor": "white",
             "linecolor": "white",
             "minorgridcolor": "white",
             "startlinecolor": "#2a3f5f"
            },
            "type": "carpet"
           }
          ],
          "choropleth": [
           {
            "colorbar": {
             "outlinewidth": 0,
             "ticks": ""
            },
            "type": "choropleth"
           }
          ],
          "contour": [
           {
            "colorbar": {
             "outlinewidth": 0,
             "ticks": ""
            },
            "colorscale": [
             [
              0,
              "#0d0887"
             ],
             [
              0.1111111111111111,
              "#46039f"
             ],
             [
              0.2222222222222222,
              "#7201a8"
             ],
             [
              0.3333333333333333,
              "#9c179e"
             ],
             [
              0.4444444444444444,
              "#bd3786"
             ],
             [
              0.5555555555555556,
              "#d8576b"
             ],
             [
              0.6666666666666666,
              "#ed7953"
             ],
             [
              0.7777777777777778,
              "#fb9f3a"
             ],
             [
              0.8888888888888888,
              "#fdca26"
             ],
             [
              1,
              "#f0f921"
             ]
            ],
            "type": "contour"
           }
          ],
          "contourcarpet": [
           {
            "colorbar": {
             "outlinewidth": 0,
             "ticks": ""
            },
            "type": "contourcarpet"
           }
          ],
          "heatmap": [
           {
            "colorbar": {
             "outlinewidth": 0,
             "ticks": ""
            },
            "colorscale": [
             [
              0,
              "#0d0887"
             ],
             [
              0.1111111111111111,
              "#46039f"
             ],
             [
              0.2222222222222222,
              "#7201a8"
             ],
             [
              0.3333333333333333,
              "#9c179e"
             ],
             [
              0.4444444444444444,
              "#bd3786"
             ],
             [
              0.5555555555555556,
              "#d8576b"
             ],
             [
              0.6666666666666666,
              "#ed7953"
             ],
             [
              0.7777777777777778,
              "#fb9f3a"
             ],
             [
              0.8888888888888888,
              "#fdca26"
             ],
             [
              1,
              "#f0f921"
             ]
            ],
            "type": "heatmap"
           }
          ],
          "heatmapgl": [
           {
            "colorbar": {
             "outlinewidth": 0,
             "ticks": ""
            },
            "colorscale": [
             [
              0,
              "#0d0887"
             ],
             [
              0.1111111111111111,
              "#46039f"
             ],
             [
              0.2222222222222222,
              "#7201a8"
             ],
             [
              0.3333333333333333,
              "#9c179e"
             ],
             [
              0.4444444444444444,
              "#bd3786"
             ],
             [
              0.5555555555555556,
              "#d8576b"
             ],
             [
              0.6666666666666666,
              "#ed7953"
             ],
             [
              0.7777777777777778,
              "#fb9f3a"
             ],
             [
              0.8888888888888888,
              "#fdca26"
             ],
             [
              1,
              "#f0f921"
             ]
            ],
            "type": "heatmapgl"
           }
          ],
          "histogram": [
           {
            "marker": {
             "pattern": {
              "fillmode": "overlay",
              "size": 10,
              "solidity": 0.2
             }
            },
            "type": "histogram"
           }
          ],
          "histogram2d": [
           {
            "colorbar": {
             "outlinewidth": 0,
             "ticks": ""
            },
            "colorscale": [
             [
              0,
              "#0d0887"
             ],
             [
              0.1111111111111111,
              "#46039f"
             ],
             [
              0.2222222222222222,
              "#7201a8"
             ],
             [
              0.3333333333333333,
              "#9c179e"
             ],
             [
              0.4444444444444444,
              "#bd3786"
             ],
             [
              0.5555555555555556,
              "#d8576b"
             ],
             [
              0.6666666666666666,
              "#ed7953"
             ],
             [
              0.7777777777777778,
              "#fb9f3a"
             ],
             [
              0.8888888888888888,
              "#fdca26"
             ],
             [
              1,
              "#f0f921"
             ]
            ],
            "type": "histogram2d"
           }
          ],
          "histogram2dcontour": [
           {
            "colorbar": {
             "outlinewidth": 0,
             "ticks": ""
            },
            "colorscale": [
             [
              0,
              "#0d0887"
             ],
             [
              0.1111111111111111,
              "#46039f"
             ],
             [
              0.2222222222222222,
              "#7201a8"
             ],
             [
              0.3333333333333333,
              "#9c179e"
             ],
             [
              0.4444444444444444,
              "#bd3786"
             ],
             [
              0.5555555555555556,
              "#d8576b"
             ],
             [
              0.6666666666666666,
              "#ed7953"
             ],
             [
              0.7777777777777778,
              "#fb9f3a"
             ],
             [
              0.8888888888888888,
              "#fdca26"
             ],
             [
              1,
              "#f0f921"
             ]
            ],
            "type": "histogram2dcontour"
           }
          ],
          "mesh3d": [
           {
            "colorbar": {
             "outlinewidth": 0,
             "ticks": ""
            },
            "type": "mesh3d"
           }
          ],
          "parcoords": [
           {
            "line": {
             "colorbar": {
              "outlinewidth": 0,
              "ticks": ""
             }
            },
            "type": "parcoords"
           }
          ],
          "pie": [
           {
            "automargin": true,
            "type": "pie"
           }
          ],
          "scatter": [
           {
            "fillpattern": {
             "fillmode": "overlay",
             "size": 10,
             "solidity": 0.2
            },
            "type": "scatter"
           }
          ],
          "scatter3d": [
           {
            "line": {
             "colorbar": {
              "outlinewidth": 0,
              "ticks": ""
             }
            },
            "marker": {
             "colorbar": {
              "outlinewidth": 0,
              "ticks": ""
             }
            },
            "type": "scatter3d"
           }
          ],
          "scattercarpet": [
           {
            "marker": {
             "colorbar": {
              "outlinewidth": 0,
              "ticks": ""
             }
            },
            "type": "scattercarpet"
           }
          ],
          "scattergeo": [
           {
            "marker": {
             "colorbar": {
              "outlinewidth": 0,
              "ticks": ""
             }
            },
            "type": "scattergeo"
           }
          ],
          "scattergl": [
           {
            "marker": {
             "colorbar": {
              "outlinewidth": 0,
              "ticks": ""
             }
            },
            "type": "scattergl"
           }
          ],
          "scattermapbox": [
           {
            "marker": {
             "colorbar": {
              "outlinewidth": 0,
              "ticks": ""
             }
            },
            "type": "scattermapbox"
           }
          ],
          "scatterpolar": [
           {
            "marker": {
             "colorbar": {
              "outlinewidth": 0,
              "ticks": ""
             }
            },
            "type": "scatterpolar"
           }
          ],
          "scatterpolargl": [
           {
            "marker": {
             "colorbar": {
              "outlinewidth": 0,
              "ticks": ""
             }
            },
            "type": "scatterpolargl"
           }
          ],
          "scatterternary": [
           {
            "marker": {
             "colorbar": {
              "outlinewidth": 0,
              "ticks": ""
             }
            },
            "type": "scatterternary"
           }
          ],
          "surface": [
           {
            "colorbar": {
             "outlinewidth": 0,
             "ticks": ""
            },
            "colorscale": [
             [
              0,
              "#0d0887"
             ],
             [
              0.1111111111111111,
              "#46039f"
             ],
             [
              0.2222222222222222,
              "#7201a8"
             ],
             [
              0.3333333333333333,
              "#9c179e"
             ],
             [
              0.4444444444444444,
              "#bd3786"
             ],
             [
              0.5555555555555556,
              "#d8576b"
             ],
             [
              0.6666666666666666,
              "#ed7953"
             ],
             [
              0.7777777777777778,
              "#fb9f3a"
             ],
             [
              0.8888888888888888,
              "#fdca26"
             ],
             [
              1,
              "#f0f921"
             ]
            ],
            "type": "surface"
           }
          ],
          "table": [
           {
            "cells": {
             "fill": {
              "color": "#EBF0F8"
             },
             "line": {
              "color": "white"
             }
            },
            "header": {
             "fill": {
              "color": "#C8D4E3"
             },
             "line": {
              "color": "white"
             }
            },
            "type": "table"
           }
          ]
         },
         "layout": {
          "annotationdefaults": {
           "arrowcolor": "#2a3f5f",
           "arrowhead": 0,
           "arrowwidth": 1
          },
          "autotypenumbers": "strict",
          "coloraxis": {
           "colorbar": {
            "outlinewidth": 0,
            "ticks": ""
           }
          },
          "colorscale": {
           "diverging": [
            [
             0,
             "#8e0152"
            ],
            [
             0.1,
             "#c51b7d"
            ],
            [
             0.2,
             "#de77ae"
            ],
            [
             0.3,
             "#f1b6da"
            ],
            [
             0.4,
             "#fde0ef"
            ],
            [
             0.5,
             "#f7f7f7"
            ],
            [
             0.6,
             "#e6f5d0"
            ],
            [
             0.7,
             "#b8e186"
            ],
            [
             0.8,
             "#7fbc41"
            ],
            [
             0.9,
             "#4d9221"
            ],
            [
             1,
             "#276419"
            ]
           ],
           "sequential": [
            [
             0,
             "#0d0887"
            ],
            [
             0.1111111111111111,
             "#46039f"
            ],
            [
             0.2222222222222222,
             "#7201a8"
            ],
            [
             0.3333333333333333,
             "#9c179e"
            ],
            [
             0.4444444444444444,
             "#bd3786"
            ],
            [
             0.5555555555555556,
             "#d8576b"
            ],
            [
             0.6666666666666666,
             "#ed7953"
            ],
            [
             0.7777777777777778,
             "#fb9f3a"
            ],
            [
             0.8888888888888888,
             "#fdca26"
            ],
            [
             1,
             "#f0f921"
            ]
           ],
           "sequentialminus": [
            [
             0,
             "#0d0887"
            ],
            [
             0.1111111111111111,
             "#46039f"
            ],
            [
             0.2222222222222222,
             "#7201a8"
            ],
            [
             0.3333333333333333,
             "#9c179e"
            ],
            [
             0.4444444444444444,
             "#bd3786"
            ],
            [
             0.5555555555555556,
             "#d8576b"
            ],
            [
             0.6666666666666666,
             "#ed7953"
            ],
            [
             0.7777777777777778,
             "#fb9f3a"
            ],
            [
             0.8888888888888888,
             "#fdca26"
            ],
            [
             1,
             "#f0f921"
            ]
           ]
          },
          "colorway": [
           "#636efa",
           "#EF553B",
           "#00cc96",
           "#ab63fa",
           "#FFA15A",
           "#19d3f3",
           "#FF6692",
           "#B6E880",
           "#FF97FF",
           "#FECB52"
          ],
          "font": {
           "color": "#2a3f5f"
          },
          "geo": {
           "bgcolor": "white",
           "lakecolor": "white",
           "landcolor": "#E5ECF6",
           "showlakes": true,
           "showland": true,
           "subunitcolor": "white"
          },
          "hoverlabel": {
           "align": "left"
          },
          "hovermode": "closest",
          "mapbox": {
           "style": "light"
          },
          "paper_bgcolor": "white",
          "plot_bgcolor": "#E5ECF6",
          "polar": {
           "angularaxis": {
            "gridcolor": "white",
            "linecolor": "white",
            "ticks": ""
           },
           "bgcolor": "#E5ECF6",
           "radialaxis": {
            "gridcolor": "white",
            "linecolor": "white",
            "ticks": ""
           }
          },
          "scene": {
           "xaxis": {
            "backgroundcolor": "#E5ECF6",
            "gridcolor": "white",
            "gridwidth": 2,
            "linecolor": "white",
            "showbackground": true,
            "ticks": "",
            "zerolinecolor": "white"
           },
           "yaxis": {
            "backgroundcolor": "#E5ECF6",
            "gridcolor": "white",
            "gridwidth": 2,
            "linecolor": "white",
            "showbackground": true,
            "ticks": "",
            "zerolinecolor": "white"
           },
           "zaxis": {
            "backgroundcolor": "#E5ECF6",
            "gridcolor": "white",
            "gridwidth": 2,
            "linecolor": "white",
            "showbackground": true,
            "ticks": "",
            "zerolinecolor": "white"
           }
          },
          "shapedefaults": {
           "line": {
            "color": "#2a3f5f"
           }
          },
          "ternary": {
           "aaxis": {
            "gridcolor": "white",
            "linecolor": "white",
            "ticks": ""
           },
           "baxis": {
            "gridcolor": "white",
            "linecolor": "white",
            "ticks": ""
           },
           "bgcolor": "#E5ECF6",
           "caxis": {
            "gridcolor": "white",
            "linecolor": "white",
            "ticks": ""
           }
          },
          "title": {
           "x": 0.05
          },
          "xaxis": {
           "automargin": true,
           "gridcolor": "white",
           "linecolor": "white",
           "ticks": "",
           "title": {
            "standoff": 15
           },
           "zerolinecolor": "white",
           "zerolinewidth": 2
          },
          "yaxis": {
           "automargin": true,
           "gridcolor": "white",
           "linecolor": "white",
           "ticks": "",
           "title": {
            "standoff": 15
           },
           "zerolinecolor": "white",
           "zerolinewidth": 2
          }
         }
        },
        "title": {
         "text": "Vict Age - Vict Sex"
        },
        "violinmode": "group",
        "xaxis": {
         "anchor": "y",
         "domain": [
          0,
          1
         ],
         "title": {
          "text": "Vict Age"
         }
        },
        "yaxis": {
         "anchor": "x",
         "domain": [
          0,
          1
         ],
         "title": {
          "text": "Vict Sex"
         }
        }
       }
      }
     },
     "metadata": {},
     "output_type": "display_data"
    }
   ],
   "source": [
    "#Violin plot\n",
    "#Gender & Age Group Distribution\n",
    "plot = px.violin(y=df['Vict Age'],\n",
    "                 x=df['Vict Sex'],\n",
    "                 box=True,\n",
    "                 points='all')\n",
    "plot.update_traces(\n",
    "    box_fillcolor='green',\n",
    "    opacity=0.5\n",
    ")\n",
    "plot.update_layout(\n",
    "    title='Vict Age - Vict Sex',\n",
    "    xaxis_title='Vict Age',\n",
    "    yaxis_title='Vict Sex'\n",
    ")\n",
    "\n",
    "plot.show()"
   ]
  },
  {
   "cell_type": "code",
   "execution_count": 29,
   "metadata": {},
   "outputs": [
    {
     "data": {
      "application/vnd.plotly.v1+json": {
       "config": {
        "plotlyServerURL": "https://plot.ly"
       },
       "data": [
        {
         "alignmentgroup": "True",
         "box": {
          "fillcolor": "green",
          "visible": true
         },
         "hovertemplate": "x=%{x}<br>y=%{y}<extra></extra>",
         "legendgroup": "",
         "marker": {
          "color": "#636efa"
         },
         "name": "",
         "offsetgroup": "",
         "opacity": 0.5,
         "orientation": "v",
         "points": "all",
         "scalegroup": "True",
         "showlegend": false,
         "type": "violin",
         "x": [
          "B",
          "H",
          "X",
          "W",
          "X",
          "H",
          "H",
          "X",
          "B",
          "X",
          "A",
          "O",
          "A",
          "X",
          "H",
          "H",
          "H",
          "W",
          "B",
          "B",
          "O",
          "H",
          "B",
          "W",
          "A",
          "B",
          "A",
          "W",
          "W",
          "B",
          "W",
          "W",
          "H",
          "None",
          "B",
          "B",
          "O",
          "H",
          "X",
          "W",
          "W",
          "H",
          "H",
          "H",
          "W",
          "None",
          "A",
          "W",
          "B",
          "B",
          "O",
          "H",
          "W",
          "O",
          "B",
          "A",
          "O",
          "W",
          "W",
          "B",
          "B",
          "B",
          "H",
          "A",
          "H",
          "W",
          "X",
          "X",
          "A",
          "B",
          "W",
          "B",
          "H",
          "O",
          "O",
          "H",
          "X",
          "X",
          "None",
          "B",
          "B",
          "H",
          "X",
          "O",
          "H",
          "O",
          "W",
          "W",
          "B",
          "B",
          "H",
          "H",
          "B",
          "W",
          "W",
          "W",
          "W",
          "B",
          "B",
          "H",
          "O",
          "B",
          "O",
          "B",
          "None",
          "None",
          "H",
          "B",
          "X",
          "H",
          "H",
          "B",
          "B",
          "B",
          "H",
          "B",
          "B",
          "W",
          "H",
          "W",
          "H",
          "None",
          "H",
          "W",
          "H",
          "H",
          "B",
          "B",
          "X",
          "H",
          "H",
          "A",
          "B",
          "O",
          "B",
          "None",
          "H",
          "H",
          "O",
          "H",
          "W",
          "H",
          "X",
          "H",
          "O",
          "X",
          "W",
          "H",
          "X",
          "O",
          "H",
          "H",
          "H",
          "C",
          "H",
          "W",
          "B",
          "O",
          "W",
          "F",
          "None",
          "H",
          "O",
          "B",
          "None",
          "W",
          "X",
          "B",
          "A",
          "W",
          "W",
          "W",
          "H",
          "X",
          "W",
          "H",
          "W",
          "B",
          "X",
          "H",
          "H",
          "B",
          "B",
          "B",
          "B",
          "None",
          "B",
          "X",
          "O",
          "H",
          "W",
          "B",
          "A",
          "None",
          "W",
          "W",
          "W",
          "H",
          "B",
          "W",
          "H",
          "H",
          "H",
          "H",
          "B",
          "H",
          "None",
          "H",
          "W",
          "H",
          "H",
          "H",
          "H",
          "B",
          "W",
          "X",
          "W",
          "W",
          "H",
          "W",
          "H",
          "A",
          "B",
          "W",
          "W",
          "B",
          "X",
          "X",
          "H",
          "B",
          "X",
          "B",
          "O",
          "W",
          "B",
          "H",
          "H",
          "B",
          "W",
          "B",
          "B",
          "B",
          "H",
          "X",
          "W",
          "W",
          "B",
          "H",
          "H",
          "X",
          "W",
          "B",
          "None",
          "W",
          "W",
          "W",
          "H",
          "B",
          "B",
          "W",
          "O",
          "A",
          "B",
          "W",
          "H",
          "W",
          "O",
          "B",
          "B",
          "A",
          "None",
          "W",
          "W",
          "W",
          "W",
          "B",
          "H",
          "W",
          "A",
          "B",
          "H",
          "A",
          "X",
          "O",
          "W",
          "H",
          "K",
          "B",
          "C",
          "X",
          "W",
          "X",
          "B",
          "H",
          "H",
          "O",
          "H",
          "B",
          "W",
          "W",
          "B",
          "W",
          "W",
          "O",
          "W",
          "B",
          "W",
          "W",
          "X",
          "W",
          "X",
          "H",
          "H",
          "W",
          "H",
          "B",
          "None",
          "O",
          "O",
          "B",
          "B",
          "X",
          "None",
          "H",
          "A",
          "H",
          "H",
          "None",
          "A",
          "None",
          "H",
          "H",
          "H",
          "H",
          "W",
          "H",
          "H",
          "W",
          "W",
          "W",
          "W",
          "W",
          "W",
          "B",
          "B",
          "W",
          "A",
          "H",
          "O",
          "None",
          "H",
          "H",
          "W",
          "W",
          "W",
          "B",
          "X",
          "H",
          "W",
          "B",
          "W",
          "H",
          "O",
          "H",
          "W",
          "H",
          "X",
          "H",
          "O",
          "B",
          "B",
          "H",
          "H",
          "W",
          "B",
          "H",
          "H",
          "W",
          "B",
          "B",
          "H",
          "B",
          "H",
          "X",
          "H",
          "H",
          "H",
          "W",
          "B",
          "B",
          "H",
          "W",
          "H",
          "H",
          "H",
          "O",
          "H",
          "None",
          "W",
          "B",
          "H",
          "H",
          "H",
          "H",
          "B",
          "H",
          "H",
          "B",
          "B",
          "H",
          "X",
          "X",
          "X",
          "X",
          "X",
          "H",
          "W",
          "B",
          "W",
          "A",
          "H",
          "None",
          "X",
          "O",
          "O",
          "W",
          "H",
          "B",
          "H",
          "W",
          "B",
          "B",
          "W",
          "B",
          "H",
          "O",
          "H",
          "B",
          "H",
          "H",
          "W",
          "H",
          "W",
          "H",
          "H",
          "X",
          "H",
          "W",
          "None",
          "O",
          "H",
          "X",
          "B",
          "B",
          "H",
          "H",
          "B",
          "X",
          "H",
          "H",
          "X",
          "H",
          "B",
          "H",
          "None",
          "O",
          "O",
          "X",
          "None",
          "O",
          "None",
          "B",
          "H",
          "H",
          "W",
          "O",
          "H",
          "W",
          "K",
          "W",
          "H",
          "C",
          "O",
          "O",
          "O",
          "W",
          "K",
          "B",
          "W",
          "W",
          "W",
          "H",
          "B",
          "H",
          "B",
          "H",
          "H",
          "O",
          "B",
          "X",
          "B",
          "X",
          "H",
          "O",
          "W",
          "W",
          "W",
          "None",
          "B",
          "H",
          "W",
          "X",
          "K",
          "None",
          "O",
          "H",
          "B",
          "W",
          "W",
          "O",
          "A",
          "A",
          "B",
          "X",
          "A",
          "H",
          "B",
          "X",
          "O",
          "A",
          "W",
          "X",
          "B",
          "B",
          "H",
          "W",
          "H",
          "H",
          "B",
          "H",
          "H",
          "W",
          "W",
          "H",
          "B",
          "H",
          "X",
          "H",
          "W",
          "None",
          "H",
          "W",
          "H",
          "B",
          "O",
          "W",
          "W",
          "W",
          "X",
          "H",
          "H",
          "B",
          "H",
          "H",
          "H",
          "W",
          "B",
          "H",
          "O",
          "B",
          "W",
          "B",
          "None",
          "None",
          "W",
          "H",
          "B",
          "B",
          "A",
          "None",
          "None",
          "H",
          "O",
          "W",
          "W",
          "W",
          "W",
          "O",
          "W",
          "W",
          "B",
          "H",
          "B",
          "None",
          "B",
          "B",
          "A",
          "H",
          "H",
          "I",
          "W",
          "H",
          "W",
          "W",
          "W",
          "H",
          "None",
          "H",
          "None",
          "B",
          "O",
          "W",
          "B",
          "H",
          "H",
          "W",
          "A",
          "H",
          "W",
          "H",
          "H",
          "H",
          "B",
          "H",
          "W",
          "H",
          "W",
          "H",
          "O",
          "O",
          "W",
          "O",
          "W",
          "O",
          "A",
          "W",
          "H",
          "W",
          "H",
          "W",
          "O",
          "None",
          "O",
          "O",
          "A",
          "O",
          "H",
          "B",
          "H",
          "H",
          "W",
          "None",
          "W",
          "H",
          "O",
          "B",
          "H",
          "W",
          "B",
          "H",
          "O",
          "W",
          "None",
          "H",
          "H",
          "B",
          "H",
          "B",
          "B",
          "None",
          "H",
          "W",
          "X",
          "W",
          "H",
          "W",
          "W",
          "W",
          "H",
          "B",
          "X",
          "H",
          "W",
          "H",
          "B",
          "H",
          "W",
          "O",
          "W",
          "H",
          "W",
          "O",
          "B",
          "B",
          "W",
          "W",
          "H",
          "B",
          "H",
          "None",
          "A",
          "W",
          "W",
          "W",
          "B",
          "W",
          "H",
          "W",
          "H",
          "H",
          "None",
          "H",
          "B",
          "A",
          "H",
          "H",
          "O",
          "W",
          "None",
          "H",
          "W",
          "O",
          "H",
          "B",
          "W",
          "B",
          "B",
          "W",
          "W",
          "H",
          "None",
          "W",
          "H",
          "H",
          "B",
          "H",
          "W",
          "H",
          "H",
          "H",
          "H",
          "H",
          "B",
          "O",
          "X",
          "W",
          "None",
          "W",
          "W",
          "B",
          "None",
          "B",
          "None",
          "None",
          "X",
          "A",
          "W",
          "H",
          "X",
          "W",
          "F",
          "H",
          "H",
          "H",
          "H",
          "B",
          "W",
          "H",
          "H",
          "W",
          "H",
          "H",
          "W",
          "O",
          "B",
          "O",
          "H",
          "H",
          "H",
          "W",
          "A",
          "None",
          "H",
          "W",
          "H",
          "W",
          "H",
          "H",
          "H",
          "W",
          "B",
          "W",
          "W",
          "H",
          "H",
          "H",
          "B",
          "B",
          "O",
          "W",
          "H",
          "H",
          "None",
          "H",
          "W",
          "A",
          "W",
          "H",
          "O",
          "H",
          "W",
          "H",
          "H",
          "None",
          "O",
          "H",
          "H",
          "B",
          "W",
          "X",
          "W",
          "W",
          "A",
          "A",
          "W",
          "B",
          "W",
          "H",
          "B",
          "None",
          "A",
          "W",
          "None",
          "B",
          "B",
          "B",
          "B",
          "None",
          "B",
          "H",
          "W",
          "B",
          "O",
          "W",
          "B",
          "H",
          "H",
          "B",
          "O",
          "H",
          "H",
          "None",
          "B",
          "B",
          "B",
          "B",
          "H",
          "O",
          "H",
          "H",
          "W",
          "W",
          "X",
          "H",
          "B",
          "H",
          "B",
          "A",
          "H",
          "H",
          "H",
          "H",
          "B",
          "X",
          "H",
          "X",
          "B",
          "W",
          "W",
          "H",
          "W",
          "H",
          "None",
          "H",
          "B",
          "W",
          "W",
          "B",
          "H",
          "W",
          "H",
          "H",
          "H",
          "None",
          "A",
          "B",
          "H",
          "B",
          "C",
          "None",
          "W",
          "B",
          "O",
          "H",
          "W",
          "B",
          "B",
          "H",
          "B",
          "H",
          "B",
          "X",
          "O",
          "B",
          "F",
          "C",
          "H",
          "W",
          "W",
          "H",
          "W",
          "H",
          "H",
          "W",
          "H",
          "F",
          "W",
          "H",
          "W",
          "None",
          "A",
          "H",
          "H",
          "W",
          "A",
          "None",
          "B",
          "H",
          "H",
          "B",
          "W",
          "W",
          "W",
          "H",
          "H",
          "H",
          "X",
          "H",
          "None",
          "H",
          "A",
          "H",
          "H",
          "A",
          "B",
          "W",
          "O",
          "B",
          "H",
          "W",
          "W",
          "X",
          "X",
          "X",
          "W",
          "W",
          "W",
          "O",
          "A",
          "H",
          "X",
          "X",
          "O",
          "O",
          "W",
          "A",
          "H",
          "H",
          "W",
          "B",
          "H",
          "H",
          "H",
          "W",
          "O",
          "H",
          "H",
          "H",
          "H",
          "W",
          "W",
          "None",
          "O",
          "H",
          "X",
          "H",
          "None",
          "W",
          "H",
          "H"
         ],
         "x0": " ",
         "xaxis": "x",
         "y": [
          36,
          25,
          0,
          76,
          31,
          25,
          23,
          0,
          23,
          0,
          29,
          35,
          41,
          0,
          24,
          24,
          34,
          29,
          46,
          66,
          40,
          31,
          27,
          46,
          62,
          34,
          43,
          71,
          50,
          19,
          51,
          27,
          33,
          0,
          69,
          39,
          19,
          57,
          0,
          78,
          0,
          24,
          52,
          38,
          55,
          0,
          66,
          34,
          50,
          35,
          40,
          27,
          51,
          0,
          44,
          41,
          57,
          25,
          24,
          34,
          18,
          57,
          55,
          23,
          55,
          54,
          0,
          0,
          22,
          28,
          42,
          43,
          46,
          56,
          55,
          55,
          0,
          0,
          0,
          67,
          57,
          37,
          0,
          60,
          0,
          51,
          52,
          61,
          38,
          36,
          59,
          32,
          44,
          60,
          24,
          31,
          30,
          50,
          50,
          40,
          34,
          34,
          45,
          62,
          0,
          0,
          20,
          31,
          0,
          15,
          51,
          23,
          29,
          58,
          24,
          51,
          41,
          32,
          23,
          35,
          28,
          0,
          58,
          57,
          27,
          30,
          30,
          31,
          0,
          24,
          29,
          47,
          48,
          32,
          23,
          0,
          46,
          40,
          57,
          32,
          58,
          25,
          0,
          18,
          25,
          0,
          37,
          23,
          0,
          67,
          26,
          47,
          21,
          26,
          64,
          26,
          31,
          39,
          35,
          25,
          0,
          28,
          33,
          75,
          0,
          32,
          0,
          0,
          30,
          44,
          28,
          26,
          56,
          0,
          35,
          28,
          19,
          43,
          0,
          12,
          43,
          59,
          34,
          38,
          37,
          0,
          27,
          61,
          49,
          22,
          43,
          71,
          71,
          0,
          55,
          19,
          68,
          38,
          48,
          69,
          14,
          37,
          26,
          50,
          13,
          61,
          0,
          50,
          26,
          26,
          26,
          45,
          36,
          45,
          24,
          0,
          0,
          50,
          25,
          27,
          10,
          33,
          53,
          38,
          23,
          74,
          0,
          0,
          23,
          26,
          0,
          23,
          49,
          57,
          40,
          25,
          0,
          34,
          35,
          38,
          29,
          24,
          26,
          0,
          56,
          26,
          47,
          29,
          29,
          0,
          45,
          38,
          0,
          32,
          30,
          62,
          71,
          53,
          31,
          53,
          0,
          49,
          38,
          55,
          43,
          64,
          56,
          34,
          30,
          35,
          0,
          36,
          25,
          67,
          37,
          57,
          40,
          0,
          59,
          34,
          20,
          69,
          0,
          0,
          58,
          33,
          28,
          31,
          38,
          0,
          25,
          0,
          25,
          34,
          41,
          49,
          20,
          45,
          30,
          27,
          38,
          32,
          39,
          35,
          64,
          57,
          34,
          29,
          0,
          27,
          0,
          17,
          17,
          26,
          32,
          53,
          0,
          0,
          46,
          55,
          33,
          0,
          0,
          33,
          27,
          48,
          60,
          0,
          30,
          0,
          45,
          54,
          26,
          26,
          28,
          36,
          0,
          33,
          27,
          0,
          0,
          48,
          0,
          28,
          58,
          51,
          64,
          32,
          32,
          0,
          39,
          38,
          29,
          38,
          20,
          57,
          0,
          65,
          22,
          67,
          37,
          22,
          0,
          30,
          30,
          46,
          0,
          65,
          28,
          41,
          35,
          28,
          35,
          35,
          38,
          32,
          39,
          57,
          56,
          29,
          29,
          36,
          45,
          0,
          47,
          30,
          45,
          34,
          57,
          45,
          30,
          28,
          62,
          21,
          27,
          26,
          26,
          0,
          51,
          29,
          23,
          38,
          27,
          37,
          35,
          60,
          28,
          26,
          36,
          45,
          0,
          0,
          20,
          0,
          19,
          27,
          46,
          44,
          26,
          22,
          32,
          0,
          0,
          40,
          0,
          63,
          57,
          61,
          39,
          28,
          22,
          35,
          38,
          22,
          22,
          34,
          40,
          33,
          54,
          21,
          21,
          29,
          24,
          31,
          18,
          0,
          62,
          36,
          0,
          0,
          27,
          19,
          61,
          30,
          28,
          35,
          27,
          0,
          31,
          50,
          0,
          56,
          32,
          22,
          0,
          21,
          26,
          0,
          0,
          0,
          0,
          41,
          29,
          27,
          24,
          0,
          29,
          28,
          22,
          59,
          33,
          27,
          31,
          56,
          60,
          61,
          31,
          24,
          30,
          36,
          0,
          32,
          50,
          43,
          24,
          8,
          25,
          0,
          28,
          0,
          66,
          0,
          65,
          37,
          37,
          30,
          52,
          0,
          40,
          33,
          22,
          0,
          74,
          0,
          41,
          16,
          45,
          64,
          51,
          24,
          30,
          53,
          59,
          0,
          47,
          35,
          8,
          0,
          38,
          44,
          33,
          0,
          22,
          51,
          23,
          71,
          28,
          59,
          50,
          34,
          14,
          29,
          33,
          34,
          60,
          65,
          0,
          60,
          69,
          0,
          72,
          23,
          31,
          26,
          46,
          57,
          39,
          30,
          0,
          56,
          33,
          35,
          28,
          31,
          55,
          59,
          29,
          33,
          30,
          46,
          20,
          18,
          0,
          0,
          40,
          46,
          43,
          27,
          25,
          0,
          0,
          41,
          43,
          48,
          33,
          30,
          68,
          23,
          53,
          29,
          23,
          38,
          48,
          0,
          34,
          69,
          23,
          30,
          31,
          45,
          22,
          38,
          28,
          61,
          23,
          24,
          0,
          60,
          0,
          56,
          46,
          53,
          26,
          21,
          21,
          50,
          71,
          24,
          36,
          30,
          57,
          38,
          63,
          25,
          14,
          12,
          0,
          65,
          46,
          46,
          64,
          0,
          0,
          23,
          60,
          63,
          66,
          55,
          27,
          20,
          76,
          0,
          38,
          38,
          47,
          60,
          51,
          60,
          28,
          23,
          24,
          0,
          39,
          33,
          0,
          28,
          14,
          38,
          32,
          33,
          25,
          57,
          0,
          26,
          31,
          37,
          33,
          57,
          23,
          0,
          33,
          70,
          0,
          27,
          9,
          30,
          30,
          36,
          27,
          39,
          0,
          48,
          39,
          31,
          34,
          29,
          0,
          30,
          0,
          38,
          21,
          38,
          60,
          58,
          36,
          34,
          48,
          27,
          34,
          0,
          24,
          51,
          27,
          34,
          29,
          52,
          0,
          52,
          37,
          43,
          0,
          31,
          52,
          55,
          50,
          61,
          26,
          60,
          0,
          62,
          24,
          34,
          56,
          34,
          0,
          48,
          29,
          27,
          33,
          15,
          0,
          34,
          61,
          31,
          35,
          31,
          28,
          48,
          25,
          54,
          37,
          21,
          28,
          46,
          0,
          23,
          0,
          54,
          52,
          34,
          0,
          35,
          0,
          0,
          0,
          37,
          35,
          9,
          0,
          64,
          43,
          29,
          40,
          44,
          38,
          32,
          53,
          40,
          23,
          25,
          58,
          68,
          45,
          30,
          65,
          90,
          29,
          26,
          55,
          52,
          60,
          0,
          33,
          38,
          46,
          63,
          34,
          28,
          40,
          0,
          29,
          36,
          35,
          52,
          48,
          35,
          53,
          32,
          26,
          20,
          34,
          39,
          0,
          0,
          55,
          49,
          49,
          23,
          26,
          85,
          49,
          37,
          59,
          0,
          57,
          81,
          28,
          41,
          33,
          19,
          0,
          37,
          22,
          49,
          49,
          19,
          23,
          35,
          32,
          0,
          32,
          50,
          0,
          19,
          38,
          23,
          56,
          0,
          35,
          36,
          32,
          48,
          0,
          50,
          65,
          53,
          79,
          52,
          38,
          23,
          20,
          0,
          50,
          32,
          27,
          26,
          44,
          29,
          28,
          25,
          19,
          25,
          19,
          94,
          37,
          37,
          47,
          36,
          26,
          23,
          22,
          23,
          42,
          0,
          57,
          0,
          50,
          55,
          62,
          44,
          36,
          62,
          0,
          34,
          34,
          25,
          41,
          27,
          28,
          45,
          62,
          49,
          27,
          0,
          51,
          35,
          31,
          35,
          24,
          0,
          44,
          55,
          27,
          32,
          48,
          39,
          35,
          26,
          35,
          20,
          67,
          0,
          0,
          34,
          27,
          26,
          23,
          37,
          31,
          37,
          31,
          30,
          24,
          0,
          25,
          38,
          31,
          21,
          22,
          0,
          26,
          21,
          33,
          50,
          52,
          0,
          29,
          68,
          41,
          51,
          54,
          36,
          25,
          37,
          14,
          23,
          0,
          32,
          0,
          28,
          28,
          22,
          14,
          54,
          35,
          27,
          53,
          23,
          68,
          41,
          45,
          0,
          0,
          0,
          33,
          0,
          31,
          27,
          28,
          30,
          0,
          0,
          63,
          48,
          61,
          0,
          72,
          23,
          41,
          60,
          73,
          24,
          21,
          0,
          30,
          37,
          30,
          76,
          38,
          57,
          32,
          0,
          64,
          25,
          0,
          50,
          0,
          55,
          33,
          48
         ],
         "y0": " ",
         "yaxis": "y"
        }
       ],
       "layout": {
        "legend": {
         "tracegroupgap": 0
        },
        "margin": {
         "t": 60
        },
        "template": {
         "data": {
          "bar": [
           {
            "error_x": {
             "color": "#2a3f5f"
            },
            "error_y": {
             "color": "#2a3f5f"
            },
            "marker": {
             "line": {
              "color": "#E5ECF6",
              "width": 0.5
             },
             "pattern": {
              "fillmode": "overlay",
              "size": 10,
              "solidity": 0.2
             }
            },
            "type": "bar"
           }
          ],
          "barpolar": [
           {
            "marker": {
             "line": {
              "color": "#E5ECF6",
              "width": 0.5
             },
             "pattern": {
              "fillmode": "overlay",
              "size": 10,
              "solidity": 0.2
             }
            },
            "type": "barpolar"
           }
          ],
          "carpet": [
           {
            "aaxis": {
             "endlinecolor": "#2a3f5f",
             "gridcolor": "white",
             "linecolor": "white",
             "minorgridcolor": "white",
             "startlinecolor": "#2a3f5f"
            },
            "baxis": {
             "endlinecolor": "#2a3f5f",
             "gridcolor": "white",
             "linecolor": "white",
             "minorgridcolor": "white",
             "startlinecolor": "#2a3f5f"
            },
            "type": "carpet"
           }
          ],
          "choropleth": [
           {
            "colorbar": {
             "outlinewidth": 0,
             "ticks": ""
            },
            "type": "choropleth"
           }
          ],
          "contour": [
           {
            "colorbar": {
             "outlinewidth": 0,
             "ticks": ""
            },
            "colorscale": [
             [
              0,
              "#0d0887"
             ],
             [
              0.1111111111111111,
              "#46039f"
             ],
             [
              0.2222222222222222,
              "#7201a8"
             ],
             [
              0.3333333333333333,
              "#9c179e"
             ],
             [
              0.4444444444444444,
              "#bd3786"
             ],
             [
              0.5555555555555556,
              "#d8576b"
             ],
             [
              0.6666666666666666,
              "#ed7953"
             ],
             [
              0.7777777777777778,
              "#fb9f3a"
             ],
             [
              0.8888888888888888,
              "#fdca26"
             ],
             [
              1,
              "#f0f921"
             ]
            ],
            "type": "contour"
           }
          ],
          "contourcarpet": [
           {
            "colorbar": {
             "outlinewidth": 0,
             "ticks": ""
            },
            "type": "contourcarpet"
           }
          ],
          "heatmap": [
           {
            "colorbar": {
             "outlinewidth": 0,
             "ticks": ""
            },
            "colorscale": [
             [
              0,
              "#0d0887"
             ],
             [
              0.1111111111111111,
              "#46039f"
             ],
             [
              0.2222222222222222,
              "#7201a8"
             ],
             [
              0.3333333333333333,
              "#9c179e"
             ],
             [
              0.4444444444444444,
              "#bd3786"
             ],
             [
              0.5555555555555556,
              "#d8576b"
             ],
             [
              0.6666666666666666,
              "#ed7953"
             ],
             [
              0.7777777777777778,
              "#fb9f3a"
             ],
             [
              0.8888888888888888,
              "#fdca26"
             ],
             [
              1,
              "#f0f921"
             ]
            ],
            "type": "heatmap"
           }
          ],
          "heatmapgl": [
           {
            "colorbar": {
             "outlinewidth": 0,
             "ticks": ""
            },
            "colorscale": [
             [
              0,
              "#0d0887"
             ],
             [
              0.1111111111111111,
              "#46039f"
             ],
             [
              0.2222222222222222,
              "#7201a8"
             ],
             [
              0.3333333333333333,
              "#9c179e"
             ],
             [
              0.4444444444444444,
              "#bd3786"
             ],
             [
              0.5555555555555556,
              "#d8576b"
             ],
             [
              0.6666666666666666,
              "#ed7953"
             ],
             [
              0.7777777777777778,
              "#fb9f3a"
             ],
             [
              0.8888888888888888,
              "#fdca26"
             ],
             [
              1,
              "#f0f921"
             ]
            ],
            "type": "heatmapgl"
           }
          ],
          "histogram": [
           {
            "marker": {
             "pattern": {
              "fillmode": "overlay",
              "size": 10,
              "solidity": 0.2
             }
            },
            "type": "histogram"
           }
          ],
          "histogram2d": [
           {
            "colorbar": {
             "outlinewidth": 0,
             "ticks": ""
            },
            "colorscale": [
             [
              0,
              "#0d0887"
             ],
             [
              0.1111111111111111,
              "#46039f"
             ],
             [
              0.2222222222222222,
              "#7201a8"
             ],
             [
              0.3333333333333333,
              "#9c179e"
             ],
             [
              0.4444444444444444,
              "#bd3786"
             ],
             [
              0.5555555555555556,
              "#d8576b"
             ],
             [
              0.6666666666666666,
              "#ed7953"
             ],
             [
              0.7777777777777778,
              "#fb9f3a"
             ],
             [
              0.8888888888888888,
              "#fdca26"
             ],
             [
              1,
              "#f0f921"
             ]
            ],
            "type": "histogram2d"
           }
          ],
          "histogram2dcontour": [
           {
            "colorbar": {
             "outlinewidth": 0,
             "ticks": ""
            },
            "colorscale": [
             [
              0,
              "#0d0887"
             ],
             [
              0.1111111111111111,
              "#46039f"
             ],
             [
              0.2222222222222222,
              "#7201a8"
             ],
             [
              0.3333333333333333,
              "#9c179e"
             ],
             [
              0.4444444444444444,
              "#bd3786"
             ],
             [
              0.5555555555555556,
              "#d8576b"
             ],
             [
              0.6666666666666666,
              "#ed7953"
             ],
             [
              0.7777777777777778,
              "#fb9f3a"
             ],
             [
              0.8888888888888888,
              "#fdca26"
             ],
             [
              1,
              "#f0f921"
             ]
            ],
            "type": "histogram2dcontour"
           }
          ],
          "mesh3d": [
           {
            "colorbar": {
             "outlinewidth": 0,
             "ticks": ""
            },
            "type": "mesh3d"
           }
          ],
          "parcoords": [
           {
            "line": {
             "colorbar": {
              "outlinewidth": 0,
              "ticks": ""
             }
            },
            "type": "parcoords"
           }
          ],
          "pie": [
           {
            "automargin": true,
            "type": "pie"
           }
          ],
          "scatter": [
           {
            "fillpattern": {
             "fillmode": "overlay",
             "size": 10,
             "solidity": 0.2
            },
            "type": "scatter"
           }
          ],
          "scatter3d": [
           {
            "line": {
             "colorbar": {
              "outlinewidth": 0,
              "ticks": ""
             }
            },
            "marker": {
             "colorbar": {
              "outlinewidth": 0,
              "ticks": ""
             }
            },
            "type": "scatter3d"
           }
          ],
          "scattercarpet": [
           {
            "marker": {
             "colorbar": {
              "outlinewidth": 0,
              "ticks": ""
             }
            },
            "type": "scattercarpet"
           }
          ],
          "scattergeo": [
           {
            "marker": {
             "colorbar": {
              "outlinewidth": 0,
              "ticks": ""
             }
            },
            "type": "scattergeo"
           }
          ],
          "scattergl": [
           {
            "marker": {
             "colorbar": {
              "outlinewidth": 0,
              "ticks": ""
             }
            },
            "type": "scattergl"
           }
          ],
          "scattermapbox": [
           {
            "marker": {
             "colorbar": {
              "outlinewidth": 0,
              "ticks": ""
             }
            },
            "type": "scattermapbox"
           }
          ],
          "scatterpolar": [
           {
            "marker": {
             "colorbar": {
              "outlinewidth": 0,
              "ticks": ""
             }
            },
            "type": "scatterpolar"
           }
          ],
          "scatterpolargl": [
           {
            "marker": {
             "colorbar": {
              "outlinewidth": 0,
              "ticks": ""
             }
            },
            "type": "scatterpolargl"
           }
          ],
          "scatterternary": [
           {
            "marker": {
             "colorbar": {
              "outlinewidth": 0,
              "ticks": ""
             }
            },
            "type": "scatterternary"
           }
          ],
          "surface": [
           {
            "colorbar": {
             "outlinewidth": 0,
             "ticks": ""
            },
            "colorscale": [
             [
              0,
              "#0d0887"
             ],
             [
              0.1111111111111111,
              "#46039f"
             ],
             [
              0.2222222222222222,
              "#7201a8"
             ],
             [
              0.3333333333333333,
              "#9c179e"
             ],
             [
              0.4444444444444444,
              "#bd3786"
             ],
             [
              0.5555555555555556,
              "#d8576b"
             ],
             [
              0.6666666666666666,
              "#ed7953"
             ],
             [
              0.7777777777777778,
              "#fb9f3a"
             ],
             [
              0.8888888888888888,
              "#fdca26"
             ],
             [
              1,
              "#f0f921"
             ]
            ],
            "type": "surface"
           }
          ],
          "table": [
           {
            "cells": {
             "fill": {
              "color": "#EBF0F8"
             },
             "line": {
              "color": "white"
             }
            },
            "header": {
             "fill": {
              "color": "#C8D4E3"
             },
             "line": {
              "color": "white"
             }
            },
            "type": "table"
           }
          ]
         },
         "layout": {
          "annotationdefaults": {
           "arrowcolor": "#2a3f5f",
           "arrowhead": 0,
           "arrowwidth": 1
          },
          "autotypenumbers": "strict",
          "coloraxis": {
           "colorbar": {
            "outlinewidth": 0,
            "ticks": ""
           }
          },
          "colorscale": {
           "diverging": [
            [
             0,
             "#8e0152"
            ],
            [
             0.1,
             "#c51b7d"
            ],
            [
             0.2,
             "#de77ae"
            ],
            [
             0.3,
             "#f1b6da"
            ],
            [
             0.4,
             "#fde0ef"
            ],
            [
             0.5,
             "#f7f7f7"
            ],
            [
             0.6,
             "#e6f5d0"
            ],
            [
             0.7,
             "#b8e186"
            ],
            [
             0.8,
             "#7fbc41"
            ],
            [
             0.9,
             "#4d9221"
            ],
            [
             1,
             "#276419"
            ]
           ],
           "sequential": [
            [
             0,
             "#0d0887"
            ],
            [
             0.1111111111111111,
             "#46039f"
            ],
            [
             0.2222222222222222,
             "#7201a8"
            ],
            [
             0.3333333333333333,
             "#9c179e"
            ],
            [
             0.4444444444444444,
             "#bd3786"
            ],
            [
             0.5555555555555556,
             "#d8576b"
            ],
            [
             0.6666666666666666,
             "#ed7953"
            ],
            [
             0.7777777777777778,
             "#fb9f3a"
            ],
            [
             0.8888888888888888,
             "#fdca26"
            ],
            [
             1,
             "#f0f921"
            ]
           ],
           "sequentialminus": [
            [
             0,
             "#0d0887"
            ],
            [
             0.1111111111111111,
             "#46039f"
            ],
            [
             0.2222222222222222,
             "#7201a8"
            ],
            [
             0.3333333333333333,
             "#9c179e"
            ],
            [
             0.4444444444444444,
             "#bd3786"
            ],
            [
             0.5555555555555556,
             "#d8576b"
            ],
            [
             0.6666666666666666,
             "#ed7953"
            ],
            [
             0.7777777777777778,
             "#fb9f3a"
            ],
            [
             0.8888888888888888,
             "#fdca26"
            ],
            [
             1,
             "#f0f921"
            ]
           ]
          },
          "colorway": [
           "#636efa",
           "#EF553B",
           "#00cc96",
           "#ab63fa",
           "#FFA15A",
           "#19d3f3",
           "#FF6692",
           "#B6E880",
           "#FF97FF",
           "#FECB52"
          ],
          "font": {
           "color": "#2a3f5f"
          },
          "geo": {
           "bgcolor": "white",
           "lakecolor": "white",
           "landcolor": "#E5ECF6",
           "showlakes": true,
           "showland": true,
           "subunitcolor": "white"
          },
          "hoverlabel": {
           "align": "left"
          },
          "hovermode": "closest",
          "mapbox": {
           "style": "light"
          },
          "paper_bgcolor": "white",
          "plot_bgcolor": "#E5ECF6",
          "polar": {
           "angularaxis": {
            "gridcolor": "white",
            "linecolor": "white",
            "ticks": ""
           },
           "bgcolor": "#E5ECF6",
           "radialaxis": {
            "gridcolor": "white",
            "linecolor": "white",
            "ticks": ""
           }
          },
          "scene": {
           "xaxis": {
            "backgroundcolor": "#E5ECF6",
            "gridcolor": "white",
            "gridwidth": 2,
            "linecolor": "white",
            "showbackground": true,
            "ticks": "",
            "zerolinecolor": "white"
           },
           "yaxis": {
            "backgroundcolor": "#E5ECF6",
            "gridcolor": "white",
            "gridwidth": 2,
            "linecolor": "white",
            "showbackground": true,
            "ticks": "",
            "zerolinecolor": "white"
           },
           "zaxis": {
            "backgroundcolor": "#E5ECF6",
            "gridcolor": "white",
            "gridwidth": 2,
            "linecolor": "white",
            "showbackground": true,
            "ticks": "",
            "zerolinecolor": "white"
           }
          },
          "shapedefaults": {
           "line": {
            "color": "#2a3f5f"
           }
          },
          "ternary": {
           "aaxis": {
            "gridcolor": "white",
            "linecolor": "white",
            "ticks": ""
           },
           "baxis": {
            "gridcolor": "white",
            "linecolor": "white",
            "ticks": ""
           },
           "bgcolor": "#E5ECF6",
           "caxis": {
            "gridcolor": "white",
            "linecolor": "white",
            "ticks": ""
           }
          },
          "title": {
           "x": 0.05
          },
          "xaxis": {
           "automargin": true,
           "gridcolor": "white",
           "linecolor": "white",
           "ticks": "",
           "title": {
            "standoff": 15
           },
           "zerolinecolor": "white",
           "zerolinewidth": 2
          },
          "yaxis": {
           "automargin": true,
           "gridcolor": "white",
           "linecolor": "white",
           "ticks": "",
           "title": {
            "standoff": 15
           },
           "zerolinecolor": "white",
           "zerolinewidth": 2
          }
         }
        },
        "title": {
         "text": "Vict Age - Vict Descent"
        },
        "violinmode": "group",
        "xaxis": {
         "anchor": "y",
         "domain": [
          0,
          1
         ],
         "title": {
          "text": "Vict Age"
         }
        },
        "yaxis": {
         "anchor": "x",
         "domain": [
          0,
          1
         ],
         "title": {
          "text": "Vict Descent"
         }
        }
       }
      }
     },
     "metadata": {},
     "output_type": "display_data"
    }
   ],
   "source": [
    "#Violin plot\n",
    "#Gender & Age Group Distribution\n",
    "plot = px.violin(y=df['Vict Age'],\n",
    "                 x=df['Vict Descent'],\n",
    "                 box=True,\n",
    "                 points='all')\n",
    "plot.update_traces(\n",
    "    box_fillcolor='green',\n",
    "    opacity=0.5\n",
    ")\n",
    "plot.update_layout(\n",
    "    title='Vict Age - Vict Descent',\n",
    "    xaxis_title='Vict Age',\n",
    "    yaxis_title='Vict Descent'\n",
    ")\n",
    "\n",
    "plot.show()"
   ]
  },
  {
   "cell_type": "code",
   "execution_count": 30,
   "metadata": {},
   "outputs": [
    {
     "data": {
      "application/vnd.plotly.v1+json": {
       "config": {
        "plotlyServerURL": "https://plot.ly"
       },
       "data": [
        {
         "alignmentgroup": "True",
         "box": {
          "fillcolor": "green",
          "visible": true
         },
         "hovertemplate": "x=%{x}<br>y=%{y}<extra></extra>",
         "legendgroup": "",
         "marker": {
          "color": "#636efa"
         },
         "name": "",
         "offsetgroup": "",
         "opacity": 0.5,
         "orientation": "v",
         "points": "all",
         "scalegroup": "True",
         "showlegend": false,
         "type": "violin",
         "x": [
          "AO",
          "IC",
          "AA",
          "IC",
          "IC",
          "IC",
          "IC",
          "IC",
          "IC",
          "AO",
          "IC",
          "IC",
          "AA",
          "IC",
          "IC",
          "IC",
          "AO",
          "IC",
          "IC",
          "IC",
          "IC",
          "IC",
          "IC",
          "IC",
          "AO",
          "IC",
          "IC",
          "AA",
          "AO",
          "IC",
          "AO",
          "IC",
          "AO",
          "IC",
          "IC",
          "IC",
          "IC",
          "IC",
          "IC",
          "AO",
          "IC",
          "AA",
          "AA",
          "AA",
          "IC",
          "IC",
          "IC",
          "AO",
          "AA",
          "IC",
          "IC",
          "AO",
          "IC",
          "AA",
          "IC",
          "IC",
          "IC",
          "IC",
          "AO",
          "IC",
          "IC",
          "IC",
          "IC",
          "IC",
          "IC",
          "AO",
          "IC",
          "IC",
          "IC",
          "IC",
          "AO",
          "IC",
          "IC",
          "IC",
          "IC",
          "IC",
          "IC",
          "IC",
          "IC",
          "IC",
          "IC",
          "IC",
          "IC",
          "IC",
          "IC",
          "IC",
          "AA",
          "AO",
          "IC",
          "IC",
          "IC",
          "IC",
          "IC",
          "IC",
          "IC",
          "IC",
          "IC",
          "AA",
          "AO",
          "IC",
          "IC",
          "AA",
          "IC",
          "IC",
          "IC",
          "AO",
          "IC",
          "IC",
          "IC",
          "AO",
          "IC",
          "IC",
          "IC",
          "AO",
          "IC",
          "IC",
          "AA",
          "IC",
          "IC",
          "IC",
          "IC",
          "IC",
          "IC",
          "IC",
          "IC",
          "IC",
          "IC",
          "IC",
          "IC",
          "AA",
          "AO",
          "IC",
          "IC",
          "IC",
          "IC",
          "IC",
          "AO",
          "IC",
          "IC",
          "IC",
          "AO",
          "AO",
          "IC",
          "IC",
          "IC",
          "IC",
          "IC",
          "IC",
          "IC",
          "IC",
          "IC",
          "IC",
          "IC",
          "IC",
          "IC",
          "IC",
          "IC",
          "IC",
          "AA",
          "IC",
          "IC",
          "IC",
          "IC",
          "IC",
          "IC",
          "IC",
          "IC",
          "IC",
          "IC",
          "AO",
          "IC",
          "AA",
          "AA",
          "AA",
          "IC",
          "IC",
          "IC",
          "IC",
          "IC",
          "AO",
          "IC",
          "IC",
          "IC",
          "IC",
          "IC",
          "IC",
          "IC",
          "AA",
          "AO",
          "IC",
          "IC",
          "IC",
          "IC",
          "IC",
          "IC",
          "IC",
          "IC",
          "IC",
          "IC",
          "IC",
          "AO",
          "IC",
          "AA",
          "IC",
          "IC",
          "IC",
          "IC",
          "IC",
          "IC",
          "IC",
          "IC",
          "IC",
          "IC",
          "AO",
          "IC",
          "AO",
          "IC",
          "IC",
          "IC",
          "IC",
          "AO",
          "IC",
          "IC",
          "IC",
          "IC",
          "IC",
          "IC",
          "IC",
          "IC",
          "IC",
          "IC",
          "IC",
          "AO",
          "IC",
          "IC",
          "IC",
          "IC",
          "IC",
          "IC",
          "IC",
          "IC",
          "IC",
          "IC",
          "AA",
          "IC",
          "IC",
          "IC",
          "AA",
          "IC",
          "IC",
          "IC",
          "AA",
          "IC",
          "IC",
          "IC",
          "IC",
          "IC",
          "IC",
          "IC",
          "IC",
          "IC",
          "IC",
          "IC",
          "IC",
          "IC",
          "IC",
          "IC",
          "IC",
          "IC",
          "IC",
          "IC",
          "IC",
          "IC",
          "IC",
          "IC",
          "AA",
          "IC",
          "IC",
          "IC",
          "IC",
          "IC",
          "IC",
          "AA",
          "AA",
          "IC",
          "IC",
          "IC",
          "IC",
          "IC",
          "AA",
          "AO",
          "AA",
          "AO",
          "IC",
          "IC",
          "IC",
          "IC",
          "AA",
          "IC",
          "IC",
          "AA",
          "IC",
          "IC",
          "AA",
          "IC",
          "IC",
          "IC",
          "IC",
          "IC",
          "IC",
          "IC",
          "IC",
          "IC",
          "IC",
          "IC",
          "IC",
          "IC",
          "IC",
          "IC",
          "IC",
          "IC",
          "AA",
          "IC",
          "IC",
          "AA",
          "IC",
          "IC",
          "IC",
          "AA",
          "IC",
          "IC",
          "IC",
          "IC",
          "IC",
          "IC",
          "IC",
          "IC",
          "IC",
          "IC",
          "IC",
          "AA",
          "IC",
          "IC",
          "IC",
          "IC",
          "IC",
          "IC",
          "IC",
          "IC",
          "IC",
          "IC",
          "IC",
          "IC",
          "IC",
          "IC",
          "IC",
          "IC",
          "IC",
          "IC",
          "IC",
          "AO",
          "IC",
          "IC",
          "IC",
          "IC",
          "AA",
          "IC",
          "IC",
          "IC",
          "IC",
          "IC",
          "IC",
          "IC",
          "IC",
          "IC",
          "IC",
          "IC",
          "IC",
          "IC",
          "IC",
          "IC",
          "IC",
          "IC",
          "AO",
          "IC",
          "IC",
          "AA",
          "IC",
          "IC",
          "IC",
          "IC",
          "IC",
          "IC",
          "IC",
          "IC",
          "IC",
          "IC",
          "IC",
          "IC",
          "IC",
          "AO",
          "IC",
          "IC",
          "AO",
          "IC",
          "IC",
          "AO",
          "IC",
          "IC",
          "IC",
          "IC",
          "IC",
          "IC",
          "AA",
          "IC",
          "IC",
          "IC",
          "IC",
          "IC",
          "IC",
          "AO",
          "IC",
          "IC",
          "IC",
          "IC",
          "IC",
          "IC",
          "IC",
          "IC",
          "IC",
          "IC",
          "IC",
          "IC",
          "AO",
          "IC",
          "IC",
          "IC",
          "IC",
          "IC",
          "IC",
          "IC",
          "IC",
          "IC",
          "AO",
          "AA",
          "IC",
          "IC",
          "IC",
          "IC",
          "IC",
          "IC",
          "IC",
          "IC",
          "IC",
          "IC",
          "AA",
          "AA",
          "IC",
          "IC",
          "AA",
          "AA",
          "IC",
          "IC",
          "AO",
          "IC",
          "IC",
          "IC",
          "IC",
          "IC",
          "IC",
          "IC",
          "IC",
          "JA",
          "AO",
          "AO",
          "IC",
          "IC",
          "IC",
          "IC",
          "IC",
          "IC",
          "IC",
          "IC",
          "IC",
          "IC",
          "IC",
          "IC",
          "IC",
          "IC",
          "IC",
          "AA",
          "IC",
          "IC",
          "IC",
          "IC",
          "IC",
          "IC",
          "IC",
          "IC",
          "IC",
          "IC",
          "IC",
          "AO",
          "IC",
          "IC",
          "IC",
          "IC",
          "IC",
          "IC",
          "IC",
          "IC",
          "IC",
          "IC",
          "IC",
          "AA",
          "IC",
          "IC",
          "IC",
          "IC",
          "IC",
          "IC",
          "IC",
          "IC",
          "AO",
          "IC",
          "IC",
          "AO",
          "IC",
          "IC",
          "IC",
          "IC",
          "IC",
          "IC",
          "IC",
          "IC",
          "IC",
          "IC",
          "IC",
          "AO",
          "AO",
          "JA",
          "IC",
          "IC",
          "IC",
          "IC",
          "IC",
          "IC",
          "IC",
          "IC",
          "IC",
          "IC",
          "IC",
          "IC",
          "AO",
          "AA",
          "IC",
          "IC",
          "IC",
          "IC",
          "IC",
          "IC",
          "IC",
          "IC",
          "IC",
          "IC",
          "IC",
          "IC",
          "AA",
          "AA",
          "AA",
          "IC",
          "AO",
          "IC",
          "IC",
          "IC",
          "IC",
          "IC",
          "IC",
          "IC",
          "IC",
          "IC",
          "IC",
          "IC",
          "IC",
          "AO",
          "IC",
          "IC",
          "IC",
          "IC",
          "AO",
          "IC",
          "IC",
          "IC",
          "IC",
          "IC",
          "IC",
          "IC",
          "IC",
          "IC",
          "AO",
          "AA",
          "IC",
          "IC",
          "IC",
          "IC",
          "AA",
          "IC",
          "IC",
          "IC",
          "IC",
          "IC",
          "IC",
          "IC",
          "IC",
          "AA",
          "IC",
          "AO",
          "IC",
          "IC",
          "IC",
          "IC",
          "IC",
          "IC",
          "IC",
          "IC",
          "IC",
          "IC",
          "IC",
          "AA",
          "AA",
          "IC",
          "IC",
          "IC",
          "IC",
          "IC",
          "IC",
          "IC",
          "IC",
          "AA",
          "IC",
          "IC",
          "IC",
          "IC",
          "IC",
          "IC",
          "IC",
          "IC",
          "IC",
          "IC",
          "IC",
          "IC",
          "IC",
          "AA",
          "AA",
          "IC",
          "IC",
          "IC",
          "AO",
          "IC",
          "IC",
          "AO",
          "IC",
          "IC",
          "IC",
          "AA",
          "IC",
          "IC",
          "IC",
          "AO",
          "IC",
          "IC",
          "IC",
          "IC",
          "AO",
          "AO",
          "IC",
          "IC",
          "IC",
          "IC",
          "IC",
          "AA",
          "IC",
          "AA",
          "IC",
          "IC",
          "IC",
          "IC",
          "IC",
          "IC",
          "IC",
          "IC",
          "AA",
          "IC",
          "IC",
          "IC",
          "IC",
          "IC",
          "IC",
          "AO",
          "IC",
          "AA",
          "IC",
          "AA",
          "AA",
          "IC",
          "IC",
          "IC",
          "IC",
          "AA",
          "IC",
          "IC",
          "IC",
          "IC",
          "IC",
          "IC",
          "IC",
          "IC",
          "IC",
          "IC",
          "IC",
          "IC",
          "IC",
          "IC",
          "IC",
          "IC",
          "IC",
          "IC",
          "IC",
          "AO",
          "AO",
          "IC",
          "IC",
          "IC",
          "IC",
          "IC",
          "IC",
          "IC",
          "AO",
          "IC",
          "IC",
          "IC",
          "IC",
          "IC",
          "IC",
          "IC",
          "IC",
          "IC",
          "IC",
          "IC",
          "AA",
          "IC",
          "IC",
          "AO",
          "IC",
          "IC",
          "IC",
          "IC",
          "AO",
          "IC",
          "IC",
          "IC",
          "IC",
          "AO",
          "IC",
          "IC",
          "IC",
          "AA",
          "IC",
          "IC",
          "IC",
          "IC",
          "IC",
          "IC",
          "IC",
          "IC",
          "IC",
          "IC",
          "AO",
          "AO",
          "IC",
          "IC",
          "AO",
          "IC",
          "IC",
          "AA",
          "IC",
          "IC",
          "IC",
          "IC",
          "IC",
          "IC",
          "IC",
          "IC",
          "IC",
          "AO",
          "IC",
          "IC",
          "IC",
          "IC",
          "AO",
          "AA",
          "AA",
          "IC",
          "IC",
          "IC",
          "IC",
          "IC",
          "IC",
          "IC",
          "IC",
          "IC",
          "AO",
          "IC",
          "IC",
          "IC",
          "IC",
          "AO",
          "IC",
          "IC",
          "AA",
          "IC",
          "IC",
          "IC",
          "IC",
          "IC",
          "IC",
          "IC",
          "AO",
          "IC",
          "IC",
          "IC",
          "IC",
          "IC",
          "IC",
          "IC",
          "IC",
          "IC",
          "IC",
          "IC",
          "IC",
          "IC",
          "IC",
          "IC",
          "IC",
          "IC",
          "IC",
          "IC",
          "IC",
          "IC",
          "IC",
          "IC",
          "IC",
          "AA",
          "IC",
          "IC",
          "IC",
          "IC",
          "IC",
          "IC",
          "IC",
          "IC",
          "IC",
          "IC",
          "AO",
          "IC",
          "IC",
          "IC",
          "IC",
          "IC",
          "IC",
          "IC",
          "IC",
          "IC",
          "IC",
          "IC",
          "AA",
          "IC",
          "IC",
          "IC",
          "IC",
          "IC",
          "IC",
          "IC",
          "IC",
          "IC",
          "IC",
          "IC",
          "AO",
          "IC",
          "IC",
          "IC",
          "IC",
          "IC",
          "IC",
          "IC",
          "IC",
          "AA",
          "IC",
          "IC",
          "IC",
          "IC",
          "IC",
          "IC",
          "IC",
          "IC",
          "IC",
          "AA",
          "AA",
          "IC",
          "IC",
          "IC",
          "IC",
          "IC",
          "AO",
          "IC",
          "IC",
          "IC",
          "IC",
          "IC",
          "IC",
          "IC",
          "IC",
          "IC",
          "IC",
          "IC",
          "IC",
          "IC",
          "IC",
          "IC",
          "IC",
          "IC",
          "IC",
          "IC",
          "IC",
          "IC",
          "IC",
          "AO",
          "IC",
          "AO",
          "IC",
          "AA",
          "IC",
          "IC",
          "IC",
          "AO",
          "IC",
          "IC",
          "IC",
          "IC",
          "IC",
          "IC",
          "IC",
          "IC",
          "IC",
          "IC",
          "IC",
          "IC",
          "IC",
          "IC",
          "IC",
          "IC",
          "IC",
          "IC",
          "IC",
          "IC",
          "IC",
          "IC",
          "IC",
          "IC",
          "AO",
          "IC",
          "AA",
          "IC",
          "IC",
          "IC",
          "IC",
          "IC",
          "IC",
          "IC",
          "AA",
          "IC",
          "IC",
          "IC",
          "IC",
          "IC",
          "IC",
          "AO",
          "AA",
          "IC",
          "AO",
          "IC",
          "IC",
          "IC",
          "AA",
          "IC",
          "IC",
          "IC",
          "IC",
          "AA",
          "IC"
         ],
         "x0": " ",
         "xaxis": "x",
         "y": [
          36,
          25,
          0,
          76,
          31,
          25,
          23,
          0,
          23,
          0,
          29,
          35,
          41,
          0,
          24,
          24,
          34,
          29,
          46,
          66,
          40,
          31,
          27,
          46,
          62,
          34,
          43,
          71,
          50,
          19,
          51,
          27,
          33,
          0,
          69,
          39,
          19,
          57,
          0,
          78,
          0,
          24,
          52,
          38,
          55,
          0,
          66,
          34,
          50,
          35,
          40,
          27,
          51,
          0,
          44,
          41,
          57,
          25,
          24,
          34,
          18,
          57,
          55,
          23,
          55,
          54,
          0,
          0,
          22,
          28,
          42,
          43,
          46,
          56,
          55,
          55,
          0,
          0,
          0,
          67,
          57,
          37,
          0,
          60,
          0,
          51,
          52,
          61,
          38,
          36,
          59,
          32,
          44,
          60,
          24,
          31,
          30,
          50,
          50,
          40,
          34,
          34,
          45,
          62,
          0,
          0,
          20,
          31,
          0,
          15,
          51,
          23,
          29,
          58,
          24,
          51,
          41,
          32,
          23,
          35,
          28,
          0,
          58,
          57,
          27,
          30,
          30,
          31,
          0,
          24,
          29,
          47,
          48,
          32,
          23,
          0,
          46,
          40,
          57,
          32,
          58,
          25,
          0,
          18,
          25,
          0,
          37,
          23,
          0,
          67,
          26,
          47,
          21,
          26,
          64,
          26,
          31,
          39,
          35,
          25,
          0,
          28,
          33,
          75,
          0,
          32,
          0,
          0,
          30,
          44,
          28,
          26,
          56,
          0,
          35,
          28,
          19,
          43,
          0,
          12,
          43,
          59,
          34,
          38,
          37,
          0,
          27,
          61,
          49,
          22,
          43,
          71,
          71,
          0,
          55,
          19,
          68,
          38,
          48,
          69,
          14,
          37,
          26,
          50,
          13,
          61,
          0,
          50,
          26,
          26,
          26,
          45,
          36,
          45,
          24,
          0,
          0,
          50,
          25,
          27,
          10,
          33,
          53,
          38,
          23,
          74,
          0,
          0,
          23,
          26,
          0,
          23,
          49,
          57,
          40,
          25,
          0,
          34,
          35,
          38,
          29,
          24,
          26,
          0,
          56,
          26,
          47,
          29,
          29,
          0,
          45,
          38,
          0,
          32,
          30,
          62,
          71,
          53,
          31,
          53,
          0,
          49,
          38,
          55,
          43,
          64,
          56,
          34,
          30,
          35,
          0,
          36,
          25,
          67,
          37,
          57,
          40,
          0,
          59,
          34,
          20,
          69,
          0,
          0,
          58,
          33,
          28,
          31,
          38,
          0,
          25,
          0,
          25,
          34,
          41,
          49,
          20,
          45,
          30,
          27,
          38,
          32,
          39,
          35,
          64,
          57,
          34,
          29,
          0,
          27,
          0,
          17,
          17,
          26,
          32,
          53,
          0,
          0,
          46,
          55,
          33,
          0,
          0,
          33,
          27,
          48,
          60,
          0,
          30,
          0,
          45,
          54,
          26,
          26,
          28,
          36,
          0,
          33,
          27,
          0,
          0,
          48,
          0,
          28,
          58,
          51,
          64,
          32,
          32,
          0,
          39,
          38,
          29,
          38,
          20,
          57,
          0,
          65,
          22,
          67,
          37,
          22,
          0,
          30,
          30,
          46,
          0,
          65,
          28,
          41,
          35,
          28,
          35,
          35,
          38,
          32,
          39,
          57,
          56,
          29,
          29,
          36,
          45,
          0,
          47,
          30,
          45,
          34,
          57,
          45,
          30,
          28,
          62,
          21,
          27,
          26,
          26,
          0,
          51,
          29,
          23,
          38,
          27,
          37,
          35,
          60,
          28,
          26,
          36,
          45,
          0,
          0,
          20,
          0,
          19,
          27,
          46,
          44,
          26,
          22,
          32,
          0,
          0,
          40,
          0,
          63,
          57,
          61,
          39,
          28,
          22,
          35,
          38,
          22,
          22,
          34,
          40,
          33,
          54,
          21,
          21,
          29,
          24,
          31,
          18,
          0,
          62,
          36,
          0,
          0,
          27,
          19,
          61,
          30,
          28,
          35,
          27,
          0,
          31,
          50,
          0,
          56,
          32,
          22,
          0,
          21,
          26,
          0,
          0,
          0,
          0,
          41,
          29,
          27,
          24,
          0,
          29,
          28,
          22,
          59,
          33,
          27,
          31,
          56,
          60,
          61,
          31,
          24,
          30,
          36,
          0,
          32,
          50,
          43,
          24,
          8,
          25,
          0,
          28,
          0,
          66,
          0,
          65,
          37,
          37,
          30,
          52,
          0,
          40,
          33,
          22,
          0,
          74,
          0,
          41,
          16,
          45,
          64,
          51,
          24,
          30,
          53,
          59,
          0,
          47,
          35,
          8,
          0,
          38,
          44,
          33,
          0,
          22,
          51,
          23,
          71,
          28,
          59,
          50,
          34,
          14,
          29,
          33,
          34,
          60,
          65,
          0,
          60,
          69,
          0,
          72,
          23,
          31,
          26,
          46,
          57,
          39,
          30,
          0,
          56,
          33,
          35,
          28,
          31,
          55,
          59,
          29,
          33,
          30,
          46,
          20,
          18,
          0,
          0,
          40,
          46,
          43,
          27,
          25,
          0,
          0,
          41,
          43,
          48,
          33,
          30,
          68,
          23,
          53,
          29,
          23,
          38,
          48,
          0,
          34,
          69,
          23,
          30,
          31,
          45,
          22,
          38,
          28,
          61,
          23,
          24,
          0,
          60,
          0,
          56,
          46,
          53,
          26,
          21,
          21,
          50,
          71,
          24,
          36,
          30,
          57,
          38,
          63,
          25,
          14,
          12,
          0,
          65,
          46,
          46,
          64,
          0,
          0,
          23,
          60,
          63,
          66,
          55,
          27,
          20,
          76,
          0,
          38,
          38,
          47,
          60,
          51,
          60,
          28,
          23,
          24,
          0,
          39,
          33,
          0,
          28,
          14,
          38,
          32,
          33,
          25,
          57,
          0,
          26,
          31,
          37,
          33,
          57,
          23,
          0,
          33,
          70,
          0,
          27,
          9,
          30,
          30,
          36,
          27,
          39,
          0,
          48,
          39,
          31,
          34,
          29,
          0,
          30,
          0,
          38,
          21,
          38,
          60,
          58,
          36,
          34,
          48,
          27,
          34,
          0,
          24,
          51,
          27,
          34,
          29,
          52,
          0,
          52,
          37,
          43,
          0,
          31,
          52,
          55,
          50,
          61,
          26,
          60,
          0,
          62,
          24,
          34,
          56,
          34,
          0,
          48,
          29,
          27,
          33,
          15,
          0,
          34,
          61,
          31,
          35,
          31,
          28,
          48,
          25,
          54,
          37,
          21,
          28,
          46,
          0,
          23,
          0,
          54,
          52,
          34,
          0,
          35,
          0,
          0,
          0,
          37,
          35,
          9,
          0,
          64,
          43,
          29,
          40,
          44,
          38,
          32,
          53,
          40,
          23,
          25,
          58,
          68,
          45,
          30,
          65,
          90,
          29,
          26,
          55,
          52,
          60,
          0,
          33,
          38,
          46,
          63,
          34,
          28,
          40,
          0,
          29,
          36,
          35,
          52,
          48,
          35,
          53,
          32,
          26,
          20,
          34,
          39,
          0,
          0,
          55,
          49,
          49,
          23,
          26,
          85,
          49,
          37,
          59,
          0,
          57,
          81,
          28,
          41,
          33,
          19,
          0,
          37,
          22,
          49,
          49,
          19,
          23,
          35,
          32,
          0,
          32,
          50,
          0,
          19,
          38,
          23,
          56,
          0,
          35,
          36,
          32,
          48,
          0,
          50,
          65,
          53,
          79,
          52,
          38,
          23,
          20,
          0,
          50,
          32,
          27,
          26,
          44,
          29,
          28,
          25,
          19,
          25,
          19,
          94,
          37,
          37,
          47,
          36,
          26,
          23,
          22,
          23,
          42,
          0,
          57,
          0,
          50,
          55,
          62,
          44,
          36,
          62,
          0,
          34,
          34,
          25,
          41,
          27,
          28,
          45,
          62,
          49,
          27,
          0,
          51,
          35,
          31,
          35,
          24,
          0,
          44,
          55,
          27,
          32,
          48,
          39,
          35,
          26,
          35,
          20,
          67,
          0,
          0,
          34,
          27,
          26,
          23,
          37,
          31,
          37,
          31,
          30,
          24,
          0,
          25,
          38,
          31,
          21,
          22,
          0,
          26,
          21,
          33,
          50,
          52,
          0,
          29,
          68,
          41,
          51,
          54,
          36,
          25,
          37,
          14,
          23,
          0,
          32,
          0,
          28,
          28,
          22,
          14,
          54,
          35,
          27,
          53,
          23,
          68,
          41,
          45,
          0,
          0,
          0,
          33,
          0,
          31,
          27,
          28,
          30,
          0,
          0,
          63,
          48,
          61,
          0,
          72,
          23,
          41,
          60,
          73,
          24,
          21,
          0,
          30,
          37,
          30,
          76,
          38,
          57,
          32,
          0,
          64,
          25,
          0,
          50,
          0,
          55,
          33,
          48
         ],
         "y0": " ",
         "yaxis": "y"
        }
       ],
       "layout": {
        "legend": {
         "tracegroupgap": 0
        },
        "margin": {
         "t": 60
        },
        "template": {
         "data": {
          "bar": [
           {
            "error_x": {
             "color": "#2a3f5f"
            },
            "error_y": {
             "color": "#2a3f5f"
            },
            "marker": {
             "line": {
              "color": "#E5ECF6",
              "width": 0.5
             },
             "pattern": {
              "fillmode": "overlay",
              "size": 10,
              "solidity": 0.2
             }
            },
            "type": "bar"
           }
          ],
          "barpolar": [
           {
            "marker": {
             "line": {
              "color": "#E5ECF6",
              "width": 0.5
             },
             "pattern": {
              "fillmode": "overlay",
              "size": 10,
              "solidity": 0.2
             }
            },
            "type": "barpolar"
           }
          ],
          "carpet": [
           {
            "aaxis": {
             "endlinecolor": "#2a3f5f",
             "gridcolor": "white",
             "linecolor": "white",
             "minorgridcolor": "white",
             "startlinecolor": "#2a3f5f"
            },
            "baxis": {
             "endlinecolor": "#2a3f5f",
             "gridcolor": "white",
             "linecolor": "white",
             "minorgridcolor": "white",
             "startlinecolor": "#2a3f5f"
            },
            "type": "carpet"
           }
          ],
          "choropleth": [
           {
            "colorbar": {
             "outlinewidth": 0,
             "ticks": ""
            },
            "type": "choropleth"
           }
          ],
          "contour": [
           {
            "colorbar": {
             "outlinewidth": 0,
             "ticks": ""
            },
            "colorscale": [
             [
              0,
              "#0d0887"
             ],
             [
              0.1111111111111111,
              "#46039f"
             ],
             [
              0.2222222222222222,
              "#7201a8"
             ],
             [
              0.3333333333333333,
              "#9c179e"
             ],
             [
              0.4444444444444444,
              "#bd3786"
             ],
             [
              0.5555555555555556,
              "#d8576b"
             ],
             [
              0.6666666666666666,
              "#ed7953"
             ],
             [
              0.7777777777777778,
              "#fb9f3a"
             ],
             [
              0.8888888888888888,
              "#fdca26"
             ],
             [
              1,
              "#f0f921"
             ]
            ],
            "type": "contour"
           }
          ],
          "contourcarpet": [
           {
            "colorbar": {
             "outlinewidth": 0,
             "ticks": ""
            },
            "type": "contourcarpet"
           }
          ],
          "heatmap": [
           {
            "colorbar": {
             "outlinewidth": 0,
             "ticks": ""
            },
            "colorscale": [
             [
              0,
              "#0d0887"
             ],
             [
              0.1111111111111111,
              "#46039f"
             ],
             [
              0.2222222222222222,
              "#7201a8"
             ],
             [
              0.3333333333333333,
              "#9c179e"
             ],
             [
              0.4444444444444444,
              "#bd3786"
             ],
             [
              0.5555555555555556,
              "#d8576b"
             ],
             [
              0.6666666666666666,
              "#ed7953"
             ],
             [
              0.7777777777777778,
              "#fb9f3a"
             ],
             [
              0.8888888888888888,
              "#fdca26"
             ],
             [
              1,
              "#f0f921"
             ]
            ],
            "type": "heatmap"
           }
          ],
          "heatmapgl": [
           {
            "colorbar": {
             "outlinewidth": 0,
             "ticks": ""
            },
            "colorscale": [
             [
              0,
              "#0d0887"
             ],
             [
              0.1111111111111111,
              "#46039f"
             ],
             [
              0.2222222222222222,
              "#7201a8"
             ],
             [
              0.3333333333333333,
              "#9c179e"
             ],
             [
              0.4444444444444444,
              "#bd3786"
             ],
             [
              0.5555555555555556,
              "#d8576b"
             ],
             [
              0.6666666666666666,
              "#ed7953"
             ],
             [
              0.7777777777777778,
              "#fb9f3a"
             ],
             [
              0.8888888888888888,
              "#fdca26"
             ],
             [
              1,
              "#f0f921"
             ]
            ],
            "type": "heatmapgl"
           }
          ],
          "histogram": [
           {
            "marker": {
             "pattern": {
              "fillmode": "overlay",
              "size": 10,
              "solidity": 0.2
             }
            },
            "type": "histogram"
           }
          ],
          "histogram2d": [
           {
            "colorbar": {
             "outlinewidth": 0,
             "ticks": ""
            },
            "colorscale": [
             [
              0,
              "#0d0887"
             ],
             [
              0.1111111111111111,
              "#46039f"
             ],
             [
              0.2222222222222222,
              "#7201a8"
             ],
             [
              0.3333333333333333,
              "#9c179e"
             ],
             [
              0.4444444444444444,
              "#bd3786"
             ],
             [
              0.5555555555555556,
              "#d8576b"
             ],
             [
              0.6666666666666666,
              "#ed7953"
             ],
             [
              0.7777777777777778,
              "#fb9f3a"
             ],
             [
              0.8888888888888888,
              "#fdca26"
             ],
             [
              1,
              "#f0f921"
             ]
            ],
            "type": "histogram2d"
           }
          ],
          "histogram2dcontour": [
           {
            "colorbar": {
             "outlinewidth": 0,
             "ticks": ""
            },
            "colorscale": [
             [
              0,
              "#0d0887"
             ],
             [
              0.1111111111111111,
              "#46039f"
             ],
             [
              0.2222222222222222,
              "#7201a8"
             ],
             [
              0.3333333333333333,
              "#9c179e"
             ],
             [
              0.4444444444444444,
              "#bd3786"
             ],
             [
              0.5555555555555556,
              "#d8576b"
             ],
             [
              0.6666666666666666,
              "#ed7953"
             ],
             [
              0.7777777777777778,
              "#fb9f3a"
             ],
             [
              0.8888888888888888,
              "#fdca26"
             ],
             [
              1,
              "#f0f921"
             ]
            ],
            "type": "histogram2dcontour"
           }
          ],
          "mesh3d": [
           {
            "colorbar": {
             "outlinewidth": 0,
             "ticks": ""
            },
            "type": "mesh3d"
           }
          ],
          "parcoords": [
           {
            "line": {
             "colorbar": {
              "outlinewidth": 0,
              "ticks": ""
             }
            },
            "type": "parcoords"
           }
          ],
          "pie": [
           {
            "automargin": true,
            "type": "pie"
           }
          ],
          "scatter": [
           {
            "fillpattern": {
             "fillmode": "overlay",
             "size": 10,
             "solidity": 0.2
            },
            "type": "scatter"
           }
          ],
          "scatter3d": [
           {
            "line": {
             "colorbar": {
              "outlinewidth": 0,
              "ticks": ""
             }
            },
            "marker": {
             "colorbar": {
              "outlinewidth": 0,
              "ticks": ""
             }
            },
            "type": "scatter3d"
           }
          ],
          "scattercarpet": [
           {
            "marker": {
             "colorbar": {
              "outlinewidth": 0,
              "ticks": ""
             }
            },
            "type": "scattercarpet"
           }
          ],
          "scattergeo": [
           {
            "marker": {
             "colorbar": {
              "outlinewidth": 0,
              "ticks": ""
             }
            },
            "type": "scattergeo"
           }
          ],
          "scattergl": [
           {
            "marker": {
             "colorbar": {
              "outlinewidth": 0,
              "ticks": ""
             }
            },
            "type": "scattergl"
           }
          ],
          "scattermapbox": [
           {
            "marker": {
             "colorbar": {
              "outlinewidth": 0,
              "ticks": ""
             }
            },
            "type": "scattermapbox"
           }
          ],
          "scatterpolar": [
           {
            "marker": {
             "colorbar": {
              "outlinewidth": 0,
              "ticks": ""
             }
            },
            "type": "scatterpolar"
           }
          ],
          "scatterpolargl": [
           {
            "marker": {
             "colorbar": {
              "outlinewidth": 0,
              "ticks": ""
             }
            },
            "type": "scatterpolargl"
           }
          ],
          "scatterternary": [
           {
            "marker": {
             "colorbar": {
              "outlinewidth": 0,
              "ticks": ""
             }
            },
            "type": "scatterternary"
           }
          ],
          "surface": [
           {
            "colorbar": {
             "outlinewidth": 0,
             "ticks": ""
            },
            "colorscale": [
             [
              0,
              "#0d0887"
             ],
             [
              0.1111111111111111,
              "#46039f"
             ],
             [
              0.2222222222222222,
              "#7201a8"
             ],
             [
              0.3333333333333333,
              "#9c179e"
             ],
             [
              0.4444444444444444,
              "#bd3786"
             ],
             [
              0.5555555555555556,
              "#d8576b"
             ],
             [
              0.6666666666666666,
              "#ed7953"
             ],
             [
              0.7777777777777778,
              "#fb9f3a"
             ],
             [
              0.8888888888888888,
              "#fdca26"
             ],
             [
              1,
              "#f0f921"
             ]
            ],
            "type": "surface"
           }
          ],
          "table": [
           {
            "cells": {
             "fill": {
              "color": "#EBF0F8"
             },
             "line": {
              "color": "white"
             }
            },
            "header": {
             "fill": {
              "color": "#C8D4E3"
             },
             "line": {
              "color": "white"
             }
            },
            "type": "table"
           }
          ]
         },
         "layout": {
          "annotationdefaults": {
           "arrowcolor": "#2a3f5f",
           "arrowhead": 0,
           "arrowwidth": 1
          },
          "autotypenumbers": "strict",
          "coloraxis": {
           "colorbar": {
            "outlinewidth": 0,
            "ticks": ""
           }
          },
          "colorscale": {
           "diverging": [
            [
             0,
             "#8e0152"
            ],
            [
             0.1,
             "#c51b7d"
            ],
            [
             0.2,
             "#de77ae"
            ],
            [
             0.3,
             "#f1b6da"
            ],
            [
             0.4,
             "#fde0ef"
            ],
            [
             0.5,
             "#f7f7f7"
            ],
            [
             0.6,
             "#e6f5d0"
            ],
            [
             0.7,
             "#b8e186"
            ],
            [
             0.8,
             "#7fbc41"
            ],
            [
             0.9,
             "#4d9221"
            ],
            [
             1,
             "#276419"
            ]
           ],
           "sequential": [
            [
             0,
             "#0d0887"
            ],
            [
             0.1111111111111111,
             "#46039f"
            ],
            [
             0.2222222222222222,
             "#7201a8"
            ],
            [
             0.3333333333333333,
             "#9c179e"
            ],
            [
             0.4444444444444444,
             "#bd3786"
            ],
            [
             0.5555555555555556,
             "#d8576b"
            ],
            [
             0.6666666666666666,
             "#ed7953"
            ],
            [
             0.7777777777777778,
             "#fb9f3a"
            ],
            [
             0.8888888888888888,
             "#fdca26"
            ],
            [
             1,
             "#f0f921"
            ]
           ],
           "sequentialminus": [
            [
             0,
             "#0d0887"
            ],
            [
             0.1111111111111111,
             "#46039f"
            ],
            [
             0.2222222222222222,
             "#7201a8"
            ],
            [
             0.3333333333333333,
             "#9c179e"
            ],
            [
             0.4444444444444444,
             "#bd3786"
            ],
            [
             0.5555555555555556,
             "#d8576b"
            ],
            [
             0.6666666666666666,
             "#ed7953"
            ],
            [
             0.7777777777777778,
             "#fb9f3a"
            ],
            [
             0.8888888888888888,
             "#fdca26"
            ],
            [
             1,
             "#f0f921"
            ]
           ]
          },
          "colorway": [
           "#636efa",
           "#EF553B",
           "#00cc96",
           "#ab63fa",
           "#FFA15A",
           "#19d3f3",
           "#FF6692",
           "#B6E880",
           "#FF97FF",
           "#FECB52"
          ],
          "font": {
           "color": "#2a3f5f"
          },
          "geo": {
           "bgcolor": "white",
           "lakecolor": "white",
           "landcolor": "#E5ECF6",
           "showlakes": true,
           "showland": true,
           "subunitcolor": "white"
          },
          "hoverlabel": {
           "align": "left"
          },
          "hovermode": "closest",
          "mapbox": {
           "style": "light"
          },
          "paper_bgcolor": "white",
          "plot_bgcolor": "#E5ECF6",
          "polar": {
           "angularaxis": {
            "gridcolor": "white",
            "linecolor": "white",
            "ticks": ""
           },
           "bgcolor": "#E5ECF6",
           "radialaxis": {
            "gridcolor": "white",
            "linecolor": "white",
            "ticks": ""
           }
          },
          "scene": {
           "xaxis": {
            "backgroundcolor": "#E5ECF6",
            "gridcolor": "white",
            "gridwidth": 2,
            "linecolor": "white",
            "showbackground": true,
            "ticks": "",
            "zerolinecolor": "white"
           },
           "yaxis": {
            "backgroundcolor": "#E5ECF6",
            "gridcolor": "white",
            "gridwidth": 2,
            "linecolor": "white",
            "showbackground": true,
            "ticks": "",
            "zerolinecolor": "white"
           },
           "zaxis": {
            "backgroundcolor": "#E5ECF6",
            "gridcolor": "white",
            "gridwidth": 2,
            "linecolor": "white",
            "showbackground": true,
            "ticks": "",
            "zerolinecolor": "white"
           }
          },
          "shapedefaults": {
           "line": {
            "color": "#2a3f5f"
           }
          },
          "ternary": {
           "aaxis": {
            "gridcolor": "white",
            "linecolor": "white",
            "ticks": ""
           },
           "baxis": {
            "gridcolor": "white",
            "linecolor": "white",
            "ticks": ""
           },
           "bgcolor": "#E5ECF6",
           "caxis": {
            "gridcolor": "white",
            "linecolor": "white",
            "ticks": ""
           }
          },
          "title": {
           "x": 0.05
          },
          "xaxis": {
           "automargin": true,
           "gridcolor": "white",
           "linecolor": "white",
           "ticks": "",
           "title": {
            "standoff": 15
           },
           "zerolinecolor": "white",
           "zerolinewidth": 2
          },
          "yaxis": {
           "automargin": true,
           "gridcolor": "white",
           "linecolor": "white",
           "ticks": "",
           "title": {
            "standoff": 15
           },
           "zerolinecolor": "white",
           "zerolinewidth": 2
          }
         }
        },
        "title": {
         "text": "Vict Age - Status"
        },
        "violinmode": "group",
        "xaxis": {
         "anchor": "y",
         "domain": [
          0,
          1
         ],
         "title": {
          "text": "Status"
         }
        },
        "yaxis": {
         "anchor": "x",
         "domain": [
          0,
          1
         ],
         "title": {
          "text": "Vict Age"
         }
        }
       }
      }
     },
     "metadata": {},
     "output_type": "display_data"
    }
   ],
   "source": [
    "#Violin plot\n",
    "#Gender & Age Group Distribution\n",
    "plot = px.violin(y=df['Vict Age'],\n",
    "                 x=df['Status'],\n",
    "                 box=True,\n",
    "                 points='all')\n",
    "plot.update_traces(\n",
    "    box_fillcolor='green',\n",
    "    opacity=0.5\n",
    ")\n",
    "plot.update_layout(\n",
    "    title='Vict Age - Status',\n",
    "    xaxis_title='Status',\n",
    "    yaxis_title='Vict Age'\n",
    ")\n",
    "\n",
    "plot.show()"
   ]
  },
  {
   "cell_type": "code",
   "execution_count": 31,
   "metadata": {},
   "outputs": [
    {
     "data": {
      "application/vnd.plotly.v1+json": {
       "config": {
        "plotlyServerURL": "https://plot.ly"
       },
       "data": [
        {
         "alignmentgroup": "True",
         "box": {
          "fillcolor": "green",
          "visible": true
         },
         "hovertemplate": "x=%{x}<br>y=%{y}<extra></extra>",
         "legendgroup": "",
         "marker": {
          "color": "#636efa"
         },
         "name": "",
         "offsetgroup": "",
         "opacity": 0.5,
         "orientation": "v",
         "points": "all",
         "scalegroup": "True",
         "showlegend": false,
         "type": "violin",
         "x": [
          "Southwest",
          "Central",
          "Central",
          "N Hollywood",
          "Mission",
          "Central",
          "Central",
          "Central",
          "Central",
          "Devonshire",
          "Central",
          "Central",
          "Central",
          "Central",
          "Central",
          "Mission",
          "Northeast",
          "Harbor",
          "Van Nuys",
          "Central",
          "Van Nuys",
          "Central",
          "Central",
          "West Valley",
          "Central",
          "West Valley",
          "Northeast",
          "Central",
          "West LA",
          "Central",
          "Central",
          "West LA",
          "Northeast",
          "Central",
          "Central",
          "West Valley",
          "Wilshire",
          "Van Nuys",
          "Central",
          "West LA",
          "Central",
          "Central",
          "Central",
          "Central",
          "Central",
          "Pacific",
          "Central",
          "Rampart",
          "77th Street",
          "Central",
          "Hollenbeck",
          "Hollenbeck",
          "Northeast",
          "Central",
          "Central",
          "Central",
          "Central",
          "Central",
          "West LA",
          "Central",
          "Central",
          "Central",
          "Central",
          "Central",
          "Central",
          "Southwest",
          "Central",
          "Central",
          "Central",
          "Central",
          "West LA",
          "Central",
          "Central",
          "Central",
          "Central",
          "Central",
          "Central",
          "Central",
          "Central",
          "Central",
          "Central",
          "Central",
          "Central",
          "Central",
          "Central",
          "Central",
          "Van Nuys",
          "Central",
          "Central",
          "Central",
          "Central",
          "Central",
          "Central",
          "Central",
          "Central",
          "Central",
          "Central",
          "Central",
          "Southeast",
          "Central",
          "Central",
          "Central",
          "Central",
          "Central",
          "Harbor",
          "Hollywood",
          "Central",
          "Pacific",
          "Central",
          "Newton",
          "Central",
          "Central",
          "Central",
          "Central",
          "Central",
          "Central",
          "Central",
          "Central",
          "Central",
          "Central",
          "Central",
          "Central",
          "Central",
          "Central",
          "Central",
          "Central",
          "Central",
          "Central",
          "Central",
          "Hollenbeck",
          "Wilshire",
          "Wilshire",
          "Central",
          "West LA",
          "Southwest",
          "Southwest",
          "Harbor",
          "Central",
          "Central",
          "Central",
          "West LA",
          "Southeast",
          "Central",
          "Central",
          "Central",
          "Central",
          "Central",
          "Hollenbeck",
          "Central",
          "Central",
          "Central",
          "Central",
          "Central",
          "Central",
          "Central",
          "Central",
          "Central",
          "Central",
          "West LA",
          "Central",
          "Central",
          "Central",
          "West LA",
          "Central",
          "Foothill",
          "Central",
          "Central",
          "Central",
          "Central",
          "West LA",
          "Central",
          "Central",
          "Central",
          "Central",
          "Central",
          "Central",
          "Central",
          "Central",
          "Central",
          "Hollenbeck",
          "Central",
          "Central",
          "Central",
          "Central",
          "Central",
          "Central",
          "Southwest",
          "Central",
          "West LA",
          "Central",
          "Central",
          "Central",
          "Central",
          "Central",
          "Central",
          "Central",
          "Central",
          "Central",
          "Central",
          "Central",
          "Van Nuys",
          "West Valley",
          "Wilshire",
          "Central",
          "Central",
          "Central",
          "Central",
          "Northeast",
          "Central",
          "Central",
          "Central",
          "Central",
          "Central",
          "77th Street",
          "Central",
          "Hollywood",
          "Central",
          "Central",
          "Central",
          "Central",
          "Southeast",
          "Central",
          "Central",
          "Central",
          "Central",
          "Central",
          "Central",
          "Central",
          "Central",
          "Central",
          "Central",
          "Central",
          "West LA",
          "Central",
          "Central",
          "Central",
          "Hollenbeck",
          "Central",
          "Central",
          "Central",
          "Central",
          "Central",
          "Central",
          "Harbor",
          "Central",
          "Central",
          "Central",
          "Central",
          "Central",
          "Central",
          "West Valley",
          "Central",
          "Central",
          "Central",
          "Central",
          "Central",
          "Central",
          "Central",
          "Central",
          "Wilshire",
          "Central",
          "Central",
          "Central",
          "Central",
          "Central",
          "Foothill",
          "Central",
          "Central",
          "Central",
          "Central",
          "Central",
          "Central",
          "Central",
          "Central",
          "Central",
          "Central",
          "Central",
          "West Valley",
          "Central",
          "Central",
          "Central",
          "Central",
          "Central",
          "Central",
          "Central",
          "Central",
          "Central",
          "Central",
          "Central",
          "Hollywood",
          "Rampart",
          "Hollywood",
          "Southwest",
          "Central",
          "Central",
          "Central",
          "Central",
          "Central",
          "Central",
          "Central",
          "Central",
          "Central",
          "Central",
          "Foothill",
          "Central",
          "Central",
          "Central",
          "Central",
          "Central",
          "Central",
          "Central",
          "Central",
          "Central",
          "Olympic",
          "Central",
          "Central",
          "Central",
          "Northeast",
          "Central",
          "Central",
          "Central",
          "77th Street",
          "Central",
          "Foothill",
          "Central",
          "Central",
          "Southwest",
          "Central",
          "Central",
          "Rampart",
          "Central",
          "Central",
          "Central",
          "Central",
          "Central",
          "Central",
          "Central",
          "Central",
          "Central",
          "Central",
          "Central",
          "Central",
          "Central",
          "Central",
          "Central",
          "Central",
          "Central",
          "Central",
          "Central",
          "Central",
          "Central",
          "Central",
          "Central",
          "Central",
          "Central",
          "Central",
          "Hollywood",
          "Central",
          "Central",
          "Central",
          "Rampart",
          "Central",
          "Central",
          "Central",
          "Central",
          "Hollenbeck",
          "Central",
          "Central",
          "Central",
          "Central",
          "Wilshire",
          "Central",
          "Central",
          "Central",
          "Central",
          "Central",
          "Central",
          "Central",
          "Central",
          "Central",
          "Central",
          "Hollywood",
          "Van Nuys",
          "West LA",
          "Central",
          "Central",
          "West Valley",
          "Central",
          "Central",
          "Central",
          "Hollenbeck",
          "Central",
          "Central",
          "Central",
          "Central",
          "Central",
          "Central",
          "Central",
          "West LA",
          "Central",
          "Central",
          "Central",
          "Central",
          "Central",
          "Central",
          "Central",
          "Southeast",
          "Central",
          "Central",
          "Central",
          "Central",
          "Central",
          "Central",
          "Harbor",
          "Rampart",
          "Central",
          "Central",
          "Central",
          "Central",
          "Central",
          "Central",
          "Central",
          "Central",
          "Central",
          "Central",
          "77th Street",
          "Central",
          "Central",
          "Central",
          "Hollywood",
          "Central",
          "Central",
          "Wilshire",
          "Hollywood",
          "Central",
          "Northeast",
          "Central",
          "Central",
          "Central",
          "Central",
          "Central",
          "Van Nuys",
          "Central",
          "Devonshire",
          "Central",
          "Central",
          "Central",
          "Central",
          "Central",
          "Central",
          "Central",
          "Central",
          "Central",
          "Devonshire",
          "Central",
          "Southeast",
          "Central",
          "Central",
          "Central",
          "Central",
          "Central",
          "Hollywood",
          "Central",
          "Olympic",
          "Hollywood",
          "Central",
          "Central",
          "Central",
          "West LA",
          "Central",
          "Southwest",
          "Central",
          "Central",
          "Hollenbeck",
          "Central",
          "Central",
          "Central",
          "Central",
          "Central",
          "Central",
          "Central",
          "Central",
          "Central",
          "Central",
          "Central",
          "Central",
          "Central",
          "Central",
          "Central",
          "Central",
          "Northeast",
          "Central",
          "Central",
          "Central",
          "Central",
          "77th Street",
          "Central",
          "Central",
          "Central",
          "Central",
          "Central",
          "Central",
          "Mission",
          "Van Nuys",
          "Central",
          "Central",
          "Central",
          "Central",
          "Central",
          "Central",
          "Central",
          "Central",
          "Central",
          "Central",
          "Rampart",
          "Central",
          "Central",
          "Central",
          "Central",
          "Southwest",
          "Central",
          "Harbor",
          "Central",
          "Pacific",
          "Central",
          "Central",
          "77th Street",
          "Olympic",
          "Central",
          "Central",
          "Central",
          "Harbor",
          "Central",
          "Central",
          "Central",
          "Central",
          "Southeast",
          "Central",
          "Southeast",
          "Southeast",
          "Central",
          "Central",
          "Central",
          "Central",
          "Central",
          "Central",
          "Central",
          "Central",
          "Central",
          "Hollywood",
          "Central",
          "Central",
          "N Hollywood",
          "Central",
          "Central",
          "West LA",
          "Central",
          "Central",
          "Central",
          "Central",
          "Central",
          "Central",
          "Central",
          "Central",
          "Central",
          "Central",
          "Hollywood",
          "Central",
          "Central",
          "Central",
          "Central",
          "Southeast",
          "Southwest",
          "Central",
          "Central",
          "Central",
          "Wilshire",
          "Central",
          "Central",
          "West LA",
          "Rampart",
          "Central",
          "Central",
          "Central",
          "Harbor",
          "Central",
          "Central",
          "Central",
          "Central",
          "Central",
          "Central",
          "Central",
          "Central",
          "Central",
          "Central",
          "Central",
          "Central",
          "Central",
          "Central",
          "Hollenbeck",
          "Central",
          "Central",
          "Central",
          "Central",
          "Central",
          "Northeast",
          "Central",
          "Olympic",
          "Rampart",
          "Devonshire",
          "Central",
          "Central",
          "Southeast",
          "Central",
          "Central",
          "Central",
          "West LA",
          "Central",
          "Central",
          "Central",
          "Central",
          "Central",
          "Central",
          "Central",
          "Central",
          "Central",
          "Central",
          "Central",
          "Central",
          "Central",
          "Central",
          "Central",
          "Central",
          "Central",
          "Central",
          "Central",
          "Central",
          "Central",
          "77th Street",
          "Central",
          "Central",
          "Central",
          "Central",
          "Central",
          "Central",
          "Central",
          "Central",
          "Central",
          "Central",
          "Central",
          "Central",
          "Harbor",
          "Central",
          "Central",
          "Central",
          "Central",
          "Central",
          "Harbor",
          "Southwest",
          "Central",
          "Central",
          "Central",
          "Central",
          "Central",
          "Central",
          "Central",
          "Central",
          "Wilshire",
          "Van Nuys",
          "West Valley",
          "Central",
          "Wilshire",
          "Central",
          "Newton",
          "Newton",
          "Central",
          "Central",
          "Van Nuys",
          "Central",
          "Central",
          "Northeast",
          "Central",
          "Central",
          "Central",
          "Central",
          "Central",
          "Central",
          "Central",
          "Central",
          "Central",
          "Central",
          "West Valley",
          "Central",
          "Central",
          "Central",
          "Central",
          "Central",
          "Central",
          "West Valley",
          "Pacific",
          "Central",
          "Central",
          "Central",
          "Central",
          "Central",
          "Central",
          "Central",
          "Central",
          "Central",
          "Central",
          "Central",
          "Central",
          "Central",
          "Central",
          "Central",
          "Central",
          "Central",
          "Central",
          "Hollenbeck",
          "Central",
          "Central",
          "Central",
          "Central",
          "Central",
          "West Valley",
          "Central",
          "Central",
          "Central",
          "Devonshire",
          "Southwest",
          "West LA",
          "Van Nuys",
          "77th Street",
          "Central",
          "Central",
          "Central",
          "Central",
          "Central",
          "Central",
          "Central",
          "Central",
          "Central",
          "Central",
          "Central",
          "Central",
          "Central",
          "Rampart",
          "Central",
          "Central",
          "Central",
          "Northeast",
          "Central",
          "Rampart",
          "Central",
          "Central",
          "Central",
          "Van Nuys",
          "Rampart",
          "Central",
          "Central",
          "Central",
          "Central",
          "Harbor",
          "Central",
          "Central",
          "Central",
          "Harbor",
          "Central",
          "Central",
          "Central",
          "Central",
          "77th Street",
          "Central",
          "Central",
          "Central",
          "Central",
          "Central",
          "Central",
          "Central",
          "Central",
          "Central",
          "Rampart",
          "Central",
          "Central",
          "West Valley",
          "Central",
          "Central",
          "Hollywood",
          "Northeast",
          "West Valley",
          "Central",
          "Central",
          "West LA",
          "Central",
          "Central",
          "Central",
          "Central",
          "Central",
          "Hollywood",
          "Pacific",
          "Central",
          "Central",
          "Harbor",
          "Central",
          "Central",
          "Central",
          "Central",
          "Van Nuys",
          "Central",
          "Central",
          "Central",
          "Hollenbeck",
          "Central",
          "Devonshire",
          "Central",
          "Central",
          "Central",
          "Olympic",
          "Van Nuys",
          "Southwest",
          "West Valley",
          "Central",
          "Central",
          "Central",
          "Central",
          "Central",
          "Central",
          "Central",
          "Central",
          "Hollenbeck",
          "Central",
          "Pacific",
          "Harbor",
          "Hollywood",
          "Central",
          "Central",
          "Central",
          "Central",
          "Central",
          "Central",
          "Central",
          "Central",
          "Central",
          "Central",
          "Central",
          "Central",
          "Central",
          "Central",
          "Wilshire",
          "Central",
          "Central",
          "Central",
          "Central",
          "Central",
          "Central",
          "Central",
          "Central",
          "Central",
          "Central",
          "Central",
          "Central",
          "Central",
          "Southwest",
          "Central",
          "Central",
          "Central",
          "Central",
          "Central",
          "Central",
          "Central",
          "Central",
          "Central",
          "Central",
          "Central",
          "Central",
          "Central",
          "Central",
          "Central",
          "Central",
          "Central",
          "Central",
          "Rampart",
          "Central",
          "Central",
          "Central",
          "Central",
          "Central",
          "Central",
          "Central",
          "Central",
          "Central",
          "Central",
          "Central",
          "Central",
          "Central",
          "Central",
          "Central",
          "Central",
          "Central",
          "Central",
          "Central",
          "Central",
          "Central",
          "Central",
          "Harbor",
          "Central",
          "Central",
          "Central",
          "Central",
          "Central",
          "Central",
          "Central",
          "Northeast",
          "Topanga",
          "Central",
          "Central",
          "Central",
          "Central",
          "Central",
          "Central",
          "Central",
          "Central",
          "Central",
          "Central",
          "Central",
          "Central",
          "Central",
          "Central",
          "Central",
          "Central",
          "Central",
          "Central",
          "Central",
          "Central",
          "Central",
          "Central",
          "Central",
          "Central",
          "Harbor",
          "Central",
          "Hollywood",
          "Northeast",
          "Central",
          "Central",
          "Rampart",
          "Central",
          "Central",
          "Central",
          "Hollenbeck",
          "Central",
          "Central",
          "Rampart",
          "Central",
          "Central",
          "Central",
          "Central",
          "Central",
          "Central",
          "Central",
          "Central",
          "Central",
          "Central",
          "Central",
          "Central",
          "Central",
          "Central",
          "Central",
          "Hollenbeck",
          "Central",
          "Rampart",
          "Central",
          "Central",
          "Central",
          "Central",
          "Central",
          "Central",
          "Central",
          "Central",
          "Central",
          "Harbor",
          "Central",
          "Hollenbeck",
          "Central",
          "Central",
          "Central",
          "Central",
          "Central",
          "Foothill",
          "Hollywood",
          "Central",
          "Central",
          "Central",
          "Central",
          "Central",
          "Central",
          "Central",
          "Central",
          "West LA",
          "Harbor",
          "Northeast"
         ],
         "x0": " ",
         "xaxis": "x",
         "y": [
          36,
          25,
          0,
          76,
          31,
          25,
          23,
          0,
          23,
          0,
          29,
          35,
          41,
          0,
          24,
          24,
          34,
          29,
          46,
          66,
          40,
          31,
          27,
          46,
          62,
          34,
          43,
          71,
          50,
          19,
          51,
          27,
          33,
          0,
          69,
          39,
          19,
          57,
          0,
          78,
          0,
          24,
          52,
          38,
          55,
          0,
          66,
          34,
          50,
          35,
          40,
          27,
          51,
          0,
          44,
          41,
          57,
          25,
          24,
          34,
          18,
          57,
          55,
          23,
          55,
          54,
          0,
          0,
          22,
          28,
          42,
          43,
          46,
          56,
          55,
          55,
          0,
          0,
          0,
          67,
          57,
          37,
          0,
          60,
          0,
          51,
          52,
          61,
          38,
          36,
          59,
          32,
          44,
          60,
          24,
          31,
          30,
          50,
          50,
          40,
          34,
          34,
          45,
          62,
          0,
          0,
          20,
          31,
          0,
          15,
          51,
          23,
          29,
          58,
          24,
          51,
          41,
          32,
          23,
          35,
          28,
          0,
          58,
          57,
          27,
          30,
          30,
          31,
          0,
          24,
          29,
          47,
          48,
          32,
          23,
          0,
          46,
          40,
          57,
          32,
          58,
          25,
          0,
          18,
          25,
          0,
          37,
          23,
          0,
          67,
          26,
          47,
          21,
          26,
          64,
          26,
          31,
          39,
          35,
          25,
          0,
          28,
          33,
          75,
          0,
          32,
          0,
          0,
          30,
          44,
          28,
          26,
          56,
          0,
          35,
          28,
          19,
          43,
          0,
          12,
          43,
          59,
          34,
          38,
          37,
          0,
          27,
          61,
          49,
          22,
          43,
          71,
          71,
          0,
          55,
          19,
          68,
          38,
          48,
          69,
          14,
          37,
          26,
          50,
          13,
          61,
          0,
          50,
          26,
          26,
          26,
          45,
          36,
          45,
          24,
          0,
          0,
          50,
          25,
          27,
          10,
          33,
          53,
          38,
          23,
          74,
          0,
          0,
          23,
          26,
          0,
          23,
          49,
          57,
          40,
          25,
          0,
          34,
          35,
          38,
          29,
          24,
          26,
          0,
          56,
          26,
          47,
          29,
          29,
          0,
          45,
          38,
          0,
          32,
          30,
          62,
          71,
          53,
          31,
          53,
          0,
          49,
          38,
          55,
          43,
          64,
          56,
          34,
          30,
          35,
          0,
          36,
          25,
          67,
          37,
          57,
          40,
          0,
          59,
          34,
          20,
          69,
          0,
          0,
          58,
          33,
          28,
          31,
          38,
          0,
          25,
          0,
          25,
          34,
          41,
          49,
          20,
          45,
          30,
          27,
          38,
          32,
          39,
          35,
          64,
          57,
          34,
          29,
          0,
          27,
          0,
          17,
          17,
          26,
          32,
          53,
          0,
          0,
          46,
          55,
          33,
          0,
          0,
          33,
          27,
          48,
          60,
          0,
          30,
          0,
          45,
          54,
          26,
          26,
          28,
          36,
          0,
          33,
          27,
          0,
          0,
          48,
          0,
          28,
          58,
          51,
          64,
          32,
          32,
          0,
          39,
          38,
          29,
          38,
          20,
          57,
          0,
          65,
          22,
          67,
          37,
          22,
          0,
          30,
          30,
          46,
          0,
          65,
          28,
          41,
          35,
          28,
          35,
          35,
          38,
          32,
          39,
          57,
          56,
          29,
          29,
          36,
          45,
          0,
          47,
          30,
          45,
          34,
          57,
          45,
          30,
          28,
          62,
          21,
          27,
          26,
          26,
          0,
          51,
          29,
          23,
          38,
          27,
          37,
          35,
          60,
          28,
          26,
          36,
          45,
          0,
          0,
          20,
          0,
          19,
          27,
          46,
          44,
          26,
          22,
          32,
          0,
          0,
          40,
          0,
          63,
          57,
          61,
          39,
          28,
          22,
          35,
          38,
          22,
          22,
          34,
          40,
          33,
          54,
          21,
          21,
          29,
          24,
          31,
          18,
          0,
          62,
          36,
          0,
          0,
          27,
          19,
          61,
          30,
          28,
          35,
          27,
          0,
          31,
          50,
          0,
          56,
          32,
          22,
          0,
          21,
          26,
          0,
          0,
          0,
          0,
          41,
          29,
          27,
          24,
          0,
          29,
          28,
          22,
          59,
          33,
          27,
          31,
          56,
          60,
          61,
          31,
          24,
          30,
          36,
          0,
          32,
          50,
          43,
          24,
          8,
          25,
          0,
          28,
          0,
          66,
          0,
          65,
          37,
          37,
          30,
          52,
          0,
          40,
          33,
          22,
          0,
          74,
          0,
          41,
          16,
          45,
          64,
          51,
          24,
          30,
          53,
          59,
          0,
          47,
          35,
          8,
          0,
          38,
          44,
          33,
          0,
          22,
          51,
          23,
          71,
          28,
          59,
          50,
          34,
          14,
          29,
          33,
          34,
          60,
          65,
          0,
          60,
          69,
          0,
          72,
          23,
          31,
          26,
          46,
          57,
          39,
          30,
          0,
          56,
          33,
          35,
          28,
          31,
          55,
          59,
          29,
          33,
          30,
          46,
          20,
          18,
          0,
          0,
          40,
          46,
          43,
          27,
          25,
          0,
          0,
          41,
          43,
          48,
          33,
          30,
          68,
          23,
          53,
          29,
          23,
          38,
          48,
          0,
          34,
          69,
          23,
          30,
          31,
          45,
          22,
          38,
          28,
          61,
          23,
          24,
          0,
          60,
          0,
          56,
          46,
          53,
          26,
          21,
          21,
          50,
          71,
          24,
          36,
          30,
          57,
          38,
          63,
          25,
          14,
          12,
          0,
          65,
          46,
          46,
          64,
          0,
          0,
          23,
          60,
          63,
          66,
          55,
          27,
          20,
          76,
          0,
          38,
          38,
          47,
          60,
          51,
          60,
          28,
          23,
          24,
          0,
          39,
          33,
          0,
          28,
          14,
          38,
          32,
          33,
          25,
          57,
          0,
          26,
          31,
          37,
          33,
          57,
          23,
          0,
          33,
          70,
          0,
          27,
          9,
          30,
          30,
          36,
          27,
          39,
          0,
          48,
          39,
          31,
          34,
          29,
          0,
          30,
          0,
          38,
          21,
          38,
          60,
          58,
          36,
          34,
          48,
          27,
          34,
          0,
          24,
          51,
          27,
          34,
          29,
          52,
          0,
          52,
          37,
          43,
          0,
          31,
          52,
          55,
          50,
          61,
          26,
          60,
          0,
          62,
          24,
          34,
          56,
          34,
          0,
          48,
          29,
          27,
          33,
          15,
          0,
          34,
          61,
          31,
          35,
          31,
          28,
          48,
          25,
          54,
          37,
          21,
          28,
          46,
          0,
          23,
          0,
          54,
          52,
          34,
          0,
          35,
          0,
          0,
          0,
          37,
          35,
          9,
          0,
          64,
          43,
          29,
          40,
          44,
          38,
          32,
          53,
          40,
          23,
          25,
          58,
          68,
          45,
          30,
          65,
          90,
          29,
          26,
          55,
          52,
          60,
          0,
          33,
          38,
          46,
          63,
          34,
          28,
          40,
          0,
          29,
          36,
          35,
          52,
          48,
          35,
          53,
          32,
          26,
          20,
          34,
          39,
          0,
          0,
          55,
          49,
          49,
          23,
          26,
          85,
          49,
          37,
          59,
          0,
          57,
          81,
          28,
          41,
          33,
          19,
          0,
          37,
          22,
          49,
          49,
          19,
          23,
          35,
          32,
          0,
          32,
          50,
          0,
          19,
          38,
          23,
          56,
          0,
          35,
          36,
          32,
          48,
          0,
          50,
          65,
          53,
          79,
          52,
          38,
          23,
          20,
          0,
          50,
          32,
          27,
          26,
          44,
          29,
          28,
          25,
          19,
          25,
          19,
          94,
          37,
          37,
          47,
          36,
          26,
          23,
          22,
          23,
          42,
          0,
          57,
          0,
          50,
          55,
          62,
          44,
          36,
          62,
          0,
          34,
          34,
          25,
          41,
          27,
          28,
          45,
          62,
          49,
          27,
          0,
          51,
          35,
          31,
          35,
          24,
          0,
          44,
          55,
          27,
          32,
          48,
          39,
          35,
          26,
          35,
          20,
          67,
          0,
          0,
          34,
          27,
          26,
          23,
          37,
          31,
          37,
          31,
          30,
          24,
          0,
          25,
          38,
          31,
          21,
          22,
          0,
          26,
          21,
          33,
          50,
          52,
          0,
          29,
          68,
          41,
          51,
          54,
          36,
          25,
          37,
          14,
          23,
          0,
          32,
          0,
          28,
          28,
          22,
          14,
          54,
          35,
          27,
          53,
          23,
          68,
          41,
          45,
          0,
          0,
          0,
          33,
          0,
          31,
          27,
          28,
          30,
          0,
          0,
          63,
          48,
          61,
          0,
          72,
          23,
          41,
          60,
          73,
          24,
          21,
          0,
          30,
          37,
          30,
          76,
          38,
          57,
          32,
          0,
          64,
          25,
          0,
          50,
          0,
          55,
          33,
          48
         ],
         "y0": " ",
         "yaxis": "y"
        }
       ],
       "layout": {
        "legend": {
         "tracegroupgap": 0
        },
        "margin": {
         "t": 60
        },
        "template": {
         "data": {
          "bar": [
           {
            "error_x": {
             "color": "#2a3f5f"
            },
            "error_y": {
             "color": "#2a3f5f"
            },
            "marker": {
             "line": {
              "color": "#E5ECF6",
              "width": 0.5
             },
             "pattern": {
              "fillmode": "overlay",
              "size": 10,
              "solidity": 0.2
             }
            },
            "type": "bar"
           }
          ],
          "barpolar": [
           {
            "marker": {
             "line": {
              "color": "#E5ECF6",
              "width": 0.5
             },
             "pattern": {
              "fillmode": "overlay",
              "size": 10,
              "solidity": 0.2
             }
            },
            "type": "barpolar"
           }
          ],
          "carpet": [
           {
            "aaxis": {
             "endlinecolor": "#2a3f5f",
             "gridcolor": "white",
             "linecolor": "white",
             "minorgridcolor": "white",
             "startlinecolor": "#2a3f5f"
            },
            "baxis": {
             "endlinecolor": "#2a3f5f",
             "gridcolor": "white",
             "linecolor": "white",
             "minorgridcolor": "white",
             "startlinecolor": "#2a3f5f"
            },
            "type": "carpet"
           }
          ],
          "choropleth": [
           {
            "colorbar": {
             "outlinewidth": 0,
             "ticks": ""
            },
            "type": "choropleth"
           }
          ],
          "contour": [
           {
            "colorbar": {
             "outlinewidth": 0,
             "ticks": ""
            },
            "colorscale": [
             [
              0,
              "#0d0887"
             ],
             [
              0.1111111111111111,
              "#46039f"
             ],
             [
              0.2222222222222222,
              "#7201a8"
             ],
             [
              0.3333333333333333,
              "#9c179e"
             ],
             [
              0.4444444444444444,
              "#bd3786"
             ],
             [
              0.5555555555555556,
              "#d8576b"
             ],
             [
              0.6666666666666666,
              "#ed7953"
             ],
             [
              0.7777777777777778,
              "#fb9f3a"
             ],
             [
              0.8888888888888888,
              "#fdca26"
             ],
             [
              1,
              "#f0f921"
             ]
            ],
            "type": "contour"
           }
          ],
          "contourcarpet": [
           {
            "colorbar": {
             "outlinewidth": 0,
             "ticks": ""
            },
            "type": "contourcarpet"
           }
          ],
          "heatmap": [
           {
            "colorbar": {
             "outlinewidth": 0,
             "ticks": ""
            },
            "colorscale": [
             [
              0,
              "#0d0887"
             ],
             [
              0.1111111111111111,
              "#46039f"
             ],
             [
              0.2222222222222222,
              "#7201a8"
             ],
             [
              0.3333333333333333,
              "#9c179e"
             ],
             [
              0.4444444444444444,
              "#bd3786"
             ],
             [
              0.5555555555555556,
              "#d8576b"
             ],
             [
              0.6666666666666666,
              "#ed7953"
             ],
             [
              0.7777777777777778,
              "#fb9f3a"
             ],
             [
              0.8888888888888888,
              "#fdca26"
             ],
             [
              1,
              "#f0f921"
             ]
            ],
            "type": "heatmap"
           }
          ],
          "heatmapgl": [
           {
            "colorbar": {
             "outlinewidth": 0,
             "ticks": ""
            },
            "colorscale": [
             [
              0,
              "#0d0887"
             ],
             [
              0.1111111111111111,
              "#46039f"
             ],
             [
              0.2222222222222222,
              "#7201a8"
             ],
             [
              0.3333333333333333,
              "#9c179e"
             ],
             [
              0.4444444444444444,
              "#bd3786"
             ],
             [
              0.5555555555555556,
              "#d8576b"
             ],
             [
              0.6666666666666666,
              "#ed7953"
             ],
             [
              0.7777777777777778,
              "#fb9f3a"
             ],
             [
              0.8888888888888888,
              "#fdca26"
             ],
             [
              1,
              "#f0f921"
             ]
            ],
            "type": "heatmapgl"
           }
          ],
          "histogram": [
           {
            "marker": {
             "pattern": {
              "fillmode": "overlay",
              "size": 10,
              "solidity": 0.2
             }
            },
            "type": "histogram"
           }
          ],
          "histogram2d": [
           {
            "colorbar": {
             "outlinewidth": 0,
             "ticks": ""
            },
            "colorscale": [
             [
              0,
              "#0d0887"
             ],
             [
              0.1111111111111111,
              "#46039f"
             ],
             [
              0.2222222222222222,
              "#7201a8"
             ],
             [
              0.3333333333333333,
              "#9c179e"
             ],
             [
              0.4444444444444444,
              "#bd3786"
             ],
             [
              0.5555555555555556,
              "#d8576b"
             ],
             [
              0.6666666666666666,
              "#ed7953"
             ],
             [
              0.7777777777777778,
              "#fb9f3a"
             ],
             [
              0.8888888888888888,
              "#fdca26"
             ],
             [
              1,
              "#f0f921"
             ]
            ],
            "type": "histogram2d"
           }
          ],
          "histogram2dcontour": [
           {
            "colorbar": {
             "outlinewidth": 0,
             "ticks": ""
            },
            "colorscale": [
             [
              0,
              "#0d0887"
             ],
             [
              0.1111111111111111,
              "#46039f"
             ],
             [
              0.2222222222222222,
              "#7201a8"
             ],
             [
              0.3333333333333333,
              "#9c179e"
             ],
             [
              0.4444444444444444,
              "#bd3786"
             ],
             [
              0.5555555555555556,
              "#d8576b"
             ],
             [
              0.6666666666666666,
              "#ed7953"
             ],
             [
              0.7777777777777778,
              "#fb9f3a"
             ],
             [
              0.8888888888888888,
              "#fdca26"
             ],
             [
              1,
              "#f0f921"
             ]
            ],
            "type": "histogram2dcontour"
           }
          ],
          "mesh3d": [
           {
            "colorbar": {
             "outlinewidth": 0,
             "ticks": ""
            },
            "type": "mesh3d"
           }
          ],
          "parcoords": [
           {
            "line": {
             "colorbar": {
              "outlinewidth": 0,
              "ticks": ""
             }
            },
            "type": "parcoords"
           }
          ],
          "pie": [
           {
            "automargin": true,
            "type": "pie"
           }
          ],
          "scatter": [
           {
            "fillpattern": {
             "fillmode": "overlay",
             "size": 10,
             "solidity": 0.2
            },
            "type": "scatter"
           }
          ],
          "scatter3d": [
           {
            "line": {
             "colorbar": {
              "outlinewidth": 0,
              "ticks": ""
             }
            },
            "marker": {
             "colorbar": {
              "outlinewidth": 0,
              "ticks": ""
             }
            },
            "type": "scatter3d"
           }
          ],
          "scattercarpet": [
           {
            "marker": {
             "colorbar": {
              "outlinewidth": 0,
              "ticks": ""
             }
            },
            "type": "scattercarpet"
           }
          ],
          "scattergeo": [
           {
            "marker": {
             "colorbar": {
              "outlinewidth": 0,
              "ticks": ""
             }
            },
            "type": "scattergeo"
           }
          ],
          "scattergl": [
           {
            "marker": {
             "colorbar": {
              "outlinewidth": 0,
              "ticks": ""
             }
            },
            "type": "scattergl"
           }
          ],
          "scattermapbox": [
           {
            "marker": {
             "colorbar": {
              "outlinewidth": 0,
              "ticks": ""
             }
            },
            "type": "scattermapbox"
           }
          ],
          "scatterpolar": [
           {
            "marker": {
             "colorbar": {
              "outlinewidth": 0,
              "ticks": ""
             }
            },
            "type": "scatterpolar"
           }
          ],
          "scatterpolargl": [
           {
            "marker": {
             "colorbar": {
              "outlinewidth": 0,
              "ticks": ""
             }
            },
            "type": "scatterpolargl"
           }
          ],
          "scatterternary": [
           {
            "marker": {
             "colorbar": {
              "outlinewidth": 0,
              "ticks": ""
             }
            },
            "type": "scatterternary"
           }
          ],
          "surface": [
           {
            "colorbar": {
             "outlinewidth": 0,
             "ticks": ""
            },
            "colorscale": [
             [
              0,
              "#0d0887"
             ],
             [
              0.1111111111111111,
              "#46039f"
             ],
             [
              0.2222222222222222,
              "#7201a8"
             ],
             [
              0.3333333333333333,
              "#9c179e"
             ],
             [
              0.4444444444444444,
              "#bd3786"
             ],
             [
              0.5555555555555556,
              "#d8576b"
             ],
             [
              0.6666666666666666,
              "#ed7953"
             ],
             [
              0.7777777777777778,
              "#fb9f3a"
             ],
             [
              0.8888888888888888,
              "#fdca26"
             ],
             [
              1,
              "#f0f921"
             ]
            ],
            "type": "surface"
           }
          ],
          "table": [
           {
            "cells": {
             "fill": {
              "color": "#EBF0F8"
             },
             "line": {
              "color": "white"
             }
            },
            "header": {
             "fill": {
              "color": "#C8D4E3"
             },
             "line": {
              "color": "white"
             }
            },
            "type": "table"
           }
          ]
         },
         "layout": {
          "annotationdefaults": {
           "arrowcolor": "#2a3f5f",
           "arrowhead": 0,
           "arrowwidth": 1
          },
          "autotypenumbers": "strict",
          "coloraxis": {
           "colorbar": {
            "outlinewidth": 0,
            "ticks": ""
           }
          },
          "colorscale": {
           "diverging": [
            [
             0,
             "#8e0152"
            ],
            [
             0.1,
             "#c51b7d"
            ],
            [
             0.2,
             "#de77ae"
            ],
            [
             0.3,
             "#f1b6da"
            ],
            [
             0.4,
             "#fde0ef"
            ],
            [
             0.5,
             "#f7f7f7"
            ],
            [
             0.6,
             "#e6f5d0"
            ],
            [
             0.7,
             "#b8e186"
            ],
            [
             0.8,
             "#7fbc41"
            ],
            [
             0.9,
             "#4d9221"
            ],
            [
             1,
             "#276419"
            ]
           ],
           "sequential": [
            [
             0,
             "#0d0887"
            ],
            [
             0.1111111111111111,
             "#46039f"
            ],
            [
             0.2222222222222222,
             "#7201a8"
            ],
            [
             0.3333333333333333,
             "#9c179e"
            ],
            [
             0.4444444444444444,
             "#bd3786"
            ],
            [
             0.5555555555555556,
             "#d8576b"
            ],
            [
             0.6666666666666666,
             "#ed7953"
            ],
            [
             0.7777777777777778,
             "#fb9f3a"
            ],
            [
             0.8888888888888888,
             "#fdca26"
            ],
            [
             1,
             "#f0f921"
            ]
           ],
           "sequentialminus": [
            [
             0,
             "#0d0887"
            ],
            [
             0.1111111111111111,
             "#46039f"
            ],
            [
             0.2222222222222222,
             "#7201a8"
            ],
            [
             0.3333333333333333,
             "#9c179e"
            ],
            [
             0.4444444444444444,
             "#bd3786"
            ],
            [
             0.5555555555555556,
             "#d8576b"
            ],
            [
             0.6666666666666666,
             "#ed7953"
            ],
            [
             0.7777777777777778,
             "#fb9f3a"
            ],
            [
             0.8888888888888888,
             "#fdca26"
            ],
            [
             1,
             "#f0f921"
            ]
           ]
          },
          "colorway": [
           "#636efa",
           "#EF553B",
           "#00cc96",
           "#ab63fa",
           "#FFA15A",
           "#19d3f3",
           "#FF6692",
           "#B6E880",
           "#FF97FF",
           "#FECB52"
          ],
          "font": {
           "color": "#2a3f5f"
          },
          "geo": {
           "bgcolor": "white",
           "lakecolor": "white",
           "landcolor": "#E5ECF6",
           "showlakes": true,
           "showland": true,
           "subunitcolor": "white"
          },
          "hoverlabel": {
           "align": "left"
          },
          "hovermode": "closest",
          "mapbox": {
           "style": "light"
          },
          "paper_bgcolor": "white",
          "plot_bgcolor": "#E5ECF6",
          "polar": {
           "angularaxis": {
            "gridcolor": "white",
            "linecolor": "white",
            "ticks": ""
           },
           "bgcolor": "#E5ECF6",
           "radialaxis": {
            "gridcolor": "white",
            "linecolor": "white",
            "ticks": ""
           }
          },
          "scene": {
           "xaxis": {
            "backgroundcolor": "#E5ECF6",
            "gridcolor": "white",
            "gridwidth": 2,
            "linecolor": "white",
            "showbackground": true,
            "ticks": "",
            "zerolinecolor": "white"
           },
           "yaxis": {
            "backgroundcolor": "#E5ECF6",
            "gridcolor": "white",
            "gridwidth": 2,
            "linecolor": "white",
            "showbackground": true,
            "ticks": "",
            "zerolinecolor": "white"
           },
           "zaxis": {
            "backgroundcolor": "#E5ECF6",
            "gridcolor": "white",
            "gridwidth": 2,
            "linecolor": "white",
            "showbackground": true,
            "ticks": "",
            "zerolinecolor": "white"
           }
          },
          "shapedefaults": {
           "line": {
            "color": "#2a3f5f"
           }
          },
          "ternary": {
           "aaxis": {
            "gridcolor": "white",
            "linecolor": "white",
            "ticks": ""
           },
           "baxis": {
            "gridcolor": "white",
            "linecolor": "white",
            "ticks": ""
           },
           "bgcolor": "#E5ECF6",
           "caxis": {
            "gridcolor": "white",
            "linecolor": "white",
            "ticks": ""
           }
          },
          "title": {
           "x": 0.05
          },
          "xaxis": {
           "automargin": true,
           "gridcolor": "white",
           "linecolor": "white",
           "ticks": "",
           "title": {
            "standoff": 15
           },
           "zerolinecolor": "white",
           "zerolinewidth": 2
          },
          "yaxis": {
           "automargin": true,
           "gridcolor": "white",
           "linecolor": "white",
           "ticks": "",
           "title": {
            "standoff": 15
           },
           "zerolinecolor": "white",
           "zerolinewidth": 2
          }
         }
        },
        "title": {
         "text": "Vict Age - AREA NAME"
        },
        "violinmode": "group",
        "xaxis": {
         "anchor": "y",
         "domain": [
          0,
          1
         ],
         "title": {
          "text": "Vict Age"
         }
        },
        "yaxis": {
         "anchor": "x",
         "domain": [
          0,
          1
         ],
         "title": {
          "text": "AREA NAME"
         }
        }
       }
      }
     },
     "metadata": {},
     "output_type": "display_data"
    }
   ],
   "source": [
    "#Violin plot\n",
    "#Gender & Age Group Distribution\n",
    "plot = px.violin(y=df['Vict Age'],\n",
    "                 x=df['AREA NAME'],\n",
    "                 box=True,\n",
    "                 points='all')\n",
    "plot.update_traces(\n",
    "    box_fillcolor='green',\n",
    "    opacity=0.5\n",
    ")\n",
    "plot.update_layout(\n",
    "    title='Vict Age - AREA NAME',\n",
    "    xaxis_title='Vict Age',\n",
    "    yaxis_title='AREA NAME'\n",
    ")\n",
    "\n",
    "plot.show()"
   ]
  },
  {
   "cell_type": "code",
   "execution_count": 32,
   "metadata": {},
   "outputs": [
    {
     "data": {
      "image/png": "[encoded data removed]",
      "text/plain": [
       "<Figure size 2000x1000 with 1 Axes>"
      ]
     },
     "metadata": {},
     "output_type": "display_data"
    }
   ],
   "source": [
    "fig,ax = plt.subplots(figsize = (20,10))\n",
    "sns.countplot(df, x = \"AREA NAME\", ax = ax,order=df['AREA NAME'].value_counts().index)\n",
    "\n",
    "for rect in ax.patches:\n",
    "    height = rect.get_height()\n",
    "    ax.annotate(text = f\"{numerize.numerize(height)}\", \n",
    "               xy = (rect.get_x()+rect.get_width()/2, height), \n",
    "               xytext = (0,3), \n",
    "               textcoords = \"offset points\", \n",
    "               ha = \"center\", \n",
    "               va = \"bottom\", \n",
    "               color = \"black\")\n",
    "ax.set_title(\"AREA NAME\", fontsize = 10, fontweight = \"bold\", color = \"darkred\")\n",
    "fig.show()"
   ]
  },
  {
   "cell_type": "code",
   "execution_count": 33,
   "metadata": {},
   "outputs": [
    {
     "data": {
      "image/png": "[encoded data removed]",
      "text/plain": [
       "<Figure size 2000x1000 with 1 Axes>"
      ]
     },
     "metadata": {},
     "output_type": "display_data"
    }
   ],
   "source": [
    "fig,ax = plt.subplots(figsize = (20,10))\n",
    "sns.countplot(df, x = \"Vict Sex\", ax = ax,order=df['Vict Sex'].value_counts().index)\n",
    "\n",
    "for rect in ax.patches:\n",
    "    height = rect.get_height()\n",
    "    ax.annotate(text = f\"{numerize.numerize(height)}\", \n",
    "               xy = (rect.get_x()+rect.get_width()/2, height), \n",
    "               xytext = (0,3), \n",
    "               textcoords = \"offset points\", \n",
    "               ha = \"center\", \n",
    "               va = \"bottom\", \n",
    "               color = \"black\")\n",
    "ax.set_title(\"AREA NAME\", fontsize = 10, fontweight = \"bold\", color = \"darkred\")\n",
    "fig.show()"
   ]
  },
  {
   "cell_type": "code",
   "execution_count": 34,
   "metadata": {},
   "outputs": [
    {
     "data": {
      "image/png": "[encoded data removed]",
      "text/plain": [
       "<Figure size 2000x1000 with 1 Axes>"
      ]
     },
     "metadata": {},
     "output_type": "display_data"
    }
   ],
   "source": [
    "fig,ax = plt.subplots(figsize = (20,10))\n",
    "sns.countplot(df, x = \"Rpt Dist No\", ax = ax,order=df['Rpt Dist No'].value_counts().iloc[:20].index)\n",
    "\n",
    "for rect in ax.patches:\n",
    "    height = rect.get_height()\n",
    "    ax.annotate(text = f\"{numerize.numerize(height)}\", \n",
    "               xy = (rect.get_x()+rect.get_width()/2, height), \n",
    "               xytext = (0,3), \n",
    "               textcoords = \"offset points\", \n",
    "               ha = \"center\", \n",
    "               va = \"bottom\", \n",
    "               color = \"black\")\n",
    "ax.set_title(\"Rpt Dist No\", fontsize = 10, fontweight = \"bold\", color = \"darkred\")\n",
    "plt.xticks(rotation=90)\n",
    "fig.show()"
   ]
  },
  {
   "cell_type": "code",
   "execution_count": 35,
   "metadata": {},
   "outputs": [],
   "source": [
    "# #Area & Area Number\n",
    "# fig,ax = plt.subplots(figsize = (20,10))\n",
    "# sns.barplot(df, x = \"AREA NAME\",y=\"AREA\", ax = ax,order=df['AREA NAME'].value_counts(ascending=True).index)\n",
    "# plt.xticks(rotation=90)"
   ]
  },
  {
   "cell_type": "code",
   "execution_count": 36,
   "metadata": {},
   "outputs": [
    {
     "data": {
      "image/png": "[encoded data removed]",
      "text/plain": [
       "<Figure size 2000x1000 with 1 Axes>"
      ]
     },
     "metadata": {},
     "output_type": "display_data"
    }
   ],
   "source": [
    "first_dimension = \"Vict Sex\"\n",
    "horizontal_label = \"Vict Age\"\n",
    "second_dimension = \"Vict Descent\"\n",
    "\n",
    "plt.figure(figsize=(20,10))\n",
    "sns.barplot(x=horizontal_label,\n",
    "            y=first_dimension,\n",
    "            hue=second_dimension,\n",
    "            data=df.groupby([first_dimension, second_dimension]).size().to_frame(horizontal_label).reset_index())\n",
    "plt.title(\"Vict Sex - Vict Descent\")\n",
    "plt.show()\n"
   ]
  },
  {
   "cell_type": "code",
   "execution_count": 37,
   "metadata": {},
   "outputs": [
    {
     "data": {
      "image/png": "[encoded data removed]",
      "text/plain": [
       "<Figure size 2000x1500 with 1 Axes>"
      ]
     },
     "metadata": {},
     "output_type": "display_data"
    }
   ],
   "source": [
    "first_dimension = \"AREA NAME\"\n",
    "horizontal_label = \"\"\n",
    "second_dimension = \"Vict Sex\"\n",
    "\n",
    "plt.figure(figsize=(20,15))\n",
    "sns.barplot(x=horizontal_label,\n",
    "            y=first_dimension,\n",
    "            hue=second_dimension,\n",
    "            data=df.groupby([first_dimension, second_dimension]).size().to_frame(horizontal_label).reset_index())\n",
    "plt.title(\"AREA NAME - Vict Sex\")\n",
    "plt.show()\n"
   ]
  },
  {
   "cell_type": "code",
   "execution_count": 38,
   "metadata": {},
   "outputs": [
    {
     "data": {
      "application/vnd.plotly.v1+json": {
       "config": {
        "plotlyServerURL": "https://plot.ly"
       },
       "data": [
        {
         "hovertemplate": "Vict Descent=B<br>DATE OCC=%{x}<br>Vict Sex=%{y}<extra></extra>",
         "legendgroup": "B",
         "marker": {
          "color": "#636efa",
          "symbol": "circle"
         },
         "mode": "markers",
         "name": "B",
         "orientation": "v",
         "showlegend": true,
         "type": "scatter",
         "x": [
          "2020-01-08T00:00:00",
          "2020-01-04T00:00:00",
          "2021-11-22T00:00:00",
          "2020-01-14T00:00:00",
          "2020-01-15T00:00:00",
          "2021-11-29T00:00:00",
          "2020-01-20T00:00:00",
          "2020-01-27T00:00:00",
          "2021-11-29T00:00:00",
          "2020-11-26T00:00:00",
          "2020-02-08T00:00:00",
          "2020-01-01T00:00:00",
          "2020-01-01T00:00:00",
          "2020-01-01T00:00:00",
          "2020-01-01T00:00:00",
          "2020-01-02T00:00:00",
          "2020-01-02T00:00:00",
          "2020-01-02T00:00:00",
          "2020-01-01T00:00:00",
          "2020-01-02T00:00:00",
          "2020-01-02T00:00:00",
          "2020-01-02T00:00:00",
          "2020-01-02T00:00:00",
          "2020-08-10T00:00:00",
          "2020-01-02T00:00:00",
          "2020-01-03T00:00:00",
          "2021-12-02T00:00:00",
          "2020-01-03T00:00:00",
          "2020-01-03T00:00:00",
          "2020-01-03T00:00:00",
          "2020-01-03T00:00:00",
          "2020-01-03T00:00:00",
          "2020-01-03T00:00:00",
          "2020-01-04T00:00:00",
          "2020-01-04T00:00:00",
          "2020-09-19T00:00:00",
          "2020-01-05T00:00:00",
          "2020-01-05T00:00:00",
          "2020-01-05T00:00:00",
          "2020-01-05T00:00:00",
          "2020-01-06T00:00:00",
          "2020-01-05T00:00:00",
          "2020-01-06T00:00:00",
          "2020-01-01T00:00:00",
          "2022-07-22T00:00:00",
          "2020-01-06T00:00:00",
          "2020-01-06T00:00:00",
          "2020-01-06T00:00:00",
          "2020-07-20T00:00:00",
          "2020-01-04T00:00:00",
          "2020-01-07T00:00:00",
          "2020-01-06T00:00:00",
          "2020-01-03T00:00:00",
          "2020-01-07T00:00:00",
          "2020-01-07T00:00:00",
          "2020-01-07T00:00:00",
          "2020-01-07T00:00:00",
          "2020-01-07T00:00:00",
          "2020-01-07T00:00:00",
          "2020-01-08T00:00:00",
          "2020-01-08T00:00:00",
          "2020-01-07T00:00:00",
          "2020-01-08T00:00:00",
          "2020-01-08T00:00:00",
          "2020-01-08T00:00:00",
          "2020-12-28T00:00:00",
          "2020-01-08T00:00:00",
          "2020-01-09T00:00:00",
          "2020-11-07T00:00:00",
          "2020-01-09T00:00:00",
          "2020-01-09T00:00:00",
          "2020-01-10T00:00:00",
          "2020-01-10T00:00:00",
          "2020-01-10T00:00:00",
          "2020-01-10T00:00:00",
          "2020-01-11T00:00:00",
          "2020-01-11T00:00:00",
          "2020-01-11T00:00:00",
          "2020-02-04T00:00:00",
          "2020-01-11T00:00:00",
          "2021-12-01T00:00:00",
          "2020-01-12T00:00:00",
          "2020-01-11T00:00:00",
          "2020-01-12T00:00:00",
          "2021-12-12T00:00:00",
          "2020-01-12T00:00:00",
          "2020-01-12T00:00:00",
          "2020-01-12T00:00:00",
          "2020-01-12T00:00:00",
          "2020-01-12T00:00:00",
          "2020-01-12T00:00:00",
          "2020-01-12T00:00:00",
          "2020-01-13T00:00:00",
          "2020-01-13T00:00:00",
          "2020-01-13T00:00:00",
          "2020-05-10T00:00:00",
          "2020-01-13T00:00:00",
          "2020-01-14T00:00:00",
          "2021-11-16T00:00:00",
          "2020-01-14T00:00:00",
          "2020-01-10T00:00:00",
          "2020-01-14T00:00:00",
          "2020-01-15T00:00:00",
          "2020-01-15T00:00:00",
          "2020-01-16T00:00:00",
          "2020-01-16T00:00:00",
          "2020-01-16T00:00:00",
          "2020-01-15T00:00:00",
          "2020-01-16T00:00:00",
          "2020-05-28T00:00:00",
          "2020-10-11T00:00:00",
          "2020-01-16T00:00:00",
          "2020-01-16T00:00:00",
          "2020-09-13T00:00:00",
          "2020-01-16T00:00:00",
          "2020-01-17T00:00:00",
          "2020-01-17T00:00:00",
          "2020-10-10T00:00:00",
          "2020-01-18T00:00:00",
          "2020-12-10T00:00:00",
          "2020-12-16T00:00:00",
          "2020-01-17T00:00:00",
          "2020-01-18T00:00:00",
          "2020-01-18T00:00:00",
          "2020-01-18T00:00:00",
          "2020-01-18T00:00:00",
          "2021-12-01T00:00:00",
          "2022-01-21T00:00:00",
          "2020-01-18T00:00:00",
          "2020-01-19T00:00:00",
          "2020-01-20T00:00:00",
          "2020-09-14T00:00:00",
          "2020-01-20T00:00:00",
          "2022-02-03T00:00:00",
          "2020-08-30T00:00:00",
          "2020-01-20T00:00:00",
          "2020-01-20T00:00:00",
          "2020-01-21T00:00:00",
          "2020-01-21T00:00:00",
          "2020-01-21T00:00:00",
          "2020-01-21T00:00:00",
          "2020-01-21T00:00:00",
          "2020-01-22T00:00:00",
          "2020-01-20T00:00:00",
          "2020-01-22T00:00:00",
          "2020-01-22T00:00:00",
          "2020-01-22T00:00:00",
          "2020-01-22T00:00:00",
          "2020-01-22T00:00:00",
          "2020-01-23T00:00:00",
          "2020-01-23T00:00:00",
          "2020-01-24T00:00:00",
          "2020-01-24T00:00:00",
          "2020-01-24T00:00:00",
          "2021-12-15T00:00:00",
          "2020-01-24T00:00:00",
          "2020-01-25T00:00:00",
          "2020-08-06T00:00:00",
          "2020-01-25T00:00:00",
          "2020-01-25T00:00:00",
          "2020-01-24T00:00:00",
          "2020-01-25T00:00:00",
          "2020-01-25T00:00:00",
          "2020-01-25T00:00:00",
          "2020-01-25T00:00:00",
          "2020-01-25T00:00:00",
          "2020-01-25T00:00:00",
          "2020-01-25T00:00:00",
          "2020-01-25T00:00:00",
          "2020-01-25T00:00:00",
          "2020-01-25T00:00:00",
          "2020-01-26T00:00:00",
          "2020-01-26T00:00:00",
          "2020-01-27T00:00:00",
          "2020-01-26T00:00:00",
          "2020-01-26T00:00:00",
          "2020-01-26T00:00:00",
          "2020-01-23T00:00:00",
          "2020-01-26T00:00:00",
          "2020-01-26T00:00:00",
          "2020-01-26T00:00:00",
          "2020-01-27T00:00:00",
          "2021-10-07T00:00:00",
          "2020-01-27T00:00:00",
          "2020-01-27T00:00:00",
          "2020-01-28T00:00:00",
          "2020-01-28T00:00:00",
          "2020-07-20T00:00:00"
         ],
         "xaxis": "x",
         "y": [
          "F",
          "M",
          "M",
          "M",
          "M",
          "F",
          "F",
          "M",
          "M",
          "F",
          "M",
          "M",
          "F",
          "F",
          "M",
          "M",
          "M",
          "M",
          "M",
          "M",
          "F",
          "F",
          "M",
          "F",
          "F",
          "M",
          "F",
          "M",
          "M",
          "M",
          "F",
          "F",
          "M",
          "M",
          "F",
          "M",
          "F",
          "M",
          "M",
          "F",
          "M",
          "F",
          "M",
          "M",
          "F",
          "M",
          "M",
          "M",
          "F",
          "M",
          "M",
          "F",
          "M",
          "F",
          "F",
          "M",
          "F",
          "M",
          "M",
          "M",
          "M",
          "M",
          "M",
          "M",
          "M",
          "M",
          "M",
          "M",
          "M",
          "F",
          "M",
          "M",
          "M",
          "F",
          "M",
          "F",
          "F",
          "M",
          "M",
          "F",
          "F",
          "M",
          "M",
          "F",
          "M",
          "F",
          "M",
          "M",
          "M",
          "M",
          "M",
          "M",
          "M",
          "M",
          "M",
          "F",
          "F",
          "M",
          "M",
          "M",
          "F",
          "F",
          "M",
          "M",
          "M",
          "F",
          "M",
          "M",
          "F",
          "M",
          "F",
          "F",
          "M",
          "F",
          "M",
          "F",
          "M",
          "F",
          "M",
          "F",
          "F",
          "M",
          "F",
          "M",
          "F",
          "M",
          "F",
          "M",
          "M",
          "F",
          "M",
          "M",
          "M",
          "F",
          "M",
          "F",
          "F",
          "M",
          "M",
          "F",
          "F",
          "M",
          "M",
          "F",
          "F",
          "M",
          "F",
          "F",
          "M",
          "F",
          "F",
          "M",
          "F",
          "M",
          "F",
          "M",
          "F",
          "F",
          "F",
          "F",
          "F",
          "M",
          "M",
          "M",
          "M",
          "M",
          "M",
          "F",
          "M",
          "F",
          "M",
          "M",
          "F",
          "M",
          "F",
          "M",
          "M",
          "M",
          "F",
          "M",
          "M",
          "M",
          "F",
          "F",
          "F",
          "M",
          "M",
          "F"
         ],
         "yaxis": "y"
        },
        {
         "hovertemplate": "Vict Descent=H<br>DATE OCC=%{x}<br>Vict Sex=%{y}<extra></extra>",
         "legendgroup": "H",
         "marker": {
          "color": "#EF553B",
          "symbol": "circle"
         },
         "mode": "markers",
         "name": "H",
         "orientation": "v",
         "showlegend": true,
         "type": "scatter",
         "x": [
          "2020-01-02T00:00:00",
          "2020-01-02T00:00:00",
          "2020-01-02T00:00:00",
          "2020-01-08T00:00:00",
          "2021-11-26T00:00:00",
          "2020-11-29T00:00:00",
          "2020-01-14T00:00:00",
          "2020-07-29T00:00:00",
          "2020-08-27T00:00:00",
          "2020-01-30T00:00:00",
          "2020-01-31T00:00:00",
          "2020-02-04T00:00:00",
          "2020-03-22T00:00:00",
          "2020-01-01T00:00:00",
          "2020-01-01T00:00:00",
          "2020-01-02T00:00:00",
          "2020-01-01T00:00:00",
          "2020-01-02T00:00:00",
          "2020-01-02T00:00:00",
          "2020-01-02T00:00:00",
          "2020-01-02T00:00:00",
          "2020-01-02T00:00:00",
          "2020-01-03T00:00:00",
          "2021-01-23T00:00:00",
          "2020-01-03T00:00:00",
          "2020-01-03T00:00:00",
          "2020-01-03T00:00:00",
          "2020-01-04T00:00:00",
          "2020-01-03T00:00:00",
          "2020-01-04T00:00:00",
          "2020-01-04T00:00:00",
          "2020-06-10T00:00:00",
          "2020-02-17T00:00:00",
          "2020-09-17T00:00:00",
          "2020-01-04T00:00:00",
          "2020-01-04T00:00:00",
          "2020-11-28T00:00:00",
          "2020-01-04T00:00:00",
          "2020-03-26T00:00:00",
          "2020-01-05T00:00:00",
          "2020-01-04T00:00:00",
          "2020-01-04T00:00:00",
          "2020-01-05T00:00:00",
          "2020-01-05T00:00:00",
          "2020-01-05T00:00:00",
          "2020-01-05T00:00:00",
          "2020-02-07T00:00:00",
          "2020-01-06T00:00:00",
          "2020-01-06T00:00:00",
          "2020-01-03T00:00:00",
          "2021-11-09T00:00:00",
          "2021-12-20T00:00:00",
          "2020-11-20T00:00:00",
          "2020-01-06T00:00:00",
          "2020-01-06T00:00:00",
          "2020-03-04T00:00:00",
          "2020-01-06T00:00:00",
          "2020-01-06T00:00:00",
          "2020-01-06T00:00:00",
          "2020-01-05T00:00:00",
          "2020-01-02T00:00:00",
          "2020-12-15T00:00:00",
          "2020-01-07T00:00:00",
          "2020-01-07T00:00:00",
          "2022-01-28T00:00:00",
          "2020-01-07T00:00:00",
          "2020-01-08T00:00:00",
          "2020-01-08T00:00:00",
          "2020-01-08T00:00:00",
          "2020-01-08T00:00:00",
          "2020-01-08T00:00:00",
          "2020-01-08T00:00:00",
          "2020-01-08T00:00:00",
          "2020-01-09T00:00:00",
          "2020-01-09T00:00:00",
          "2020-01-09T00:00:00",
          "2020-01-08T00:00:00",
          "2020-01-08T00:00:00",
          "2020-01-10T00:00:00",
          "2021-12-01T00:00:00",
          "2020-01-10T00:00:00",
          "2020-05-29T00:00:00",
          "2020-01-11T00:00:00",
          "2020-01-20T00:00:00",
          "2020-01-11T00:00:00",
          "2020-01-11T00:00:00",
          "2020-01-11T00:00:00",
          "2020-01-11T00:00:00",
          "2020-01-11T00:00:00",
          "2020-01-11T00:00:00",
          "2020-01-11T00:00:00",
          "2020-01-11T00:00:00",
          "2020-01-11T00:00:00",
          "2020-01-12T00:00:00",
          "2020-03-13T00:00:00",
          "2020-01-11T00:00:00",
          "2020-01-11T00:00:00",
          "2020-01-12T00:00:00",
          "2020-01-11T00:00:00",
          "2020-01-11T00:00:00",
          "2020-01-12T00:00:00",
          "2020-12-12T00:00:00",
          "2020-01-11T00:00:00",
          "2020-01-12T00:00:00",
          "2020-03-12T00:00:00",
          "2021-11-30T00:00:00",
          "2020-01-12T00:00:00",
          "2020-01-12T00:00:00",
          "2020-01-12T00:00:00",
          "2020-01-12T00:00:00",
          "2020-01-12T00:00:00",
          "2020-01-12T00:00:00",
          "2020-01-12T00:00:00",
          "2020-01-13T00:00:00",
          "2020-01-12T00:00:00",
          "2020-12-07T00:00:00",
          "2020-01-12T00:00:00",
          "2020-01-14T00:00:00",
          "2020-01-12T00:00:00",
          "2020-01-13T00:00:00",
          "2020-01-13T00:00:00",
          "2020-01-13T00:00:00",
          "2020-01-13T00:00:00",
          "2020-01-13T00:00:00",
          "2020-01-13T00:00:00",
          "2021-12-03T00:00:00",
          "2020-10-22T00:00:00",
          "2020-01-13T00:00:00",
          "2020-01-13T00:00:00",
          "2020-01-14T00:00:00",
          "2020-01-13T00:00:00",
          "2020-12-13T00:00:00",
          "2020-01-14T00:00:00",
          "2020-01-14T00:00:00",
          "2021-11-29T00:00:00",
          "2020-12-27T00:00:00",
          "2020-09-30T00:00:00",
          "2020-02-24T00:00:00",
          "2020-01-15T00:00:00",
          "2020-01-14T00:00:00",
          "2020-01-15T00:00:00",
          "2020-01-15T00:00:00",
          "2022-01-28T00:00:00",
          "2020-09-14T00:00:00",
          "2021-11-17T00:00:00",
          "2020-01-15T00:00:00",
          "2020-01-16T00:00:00",
          "2020-01-17T00:00:00",
          "2020-01-16T00:00:00",
          "2022-02-15T00:00:00",
          "2020-01-16T00:00:00",
          "2020-12-15T00:00:00",
          "2020-01-16T00:00:00",
          "2020-01-16T00:00:00",
          "2020-01-16T00:00:00",
          "2020-01-16T00:00:00",
          "2020-01-17T00:00:00",
          "2021-04-11T00:00:00",
          "2020-01-17T00:00:00",
          "2020-01-17T00:00:00",
          "2020-01-17T00:00:00",
          "2020-01-17T00:00:00",
          "2020-01-17T00:00:00",
          "2020-01-18T00:00:00",
          "2020-01-17T00:00:00",
          "2020-01-17T00:00:00",
          "2020-01-18T00:00:00",
          "2020-01-18T00:00:00",
          "2020-01-18T00:00:00",
          "2020-01-18T00:00:00",
          "2020-02-16T00:00:00",
          "2022-08-06T00:00:00",
          "2020-01-18T00:00:00",
          "2020-01-18T00:00:00",
          "2020-01-19T00:00:00",
          "2020-01-19T00:00:00",
          "2020-01-19T00:00:00",
          "2020-01-19T00:00:00",
          "2020-01-19T00:00:00",
          "2020-01-19T00:00:00",
          "2020-01-19T00:00:00",
          "2020-01-19T00:00:00",
          "2020-05-05T00:00:00",
          "2020-01-19T00:00:00",
          "2020-01-19T00:00:00",
          "2020-01-19T00:00:00",
          "2020-01-19T00:00:00",
          "2020-01-20T00:00:00",
          "2020-01-20T00:00:00",
          "2020-01-20T00:00:00",
          "2020-01-20T00:00:00",
          "2020-01-20T00:00:00",
          "2020-01-20T00:00:00",
          "2020-10-28T00:00:00",
          "2020-01-20T00:00:00",
          "2020-01-21T00:00:00",
          "2020-01-21T00:00:00",
          "2020-01-20T00:00:00",
          "2020-01-21T00:00:00",
          "2020-01-19T00:00:00",
          "2020-03-18T00:00:00",
          "2020-01-21T00:00:00",
          "2020-01-21T00:00:00",
          "2020-01-21T00:00:00",
          "2020-01-21T00:00:00",
          "2020-01-22T00:00:00",
          "2020-01-22T00:00:00",
          "2020-01-21T00:00:00",
          "2020-01-21T00:00:00",
          "2020-04-18T00:00:00",
          "2021-12-19T00:00:00",
          "2020-01-22T00:00:00",
          "2020-01-22T00:00:00",
          "2020-01-22T00:00:00",
          "2020-01-21T00:00:00",
          "2020-01-22T00:00:00",
          "2020-01-21T00:00:00",
          "2020-01-22T00:00:00",
          "2021-03-01T00:00:00",
          "2020-01-23T00:00:00",
          "2020-12-16T00:00:00",
          "2020-01-23T00:00:00",
          "2020-01-23T00:00:00",
          "2020-01-23T00:00:00",
          "2020-01-23T00:00:00",
          "2020-01-23T00:00:00",
          "2020-06-28T00:00:00",
          "2020-01-21T00:00:00",
          "2020-01-23T00:00:00",
          "2020-12-10T00:00:00",
          "2020-01-24T00:00:00",
          "2020-09-03T00:00:00",
          "2020-01-23T00:00:00",
          "2022-08-18T00:00:00",
          "2020-07-15T00:00:00",
          "2020-01-24T00:00:00",
          "2020-01-24T00:00:00",
          "2020-01-23T00:00:00",
          "2020-01-24T00:00:00",
          "2020-01-24T00:00:00",
          "2020-01-28T00:00:00",
          "2021-12-17T00:00:00",
          "2020-01-24T00:00:00",
          "2020-04-17T00:00:00",
          "2020-01-24T00:00:00",
          "2020-01-24T00:00:00",
          "2020-01-24T00:00:00",
          "2020-01-25T00:00:00",
          "2020-01-25T00:00:00",
          "2020-01-25T00:00:00",
          "2020-01-25T00:00:00",
          "2020-01-25T00:00:00",
          "2020-01-25T00:00:00",
          "2020-01-25T00:00:00",
          "2020-01-25T00:00:00",
          "2020-01-25T00:00:00",
          "2020-01-25T00:00:00",
          "2020-01-26T00:00:00",
          "2020-01-26T00:00:00",
          "2020-01-26T00:00:00",
          "2020-01-26T00:00:00",
          "2020-01-26T00:00:00",
          "2020-01-25T00:00:00",
          "2020-01-26T00:00:00",
          "2022-03-21T00:00:00",
          "2020-01-27T00:00:00",
          "2020-01-26T00:00:00",
          "2020-01-26T00:00:00",
          "2020-01-26T00:00:00",
          "2020-01-26T00:00:00",
          "2020-01-26T00:00:00",
          "2020-01-26T00:00:00",
          "2020-01-26T00:00:00",
          "2020-01-26T00:00:00",
          "2020-01-25T00:00:00",
          "2020-01-26T00:00:00",
          "2020-01-26T00:00:00",
          "2020-01-26T00:00:00",
          "2020-01-26T00:00:00",
          "2020-01-25T00:00:00",
          "2020-01-26T00:00:00",
          "2020-01-27T00:00:00",
          "2020-01-27T00:00:00",
          "2020-11-29T00:00:00",
          "2020-01-28T00:00:00",
          "2021-06-29T00:00:00",
          "2020-01-27T00:00:00",
          "2020-01-26T00:00:00",
          "2020-01-26T00:00:00",
          "2020-03-26T00:00:00",
          "2020-01-27T00:00:00",
          "2020-01-28T00:00:00",
          "2020-12-31T00:00:00",
          "2020-01-28T00:00:00",
          "2020-01-28T00:00:00",
          "2020-01-29T00:00:00",
          "2020-06-21T00:00:00",
          "2020-01-28T00:00:00",
          "2020-01-28T00:00:00",
          "2020-01-28T00:00:00",
          "2020-10-20T00:00:00",
          "2020-02-29T00:00:00",
          "2020-01-29T00:00:00",
          "2020-01-29T00:00:00",
          "2020-01-11T00:00:00",
          "2020-04-22T00:00:00"
         ],
         "xaxis": "x",
         "y": [
          "M",
          "F",
          "M",
          "F",
          "F",
          "F",
          "M",
          "F",
          "F",
          "M",
          "M",
          "F",
          "F",
          "M",
          "M",
          "M",
          "M",
          "F",
          "M",
          "M",
          "M",
          "M",
          "F",
          "F",
          "M",
          "M",
          "M",
          "M",
          "M",
          "F",
          "F",
          "F",
          "F",
          "F",
          "F",
          "M",
          "F",
          "M",
          "M",
          "M",
          "M",
          "F",
          "M",
          "M",
          "M",
          "F",
          "F",
          "M",
          "M",
          "F",
          "F",
          "M",
          "M",
          "F",
          "M",
          "M",
          "F",
          "F",
          "M",
          "F",
          "F",
          "F",
          "M",
          "F",
          "M",
          "F",
          "F",
          "M",
          "M",
          "M",
          "M",
          "M",
          "F",
          "F",
          "M",
          "F",
          "M",
          "M",
          "F",
          "M",
          "M",
          "F",
          "F",
          "M",
          "M",
          "M",
          "M",
          "M",
          "M",
          "M",
          "M",
          "F",
          "M",
          "M",
          "F",
          "M",
          "F",
          "F",
          "F",
          "F",
          "M",
          "M",
          "F",
          "M",
          "F",
          "M",
          "M",
          "F",
          "M",
          "F",
          "M",
          "F",
          "M",
          "F",
          "M",
          "F",
          "M",
          "M",
          "M",
          "M",
          "F",
          "M",
          "M",
          "M",
          "F",
          "M",
          "M",
          "F",
          "F",
          "F",
          "F",
          "F",
          "M",
          "M",
          "M",
          "M",
          "M",
          "M",
          "M",
          "F",
          "F",
          "M",
          "F",
          "M",
          "F",
          "F",
          "F",
          "M",
          "M",
          "M",
          "F",
          "M",
          "F",
          "M",
          "F",
          "M",
          "F",
          "M",
          "M",
          "M",
          "M",
          "F",
          "M",
          "M",
          "F",
          "M",
          "M",
          "F",
          "F",
          "F",
          "F",
          "M",
          "F",
          "F",
          "M",
          "F",
          "M",
          "F",
          "F",
          "M",
          "M",
          "F",
          "F",
          "F",
          "F",
          "M",
          "M",
          "M",
          "M",
          "F",
          "M",
          "F",
          "F",
          "F",
          "M",
          "F",
          "M",
          "M",
          "M",
          "F",
          "F",
          "M",
          "M",
          "F",
          "M",
          "M",
          "M",
          "F",
          "M",
          "F",
          "F",
          "M",
          "F",
          "M",
          "M",
          "M",
          "F",
          "M",
          "F",
          "M",
          "M",
          "F",
          "F",
          "M",
          "F",
          "F",
          "M",
          "M",
          "M",
          "F",
          "M",
          "M",
          "M",
          "M",
          "F",
          "F",
          "M",
          "M",
          "F",
          "F",
          "M",
          "M",
          "M",
          "M",
          "F",
          "F",
          "F",
          "M",
          "M",
          "F",
          "M",
          "M",
          "F",
          "F",
          "F",
          "F",
          "M",
          "M",
          "F",
          "F",
          "F",
          "F",
          "M",
          "M",
          "M",
          "M",
          "M",
          "M",
          "M",
          "F",
          "M",
          "M",
          "F",
          "F",
          "F",
          "M",
          "M",
          "F",
          "M",
          "F",
          "F",
          "M",
          "F",
          "M",
          "M",
          "F",
          "M",
          "F",
          "M",
          "F",
          "M",
          "M",
          "F",
          "M",
          "F",
          "M",
          "M",
          "F",
          "M",
          "F",
          "F",
          "F",
          "F",
          "M",
          "F",
          "M"
         ],
         "yaxis": "y"
        },
        {
         "hovertemplate": "Vict Descent=X<br>DATE OCC=%{x}<br>Vict Sex=%{y}<extra></extra>",
         "legendgroup": "X",
         "marker": {
          "color": "#00cc96",
          "symbol": "circle"
         },
         "mode": "markers",
         "name": "X",
         "orientation": "v",
         "showlegend": true,
         "type": "scatter",
         "x": [
          "2020-04-14T00:00:00",
          "2020-01-01T00:00:00",
          "2020-01-04T00:00:00",
          "2020-06-19T00:00:00",
          "2020-01-07T00:00:00",
          "2020-01-28T00:00:00",
          "2020-01-01T00:00:00",
          "2020-01-01T00:00:00",
          "2020-01-01T00:00:00",
          "2020-01-02T00:00:00",
          "2020-01-02T00:00:00",
          "2020-01-03T00:00:00",
          "2020-01-03T00:00:00",
          "2020-01-04T00:00:00",
          "2020-01-04T00:00:00",
          "2020-01-04T00:00:00",
          "2020-01-04T00:00:00",
          "2020-01-05T00:00:00",
          "2020-01-06T00:00:00",
          "2020-01-06T00:00:00",
          "2020-12-08T00:00:00",
          "2020-01-07T00:00:00",
          "2020-01-07T00:00:00",
          "2020-01-06T00:00:00",
          "2020-12-05T00:00:00",
          "2020-01-07T00:00:00",
          "2020-01-09T00:00:00",
          "2020-01-05T00:00:00",
          "2020-05-11T00:00:00",
          "2020-01-10T00:00:00",
          "2020-01-09T00:00:00",
          "2021-01-14T00:00:00",
          "2020-09-28T00:00:00",
          "2020-03-22T00:00:00",
          "2020-10-17T00:00:00",
          "2020-01-12T00:00:00",
          "2020-01-12T00:00:00",
          "2020-01-12T00:00:00",
          "2020-04-12T00:00:00",
          "2020-01-08T00:00:00",
          "2020-01-08T00:00:00",
          "2020-01-14T00:00:00",
          "2020-01-14T00:00:00",
          "2020-01-14T00:00:00",
          "2020-01-15T00:00:00",
          "2020-01-14T00:00:00",
          "2020-01-15T00:00:00",
          "2020-01-15T00:00:00",
          "2020-01-16T00:00:00",
          "2020-05-14T00:00:00",
          "2021-12-02T00:00:00",
          "2020-08-25T00:00:00",
          "2020-01-16T00:00:00",
          "2020-01-16T00:00:00",
          "2020-01-20T00:00:00",
          "2020-01-01T00:00:00",
          "2020-01-23T00:00:00",
          "2020-01-23T00:00:00",
          "2020-01-22T00:00:00",
          "2020-03-17T00:00:00",
          "2020-03-24T00:00:00",
          "2020-01-26T00:00:00",
          "2020-01-26T00:00:00",
          "2020-01-27T00:00:00",
          "2020-01-27T00:00:00",
          "2020-01-27T00:00:00",
          "2020-01-27T00:00:00",
          "2020-01-27T00:00:00",
          "2020-01-28T00:00:00",
          "2020-11-18T00:00:00",
          "2020-01-29T00:00:00"
         ],
         "xaxis": "x",
         "y": [
          "X",
          "X",
          "X",
          "X",
          "X",
          "X",
          "X",
          "X",
          "X",
          "X",
          "X",
          "X",
          "X",
          "X",
          "X",
          "X",
          "X",
          "X",
          "X",
          "X",
          "M",
          "X",
          "X",
          "X",
          "X",
          "X",
          "X",
          "X",
          "X",
          "X",
          "X",
          "X",
          "X",
          "X",
          "X",
          "X",
          "X",
          "F",
          "X",
          "X",
          "X",
          "X",
          "X",
          "X",
          "X",
          "X",
          "X",
          "X",
          "M",
          "X",
          "X",
          "X",
          "X",
          "X",
          "X",
          "X",
          "X",
          "X",
          "X",
          "X",
          "X",
          "X",
          "X",
          "X",
          "X",
          "X",
          "X",
          "X",
          "X",
          "X",
          "X"
         ],
         "yaxis": "y"
        },
        {
         "hovertemplate": "Vict Descent=W<br>DATE OCC=%{x}<br>Vict Sex=%{y}<extra></extra>",
         "legendgroup": "W",
         "marker": {
          "color": "#ab63fa",
          "symbol": "circle"
         },
         "mode": "markers",
         "name": "W",
         "orientation": "v",
         "showlegend": true,
         "type": "scatter",
         "x": [
          "2020-01-01T00:00:00",
          "2020-02-22T00:00:00",
          "2021-11-18T00:00:00",
          "2020-01-19T00:00:00",
          "2020-10-15T00:00:00",
          "2020-01-23T00:00:00",
          "2021-11-24T00:00:00",
          "2020-06-20T00:00:00",
          "2020-01-30T00:00:00",
          "2020-02-04T00:00:00",
          "2020-12-11T00:00:00",
          "2020-08-04T00:00:00",
          "2020-01-01T00:00:00",
          "2020-06-24T00:00:00",
          "2020-12-09T00:00:00",
          "2020-07-23T00:00:00",
          "2020-12-07T00:00:00",
          "2020-01-02T00:00:00",
          "2020-01-02T00:00:00",
          "2021-10-26T00:00:00",
          "2020-01-02T00:00:00",
          "2020-01-02T00:00:00",
          "2020-01-03T00:00:00",
          "2020-01-04T00:00:00",
          "2020-01-03T00:00:00",
          "2020-11-08T00:00:00",
          "2020-01-04T00:00:00",
          "2020-01-05T00:00:00",
          "2020-10-27T00:00:00",
          "2020-01-05T00:00:00",
          "2020-07-23T00:00:00",
          "2020-01-05T00:00:00",
          "2020-01-06T00:00:00",
          "2020-01-05T00:00:00",
          "2020-01-06T00:00:00",
          "2020-01-06T00:00:00",
          "2020-01-06T00:00:00",
          "2020-01-06T00:00:00",
          "2020-01-02T00:00:00",
          "2020-01-06T00:00:00",
          "2020-01-06T00:00:00",
          "2020-01-06T00:00:00",
          "2020-01-07T00:00:00",
          "2020-01-02T00:00:00",
          "2020-01-03T00:00:00",
          "2020-01-04T00:00:00",
          "2020-01-05T00:00:00",
          "2020-01-07T00:00:00",
          "2020-01-07T00:00:00",
          "2020-01-07T00:00:00",
          "2020-01-07T00:00:00",
          "2022-01-25T00:00:00",
          "2020-01-08T00:00:00",
          "2020-01-08T00:00:00",
          "2020-01-08T00:00:00",
          "2020-05-20T00:00:00",
          "2020-01-08T00:00:00",
          "2021-11-08T00:00:00",
          "2020-01-09T00:00:00",
          "2020-01-09T00:00:00",
          "2020-01-09T00:00:00",
          "2020-01-09T00:00:00",
          "2020-10-24T00:00:00",
          "2020-01-09T00:00:00",
          "2020-12-07T00:00:00",
          "2020-01-10T00:00:00",
          "2020-01-09T00:00:00",
          "2020-01-09T00:00:00",
          "2020-01-10T00:00:00",
          "2020-01-09T00:00:00",
          "2020-01-10T00:00:00",
          "2020-01-10T00:00:00",
          "2020-01-01T00:00:00",
          "2021-10-19T00:00:00",
          "2020-01-11T00:00:00",
          "2020-01-11T00:00:00",
          "2020-01-11T00:00:00",
          "2020-01-11T00:00:00",
          "2020-01-11T00:00:00",
          "2020-01-11T00:00:00",
          "2020-01-11T00:00:00",
          "2020-01-11T00:00:00",
          "2020-01-11T00:00:00",
          "2020-01-11T00:00:00",
          "2020-01-11T00:00:00",
          "2020-01-11T00:00:00",
          "2020-07-16T00:00:00",
          "2020-01-09T00:00:00",
          "2020-01-11T00:00:00",
          "2020-01-11T00:00:00",
          "2020-01-12T00:00:00",
          "2020-01-12T00:00:00",
          "2021-11-27T00:00:00",
          "2020-01-13T00:00:00",
          "2020-01-12T00:00:00",
          "2021-11-22T00:00:00",
          "2022-01-30T00:00:00",
          "2021-12-01T00:00:00",
          "2020-01-12T00:00:00",
          "2020-01-13T00:00:00",
          "2020-01-13T00:00:00",
          "2020-01-14T00:00:00",
          "2020-01-12T00:00:00",
          "2020-01-14T00:00:00",
          "2020-01-15T00:00:00",
          "2020-01-15T00:00:00",
          "2020-01-16T00:00:00",
          "2020-11-07T00:00:00",
          "2020-01-15T00:00:00",
          "2020-01-11T00:00:00",
          "2020-01-16T00:00:00",
          "2020-01-11T00:00:00",
          "2020-01-16T00:00:00",
          "2020-01-16T00:00:00",
          "2020-01-16T00:00:00",
          "2020-01-16T00:00:00",
          "2020-01-17T00:00:00",
          "2020-01-16T00:00:00",
          "2020-01-17T00:00:00",
          "2020-09-18T00:00:00",
          "2020-02-10T00:00:00",
          "2020-01-13T00:00:00",
          "2020-01-16T00:00:00",
          "2020-01-17T00:00:00",
          "2020-01-18T00:00:00",
          "2020-01-17T00:00:00",
          "2020-01-17T00:00:00",
          "2020-02-20T00:00:00",
          "2020-01-18T00:00:00",
          "2020-01-17T00:00:00",
          "2020-01-18T00:00:00",
          "2020-12-12T00:00:00",
          "2020-01-18T00:00:00",
          "2020-01-18T00:00:00",
          "2020-01-18T00:00:00",
          "2020-01-18T00:00:00",
          "2020-01-18T00:00:00",
          "2020-09-20T00:00:00",
          "2020-01-19T00:00:00",
          "2020-01-19T00:00:00",
          "2020-01-19T00:00:00",
          "2020-01-19T00:00:00",
          "2020-01-19T00:00:00",
          "2020-03-29T00:00:00",
          "2020-01-19T00:00:00",
          "2020-01-19T00:00:00",
          "2020-01-19T00:00:00",
          "2020-01-19T00:00:00",
          "2020-11-07T00:00:00",
          "2020-01-20T00:00:00",
          "2020-09-20T00:00:00",
          "2021-08-02T00:00:00",
          "2020-01-20T00:00:00",
          "2020-01-20T00:00:00",
          "2020-07-02T00:00:00",
          "2020-01-21T00:00:00",
          "2020-01-21T00:00:00",
          "2020-01-21T00:00:00",
          "2020-01-18T00:00:00",
          "2020-01-13T00:00:00",
          "2020-01-20T00:00:00",
          "2020-01-21T00:00:00",
          "2020-01-21T00:00:00",
          "2020-01-21T00:00:00",
          "2020-01-21T00:00:00",
          "2020-01-21T00:00:00",
          "2020-01-21T00:00:00",
          "2020-01-21T00:00:00",
          "2020-03-19T00:00:00",
          "2020-01-22T00:00:00",
          "2020-08-25T00:00:00",
          "2020-02-24T00:00:00",
          "2020-01-22T00:00:00",
          "2020-01-22T00:00:00",
          "2020-02-02T00:00:00",
          "2020-01-23T00:00:00",
          "2020-06-15T00:00:00",
          "2020-01-22T00:00:00",
          "2020-02-27T00:00:00",
          "2020-01-23T00:00:00",
          "2020-01-23T00:00:00",
          "2020-01-23T00:00:00",
          "2020-01-23T00:00:00",
          "2020-01-23T00:00:00",
          "2020-05-15T00:00:00",
          "2020-01-24T00:00:00",
          "2020-02-27T00:00:00",
          "2021-07-29T00:00:00",
          "2020-01-24T00:00:00",
          "2020-01-24T00:00:00",
          "2020-01-24T00:00:00",
          "2020-11-20T00:00:00",
          "2020-08-10T00:00:00",
          "2020-01-24T00:00:00",
          "2020-01-24T00:00:00",
          "2020-01-25T00:00:00",
          "2020-05-27T00:00:00",
          "2020-01-25T00:00:00",
          "2020-01-24T00:00:00",
          "2020-01-26T00:00:00",
          "2020-01-26T00:00:00",
          "2020-01-26T00:00:00",
          "2020-01-25T00:00:00",
          "2020-01-25T00:00:00",
          "2020-01-26T00:00:00",
          "2020-01-26T00:00:00",
          "2020-01-26T00:00:00",
          "2020-01-26T00:00:00",
          "2020-04-09T00:00:00",
          "2020-01-05T00:00:00",
          "2020-01-26T00:00:00",
          "2020-01-26T00:00:00",
          "2020-01-27T00:00:00",
          "2020-01-27T00:00:00",
          "2020-01-26T00:00:00",
          "2020-01-27T00:00:00",
          "2020-01-18T00:00:00",
          "2020-03-13T00:00:00",
          "2020-01-28T00:00:00",
          "2020-01-28T00:00:00",
          "2020-01-28T00:00:00",
          "2020-01-28T00:00:00",
          "2020-01-28T00:00:00",
          "2020-01-28T00:00:00",
          "2020-01-28T00:00:00",
          "2020-01-28T00:00:00",
          "2020-01-28T00:00:00",
          "2020-11-30T00:00:00",
          "2020-01-29T00:00:00",
          "2020-01-28T00:00:00",
          "2021-12-16T00:00:00"
         ],
         "xaxis": "x",
         "y": [
          "F",
          "F",
          "F",
          "M",
          "F",
          "M",
          "M",
          "F",
          "M",
          "M",
          "M",
          "F",
          "M",
          "M",
          "F",
          "F",
          "F",
          "M",
          "F",
          "F",
          "M",
          "M",
          "M",
          "M",
          "M",
          "M",
          "F",
          "F",
          "F",
          "F",
          "M",
          "M",
          "F",
          "F",
          "M",
          "F",
          "M",
          "F",
          "F",
          "F",
          "M",
          "M",
          "M",
          "M",
          "M",
          "F",
          "M",
          "M",
          "M",
          "M",
          "M",
          "F",
          "M",
          "M",
          "F",
          "F",
          "M",
          "F",
          "M",
          "F",
          "M",
          "M",
          "M",
          "F",
          "F",
          "F",
          "F",
          "M",
          "F",
          "F",
          "F",
          "M",
          "M",
          "F",
          "F",
          "F",
          "M",
          "M",
          "M",
          "M",
          "M",
          "M",
          "M",
          "M",
          "M",
          "F",
          "F",
          "F",
          "M",
          "M",
          "F",
          "F",
          "F",
          "F",
          "M",
          "M",
          "M",
          "M",
          "M",
          "F",
          "M",
          "M",
          "M",
          "M",
          "F",
          "M",
          "M",
          "M",
          "F",
          "M",
          "M",
          "F",
          "M",
          "F",
          "M",
          "F",
          "F",
          "M",
          "M",
          "F",
          "F",
          "F",
          "F",
          "M",
          "M",
          "M",
          "M",
          "F",
          "M",
          "F",
          "M",
          "M",
          "F",
          "M",
          "M",
          "M",
          "M",
          "F",
          "F",
          "M",
          "M",
          "M",
          "M",
          "M",
          "M",
          "F",
          "M",
          "M",
          "M",
          "F",
          "F",
          "F",
          "M",
          "M",
          "M",
          "F",
          "M",
          "M",
          "M",
          "M",
          "M",
          "F",
          "F",
          "F",
          "M",
          "M",
          "M",
          "F",
          "M",
          "M",
          "F",
          "F",
          "F",
          "F",
          "F",
          "M",
          "F",
          "M",
          "F",
          "M",
          "M",
          "F",
          "F",
          "F",
          "M",
          "M",
          "M",
          "F",
          "M",
          "M",
          "F",
          "F",
          "M",
          "F",
          "M",
          "F",
          "M",
          "M",
          "M",
          "M",
          "M",
          "M",
          "F",
          "M",
          "F",
          "M",
          "M",
          "M",
          "M",
          "M",
          "F",
          "F",
          "M",
          "M",
          "F",
          "M",
          "M",
          "M",
          "M",
          "M",
          "F",
          "M",
          "M",
          "M",
          "M",
          "M",
          "M",
          "M",
          "M",
          "M",
          "F"
         ],
         "yaxis": "y"
        },
        {
         "hovertemplate": "Vict Descent=A<br>DATE OCC=%{x}<br>Vict Sex=%{y}<extra></extra>",
         "legendgroup": "A",
         "marker": {
          "color": "#FFA15A",
          "symbol": "circle"
         },
         "mode": "markers",
         "name": "A",
         "orientation": "v",
         "showlegend": true,
         "type": "scatter",
         "x": [
          "2020-01-04T00:00:00",
          "2020-01-05T00:00:00",
          "2020-01-15T00:00:00",
          "2020-02-15T00:00:00",
          "2020-02-06T00:00:00",
          "2020-01-01T00:00:00",
          "2020-01-01T00:00:00",
          "2020-01-01T00:00:00",
          "2020-12-24T00:00:00",
          "2020-01-06T00:00:00",
          "2020-01-06T00:00:00",
          "2020-01-02T00:00:00",
          "2020-01-07T00:00:00",
          "2020-01-08T00:00:00",
          "2020-01-09T00:00:00",
          "2020-01-09T00:00:00",
          "2020-01-10T00:00:00",
          "2020-01-11T00:00:00",
          "2020-01-11T00:00:00",
          "2020-01-12T00:00:00",
          "2020-01-16T00:00:00",
          "2020-03-10T00:00:00",
          "2020-01-16T00:00:00",
          "2020-01-16T00:00:00",
          "2020-01-18T00:00:00",
          "2020-01-18T00:00:00",
          "2020-07-29T00:00:00",
          "2020-01-19T00:00:00",
          "2020-01-19T00:00:00",
          "2020-01-21T00:00:00",
          "2020-01-21T00:00:00",
          "2020-01-22T00:00:00",
          "2020-01-22T00:00:00",
          "2020-01-24T00:00:00",
          "2020-01-24T00:00:00",
          "2020-01-24T00:00:00",
          "2020-01-24T00:00:00",
          "2020-01-26T00:00:00",
          "2020-01-26T00:00:00",
          "2020-01-27T00:00:00",
          "2020-01-27T00:00:00",
          "2020-01-27T00:00:00",
          "2020-01-28T00:00:00",
          "2020-01-27T00:00:00",
          "2020-01-28T00:00:00"
         ],
         "xaxis": "x",
         "y": [
          "M",
          "M",
          "M",
          "M",
          "F",
          "M",
          "M",
          "F",
          "F",
          "F",
          "M",
          "M",
          "M",
          "M",
          "F",
          "F",
          "M",
          "M",
          "F",
          "F",
          "F",
          "M",
          "M",
          "F",
          "M",
          "M",
          "M",
          "M",
          "F",
          "F",
          "M",
          "M",
          "M",
          "M",
          "M",
          "M",
          "M",
          "M",
          "M",
          "F",
          "F",
          "M",
          "F",
          "M",
          "F"
         ],
         "yaxis": "y"
        },
        {
         "hovertemplate": "Vict Descent=O<br>DATE OCC=%{x}<br>Vict Sex=%{y}<extra></extra>",
         "legendgroup": "O",
         "marker": {
          "color": "#19d3f3",
          "symbol": "circle"
         },
         "mode": "markers",
         "name": "O",
         "orientation": "v",
         "showlegend": true,
         "type": "scatter",
         "x": [
          "2020-01-05T00:00:00",
          "2020-09-10T00:00:00",
          "2020-12-04T00:00:00",
          "2020-03-27T00:00:00",
          "2021-04-23T00:00:00",
          "2020-01-01T00:00:00",
          "2020-01-02T00:00:00",
          "2020-01-01T00:00:00",
          "2020-01-02T00:00:00",
          "2020-01-02T00:00:00",
          "2020-01-02T00:00:00",
          "2020-01-02T00:00:00",
          "2020-10-20T00:00:00",
          "2020-01-04T00:00:00",
          "2020-01-05T00:00:00",
          "2020-01-04T00:00:00",
          "2020-01-05T00:00:00",
          "2020-10-25T00:00:00",
          "2020-01-08T00:00:00",
          "2020-11-16T00:00:00",
          "2020-01-08T00:00:00",
          "2020-01-08T00:00:00",
          "2020-01-31T00:00:00",
          "2020-01-09T00:00:00",
          "2020-07-09T00:00:00",
          "2021-12-02T00:00:00",
          "2020-01-10T00:00:00",
          "2020-01-11T00:00:00",
          "2020-01-12T00:00:00",
          "2020-01-11T00:00:00",
          "2020-01-12T00:00:00",
          "2020-01-13T00:00:00",
          "2020-01-13T00:00:00",
          "2020-06-13T00:00:00",
          "2020-01-14T00:00:00",
          "2020-01-14T00:00:00",
          "2020-01-15T00:00:00",
          "2020-01-14T00:00:00",
          "2020-01-14T00:00:00",
          "2020-01-08T00:00:00",
          "2020-01-15T00:00:00",
          "2020-01-15T00:00:00",
          "2020-01-16T00:00:00",
          "2020-06-16T00:00:00",
          "2020-11-24T00:00:00",
          "2020-09-14T00:00:00",
          "2020-01-16T00:00:00",
          "2020-01-17T00:00:00",
          "2020-01-18T00:00:00",
          "2020-01-17T00:00:00",
          "2020-01-18T00:00:00",
          "2020-01-17T00:00:00",
          "2020-01-19T00:00:00",
          "2020-01-19T00:00:00",
          "2020-01-19T00:00:00",
          "2020-01-18T00:00:00",
          "2020-01-19T00:00:00",
          "2020-01-19T00:00:00",
          "2020-01-19T00:00:00",
          "2020-01-19T00:00:00",
          "2020-01-19T00:00:00",
          "2020-01-20T00:00:00",
          "2020-01-20T00:00:00",
          "2021-01-01T00:00:00",
          "2020-01-21T00:00:00",
          "2020-01-21T00:00:00",
          "2020-01-22T00:00:00",
          "2020-01-23T00:00:00",
          "2020-01-23T00:00:00",
          "2020-04-16T00:00:00",
          "2020-01-24T00:00:00",
          "2020-01-24T00:00:00",
          "2020-01-25T00:00:00",
          "2021-12-13T00:00:00",
          "2020-01-25T00:00:00",
          "2020-01-26T00:00:00",
          "2020-06-11T00:00:00",
          "2020-01-28T00:00:00",
          "2020-01-17T00:00:00",
          "2020-01-28T00:00:00",
          "2020-01-28T00:00:00",
          "2020-01-28T00:00:00",
          "2020-01-28T00:00:00"
         ],
         "xaxis": "x",
         "y": [
          "M",
          "M",
          "M",
          "M",
          "M",
          "M",
          "F",
          "F",
          "M",
          "M",
          "M",
          "M",
          "F",
          "F",
          "M",
          "M",
          "M",
          "M",
          "M",
          "F",
          "M",
          "M",
          "M",
          "F",
          "F",
          "M",
          "F",
          "M",
          "M",
          "M",
          "F",
          "F",
          "M",
          "F",
          "M",
          "M",
          "F",
          "M",
          "M",
          "M",
          "M",
          "F",
          "M",
          "M",
          "M",
          "M",
          "F",
          "F",
          "M",
          "F",
          "F",
          "F",
          "F",
          "F",
          "M",
          "F",
          "F",
          "M",
          "M",
          "M",
          "M",
          "F",
          "F",
          "M",
          "M",
          "M",
          "F",
          "F",
          "F",
          "F",
          "F",
          "F",
          "M",
          "M",
          "M",
          "M",
          "M",
          "M",
          "M",
          "F",
          "M",
          "M",
          "F"
         ],
         "yaxis": "y"
        },
        {
         "hovertemplate": "Vict Descent=None<br>DATE OCC=%{x}<br>Vict Sex=%{y}<extra></extra>",
         "legendgroup": "None",
         "marker": {
          "color": "#FF6692",
          "symbol": "circle"
         },
         "mode": "markers",
         "name": "None",
         "orientation": "v",
         "showlegend": true,
         "type": "scatter",
         "x": [
          "2020-09-15T00:00:00",
          "2022-06-15T00:00:00",
          "2020-01-02T00:00:00",
          "2020-11-12T00:00:00",
          "2020-04-15T00:00:00",
          "2020-01-04T00:00:00",
          "2020-02-07T00:00:00",
          "2020-01-05T00:00:00",
          "2021-12-06T00:00:00",
          "2020-01-06T00:00:00",
          "2020-01-06T00:00:00",
          "2020-01-07T00:00:00",
          "2020-01-08T00:00:00",
          "2020-01-08T00:00:00",
          "2020-01-10T00:00:00",
          "2020-01-10T00:00:00",
          "2020-01-11T00:00:00",
          "2020-02-01T00:00:00",
          "2020-01-11T00:00:00",
          "2020-01-12T00:00:00",
          "2020-01-13T00:00:00",
          "2020-01-14T00:00:00",
          "2021-12-05T00:00:00",
          "2020-09-23T00:00:00",
          "2020-06-18T00:00:00",
          "2020-01-16T00:00:00",
          "2020-01-16T00:00:00",
          "2020-11-20T00:00:00",
          "2020-09-19T00:00:00",
          "2020-01-18T00:00:00",
          "2020-12-17T00:00:00",
          "2020-01-09T00:00:00",
          "2020-01-18T00:00:00",
          "2020-01-18T00:00:00",
          "2020-09-16T00:00:00",
          "2020-01-19T00:00:00",
          "2020-06-25T00:00:00",
          "2020-01-20T00:00:00",
          "2021-12-16T00:00:00",
          "2022-01-19T00:00:00",
          "2020-01-21T00:00:00",
          "2020-05-04T00:00:00",
          "2020-09-24T00:00:00",
          "2020-01-09T00:00:00",
          "2020-10-14T00:00:00",
          "2020-01-21T00:00:00",
          "2020-01-23T00:00:00",
          "2020-12-07T00:00:00",
          "2020-01-09T00:00:00",
          "2021-12-15T00:00:00",
          "2020-01-05T00:00:00",
          "2020-01-14T00:00:00",
          "2020-01-25T00:00:00",
          "2020-01-25T00:00:00",
          "2020-01-26T00:00:00",
          "2020-01-26T00:00:00",
          "2020-01-27T00:00:00",
          "2020-01-27T00:00:00",
          "2020-01-27T00:00:00",
          "2020-05-29T00:00:00",
          "2020-01-29T00:00:00",
          "2020-01-29T00:00:00"
         ],
         "xaxis": "x",
         "y": [
          "None",
          "None",
          "None",
          "None",
          "None",
          "None",
          "None",
          "None",
          "None",
          "None",
          "None",
          "None",
          "None",
          "None",
          "None",
          "None",
          "None",
          "None",
          "None",
          "None",
          "None",
          "None",
          "None",
          "None",
          "None",
          "None",
          "None",
          "None",
          "None",
          "None",
          "None",
          "None",
          "None",
          "None",
          "None",
          "None",
          "None",
          "None",
          "None",
          "None",
          "None",
          "None",
          "None",
          "None",
          "None",
          "None",
          "None",
          "None",
          "None",
          "None",
          "None",
          "None",
          "None",
          "None",
          "None",
          "None",
          "None",
          "None",
          "None",
          "None",
          "None",
          "None"
         ],
         "yaxis": "y"
        },
        {
         "hovertemplate": "Vict Descent=C<br>DATE OCC=%{x}<br>Vict Sex=%{y}<extra></extra>",
         "legendgroup": "C",
         "marker": {
          "color": "#B6E880",
          "symbol": "circle"
         },
         "mode": "markers",
         "name": "C",
         "orientation": "v",
         "showlegend": true,
         "type": "scatter",
         "x": [
          "2020-01-05T00:00:00",
          "2020-01-08T00:00:00",
          "2020-01-14T00:00:00",
          "2020-01-26T00:00:00",
          "2020-01-24T00:00:00"
         ],
         "xaxis": "x",
         "y": [
          "F",
          "M",
          "F",
          "F",
          "M"
         ],
         "yaxis": "y"
        },
        {
         "hovertemplate": "Vict Descent=F<br>DATE OCC=%{x}<br>Vict Sex=%{y}<extra></extra>",
         "legendgroup": "F",
         "marker": {
          "color": "#FF97FF",
          "symbol": "circle"
         },
         "mode": "markers",
         "name": "F",
         "orientation": "v",
         "showlegend": true,
         "type": "scatter",
         "x": [
          "2020-01-01T00:00:00",
          "2020-01-22T00:00:00",
          "2020-01-18T00:00:00",
          "2020-01-27T00:00:00"
         ],
         "xaxis": "x",
         "y": [
          "F",
          "F",
          "M",
          "M"
         ],
         "yaxis": "y"
        },
        {
         "hovertemplate": "Vict Descent=K<br>DATE OCC=%{x}<br>Vict Sex=%{y}<extra></extra>",
         "legendgroup": "K",
         "marker": {
          "color": "#FECB52",
          "symbol": "circle"
         },
         "mode": "markers",
         "name": "K",
         "orientation": "v",
         "showlegend": true,
         "type": "scatter",
         "x": [
          "2020-01-07T00:00:00",
          "2020-01-06T00:00:00",
          "2020-01-14T00:00:00",
          "2020-01-16T00:00:00"
         ],
         "xaxis": "x",
         "y": [
          "F",
          "M",
          "F",
          "M"
         ],
         "yaxis": "y"
        },
        {
         "hovertemplate": "Vict Descent=I<br>DATE OCC=%{x}<br>Vict Sex=%{y}<extra></extra>",
         "legendgroup": "I",
         "marker": {
          "color": "#636efa",
          "symbol": "circle"
         },
         "mode": "markers",
         "name": "I",
         "orientation": "v",
         "showlegend": true,
         "type": "scatter",
         "x": [
          "2021-06-14T00:00:00"
         ],
         "xaxis": "x",
         "y": [
          "M"
         ],
         "yaxis": "y"
        }
       ],
       "layout": {
        "legend": {
         "title": {
          "text": "Vict Descent"
         },
         "tracegroupgap": 0
        },
        "margin": {
         "t": 60
        },
        "template": {
         "data": {
          "bar": [
           {
            "error_x": {
             "color": "#2a3f5f"
            },
            "error_y": {
             "color": "#2a3f5f"
            },
            "marker": {
             "line": {
              "color": "#E5ECF6",
              "width": 0.5
             },
             "pattern": {
              "fillmode": "overlay",
              "size": 10,
              "solidity": 0.2
             }
            },
            "type": "bar"
           }
          ],
          "barpolar": [
           {
            "marker": {
             "line": {
              "color": "#E5ECF6",
              "width": 0.5
             },
             "pattern": {
              "fillmode": "overlay",
              "size": 10,
              "solidity": 0.2
             }
            },
            "type": "barpolar"
           }
          ],
          "carpet": [
           {
            "aaxis": {
             "endlinecolor": "#2a3f5f",
             "gridcolor": "white",
             "linecolor": "white",
             "minorgridcolor": "white",
             "startlinecolor": "#2a3f5f"
            },
            "baxis": {
             "endlinecolor": "#2a3f5f",
             "gridcolor": "white",
             "linecolor": "white",
             "minorgridcolor": "white",
             "startlinecolor": "#2a3f5f"
            },
            "type": "carpet"
           }
          ],
          "choropleth": [
           {
            "colorbar": {
             "outlinewidth": 0,
             "ticks": ""
            },
            "type": "choropleth"
           }
          ],
          "contour": [
           {
            "colorbar": {
             "outlinewidth": 0,
             "ticks": ""
            },
            "colorscale": [
             [
              0,
              "#0d0887"
             ],
             [
              0.1111111111111111,
              "#46039f"
             ],
             [
              0.2222222222222222,
              "#7201a8"
             ],
             [
              0.3333333333333333,
              "#9c179e"
             ],
             [
              0.4444444444444444,
              "#bd3786"
             ],
             [
              0.5555555555555556,
              "#d8576b"
             ],
             [
              0.6666666666666666,
              "#ed7953"
             ],
             [
              0.7777777777777778,
              "#fb9f3a"
             ],
             [
              0.8888888888888888,
              "#fdca26"
             ],
             [
              1,
              "#f0f921"
             ]
            ],
            "type": "contour"
           }
          ],
          "contourcarpet": [
           {
            "colorbar": {
             "outlinewidth": 0,
             "ticks": ""
            },
            "type": "contourcarpet"
           }
          ],
          "heatmap": [
           {
            "colorbar": {
             "outlinewidth": 0,
             "ticks": ""
            },
            "colorscale": [
             [
              0,
              "#0d0887"
             ],
             [
              0.1111111111111111,
              "#46039f"
             ],
             [
              0.2222222222222222,
              "#7201a8"
             ],
             [
              0.3333333333333333,
              "#9c179e"
             ],
             [
              0.4444444444444444,
              "#bd3786"
             ],
             [
              0.5555555555555556,
              "#d8576b"
             ],
             [
              0.6666666666666666,
              "#ed7953"
             ],
             [
              0.7777777777777778,
              "#fb9f3a"
             ],
             [
              0.8888888888888888,
              "#fdca26"
             ],
             [
              1,
              "#f0f921"
             ]
            ],
            "type": "heatmap"
           }
          ],
          "heatmapgl": [
           {
            "colorbar": {
             "outlinewidth": 0,
             "ticks": ""
            },
            "colorscale": [
             [
              0,
              "#0d0887"
             ],
             [
              0.1111111111111111,
              "#46039f"
             ],
             [
              0.2222222222222222,
              "#7201a8"
             ],
             [
              0.3333333333333333,
              "#9c179e"
             ],
             [
              0.4444444444444444,
              "#bd3786"
             ],
             [
              0.5555555555555556,
              "#d8576b"
             ],
             [
              0.6666666666666666,
              "#ed7953"
             ],
             [
              0.7777777777777778,
              "#fb9f3a"
             ],
             [
              0.8888888888888888,
              "#fdca26"
             ],
             [
              1,
              "#f0f921"
             ]
            ],
            "type": "heatmapgl"
           }
          ],
          "histogram": [
           {
            "marker": {
             "pattern": {
              "fillmode": "overlay",
              "size": 10,
              "solidity": 0.2
             }
            },
            "type": "histogram"
           }
          ],
          "histogram2d": [
           {
            "colorbar": {
             "outlinewidth": 0,
             "ticks": ""
            },
            "colorscale": [
             [
              0,
              "#0d0887"
             ],
             [
              0.1111111111111111,
              "#46039f"
             ],
             [
              0.2222222222222222,
              "#7201a8"
             ],
             [
              0.3333333333333333,
              "#9c179e"
             ],
             [
              0.4444444444444444,
              "#bd3786"
             ],
             [
              0.5555555555555556,
              "#d8576b"
             ],
             [
              0.6666666666666666,
              "#ed7953"
             ],
             [
              0.7777777777777778,
              "#fb9f3a"
             ],
             [
              0.8888888888888888,
              "#fdca26"
             ],
             [
              1,
              "#f0f921"
             ]
            ],
            "type": "histogram2d"
           }
          ],
          "histogram2dcontour": [
           {
            "colorbar": {
             "outlinewidth": 0,
             "ticks": ""
            },
            "colorscale": [
             [
              0,
              "#0d0887"
             ],
             [
              0.1111111111111111,
              "#46039f"
             ],
             [
              0.2222222222222222,
              "#7201a8"
             ],
             [
              0.3333333333333333,
              "#9c179e"
             ],
             [
              0.4444444444444444,
              "#bd3786"
             ],
             [
              0.5555555555555556,
              "#d8576b"
             ],
             [
              0.6666666666666666,
              "#ed7953"
             ],
             [
              0.7777777777777778,
              "#fb9f3a"
             ],
             [
              0.8888888888888888,
              "#fdca26"
             ],
             [
              1,
              "#f0f921"
             ]
            ],
            "type": "histogram2dcontour"
           }
          ],
          "mesh3d": [
           {
            "colorbar": {
             "outlinewidth": 0,
             "ticks": ""
            },
            "type": "mesh3d"
           }
          ],
          "parcoords": [
           {
            "line": {
             "colorbar": {
              "outlinewidth": 0,
              "ticks": ""
             }
            },
            "type": "parcoords"
           }
          ],
          "pie": [
           {
            "automargin": true,
            "type": "pie"
           }
          ],
          "scatter": [
           {
            "fillpattern": {
             "fillmode": "overlay",
             "size": 10,
             "solidity": 0.2
            },
            "type": "scatter"
           }
          ],
          "scatter3d": [
           {
            "line": {
             "colorbar": {
              "outlinewidth": 0,
              "ticks": ""
             }
            },
            "marker": {
             "colorbar": {
              "outlinewidth": 0,
              "ticks": ""
             }
            },
            "type": "scatter3d"
           }
          ],
          "scattercarpet": [
           {
            "marker": {
             "colorbar": {
              "outlinewidth": 0,
              "ticks": ""
             }
            },
            "type": "scattercarpet"
           }
          ],
          "scattergeo": [
           {
            "marker": {
             "colorbar": {
              "outlinewidth": 0,
              "ticks": ""
             }
            },
            "type": "scattergeo"
           }
          ],
          "scattergl": [
           {
            "marker": {
             "colorbar": {
              "outlinewidth": 0,
              "ticks": ""
             }
            },
            "type": "scattergl"
           }
          ],
          "scattermapbox": [
           {
            "marker": {
             "colorbar": {
              "outlinewidth": 0,
              "ticks": ""
             }
            },
            "type": "scattermapbox"
           }
          ],
          "scatterpolar": [
           {
            "marker": {
             "colorbar": {
              "outlinewidth": 0,
              "ticks": ""
             }
            },
            "type": "scatterpolar"
           }
          ],
          "scatterpolargl": [
           {
            "marker": {
             "colorbar": {
              "outlinewidth": 0,
              "ticks": ""
             }
            },
            "type": "scatterpolargl"
           }
          ],
          "scatterternary": [
           {
            "marker": {
             "colorbar": {
              "outlinewidth": 0,
              "ticks": ""
             }
            },
            "type": "scatterternary"
           }
          ],
          "surface": [
           {
            "colorbar": {
             "outlinewidth": 0,
             "ticks": ""
            },
            "colorscale": [
             [
              0,
              "#0d0887"
             ],
             [
              0.1111111111111111,
              "#46039f"
             ],
             [
              0.2222222222222222,
              "#7201a8"
             ],
             [
              0.3333333333333333,
              "#9c179e"
             ],
             [
              0.4444444444444444,
              "#bd3786"
             ],
             [
              0.5555555555555556,
              "#d8576b"
             ],
             [
              0.6666666666666666,
              "#ed7953"
             ],
             [
              0.7777777777777778,
              "#fb9f3a"
             ],
             [
              0.8888888888888888,
              "#fdca26"
             ],
             [
              1,
              "#f0f921"
             ]
            ],
            "type": "surface"
           }
          ],
          "table": [
           {
            "cells": {
             "fill": {
              "color": "#EBF0F8"
             },
             "line": {
              "color": "white"
             }
            },
            "header": {
             "fill": {
              "color": "#C8D4E3"
             },
             "line": {
              "color": "white"
             }
            },
            "type": "table"
           }
          ]
         },
         "layout": {
          "annotationdefaults": {
           "arrowcolor": "#2a3f5f",
           "arrowhead": 0,
           "arrowwidth": 1
          },
          "autotypenumbers": "strict",
          "coloraxis": {
           "colorbar": {
            "outlinewidth": 0,
            "ticks": ""
           }
          },
          "colorscale": {
           "diverging": [
            [
             0,
             "#8e0152"
            ],
            [
             0.1,
             "#c51b7d"
            ],
            [
             0.2,
             "#de77ae"
            ],
            [
             0.3,
             "#f1b6da"
            ],
            [
             0.4,
             "#fde0ef"
            ],
            [
             0.5,
             "#f7f7f7"
            ],
            [
             0.6,
             "#e6f5d0"
            ],
            [
             0.7,
             "#b8e186"
            ],
            [
             0.8,
             "#7fbc41"
            ],
            [
             0.9,
             "#4d9221"
            ],
            [
             1,
             "#276419"
            ]
           ],
           "sequential": [
            [
             0,
             "#0d0887"
            ],
            [
             0.1111111111111111,
             "#46039f"
            ],
            [
             0.2222222222222222,
             "#7201a8"
            ],
            [
             0.3333333333333333,
             "#9c179e"
            ],
            [
             0.4444444444444444,
             "#bd3786"
            ],
            [
             0.5555555555555556,
             "#d8576b"
            ],
            [
             0.6666666666666666,
             "#ed7953"
            ],
            [
             0.7777777777777778,
             "#fb9f3a"
            ],
            [
             0.8888888888888888,
             "#fdca26"
            ],
            [
             1,
             "#f0f921"
            ]
           ],
           "sequentialminus": [
            [
             0,
             "#0d0887"
            ],
            [
             0.1111111111111111,
             "#46039f"
            ],
            [
             0.2222222222222222,
             "#7201a8"
            ],
            [
             0.3333333333333333,
             "#9c179e"
            ],
            [
             0.4444444444444444,
             "#bd3786"
            ],
            [
             0.5555555555555556,
             "#d8576b"
            ],
            [
             0.6666666666666666,
             "#ed7953"
            ],
            [
             0.7777777777777778,
             "#fb9f3a"
            ],
            [
             0.8888888888888888,
             "#fdca26"
            ],
            [
             1,
             "#f0f921"
            ]
           ]
          },
          "colorway": [
           "#636efa",
           "#EF553B",
           "#00cc96",
           "#ab63fa",
           "#FFA15A",
           "#19d3f3",
           "#FF6692",
           "#B6E880",
           "#FF97FF",
           "#FECB52"
          ],
          "font": {
           "color": "#2a3f5f"
          },
          "geo": {
           "bgcolor": "white",
           "lakecolor": "white",
           "landcolor": "#E5ECF6",
           "showlakes": true,
           "showland": true,
           "subunitcolor": "white"
          },
          "hoverlabel": {
           "align": "left"
          },
          "hovermode": "closest",
          "mapbox": {
           "style": "light"
          },
          "paper_bgcolor": "white",
          "plot_bgcolor": "#E5ECF6",
          "polar": {
           "angularaxis": {
            "gridcolor": "white",
            "linecolor": "white",
            "ticks": ""
           },
           "bgcolor": "#E5ECF6",
           "radialaxis": {
            "gridcolor": "white",
            "linecolor": "white",
            "ticks": ""
           }
          },
          "scene": {
           "xaxis": {
            "backgroundcolor": "#E5ECF6",
            "gridcolor": "white",
            "gridwidth": 2,
            "linecolor": "white",
            "showbackground": true,
            "ticks": "",
            "zerolinecolor": "white"
           },
           "yaxis": {
            "backgroundcolor": "#E5ECF6",
            "gridcolor": "white",
            "gridwidth": 2,
            "linecolor": "white",
            "showbackground": true,
            "ticks": "",
            "zerolinecolor": "white"
           },
           "zaxis": {
            "backgroundcolor": "#E5ECF6",
            "gridcolor": "white",
            "gridwidth": 2,
            "linecolor": "white",
            "showbackground": true,
            "ticks": "",
            "zerolinecolor": "white"
           }
          },
          "shapedefaults": {
           "line": {
            "color": "#2a3f5f"
           }
          },
          "ternary": {
           "aaxis": {
            "gridcolor": "white",
            "linecolor": "white",
            "ticks": ""
           },
           "baxis": {
            "gridcolor": "white",
            "linecolor": "white",
            "ticks": ""
           },
           "bgcolor": "#E5ECF6",
           "caxis": {
            "gridcolor": "white",
            "linecolor": "white",
            "ticks": ""
           }
          },
          "title": {
           "x": 0.05
          },
          "xaxis": {
           "automargin": true,
           "gridcolor": "white",
           "linecolor": "white",
           "ticks": "",
           "title": {
            "standoff": 15
           },
           "zerolinecolor": "white",
           "zerolinewidth": 2
          },
          "yaxis": {
           "automargin": true,
           "gridcolor": "white",
           "linecolor": "white",
           "ticks": "",
           "title": {
            "standoff": 15
           },
           "zerolinecolor": "white",
           "zerolinewidth": 2
          }
         }
        },
        "xaxis": {
         "anchor": "y",
         "domain": [
          0,
          1
         ],
         "title": {
          "text": "DATE OCC"
         }
        },
        "yaxis": {
         "anchor": "x",
         "domain": [
          0,
          1
         ],
         "title": {
          "text": "Vict Sex"
         }
        }
       }
      }
     },
     "metadata": {},
     "output_type": "display_data"
    }
   ],
   "source": [
    "#'DATE OCC' - 'Vict Sex'\n",
    "fig = px.scatter(df, x='DATE OCC', y='Vict Sex',\n",
    "              color='Vict Descent')\n",
    "fig.show()"
   ]
  },
  {
   "cell_type": "code",
   "execution_count": 39,
   "metadata": {},
   "outputs": [
    {
     "data": {
      "text/plain": [
       "Text(0.5, 1.0, 'Premis Desc')"
      ]
     },
     "execution_count": 39,
     "metadata": {},
     "output_type": "execute_result"
    },
    {
     "data": {
      "image/png": "[encoded data removed]",
      "text/plain": [
       "<Figure size 2000x1000 with 1 Axes>"
      ]
     },
     "metadata": {},
     "output_type": "display_data"
    }
   ],
   "source": [
    "fig,ax = plt.subplots(figsize = (20,10))\n",
    "sns.countplot(df, x = \"Premis Desc\", ax = ax,order=df['Premis Desc'].value_counts().iloc[:20].index)\n",
    "\n",
    "for rect in ax.patches:\n",
    "    height = rect.get_height()\n",
    "    ax.annotate(text = f\"{numerize.numerize(height)}\", \n",
    "               xy = (rect.get_x()+rect.get_width()/2, height), \n",
    "               xytext = (0,3), \n",
    "               textcoords = \"offset points\", \n",
    "               ha = \"center\", \n",
    "               va = \"bottom\", \n",
    "               color = \"black\")\n",
    "plt.xticks(rotation=90)\n",
    "ax.set_title(\"Premis Desc\", fontsize = 10, fontweight = \"bold\", color = \"darkred\")"
   ]
  },
  {
   "cell_type": "code",
   "execution_count": 40,
   "metadata": {},
   "outputs": [
    {
     "data": {
      "application/vnd.plotly.v1+json": {
       "config": {
        "plotlyServerURL": "https://plot.ly"
       },
       "data": [
        {
         "customdata": [
          [
           "AO",
           "Southwest"
          ],
          [
           "AO",
           "Southwest"
          ],
          [
           "IC",
           "Southwest"
          ],
          [
           "IC",
           "Southwest"
          ],
          [
           "IC",
           "Southwest"
          ],
          [
           "AO",
           "Southwest"
          ],
          [
           "IC",
           "Southwest"
          ],
          [
           "IC",
           "Southwest"
          ],
          [
           "IC",
           "Southwest"
          ],
          [
           "IC",
           "Southwest"
          ],
          [
           "IC",
           "Southwest"
          ],
          [
           "AO",
           "Southwest"
          ],
          [
           "AA",
           "Southwest"
          ],
          [
           "IC",
           "Southwest"
          ]
         ],
         "hovertemplate": "AREA NAME=%{customdata[1]}<br>LAT=%{lat}<br>LON=%{lon}<br>Status=%{customdata[0]}<extra></extra>",
         "lat": [
          34.0141,
          34.0261,
          34.0215,
          34.0073,
          34.0335,
          34.0153,
          34.0271,
          34.0172,
          34.0328,
          34.0051,
          34.0054,
          34.0087,
          34.0237,
          34.0276
         ],
         "legendgroup": "Southwest",
         "lon": [
          -118.2978,
          -118.3384,
          -118.3393,
          -118.298,
          -118.3537,
          -118.3045,
          -118.3585,
          -118.3374,
          -118.2865,
          -118.2827,
          -118.3297,
          -118.284,
          -118.3722,
          -118.3229
         ],
         "marker": {
          "color": "#636efa"
         },
         "mode": "markers",
         "name": "Southwest",
         "showlegend": true,
         "subplot": "mapbox",
         "type": "scattermapbox"
        },
        {
         "customdata": [
          [
           "IC",
           "Central"
          ],
          [
           "AA",
           "Central"
          ],
          [
           "IC",
           "Central"
          ],
          [
           "IC",
           "Central"
          ],
          [
           "IC",
           "Central"
          ],
          [
           "IC",
           "Central"
          ],
          [
           "IC",
           "Central"
          ],
          [
           "IC",
           "Central"
          ],
          [
           "AA",
           "Central"
          ],
          [
           "IC",
           "Central"
          ],
          [
           "IC",
           "Central"
          ],
          [
           "IC",
           "Central"
          ],
          [
           "IC",
           "Central"
          ],
          [
           "IC",
           "Central"
          ],
          [
           "AO",
           "Central"
          ],
          [
           "AA",
           "Central"
          ],
          [
           "IC",
           "Central"
          ],
          [
           "AO",
           "Central"
          ],
          [
           "IC",
           "Central"
          ],
          [
           "IC",
           "Central"
          ],
          [
           "IC",
           "Central"
          ],
          [
           "IC",
           "Central"
          ],
          [
           "AA",
           "Central"
          ],
          [
           "AA",
           "Central"
          ],
          [
           "AA",
           "Central"
          ],
          [
           "IC",
           "Central"
          ],
          [
           "IC",
           "Central"
          ],
          [
           "IC",
           "Central"
          ],
          [
           "AA",
           "Central"
          ],
          [
           "IC",
           "Central"
          ],
          [
           "IC",
           "Central"
          ],
          [
           "IC",
           "Central"
          ],
          [
           "IC",
           "Central"
          ],
          [
           "IC",
           "Central"
          ],
          [
           "IC",
           "Central"
          ],
          [
           "IC",
           "Central"
          ],
          [
           "IC",
           "Central"
          ],
          [
           "IC",
           "Central"
          ],
          [
           "IC",
           "Central"
          ],
          [
           "IC",
           "Central"
          ],
          [
           "IC",
           "Central"
          ],
          [
           "IC",
           "Central"
          ],
          [
           "IC",
           "Central"
          ],
          [
           "IC",
           "Central"
          ],
          [
           "IC",
           "Central"
          ],
          [
           "IC",
           "Central"
          ],
          [
           "IC",
           "Central"
          ],
          [
           "IC",
           "Central"
          ],
          [
           "IC",
           "Central"
          ],
          [
           "IC",
           "Central"
          ],
          [
           "IC",
           "Central"
          ],
          [
           "IC",
           "Central"
          ],
          [
           "IC",
           "Central"
          ],
          [
           "IC",
           "Central"
          ],
          [
           "IC",
           "Central"
          ],
          [
           "IC",
           "Central"
          ],
          [
           "IC",
           "Central"
          ],
          [
           "IC",
           "Central"
          ],
          [
           "AO",
           "Central"
          ],
          [
           "IC",
           "Central"
          ],
          [
           "IC",
           "Central"
          ],
          [
           "IC",
           "Central"
          ],
          [
           "IC",
           "Central"
          ],
          [
           "IC",
           "Central"
          ],
          [
           "IC",
           "Central"
          ],
          [
           "IC",
           "Central"
          ],
          [
           "IC",
           "Central"
          ],
          [
           "IC",
           "Central"
          ],
          [
           "AA",
           "Central"
          ],
          [
           "IC",
           "Central"
          ],
          [
           "IC",
           "Central"
          ],
          [
           "AA",
           "Central"
          ],
          [
           "IC",
           "Central"
          ],
          [
           "IC",
           "Central"
          ],
          [
           "IC",
           "Central"
          ],
          [
           "IC",
           "Central"
          ],
          [
           "IC",
           "Central"
          ],
          [
           "IC",
           "Central"
          ],
          [
           "IC",
           "Central"
          ],
          [
           "AO",
           "Central"
          ],
          [
           "IC",
           "Central"
          ],
          [
           "IC",
           "Central"
          ],
          [
           "AA",
           "Central"
          ],
          [
           "IC",
           "Central"
          ],
          [
           "IC",
           "Central"
          ],
          [
           "IC",
           "Central"
          ],
          [
           "IC",
           "Central"
          ],
          [
           "IC",
           "Central"
          ],
          [
           "IC",
           "Central"
          ],
          [
           "IC",
           "Central"
          ],
          [
           "IC",
           "Central"
          ],
          [
           "IC",
           "Central"
          ],
          [
           "IC",
           "Central"
          ],
          [
           "IC",
           "Central"
          ],
          [
           "IC",
           "Central"
          ],
          [
           "IC",
           "Central"
          ],
          [
           "IC",
           "Central"
          ],
          [
           "IC",
           "Central"
          ],
          [
           "IC",
           "Central"
          ],
          [
           "IC",
           "Central"
          ],
          [
           "IC",
           "Central"
          ],
          [
           "IC",
           "Central"
          ],
          [
           "IC",
           "Central"
          ],
          [
           "IC",
           "Central"
          ],
          [
           "IC",
           "Central"
          ],
          [
           "IC",
           "Central"
          ],
          [
           "IC",
           "Central"
          ],
          [
           "IC",
           "Central"
          ],
          [
           "IC",
           "Central"
          ],
          [
           "IC",
           "Central"
          ],
          [
           "IC",
           "Central"
          ],
          [
           "IC",
           "Central"
          ],
          [
           "IC",
           "Central"
          ],
          [
           "IC",
           "Central"
          ],
          [
           "IC",
           "Central"
          ],
          [
           "IC",
           "Central"
          ],
          [
           "IC",
           "Central"
          ],
          [
           "IC",
           "Central"
          ],
          [
           "IC",
           "Central"
          ],
          [
           "IC",
           "Central"
          ],
          [
           "IC",
           "Central"
          ],
          [
           "IC",
           "Central"
          ],
          [
           "IC",
           "Central"
          ],
          [
           "AA",
           "Central"
          ],
          [
           "AA",
           "Central"
          ],
          [
           "AA",
           "Central"
          ],
          [
           "IC",
           "Central"
          ],
          [
           "IC",
           "Central"
          ],
          [
           "IC",
           "Central"
          ],
          [
           "IC",
           "Central"
          ],
          [
           "IC",
           "Central"
          ],
          [
           "IC",
           "Central"
          ],
          [
           "IC",
           "Central"
          ],
          [
           "IC",
           "Central"
          ],
          [
           "IC",
           "Central"
          ],
          [
           "IC",
           "Central"
          ],
          [
           "IC",
           "Central"
          ],
          [
           "AA",
           "Central"
          ],
          [
           "IC",
           "Central"
          ],
          [
           "IC",
           "Central"
          ],
          [
           "IC",
           "Central"
          ],
          [
           "IC",
           "Central"
          ],
          [
           "IC",
           "Central"
          ],
          [
           "IC",
           "Central"
          ],
          [
           "IC",
           "Central"
          ],
          [
           "IC",
           "Central"
          ],
          [
           "IC",
           "Central"
          ],
          [
           "IC",
           "Central"
          ],
          [
           "IC",
           "Central"
          ],
          [
           "IC",
           "Central"
          ],
          [
           "IC",
           "Central"
          ],
          [
           "IC",
           "Central"
          ],
          [
           "IC",
           "Central"
          ],
          [
           "IC",
           "Central"
          ],
          [
           "IC",
           "Central"
          ],
          [
           "IC",
           "Central"
          ],
          [
           "IC",
           "Central"
          ],
          [
           "IC",
           "Central"
          ],
          [
           "IC",
           "Central"
          ],
          [
           "IC",
           "Central"
          ],
          [
           "IC",
           "Central"
          ],
          [
           "IC",
           "Central"
          ],
          [
           "IC",
           "Central"
          ],
          [
           "IC",
           "Central"
          ],
          [
           "IC",
           "Central"
          ],
          [
           "IC",
           "Central"
          ],
          [
           "IC",
           "Central"
          ],
          [
           "IC",
           "Central"
          ],
          [
           "IC",
           "Central"
          ],
          [
           "IC",
           "Central"
          ],
          [
           "IC",
           "Central"
          ],
          [
           "IC",
           "Central"
          ],
          [
           "IC",
           "Central"
          ],
          [
           "IC",
           "Central"
          ],
          [
           "IC",
           "Central"
          ],
          [
           "IC",
           "Central"
          ],
          [
           "IC",
           "Central"
          ],
          [
           "IC",
           "Central"
          ],
          [
           "IC",
           "Central"
          ],
          [
           "IC",
           "Central"
          ],
          [
           "IC",
           "Central"
          ],
          [
           "IC",
           "Central"
          ],
          [
           "IC",
           "Central"
          ],
          [
           "IC",
           "Central"
          ],
          [
           "IC",
           "Central"
          ],
          [
           "IC",
           "Central"
          ],
          [
           "AA",
           "Central"
          ],
          [
           "IC",
           "Central"
          ],
          [
           "IC",
           "Central"
          ],
          [
           "AA",
           "Central"
          ],
          [
           "IC",
           "Central"
          ],
          [
           "IC",
           "Central"
          ],
          [
           "IC",
           "Central"
          ],
          [
           "IC",
           "Central"
          ],
          [
           "IC",
           "Central"
          ],
          [
           "IC",
           "Central"
          ],
          [
           "IC",
           "Central"
          ],
          [
           "IC",
           "Central"
          ],
          [
           "IC",
           "Central"
          ],
          [
           "IC",
           "Central"
          ],
          [
           "IC",
           "Central"
          ],
          [
           "IC",
           "Central"
          ],
          [
           "IC",
           "Central"
          ],
          [
           "IC",
           "Central"
          ],
          [
           "IC",
           "Central"
          ],
          [
           "IC",
           "Central"
          ],
          [
           "IC",
           "Central"
          ],
          [
           "IC",
           "Central"
          ],
          [
           "IC",
           "Central"
          ],
          [
           "IC",
           "Central"
          ],
          [
           "IC",
           "Central"
          ],
          [
           "AA",
           "Central"
          ],
          [
           "IC",
           "Central"
          ],
          [
           "IC",
           "Central"
          ],
          [
           "IC",
           "Central"
          ],
          [
           "IC",
           "Central"
          ],
          [
           "IC",
           "Central"
          ],
          [
           "AA",
           "Central"
          ],
          [
           "AA",
           "Central"
          ],
          [
           "IC",
           "Central"
          ],
          [
           "IC",
           "Central"
          ],
          [
           "IC",
           "Central"
          ],
          [
           "IC",
           "Central"
          ],
          [
           "IC",
           "Central"
          ],
          [
           "IC",
           "Central"
          ],
          [
           "IC",
           "Central"
          ],
          [
           "IC",
           "Central"
          ],
          [
           "IC",
           "Central"
          ],
          [
           "AA",
           "Central"
          ],
          [
           "IC",
           "Central"
          ],
          [
           "IC",
           "Central"
          ],
          [
           "AA",
           "Central"
          ],
          [
           "IC",
           "Central"
          ],
          [
           "IC",
           "Central"
          ],
          [
           "IC",
           "Central"
          ],
          [
           "IC",
           "Central"
          ],
          [
           "IC",
           "Central"
          ],
          [
           "IC",
           "Central"
          ],
          [
           "IC",
           "Central"
          ],
          [
           "IC",
           "Central"
          ],
          [
           "IC",
           "Central"
          ],
          [
           "IC",
           "Central"
          ],
          [
           "IC",
           "Central"
          ],
          [
           "IC",
           "Central"
          ],
          [
           "IC",
           "Central"
          ],
          [
           "IC",
           "Central"
          ],
          [
           "IC",
           "Central"
          ],
          [
           "IC",
           "Central"
          ],
          [
           "IC",
           "Central"
          ],
          [
           "IC",
           "Central"
          ],
          [
           "AA",
           "Central"
          ],
          [
           "IC",
           "Central"
          ],
          [
           "IC",
           "Central"
          ],
          [
           "AA",
           "Central"
          ],
          [
           "IC",
           "Central"
          ],
          [
           "IC",
           "Central"
          ],
          [
           "IC",
           "Central"
          ],
          [
           "IC",
           "Central"
          ],
          [
           "IC",
           "Central"
          ],
          [
           "IC",
           "Central"
          ],
          [
           "IC",
           "Central"
          ],
          [
           "IC",
           "Central"
          ],
          [
           "IC",
           "Central"
          ],
          [
           "IC",
           "Central"
          ],
          [
           "AA",
           "Central"
          ],
          [
           "IC",
           "Central"
          ],
          [
           "IC",
           "Central"
          ],
          [
           "IC",
           "Central"
          ],
          [
           "IC",
           "Central"
          ],
          [
           "IC",
           "Central"
          ],
          [
           "IC",
           "Central"
          ],
          [
           "IC",
           "Central"
          ],
          [
           "IC",
           "Central"
          ],
          [
           "IC",
           "Central"
          ],
          [
           "IC",
           "Central"
          ],
          [
           "IC",
           "Central"
          ],
          [
           "IC",
           "Central"
          ],
          [
           "IC",
           "Central"
          ],
          [
           "IC",
           "Central"
          ],
          [
           "IC",
           "Central"
          ],
          [
           "IC",
           "Central"
          ],
          [
           "IC",
           "Central"
          ],
          [
           "IC",
           "Central"
          ],
          [
           "IC",
           "Central"
          ],
          [
           "IC",
           "Central"
          ],
          [
           "IC",
           "Central"
          ],
          [
           "IC",
           "Central"
          ],
          [
           "IC",
           "Central"
          ],
          [
           "IC",
           "Central"
          ],
          [
           "IC",
           "Central"
          ],
          [
           "IC",
           "Central"
          ],
          [
           "IC",
           "Central"
          ],
          [
           "IC",
           "Central"
          ],
          [
           "IC",
           "Central"
          ],
          [
           "IC",
           "Central"
          ],
          [
           "IC",
           "Central"
          ],
          [
           "IC",
           "Central"
          ],
          [
           "IC",
           "Central"
          ],
          [
           "IC",
           "Central"
          ],
          [
           "IC",
           "Central"
          ],
          [
           "IC",
           "Central"
          ],
          [
           "IC",
           "Central"
          ],
          [
           "IC",
           "Central"
          ],
          [
           "IC",
           "Central"
          ],
          [
           "IC",
           "Central"
          ],
          [
           "IC",
           "Central"
          ],
          [
           "IC",
           "Central"
          ],
          [
           "IC",
           "Central"
          ],
          [
           "IC",
           "Central"
          ],
          [
           "IC",
           "Central"
          ],
          [
           "IC",
           "Central"
          ],
          [
           "IC",
           "Central"
          ],
          [
           "IC",
           "Central"
          ],
          [
           "IC",
           "Central"
          ],
          [
           "AO",
           "Central"
          ],
          [
           "IC",
           "Central"
          ],
          [
           "IC",
           "Central"
          ],
          [
           "AO",
           "Central"
          ],
          [
           "IC",
           "Central"
          ],
          [
           "IC",
           "Central"
          ],
          [
           "IC",
           "Central"
          ],
          [
           "IC",
           "Central"
          ],
          [
           "IC",
           "Central"
          ],
          [
           "IC",
           "Central"
          ],
          [
           "IC",
           "Central"
          ],
          [
           "IC",
           "Central"
          ],
          [
           "IC",
           "Central"
          ],
          [
           "IC",
           "Central"
          ],
          [
           "IC",
           "Central"
          ],
          [
           "IC",
           "Central"
          ],
          [
           "IC",
           "Central"
          ],
          [
           "AO",
           "Central"
          ],
          [
           "IC",
           "Central"
          ],
          [
           "IC",
           "Central"
          ],
          [
           "IC",
           "Central"
          ],
          [
           "IC",
           "Central"
          ],
          [
           "IC",
           "Central"
          ],
          [
           "IC",
           "Central"
          ],
          [
           "IC",
           "Central"
          ],
          [
           "IC",
           "Central"
          ],
          [
           "IC",
           "Central"
          ],
          [
           "IC",
           "Central"
          ],
          [
           "IC",
           "Central"
          ],
          [
           "IC",
           "Central"
          ],
          [
           "IC",
           "Central"
          ],
          [
           "IC",
           "Central"
          ],
          [
           "IC",
           "Central"
          ],
          [
           "IC",
           "Central"
          ],
          [
           "AA",
           "Central"
          ],
          [
           "IC",
           "Central"
          ],
          [
           "IC",
           "Central"
          ],
          [
           "IC",
           "Central"
          ],
          [
           "IC",
           "Central"
          ],
          [
           "IC",
           "Central"
          ],
          [
           "IC",
           "Central"
          ],
          [
           "IC",
           "Central"
          ],
          [
           "IC",
           "Central"
          ],
          [
           "IC",
           "Central"
          ],
          [
           "AA",
           "Central"
          ],
          [
           "IC",
           "Central"
          ],
          [
           "IC",
           "Central"
          ],
          [
           "AA",
           "Central"
          ],
          [
           "AA",
           "Central"
          ],
          [
           "IC",
           "Central"
          ],
          [
           "IC",
           "Central"
          ],
          [
           "IC",
           "Central"
          ],
          [
           "IC",
           "Central"
          ],
          [
           "IC",
           "Central"
          ],
          [
           "IC",
           "Central"
          ],
          [
           "JA",
           "Central"
          ],
          [
           "AO",
           "Central"
          ],
          [
           "IC",
           "Central"
          ],
          [
           "IC",
           "Central"
          ],
          [
           "IC",
           "Central"
          ],
          [
           "IC",
           "Central"
          ],
          [
           "IC",
           "Central"
          ],
          [
           "IC",
           "Central"
          ],
          [
           "IC",
           "Central"
          ],
          [
           "IC",
           "Central"
          ],
          [
           "IC",
           "Central"
          ],
          [
           "IC",
           "Central"
          ],
          [
           "IC",
           "Central"
          ],
          [
           "IC",
           "Central"
          ],
          [
           "IC",
           "Central"
          ],
          [
           "IC",
           "Central"
          ],
          [
           "IC",
           "Central"
          ],
          [
           "IC",
           "Central"
          ],
          [
           "IC",
           "Central"
          ],
          [
           "IC",
           "Central"
          ],
          [
           "IC",
           "Central"
          ],
          [
           "IC",
           "Central"
          ],
          [
           "IC",
           "Central"
          ],
          [
           "IC",
           "Central"
          ],
          [
           "IC",
           "Central"
          ],
          [
           "IC",
           "Central"
          ],
          [
           "IC",
           "Central"
          ],
          [
           "IC",
           "Central"
          ],
          [
           "IC",
           "Central"
          ],
          [
           "IC",
           "Central"
          ],
          [
           "IC",
           "Central"
          ],
          [
           "IC",
           "Central"
          ],
          [
           "IC",
           "Central"
          ],
          [
           "IC",
           "Central"
          ],
          [
           "IC",
           "Central"
          ],
          [
           "IC",
           "Central"
          ],
          [
           "IC",
           "Central"
          ],
          [
           "IC",
           "Central"
          ],
          [
           "IC",
           "Central"
          ],
          [
           "IC",
           "Central"
          ],
          [
           "IC",
           "Central"
          ],
          [
           "IC",
           "Central"
          ],
          [
           "IC",
           "Central"
          ],
          [
           "IC",
           "Central"
          ],
          [
           "IC",
           "Central"
          ],
          [
           "IC",
           "Central"
          ],
          [
           "IC",
           "Central"
          ],
          [
           "IC",
           "Central"
          ],
          [
           "IC",
           "Central"
          ],
          [
           "IC",
           "Central"
          ],
          [
           "IC",
           "Central"
          ],
          [
           "IC",
           "Central"
          ],
          [
           "IC",
           "Central"
          ],
          [
           "JA",
           "Central"
          ],
          [
           "IC",
           "Central"
          ],
          [
           "IC",
           "Central"
          ],
          [
           "IC",
           "Central"
          ],
          [
           "IC",
           "Central"
          ],
          [
           "IC",
           "Central"
          ],
          [
           "IC",
           "Central"
          ],
          [
           "IC",
           "Central"
          ],
          [
           "IC",
           "Central"
          ],
          [
           "IC",
           "Central"
          ],
          [
           "IC",
           "Central"
          ],
          [
           "AO",
           "Central"
          ],
          [
           "AA",
           "Central"
          ],
          [
           "IC",
           "Central"
          ],
          [
           "IC",
           "Central"
          ],
          [
           "IC",
           "Central"
          ],
          [
           "IC",
           "Central"
          ],
          [
           "IC",
           "Central"
          ],
          [
           "IC",
           "Central"
          ],
          [
           "IC",
           "Central"
          ],
          [
           "IC",
           "Central"
          ],
          [
           "IC",
           "Central"
          ],
          [
           "IC",
           "Central"
          ],
          [
           "AA",
           "Central"
          ],
          [
           "AA",
           "Central"
          ],
          [
           "AA",
           "Central"
          ],
          [
           "IC",
           "Central"
          ],
          [
           "IC",
           "Central"
          ],
          [
           "IC",
           "Central"
          ],
          [
           "IC",
           "Central"
          ],
          [
           "IC",
           "Central"
          ],
          [
           "IC",
           "Central"
          ],
          [
           "IC",
           "Central"
          ],
          [
           "IC",
           "Central"
          ],
          [
           "IC",
           "Central"
          ],
          [
           "IC",
           "Central"
          ],
          [
           "IC",
           "Central"
          ],
          [
           "IC",
           "Central"
          ],
          [
           "IC",
           "Central"
          ],
          [
           "AO",
           "Central"
          ],
          [
           "IC",
           "Central"
          ],
          [
           "IC",
           "Central"
          ],
          [
           "IC",
           "Central"
          ],
          [
           "IC",
           "Central"
          ],
          [
           "IC",
           "Central"
          ],
          [
           "IC",
           "Central"
          ],
          [
           "IC",
           "Central"
          ],
          [
           "IC",
           "Central"
          ],
          [
           "IC",
           "Central"
          ],
          [
           "AA",
           "Central"
          ],
          [
           "IC",
           "Central"
          ],
          [
           "IC",
           "Central"
          ],
          [
           "IC",
           "Central"
          ],
          [
           "IC",
           "Central"
          ],
          [
           "IC",
           "Central"
          ],
          [
           "IC",
           "Central"
          ],
          [
           "IC",
           "Central"
          ],
          [
           "IC",
           "Central"
          ],
          [
           "AA",
           "Central"
          ],
          [
           "IC",
           "Central"
          ],
          [
           "IC",
           "Central"
          ],
          [
           "IC",
           "Central"
          ],
          [
           "IC",
           "Central"
          ],
          [
           "IC",
           "Central"
          ],
          [
           "IC",
           "Central"
          ],
          [
           "IC",
           "Central"
          ],
          [
           "IC",
           "Central"
          ],
          [
           "IC",
           "Central"
          ],
          [
           "IC",
           "Central"
          ],
          [
           "IC",
           "Central"
          ],
          [
           "IC",
           "Central"
          ],
          [
           "AA",
           "Central"
          ],
          [
           "AA",
           "Central"
          ],
          [
           "IC",
           "Central"
          ],
          [
           "IC",
           "Central"
          ],
          [
           "IC",
           "Central"
          ],
          [
           "IC",
           "Central"
          ],
          [
           "IC",
           "Central"
          ],
          [
           "IC",
           "Central"
          ],
          [
           "IC",
           "Central"
          ],
          [
           "IC",
           "Central"
          ],
          [
           "IC",
           "Central"
          ],
          [
           "IC",
           "Central"
          ],
          [
           "IC",
           "Central"
          ],
          [
           "IC",
           "Central"
          ],
          [
           "IC",
           "Central"
          ],
          [
           "IC",
           "Central"
          ],
          [
           "IC",
           "Central"
          ],
          [
           "IC",
           "Central"
          ],
          [
           "IC",
           "Central"
          ],
          [
           "IC",
           "Central"
          ],
          [
           "IC",
           "Central"
          ],
          [
           "IC",
           "Central"
          ],
          [
           "AA",
           "Central"
          ],
          [
           "AA",
           "Central"
          ],
          [
           "IC",
           "Central"
          ],
          [
           "IC",
           "Central"
          ],
          [
           "IC",
           "Central"
          ],
          [
           "IC",
           "Central"
          ],
          [
           "AO",
           "Central"
          ],
          [
           "IC",
           "Central"
          ],
          [
           "IC",
           "Central"
          ],
          [
           "IC",
           "Central"
          ],
          [
           "AA",
           "Central"
          ],
          [
           "IC",
           "Central"
          ],
          [
           "IC",
           "Central"
          ],
          [
           "IC",
           "Central"
          ],
          [
           "IC",
           "Central"
          ],
          [
           "IC",
           "Central"
          ],
          [
           "IC",
           "Central"
          ],
          [
           "IC",
           "Central"
          ],
          [
           "IC",
           "Central"
          ],
          [
           "IC",
           "Central"
          ],
          [
           "AA",
           "Central"
          ],
          [
           "IC",
           "Central"
          ],
          [
           "IC",
           "Central"
          ],
          [
           "IC",
           "Central"
          ],
          [
           "IC",
           "Central"
          ],
          [
           "IC",
           "Central"
          ],
          [
           "IC",
           "Central"
          ],
          [
           "IC",
           "Central"
          ],
          [
           "IC",
           "Central"
          ],
          [
           "IC",
           "Central"
          ],
          [
           "IC",
           "Central"
          ],
          [
           "IC",
           "Central"
          ],
          [
           "IC",
           "Central"
          ],
          [
           "IC",
           "Central"
          ],
          [
           "IC",
           "Central"
          ],
          [
           "AA",
           "Central"
          ],
          [
           "IC",
           "Central"
          ],
          [
           "AA",
           "Central"
          ],
          [
           "AA",
           "Central"
          ],
          [
           "IC",
           "Central"
          ],
          [
           "IC",
           "Central"
          ],
          [
           "IC",
           "Central"
          ],
          [
           "IC",
           "Central"
          ],
          [
           "AA",
           "Central"
          ],
          [
           "IC",
           "Central"
          ],
          [
           "IC",
           "Central"
          ],
          [
           "IC",
           "Central"
          ],
          [
           "IC",
           "Central"
          ],
          [
           "IC",
           "Central"
          ],
          [
           "IC",
           "Central"
          ],
          [
           "IC",
           "Central"
          ],
          [
           "IC",
           "Central"
          ],
          [
           "IC",
           "Central"
          ],
          [
           "IC",
           "Central"
          ],
          [
           "IC",
           "Central"
          ],
          [
           "IC",
           "Central"
          ],
          [
           "IC",
           "Central"
          ],
          [
           "IC",
           "Central"
          ],
          [
           "IC",
           "Central"
          ],
          [
           "IC",
           "Central"
          ],
          [
           "IC",
           "Central"
          ],
          [
           "IC",
           "Central"
          ],
          [
           "IC",
           "Central"
          ],
          [
           "IC",
           "Central"
          ],
          [
           "IC",
           "Central"
          ],
          [
           "AO",
           "Central"
          ],
          [
           "IC",
           "Central"
          ],
          [
           "IC",
           "Central"
          ],
          [
           "IC",
           "Central"
          ],
          [
           "IC",
           "Central"
          ],
          [
           "IC",
           "Central"
          ],
          [
           "IC",
           "Central"
          ],
          [
           "IC",
           "Central"
          ],
          [
           "IC",
           "Central"
          ],
          [
           "IC",
           "Central"
          ],
          [
           "IC",
           "Central"
          ],
          [
           "AA",
           "Central"
          ],
          [
           "IC",
           "Central"
          ],
          [
           "IC",
           "Central"
          ],
          [
           "IC",
           "Central"
          ],
          [
           "IC",
           "Central"
          ],
          [
           "IC",
           "Central"
          ],
          [
           "IC",
           "Central"
          ],
          [
           "IC",
           "Central"
          ],
          [
           "IC",
           "Central"
          ],
          [
           "IC",
           "Central"
          ],
          [
           "IC",
           "Central"
          ],
          [
           "IC",
           "Central"
          ],
          [
           "IC",
           "Central"
          ],
          [
           "IC",
           "Central"
          ],
          [
           "IC",
           "Central"
          ],
          [
           "IC",
           "Central"
          ],
          [
           "IC",
           "Central"
          ],
          [
           "IC",
           "Central"
          ],
          [
           "IC",
           "Central"
          ],
          [
           "IC",
           "Central"
          ],
          [
           "IC",
           "Central"
          ],
          [
           "AO",
           "Central"
          ],
          [
           "AO",
           "Central"
          ],
          [
           "IC",
           "Central"
          ],
          [
           "IC",
           "Central"
          ],
          [
           "IC",
           "Central"
          ],
          [
           "IC",
           "Central"
          ],
          [
           "IC",
           "Central"
          ],
          [
           "IC",
           "Central"
          ],
          [
           "IC",
           "Central"
          ],
          [
           "IC",
           "Central"
          ],
          [
           "IC",
           "Central"
          ],
          [
           "AO",
           "Central"
          ],
          [
           "IC",
           "Central"
          ],
          [
           "IC",
           "Central"
          ],
          [
           "IC",
           "Central"
          ],
          [
           "AA",
           "Central"
          ],
          [
           "AA",
           "Central"
          ],
          [
           "IC",
           "Central"
          ],
          [
           "IC",
           "Central"
          ],
          [
           "IC",
           "Central"
          ],
          [
           "IC",
           "Central"
          ],
          [
           "IC",
           "Central"
          ],
          [
           "IC",
           "Central"
          ],
          [
           "IC",
           "Central"
          ],
          [
           "IC",
           "Central"
          ],
          [
           "IC",
           "Central"
          ],
          [
           "IC",
           "Central"
          ],
          [
           "AO",
           "Central"
          ],
          [
           "IC",
           "Central"
          ],
          [
           "IC",
           "Central"
          ],
          [
           "IC",
           "Central"
          ],
          [
           "IC",
           "Central"
          ],
          [
           "IC",
           "Central"
          ],
          [
           "IC",
           "Central"
          ],
          [
           "AO",
           "Central"
          ],
          [
           "IC",
           "Central"
          ],
          [
           "IC",
           "Central"
          ],
          [
           "IC",
           "Central"
          ],
          [
           "IC",
           "Central"
          ],
          [
           "IC",
           "Central"
          ],
          [
           "IC",
           "Central"
          ],
          [
           "IC",
           "Central"
          ],
          [
           "IC",
           "Central"
          ],
          [
           "IC",
           "Central"
          ],
          [
           "IC",
           "Central"
          ],
          [
           "IC",
           "Central"
          ],
          [
           "IC",
           "Central"
          ],
          [
           "IC",
           "Central"
          ],
          [
           "IC",
           "Central"
          ],
          [
           "IC",
           "Central"
          ],
          [
           "IC",
           "Central"
          ],
          [
           "IC",
           "Central"
          ],
          [
           "IC",
           "Central"
          ],
          [
           "IC",
           "Central"
          ],
          [
           "AA",
           "Central"
          ],
          [
           "IC",
           "Central"
          ],
          [
           "IC",
           "Central"
          ],
          [
           "IC",
           "Central"
          ],
          [
           "IC",
           "Central"
          ],
          [
           "IC",
           "Central"
          ],
          [
           "IC",
           "Central"
          ],
          [
           "IC",
           "Central"
          ],
          [
           "IC",
           "Central"
          ],
          [
           "IC",
           "Central"
          ],
          [
           "AO",
           "Central"
          ],
          [
           "IC",
           "Central"
          ],
          [
           "IC",
           "Central"
          ],
          [
           "IC",
           "Central"
          ],
          [
           "IC",
           "Central"
          ],
          [
           "IC",
           "Central"
          ],
          [
           "IC",
           "Central"
          ],
          [
           "IC",
           "Central"
          ],
          [
           "IC",
           "Central"
          ],
          [
           "IC",
           "Central"
          ],
          [
           "IC",
           "Central"
          ],
          [
           "IC",
           "Central"
          ],
          [
           "AA",
           "Central"
          ],
          [
           "IC",
           "Central"
          ],
          [
           "IC",
           "Central"
          ],
          [
           "IC",
           "Central"
          ],
          [
           "IC",
           "Central"
          ],
          [
           "IC",
           "Central"
          ],
          [
           "IC",
           "Central"
          ],
          [
           "IC",
           "Central"
          ],
          [
           "IC",
           "Central"
          ],
          [
           "IC",
           "Central"
          ],
          [
           "IC",
           "Central"
          ],
          [
           "AO",
           "Central"
          ],
          [
           "IC",
           "Central"
          ],
          [
           "IC",
           "Central"
          ],
          [
           "IC",
           "Central"
          ],
          [
           "IC",
           "Central"
          ],
          [
           "IC",
           "Central"
          ],
          [
           "IC",
           "Central"
          ],
          [
           "IC",
           "Central"
          ],
          [
           "IC",
           "Central"
          ],
          [
           "AA",
           "Central"
          ],
          [
           "IC",
           "Central"
          ],
          [
           "IC",
           "Central"
          ],
          [
           "IC",
           "Central"
          ],
          [
           "IC",
           "Central"
          ],
          [
           "IC",
           "Central"
          ],
          [
           "IC",
           "Central"
          ],
          [
           "IC",
           "Central"
          ],
          [
           "IC",
           "Central"
          ],
          [
           "AA",
           "Central"
          ],
          [
           "AA",
           "Central"
          ],
          [
           "IC",
           "Central"
          ],
          [
           "IC",
           "Central"
          ],
          [
           "IC",
           "Central"
          ],
          [
           "IC",
           "Central"
          ],
          [
           "IC",
           "Central"
          ],
          [
           "IC",
           "Central"
          ],
          [
           "IC",
           "Central"
          ],
          [
           "IC",
           "Central"
          ],
          [
           "IC",
           "Central"
          ],
          [
           "IC",
           "Central"
          ],
          [
           "IC",
           "Central"
          ],
          [
           "IC",
           "Central"
          ],
          [
           "IC",
           "Central"
          ],
          [
           "IC",
           "Central"
          ],
          [
           "IC",
           "Central"
          ],
          [
           "IC",
           "Central"
          ],
          [
           "IC",
           "Central"
          ],
          [
           "IC",
           "Central"
          ],
          [
           "IC",
           "Central"
          ],
          [
           "IC",
           "Central"
          ],
          [
           "IC",
           "Central"
          ],
          [
           "IC",
           "Central"
          ],
          [
           "IC",
           "Central"
          ],
          [
           "IC",
           "Central"
          ],
          [
           "IC",
           "Central"
          ],
          [
           "IC",
           "Central"
          ],
          [
           "AO",
           "Central"
          ],
          [
           "IC",
           "Central"
          ],
          [
           "IC",
           "Central"
          ],
          [
           "IC",
           "Central"
          ],
          [
           "IC",
           "Central"
          ],
          [
           "IC",
           "Central"
          ],
          [
           "IC",
           "Central"
          ],
          [
           "IC",
           "Central"
          ],
          [
           "IC",
           "Central"
          ],
          [
           "IC",
           "Central"
          ],
          [
           "IC",
           "Central"
          ],
          [
           "IC",
           "Central"
          ],
          [
           "IC",
           "Central"
          ],
          [
           "IC",
           "Central"
          ],
          [
           "IC",
           "Central"
          ],
          [
           "IC",
           "Central"
          ],
          [
           "IC",
           "Central"
          ],
          [
           "IC",
           "Central"
          ],
          [
           "IC",
           "Central"
          ],
          [
           "IC",
           "Central"
          ],
          [
           "IC",
           "Central"
          ],
          [
           "IC",
           "Central"
          ],
          [
           "IC",
           "Central"
          ],
          [
           "IC",
           "Central"
          ],
          [
           "IC",
           "Central"
          ],
          [
           "IC",
           "Central"
          ],
          [
           "IC",
           "Central"
          ],
          [
           "AA",
           "Central"
          ],
          [
           "IC",
           "Central"
          ],
          [
           "IC",
           "Central"
          ],
          [
           "IC",
           "Central"
          ],
          [
           "IC",
           "Central"
          ],
          [
           "IC",
           "Central"
          ],
          [
           "IC",
           "Central"
          ],
          [
           "IC",
           "Central"
          ],
          [
           "IC",
           "Central"
          ],
          [
           "IC",
           "Central"
          ],
          [
           "IC",
           "Central"
          ],
          [
           "IC",
           "Central"
          ],
          [
           "IC",
           "Central"
          ],
          [
           "AO",
           "Central"
          ],
          [
           "AO",
           "Central"
          ],
          [
           "IC",
           "Central"
          ],
          [
           "IC",
           "Central"
          ],
          [
           "IC",
           "Central"
          ],
          [
           "AA",
           "Central"
          ],
          [
           "IC",
           "Central"
          ],
          [
           "IC",
           "Central"
          ],
          [
           "IC",
           "Central"
          ]
         ],
         "hovertemplate": "AREA NAME=%{customdata[1]}<br>LAT=%{lat}<br>LON=%{lon}<br>Status=%{customdata[0]}<extra></extra>",
         "lat": [
          34.0459,
          34.0448,
          34.0452,
          34.0483,
          34.0448,
          34.0677,
          34.0359,
          34.0615,
          34.0452,
          34.048,
          34.0515,
          34.0463,
          34.048,
          34.048,
          34.0428,
          34.0578,
          34.0542,
          34.0583,
          34.0615,
          34.0428,
          34.0431,
          34.048,
          34.0317,
          34.0456,
          34.0467,
          34.0487,
          34.0431,
          34.048,
          34.0448,
          34.0463,
          34.0503,
          34.0458,
          34.0503,
          34.0612,
          34.0563,
          34.0401,
          34.0487,
          34.032,
          34.0561,
          34.0488,
          34.0488,
          34.0487,
          34.0495,
          34.0424,
          34.0485,
          34.0467,
          34.0462,
          34.0639,
          34.0444,
          34.0623,
          34.0488,
          34.0421,
          34.0481,
          34.0317,
          34.0473,
          34.0449,
          34.048,
          34.0635,
          34.0467,
          34.0569,
          34.0445,
          34.0395,
          34.0487,
          34.048,
          34.0522,
          34.0607,
          34.0402,
          34.053,
          34.039,
          34.0586,
          34.0487,
          34.0395,
          34.0487,
          34.0377,
          34.048,
          34.0522,
          34.053,
          34.0446,
          34.0515,
          34.0363,
          34.0491,
          34.0421,
          34.051,
          34.0467,
          34.048,
          34.048,
          34.0433,
          34.0473,
          34.0435,
          34.0471,
          34.051,
          34.0403,
          34.0483,
          34.0384,
          34.0389,
          34.0446,
          34.0615,
          34.0437,
          34.0357,
          34.0483,
          34.0563,
          34.0364,
          34.048,
          34.0437,
          34.048,
          34.0482,
          34.046,
          34.0487,
          34.0563,
          34.046,
          34.0449,
          34.0652,
          34.0713,
          34.0488,
          34.0467,
          34.0435,
          34.064,
          34.0446,
          34.0467,
          34.0515,
          34.0446,
          34.0407,
          34.0433,
          34.0409,
          34.0401,
          34.0563,
          34.046,
          34.0503,
          34.0563,
          34.0442,
          34.0563,
          34.0377,
          34.0452,
          34.0366,
          34.0317,
          34.0494,
          34.046,
          34.047,
          34.0527,
          34.0586,
          34.0438,
          34.0563,
          34.0387,
          34.0487,
          34.0433,
          34.0474,
          34.0462,
          34.0474,
          34.0407,
          34.0569,
          34.0509,
          34.0329,
          34.043,
          34.0473,
          34.0495,
          34.0423,
          34.0483,
          34.0452,
          34.037,
          34.0569,
          34.0494,
          34.051,
          34.051,
          34.0438,
          34.0415,
          34.0408,
          34.0387,
          34.0453,
          34.0435,
          34.0522,
          34.0363,
          34.0483,
          34.0491,
          34.0431,
          34.0479,
          34.0439,
          34.0498,
          34.0487,
          34.0433,
          34.0714,
          34.0635,
          34.0551,
          34.048,
          34.053,
          34.0617,
          34.0481,
          34.0457,
          34.0431,
          34.048,
          34.0474,
          34.0652,
          34.048,
          34.042,
          34.0467,
          34.0453,
          34.0449,
          34.0389,
          34.0423,
          34.0436,
          34.0458,
          34.0421,
          34.0393,
          34.0453,
          34.0433,
          34.0473,
          34.0483,
          34.0372,
          34.0493,
          34.0628,
          34.0491,
          34.0433,
          34.044,
          34.0462,
          34.0563,
          34.0481,
          34.0509,
          34.0695,
          34.0563,
          34.0522,
          34.0563,
          34.042,
          34.0345,
          34.0473,
          34.0493,
          34.0583,
          34.0487,
          34.0445,
          34.048,
          34.0449,
          34.0446,
          34.0502,
          34.0503,
          34.0511,
          34.0419,
          34.0623,
          34.0428,
          34.0493,
          34.0423,
          34.0395,
          34.0536,
          34.0493,
          34.0673,
          34.0673,
          34.0487,
          34.0467,
          34.0391,
          34.0433,
          34.0481,
          34.0416,
          34.0398,
          34.0452,
          34.051,
          34.0434,
          34.0503,
          34.038,
          34.0532,
          34.0454,
          34.0454,
          34.045,
          34.0353,
          34.0439,
          34.0437,
          34.0481,
          34.0615,
          34.0395,
          34.0438,
          34.0481,
          34.0416,
          34.0461,
          34.0437,
          34.0493,
          34.0467,
          34.0393,
          34.0713,
          34.0309,
          34.0627,
          34.0444,
          34.0586,
          34.0453,
          34.0509,
          34.0488,
          34.0474,
          34.0416,
          34.0552,
          34.0563,
          34.0563,
          34.0473,
          34.0446,
          34.0674,
          34.0461,
          34.0442,
          34.0431,
          34.0582,
          34.0467,
          34.0435,
          34.043,
          34.0467,
          34.0431,
          34.0376,
          34.0437,
          34.0533,
          34.0591,
          34.0504,
          34.0473,
          34.0446,
          34.0412,
          34.0462,
          34.0467,
          34.0491,
          34.0481,
          34.046,
          34.0473,
          34.0351,
          34.0473,
          34.048,
          34.0454,
          34.0479,
          34.0458,
          34.0478,
          34.0495,
          34.0384,
          34.0586,
          34.0437,
          34.0457,
          34.0473,
          34.0452,
          34.0547,
          34.0428,
          34.0431,
          34.0502,
          34.051,
          34.0607,
          34.068,
          34.0532,
          34.042,
          34.0421,
          34.0551,
          34.0563,
          34.051,
          34.0402,
          34.048,
          34.0423,
          34.0446,
          34.0446,
          34.0409,
          34.0502,
          34.0439,
          34.0452,
          34.0483,
          34.0449,
          34.048,
          34.0502,
          34.0674,
          34.0365,
          34.0511,
          34.0462,
          34.0496,
          34.032,
          34.0547,
          34.0483,
          34.0446,
          34.0547,
          34.0462,
          34.0449,
          34.0446,
          34.0473,
          34.0344,
          34.0547,
          34.0442,
          34.0377,
          34.0438,
          34.0446,
          34.043,
          34.0483,
          34.0557,
          34.0452,
          34.045,
          34.0615,
          34.0402,
          34.0402,
          34.0459,
          34.0554,
          34.0416,
          34.0368,
          34.0408,
          34.0473,
          34.0389,
          34.0446,
          34.0324,
          34.0437,
          34.0444,
          34.0481,
          34.0563,
          34.0483,
          34.0449,
          34.0354,
          34.0414,
          34.0424,
          34.0453,
          34.0359,
          34.048,
          34.0388,
          34.0446,
          34.0487,
          34.0483,
          34.0637,
          34.0509,
          34.0435,
          34.0381,
          34.0525,
          34.0586,
          34.0542,
          34.051,
          34.0563,
          34.0504,
          34.0468,
          34.0445,
          34.0437,
          34.0438,
          34.048,
          34.0563,
          34.0385,
          34.048,
          34.0463,
          34.0402,
          34.0461,
          34.0551,
          34.0615,
          34.0563,
          34.0637,
          34.0493,
          34.0604,
          34.0472,
          34.0467,
          34.046,
          34.0408,
          34.0502,
          34.0488,
          34.0471,
          34.0474,
          34.048,
          34.0423,
          34.0481,
          34.0481,
          34.051,
          34.0494,
          34.0494,
          34.0495,
          34.0457,
          34.0409,
          34.0421,
          34.0446,
          34.0473,
          34.0462,
          34.051,
          34.0583,
          34.0522,
          34.0416,
          34.0477,
          34.0395,
          34.0509,
          34.0462,
          34.0328,
          34.0408,
          34.0363,
          34.0462,
          34.043,
          34.0502,
          34.0378,
          34.0378,
          34.0499,
          34.0617,
          34.0572,
          34.0538,
          34.046,
          34.0458,
          34.0623,
          34.0525,
          34.0549,
          34.0452,
          34.0648,
          34.0445,
          34.0488,
          34.0452,
          34.0488,
          34.051,
          34.051,
          34.0547,
          34.0461,
          34.0582,
          34.0582,
          34.0454,
          34.0563,
          34.046,
          34.046,
          34.038,
          34.0389,
          34.0502,
          34.0445,
          34.0421,
          34.0423,
          34.0572,
          34.0463,
          34.0416,
          34.0423,
          34.0587,
          34.0363,
          34.0363,
          34.0631,
          34.071,
          34.0563,
          34.0467,
          34.0363,
          34.048,
          34.0448,
          34.0412,
          34.0412,
          34.0472,
          34.0445,
          34.0495,
          34.0537,
          34.0607,
          34.0421,
          34.0402,
          34.0518,
          34.0511,
          34.0644,
          34.0466,
          34.0519,
          34.046,
          34.0384,
          34.0437,
          34.0661,
          34.043,
          34.0563,
          34.0468,
          34.0459,
          34.0402,
          34.0462,
          34.0488,
          34.0637,
          34.048,
          34.0502,
          34.0329,
          34.0433,
          34.0428,
          34.0563,
          34.0563,
          34.0433,
          34.0433,
          34.0531,
          34.0517,
          34.0569,
          34.0487,
          34.0488,
          34.0467,
          34.0606,
          34.0563,
          34.0464,
          34.0437,
          34.0626,
          34.0354,
          34.0472,
          34.0474,
          34.033,
          34.0552,
          34.0502,
          34.0487,
          34.0495,
          34.046,
          34.0483,
          34.0387,
          34.046,
          34.0442,
          34.0569,
          34.0488,
          34.0467,
          34.0453,
          34.0495,
          34.0331,
          34.0452,
          34.0437,
          34.0686,
          34.0437,
          34.0503,
          34.0437,
          34.0444,
          34.0328,
          34.0488,
          34.0504,
          34.0467,
          34.0509,
          34.048,
          34.0423,
          34.0563,
          34.0437,
          34.0483,
          34.0537,
          34.0433,
          34.0342,
          34.0473,
          34.0591,
          34.0544,
          34.0462,
          34.0455,
          34.0569,
          34.0403,
          34.0566,
          34.0714,
          34.0549,
          34.0604,
          34.0499,
          34.0382,
          34.0446,
          34.0495,
          34.0464,
          34.0461,
          34.0473,
          34.046,
          34.0734,
          34.0495,
          34.0462,
          34.0566,
          34.0483,
          34.0615,
          34.0421,
          34.0421,
          34.0519,
          34.0519,
          34.046,
          34.0412,
          34.0449,
          34.0435,
          34.0485,
          34.0435,
          34.0572,
          34.0488,
          34.0454,
          34.0423,
          34.0416,
          34.0446,
          34.0483,
          34.0458,
          34.051,
          34.0472,
          34.0374,
          34.0317,
          34.0423,
          34.0563,
          34.0399,
          34.047,
          34.0468,
          34.045,
          34.0382,
          34.0347,
          34.0382,
          34.0439,
          34.0459,
          34.0468,
          34.0413,
          34.0416,
          34.0606,
          34.0467,
          34.048,
          34.048,
          34.0586,
          34.0401,
          34.0445,
          34.0491,
          34.0448,
          34.0643,
          34.0431,
          34.0461,
          34.0635,
          34.0693,
          34.0389,
          34.0388,
          34.0378,
          34.0467,
          34.0463,
          34.0467,
          34.045,
          34.045,
          34.045,
          34.045,
          34.0454,
          34.0648,
          34.0424,
          34.0515,
          34.0577,
          34.0478,
          34.0474,
          34.0699,
          34.0563,
          34.0437,
          34.0635,
          34.0435,
          34.0456,
          34.0421,
          34.0461,
          34.0459,
          34.0421,
          34.0458,
          34.0449,
          34.0462,
          34.0342,
          34.0635,
          34.048,
          34.0467,
          34.048,
          34.0437,
          34.0395,
          34.0431,
          34.0552,
          34.0353,
          34.0379,
          34.0488,
          34.0346,
          34.0346,
          34.048,
          34.048,
          34.0439,
          34.0475,
          34.0537,
          34.0481,
          34.046,
          34.0431,
          34.0415,
          34.0415,
          34.0491,
          34.0433,
          34.045,
          34.0563,
          34.0511,
          34.0445,
          34.0459,
          34.0452,
          34.0395,
          34.0448,
          34.051,
          34.0388,
          34.0582,
          34.0412,
          34.0467,
          34.043,
          34.0524,
          34.0648,
          34.0421,
          34.0409,
          34.0487,
          34.048,
          34.0381,
          34.0478,
          34.0481,
          34.0461,
          34.0594,
          34.0632,
          34.0473,
          34.048,
          34.0509,
          34.042,
          34.0449,
          34.0468,
          34.0563,
          34.0537,
          34.048,
          34.0348,
          34.0364,
          34.0495,
          34.0488,
          34.0454,
          34.0395,
          34.0448,
          34.0421,
          34.0495,
          34.0623,
          34.0467,
          34.0714,
          34.0394,
          34.048,
          34.0563,
          34.0473,
          34.0487,
          34.0481,
          34.0345,
          34.0643,
          34.0322,
          34.0491,
          34.0532,
          34.0632,
          34.0423,
          34.0522,
          34.0423,
          34.0359
         ],
         "legendgroup": "Central",
         "lon": [
          -118.2545,
          -118.2474,
          -118.2534,
          -118.2631,
          -118.2474,
          -118.2398,
          -118.2648,
          -118.2412,
          -118.2569,
          -118.2577,
          -118.2424,
          -118.255,
          -118.2577,
          -118.2577,
          -118.2461,
          -118.2371,
          -118.2566,
          -118.2378,
          -118.247,
          -118.2461,
          -118.2692,
          -118.2577,
          -118.2626,
          -118.254,
          -118.247,
          -118.2588,
          -118.2536,
          -118.2577,
          -118.2474,
          -118.2515,
          -118.2504,
          -118.2614,
          -118.2504,
          -118.2417,
          -118.2374,
          -118.2459,
          -118.2588,
          -118.2657,
          -118.2415,
          -118.2518,
          -118.2518,
          -118.2627,
          -118.2458,
          -118.2493,
          -118.2447,
          -118.252,
          -118.2585,
          -118.2306,
          -118.2593,
          -118.2383,
          -118.25,
          -118.2469,
          -118.2507,
          -118.2641,
          -118.2566,
          -118.2528,
          -118.2577,
          -118.2426,
          -118.2485,
          -118.254,
          -118.2367,
          -118.2405,
          -118.2588,
          -118.2438,
          -118.2434,
          -118.2494,
          -118.2633,
          -118.2513,
          -118.24,
          -118.2402,
          -118.2588,
          -118.2656,
          -118.2588,
          -118.2425,
          -118.2577,
          -118.2434,
          -118.2513,
          -118.249,
          -118.2424,
          -118.2677,
          -118.2558,
          -118.2469,
          -118.2445,
          -118.2485,
          -118.2577,
          -118.2577,
          -118.2377,
          -118.2566,
          -118.2427,
          -118.2474,
          -118.2445,
          -118.2308,
          -118.2631,
          -118.2646,
          -118.2643,
          -118.245,
          -118.2412,
          -118.2455,
          -118.2593,
          -118.2631,
          -118.2374,
          -118.2303,
          -118.2577,
          -118.2455,
          -118.2577,
          -118.2472,
          -118.2509,
          -118.2588,
          -118.2374,
          -118.2509,
          -118.2528,
          -118.2451,
          -118.2291,
          -118.2553,
          -118.252,
          -118.2471,
          -118.2375,
          -118.245,
          -118.2556,
          -118.2424,
          -118.249,
          -118.2541,
          -118.2504,
          -118.2574,
          -118.2668,
          -118.2374,
          -118.2509,
          -118.2504,
          -118.2374,
          -118.2439,
          -118.2374,
          -118.2621,
          -118.2534,
          -118.2643,
          -118.2641,
          -118.2599,
          -118.2509,
          -118.2526,
          -118.2398,
          -118.2402,
          -118.2547,
          -118.2374,
          -118.2335,
          -118.2588,
          -118.2381,
          -118.2496,
          -118.2585,
          -118.2531,
          -118.2468,
          -118.254,
          -118.2585,
          -118.2632,
          -118.2606,
          -118.2566,
          -118.2494,
          -118.2666,
          -118.2631,
          -118.2569,
          -118.2651,
          -118.2385,
          -118.2599,
          -118.248,
          -118.248,
          -118.2397,
          -118.2654,
          -118.2511,
          -118.2576,
          -118.2443,
          -118.2471,
          -118.2434,
          -118.2672,
          -118.2631,
          -118.2558,
          -118.2692,
          -118.2612,
          -118.2479,
          -118.24,
          -118.2588,
          -118.2377,
          -118.2329,
          -118.2313,
          -118.2323,
          -118.256,
          -118.2444,
          -118.2469,
          -118.2507,
          -118.2665,
          -118.2692,
          -118.2577,
          -118.2496,
          -118.2468,
          -118.2577,
          -118.2625,
          -118.2485,
          -118.2443,
          -118.2458,
          -118.2643,
          -118.2631,
          -118.2354,
          -118.243,
          -118.2469,
          -118.2689,
          -118.2443,
          -118.2504,
          -118.2425,
          -118.2631,
          -118.2694,
          -118.2418,
          -118.2395,
          -118.2558,
          -118.2504,
          -118.2528,
          -118.2585,
          -118.2374,
          -118.2507,
          -118.2585,
          -118.2324,
          -118.2374,
          -118.2434,
          -118.2374,
          -118.2625,
          -118.266,
          -118.2566,
          -118.2418,
          -118.2378,
          -118.2571,
          -118.2558,
          -118.2577,
          -118.2458,
          -118.249,
          -118.2574,
          -118.2433,
          -118.2608,
          -118.2523,
          -118.2383,
          -118.2461,
          -118.2418,
          -118.2561,
          -118.2656,
          -118.2313,
          -118.2418,
          -118.2354,
          -118.2354,
          -118.2588,
          -118.2485,
          -118.2384,
          -118.2381,
          -118.2507,
          -118.262,
          -118.2413,
          -118.2569,
          -118.248,
          -118.2349,
          -118.2433,
          -118.243,
          -118.2425,
          -118.236,
          -118.236,
          -118.264,
          -118.2698,
          -118.2514,
          -118.2582,
          -118.2542,
          -118.2412,
          -118.2656,
          -118.2416,
          -118.2507,
          -118.2398,
          -118.2476,
          -118.2455,
          -118.2418,
          -118.2485,
          -118.2689,
          -118.2291,
          -118.2618,
          -118.2463,
          -118.2628,
          -118.2402,
          -118.2443,
          -118.2585,
          -118.2518,
          -118.2496,
          -118.255,
          -118.2322,
          -118.2374,
          -118.2374,
          -118.2566,
          -118.2507,
          -118.2468,
          -118.2476,
          -118.2439,
          -118.2692,
          -118.2387,
          -118.2485,
          -118.2365,
          -118.2641,
          -118.252,
          -118.2692,
          -118.2594,
          -118.2455,
          -118.2379,
          -118.2412,
          -118.2409,
          -118.2566,
          -118.249,
          -118.2436,
          -118.2585,
          -118.252,
          -118.2558,
          -118.2542,
          -118.2509,
          -118.2566,
          -118.2672,
          -118.2566,
          -118.2577,
          -118.2657,
          -118.2612,
          -118.243,
          -118.2454,
          -118.2529,
          -118.2571,
          -118.2402,
          -118.2617,
          -118.2665,
          -118.2566,
          -118.2569,
          -118.2505,
          -118.2461,
          -118.2692,
          -118.254,
          -118.248,
          -118.2405,
          -118.2359,
          -118.2425,
          -118.2625,
          -118.2469,
          -118.2323,
          -118.2374,
          -118.248,
          -118.2684,
          -118.2577,
          -118.2631,
          -118.245,
          -118.245,
          -118.2574,
          -118.2487,
          -118.2514,
          -118.2534,
          -118.2631,
          -118.2458,
          -118.2577,
          -118.2336,
          -118.2468,
          -118.2364,
          -118.2334,
          -118.2585,
          -118.2458,
          -118.2657,
          -118.2505,
          -118.2631,
          -118.249,
          -118.2505,
          -118.2585,
          -118.2458,
          -118.2507,
          -118.2566,
          -118.2714,
          -118.2505,
          -118.2439,
          -118.2607,
          -118.2547,
          -118.245,
          -118.2606,
          -118.2326,
          -118.2488,
          -118.2569,
          -118.264,
          -118.2412,
          -118.2633,
          -118.2633,
          -118.2351,
          -118.2404,
          -118.262,
          -118.2412,
          -118.2428,
          -118.2566,
          -118.2643,
          -118.249,
          -118.2605,
          -118.2582,
          -118.2541,
          -118.2542,
          -118.2374,
          -118.2631,
          -118.2458,
          -118.264,
          -118.2319,
          -118.2493,
          -118.2443,
          -118.2344,
          -118.2577,
          -118.2574,
          -118.2507,
          -118.2571,
          -118.2631,
          -118.244,
          -118.2585,
          -118.2471,
          -118.2401,
          -118.2432,
          -118.2402,
          -118.2566,
          -118.2445,
          -118.2374,
          -118.2409,
          -118.2415,
          -118.2523,
          -118.2455,
          -118.2416,
          -118.2577,
          -118.2374,
          -118.2491,
          -118.2577,
          -118.2515,
          -118.2633,
          -118.2476,
          -118.2323,
          -118.2412,
          -118.2374,
          -118.244,
          -118.2418,
          -118.2393,
          -118.2352,
          -118.2485,
          -118.2493,
          -118.2511,
          -118.254,
          -118.2553,
          -118.2474,
          -118.2496,
          -118.2577,
          -118.2595,
          -118.2507,
          -118.2507,
          -118.248,
          -118.2581,
          -118.2581,
          -118.2563,
          -118.2665,
          -118.2574,
          -118.2469,
          -118.245,
          -118.2601,
          -118.2585,
          -118.2445,
          -118.2395,
          -118.2434,
          -118.262,
          -118.2393,
          -118.2622,
          -118.2585,
          -118.2585,
          -118.2647,
          -118.2428,
          -118.2573,
          -118.2585,
          -118.2606,
          -118.254,
          -118.2561,
          -118.2561,
          -118.2614,
          -118.2469,
          -118.2481,
          -118.256,
          -118.2326,
          -118.2614,
          -118.2383,
          -118.2432,
          -118.2426,
          -118.2534,
          -118.2303,
          -118.2523,
          -118.2553,
          -118.2534,
          -118.25,
          -118.2445,
          -118.2445,
          -118.2505,
          -118.2395,
          -118.2387,
          -118.2387,
          -118.2657,
          -118.2374,
          -118.2493,
          -118.2493,
          -118.243,
          -118.255,
          -118.254,
          -118.2523,
          -118.2469,
          -118.2527,
          -118.2481,
          -118.255,
          -118.262,
          -118.2452,
          -118.233,
          -118.2573,
          -118.2573,
          -118.2337,
          -118.2302,
          -118.2374,
          -118.252,
          -118.2672,
          -118.2577,
          -118.2474,
          -118.2474,
          -118.2474,
          -118.2361,
          -118.2523,
          -118.2494,
          -118.2523,
          -118.2494,
          -118.2405,
          -118.2633,
          -118.2493,
          -118.2381,
          -118.2387,
          -118.259,
          -118.2531,
          -118.2509,
          -118.2294,
          -118.2455,
          -118.2435,
          -118.242,
          -118.2374,
          -118.2622,
          -118.2579,
          -118.2633,
          -118.2585,
          -118.2518,
          -118.244,
          -118.2577,
          -118.254,
          -118.2632,
          -118.2504,
          -118.2461,
          -118.2374,
          -118.2374,
          -118.2377,
          -118.2504,
          -118.2478,
          -118.2474,
          -118.254,
          -118.2571,
          -118.2553,
          -118.252,
          -118.2455,
          -118.2374,
          -118.2447,
          -118.2455,
          -118.2445,
          -118.2714,
          -118.2381,
          -118.2496,
          -118.2615,
          -118.2322,
          -118.254,
          -118.2588,
          -118.2494,
          -118.2509,
          -118.2631,
          -118.2335,
          -118.2509,
          -118.2439,
          -118.254,
          -118.2483,
          -118.2556,
          -118.2443,
          -118.2529,
          -118.2599,
          -118.2534,
          -118.2582,
          -118.2266,
          -118.2582,
          -118.2506,
          -118.2455,
          -118.2407,
          -118.2647,
          -118.2553,
          -118.2409,
          -118.2485,
          -118.2585,
          -118.2577,
          -118.2452,
          -118.2374,
          -118.2582,
          -118.2631,
          -118.2455,
          -118.2381,
          -118.2636,
          -118.2601,
          -118.2412,
          -118.2466,
          -118.2585,
          -118.2381,
          -118.254,
          -118.2421,
          -118.2319,
          -118.2329,
          -118.2426,
          -118.2393,
          -118.2614,
          -118.2316,
          -118.245,
          -118.2529,
          -118.2447,
          -118.2476,
          -118.2566,
          -118.2493,
          -118.2305,
          -118.2563,
          -118.2628,
          -118.2319,
          -118.2631,
          -118.2412,
          -118.2469,
          -118.2469,
          -118.2531,
          -118.2531,
          -118.2493,
          -118.2474,
          -118.2458,
          -118.2427,
          -118.2447,
          -118.2471,
          -118.2481,
          -118.25,
          -118.2333,
          -118.2452,
          -118.2398,
          -118.245,
          -118.2631,
          -118.2614,
          -118.248,
          -118.2442,
          -118.2701,
          -118.2641,
          -118.2631,
          -118.2374,
          -118.2383,
          -118.2526,
          -118.2415,
          -118.264,
          -118.2384,
          -118.2645,
          -118.2345,
          -118.2479,
          -118.2579,
          -118.2415,
          -118.2517,
          -118.2398,
          -118.2439,
          -118.247,
          -118.2577,
          -118.2577,
          -118.2402,
          -118.2459,
          -118.2523,
          -118.2558,
          -118.2474,
          -118.2306,
          -118.2692,
          -118.2395,
          -118.2356,
          -118.2488,
          -118.2643,
          -118.2717,
          -118.2561,
          -118.2485,
          -118.2515,
          -118.2556,
          -118.264,
          -118.264,
          -118.264,
          -118.264,
          -118.2466,
          -118.2313,
          -118.2718,
          -118.2424,
          -118.2318,
          -118.2484,
          -118.2531,
          -118.2341,
          -118.2374,
          -118.2582,
          -118.2356,
          -118.2427,
          -118.2504,
          -118.2469,
          -118.2476,
          -118.2579,
          -118.2469,
          -118.243,
          -118.2458,
          -118.2585,
          -118.2636,
          -118.2426,
          -118.2577,
          -118.252,
          -118.2577,
          -118.2652,
          -118.2656,
          -118.2692,
          -118.2322,
          -118.2698,
          -118.2682,
          -118.2518,
          -118.2323,
          -118.2323,
          -118.2577,
          -118.2577,
          -118.2514,
          -118.2657,
          -118.2523,
          -118.2542,
          -118.2509,
          -118.2692,
          -118.2374,
          -118.2374,
          -118.2558,
          -118.2504,
          -118.2628,
          -118.2374,
          -118.2334,
          -118.2523,
          -118.2579,
          -118.2534,
          -118.2622,
          -118.2474,
          -118.2445,
          -118.2574,
          -118.2387,
          -118.2436,
          -118.247,
          -118.2571,
          -118.2467,
          -118.2313,
          -118.2469,
          -118.2609,
          -118.2588,
          -118.2577,
          -118.2629,
          -118.2484,
          -118.2507,
          -118.2395,
          -118.2452,
          -118.2408,
          -118.2566,
          -118.2577,
          -118.2585,
          -118.2625,
          -118.2415,
          -118.2641,
          -118.2374,
          -118.2455,
          -118.2577,
          -118.2687,
          -118.2603,
          -118.2458,
          -118.2483,
          -118.2657,
          -118.2656,
          -118.2474,
          -118.2469,
          -118.2458,
          -118.2383,
          -118.247,
          -118.2329,
          -118.2496,
          -118.2577,
          -118.2374,
          -118.2425,
          -118.2627,
          -118.2542,
          -118.266,
          -118.2299,
          -118.2637,
          -118.2593,
          -118.2425,
          -118.2408,
          -118.2452,
          -118.2434,
          -118.2452,
          -118.2344
         ],
         "marker": {
          "color": "#EF553B"
         },
         "mode": "markers",
         "name": "Central",
         "showlegend": true,
         "subplot": "mapbox",
         "type": "scattermapbox"
        },
        {
         "customdata": [
          [
           "IC",
           "N Hollywood"
          ],
          [
           "IC",
           "N Hollywood"
          ]
         ],
         "hovertemplate": "AREA NAME=%{customdata[1]}<br>LAT=%{lat}<br>LON=%{lon}<br>Status=%{customdata[0]}<extra></extra>",
         "lat": [
          34.1685,
          34.2124
         ],
         "legendgroup": "N Hollywood",
         "lon": [
          -118.4019,
          -118.4092
         ],
         "marker": {
          "color": "#00cc96"
         },
         "mode": "markers",
         "name": "N Hollywood",
         "showlegend": true,
         "subplot": "mapbox",
         "type": "scattermapbox"
        },
        {
         "customdata": [
          [
           "IC",
           "Mission"
          ],
          [
           "IC",
           "Mission"
          ],
          [
           "AO",
           "Mission"
          ]
         ],
         "hovertemplate": "AREA NAME=%{customdata[1]}<br>LAT=%{lat}<br>LON=%{lon}<br>Status=%{customdata[0]}<extra></extra>",
         "lat": [
          34.2198,
          34.3055,
          34.2375
         ],
         "legendgroup": "Mission",
         "lon": [
          -118.4468,
          -118.4439,
          -118.4502
         ],
         "marker": {
          "color": "#ab63fa"
         },
         "mode": "markers",
         "name": "Mission",
         "showlegend": true,
         "subplot": "mapbox",
         "type": "scattermapbox"
        },
        {
         "customdata": [
          [
           "AO",
           "Devonshire"
          ],
          [
           "AO",
           "Devonshire"
          ],
          [
           "IC",
           "Devonshire"
          ],
          [
           "IC",
           "Devonshire"
          ],
          [
           "AO",
           "Devonshire"
          ],
          [
           "IC",
           "Devonshire"
          ]
         ],
         "hovertemplate": "AREA NAME=%{customdata[1]}<br>LAT=%{lat}<br>LON=%{lon}<br>Status=%{customdata[0]}<extra></extra>",
         "lat": [
          34.2864,
          34.2246,
          34.2647,
          34.2762,
          34.2702,
          34.2321
         ],
         "legendgroup": "Devonshire",
         "lon": [
          -118.5021,
          -118.5361,
          -118.4959,
          -118.4716,
          -118.4968,
          -118.4906
         ],
         "marker": {
          "color": "#FFA15A"
         },
         "mode": "markers",
         "name": "Devonshire",
         "showlegend": true,
         "subplot": "mapbox",
         "type": "scattermapbox"
        },
        {
         "customdata": [
          [
           "AO",
           "Northeast"
          ],
          [
           "IC",
           "Northeast"
          ],
          [
           "AO",
           "Northeast"
          ],
          [
           "IC",
           "Northeast"
          ],
          [
           "IC",
           "Northeast"
          ],
          [
           "IC",
           "Northeast"
          ],
          [
           "IC",
           "Northeast"
          ],
          [
           "AA",
           "Northeast"
          ],
          [
           "AA",
           "Northeast"
          ],
          [
           "AA",
           "Northeast"
          ],
          [
           "IC",
           "Northeast"
          ],
          [
           "IC",
           "Northeast"
          ],
          [
           "IC",
           "Northeast"
          ],
          [
           "IC",
           "Northeast"
          ],
          [
           "IC",
           "Northeast"
          ]
         ],
         "hovertemplate": "AREA NAME=%{customdata[1]}<br>LAT=%{lat}<br>LON=%{lon}<br>Status=%{customdata[0]}<extra></extra>",
         "lat": [
          34.1186,
          34.1179,
          34.1186,
          34.099,
          34.1241,
          34.0888,
          34.097,
          34.0768,
          34.1307,
          34.1442,
          34.0815,
          34.1293,
          34.1089,
          34.1098,
          34.1097
         ],
         "legendgroup": "Northeast",
         "lon": [
          -118.245,
          -118.293,
          -118.245,
          -118.2738,
          -118.1878,
          -118.2596,
          -118.2518,
          -118.2574,
          -118.1907,
          -118.218,
          -118.2546,
          -118.219,
          -118.1942,
          -118.2056,
          -118.2739
         ],
         "marker": {
          "color": "#19d3f3"
         },
         "mode": "markers",
         "name": "Northeast",
         "showlegend": true,
         "subplot": "mapbox",
         "type": "scattermapbox"
        },
        {
         "customdata": [
          [
           "IC",
           "Harbor"
          ],
          [
           "IC",
           "Harbor"
          ],
          [
           "AO",
           "Harbor"
          ],
          [
           "AA",
           "Harbor"
          ],
          [
           "AA",
           "Harbor"
          ],
          [
           "IC",
           "Harbor"
          ],
          [
           "IC",
           "Harbor"
          ],
          [
           "AO",
           "Harbor"
          ],
          [
           "IC",
           "Harbor"
          ],
          [
           "AO",
           "Harbor"
          ],
          [
           "AO",
           "Harbor"
          ],
          [
           "AA",
           "Harbor"
          ],
          [
           "IC",
           "Harbor"
          ],
          [
           "IC",
           "Harbor"
          ],
          [
           "IC",
           "Harbor"
          ],
          [
           "AO",
           "Harbor"
          ],
          [
           "AA",
           "Harbor"
          ],
          [
           "AA",
           "Harbor"
          ]
         ],
         "hovertemplate": "AREA NAME=%{customdata[1]}<br>LAT=%{lat}<br>LON=%{lon}<br>Status=%{customdata[0]}<extra></extra>",
         "lat": [
          33.7926,
          33.8129,
          33.7478,
          33.7379,
          33.7783,
          33.7928,
          33.7387,
          33.7334,
          33.7315,
          33.7147,
          33.7815,
          33.7421,
          33.8457,
          33.838,
          33.7837,
          33.8315,
          33.7234,
          33.7361
         ],
         "legendgroup": "Harbor",
         "lon": [
          -118.3043,
          -118.3071,
          -118.2822,
          -118.2814,
          -118.2782,
          -118.2904,
          -118.2814,
          -118.2902,
          -118.2879,
          -118.2916,
          -118.265,
          -118.3102,
          -118.3066,
          -118.2996,
          -118.3079,
          -118.3065,
          -118.2907,
          -118.2901
         ],
         "marker": {
          "color": "#FF6692"
         },
         "mode": "markers",
         "name": "Harbor",
         "showlegend": true,
         "subplot": "mapbox",
         "type": "scattermapbox"
        },
        {
         "customdata": [
          [
           "IC",
           "Van Nuys"
          ],
          [
           "IC",
           "Van Nuys"
          ],
          [
           "IC",
           "Van Nuys"
          ],
          [
           "AA",
           "Van Nuys"
          ],
          [
           "AO",
           "Van Nuys"
          ],
          [
           "IC",
           "Van Nuys"
          ],
          [
           "IC",
           "Van Nuys"
          ],
          [
           "IC",
           "Van Nuys"
          ],
          [
           "AO",
           "Van Nuys"
          ],
          [
           "IC",
           "Van Nuys"
          ],
          [
           "IC",
           "Van Nuys"
          ],
          [
           "IC",
           "Van Nuys"
          ],
          [
           "IC",
           "Van Nuys"
          ],
          [
           "IC",
           "Van Nuys"
          ]
         ],
         "hovertemplate": "AREA NAME=%{customdata[1]}<br>LAT=%{lat}<br>LON=%{lon}<br>Status=%{customdata[0]}<extra></extra>",
         "lat": [
          34.1857,
          34.2039,
          34.1847,
          34.1837,
          34.1867,
          34.1976,
          34.1745,
          34.2041,
          34.2012,
          34.1545,
          34.2012,
          34.1649,
          34.1794,
          34.1576
         ],
         "legendgroup": "Van Nuys",
         "lon": [
          -118.4574,
          -118.4312,
          -118.44,
          -118.4465,
          -118.4422,
          -118.4574,
          -118.4356,
          -118.4425,
          -118.4432,
          -118.4552,
          -118.4574,
          -118.4574,
          -118.4225,
          -118.4231
         ],
         "marker": {
          "color": "#B6E880"
         },
         "mode": "markers",
         "name": "Van Nuys",
         "showlegend": true,
         "subplot": "mapbox",
         "type": "scattermapbox"
        },
        {
         "customdata": [
          [
           "IC",
           "West Valley"
          ],
          [
           "IC",
           "West Valley"
          ],
          [
           "IC",
           "West Valley"
          ],
          [
           "IC",
           "West Valley"
          ],
          [
           "IC",
           "West Valley"
          ],
          [
           "IC",
           "West Valley"
          ],
          [
           "AA",
           "West Valley"
          ],
          [
           "IC",
           "West Valley"
          ],
          [
           "AA",
           "West Valley"
          ],
          [
           "AO",
           "West Valley"
          ],
          [
           "IC",
           "West Valley"
          ],
          [
           "AA",
           "West Valley"
          ],
          [
           "IC",
           "West Valley"
          ],
          [
           "IC",
           "West Valley"
          ]
         ],
         "hovertemplate": "AREA NAME=%{customdata[1]}<br>LAT=%{lat}<br>LON=%{lon}<br>Status=%{customdata[0]}<extra></extra>",
         "lat": [
          34.1748,
          34.1745,
          34.1745,
          34.1994,
          34.166,
          34.1939,
          34.212,
          34.2108,
          34.183,
          34.1905,
          34.1725,
          34.2179,
          34.1718,
          34.2141
         ],
         "legendgroup": "West Valley",
         "lon": [
          -118.5228,
          -118.5383,
          -118.5383,
          -118.4837,
          -118.5033,
          -118.536,
          -118.5579,
          -118.5623,
          -118.5447,
          -118.4749,
          -118.5475,
          -118.5014,
          -118.4993,
          -118.5612
         ],
         "marker": {
          "color": "#FF97FF"
         },
         "mode": "markers",
         "name": "West Valley",
         "showlegend": true,
         "subplot": "mapbox",
         "type": "scattermapbox"
        },
        {
         "customdata": [
          [
           "AO",
           "West LA"
          ],
          [
           "IC",
           "West LA"
          ],
          [
           "AO",
           "West LA"
          ],
          [
           "AO",
           "West LA"
          ],
          [
           "AO",
           "West LA"
          ],
          [
           "IC",
           "West LA"
          ],
          [
           "AO",
           "West LA"
          ],
          [
           "AA",
           "West LA"
          ],
          [
           "IC",
           "West LA"
          ],
          [
           "AO",
           "West LA"
          ],
          [
           "AO",
           "West LA"
          ],
          [
           "AO",
           "West LA"
          ],
          [
           "AO",
           "West LA"
          ],
          [
           "IC",
           "West LA"
          ],
          [
           "IC",
           "West LA"
          ],
          [
           "IC",
           "West LA"
          ],
          [
           "IC",
           "West LA"
          ],
          [
           "AO",
           "West LA"
          ],
          [
           "IC",
           "West LA"
          ],
          [
           "IC",
           "West LA"
          ],
          [
           "IC",
           "West LA"
          ]
         ],
         "hovertemplate": "AREA NAME=%{customdata[1]}<br>LAT=%{lat}<br>LON=%{lon}<br>Status=%{customdata[0]}<extra></extra>",
         "lat": [
          34.0701,
          34.0507,
          34.0423,
          34.0352,
          34.0346,
          34.042,
          34.0561,
          34.0387,
          34.0509,
          34.0567,
          34.1114,
          34.0571,
          34.0409,
          34.0649,
          34.0417,
          34.0494,
          34.0484,
          34.0814,
          34.0375,
          34.045,
          34.0466
         ],
         "legendgroup": "West LA",
         "lon": [
          -118.4679,
          -118.3762,
          -118.4656,
          -118.387,
          -118.3857,
          -118.4531,
          -118.3784,
          -118.4366,
          -118.4459,
          -118.4055,
          -118.4245,
          -118.4978,
          -118.4609,
          -118.4372,
          -118.4041,
          -118.4866,
          -118.4437,
          -118.5073,
          -118.3886,
          -118.4557,
          -118.4408
         ],
         "marker": {
          "color": "#FECB52"
         },
         "mode": "markers",
         "name": "West LA",
         "showlegend": true,
         "subplot": "mapbox",
         "type": "scattermapbox"
        },
        {
         "customdata": [
          [
           "IC",
           "Wilshire"
          ],
          [
           "AO",
           "Wilshire"
          ],
          [
           "IC",
           "Wilshire"
          ],
          [
           "AA",
           "Wilshire"
          ],
          [
           "IC",
           "Wilshire"
          ],
          [
           "IC",
           "Wilshire"
          ],
          [
           "IC",
           "Wilshire"
          ],
          [
           "IC",
           "Wilshire"
          ],
          [
           "IC",
           "Wilshire"
          ],
          [
           "IC",
           "Wilshire"
          ],
          [
           "IC",
           "Wilshire"
          ]
         ],
         "hovertemplate": "AREA NAME=%{customdata[1]}<br>LAT=%{lat}<br>LON=%{lon}<br>Status=%{customdata[0]}<extra></extra>",
         "lat": [
          34.0761,
          34.0677,
          34.0339,
          34.0747,
          34.0443,
          34.0433,
          34.0717,
          34.0496,
          34.0608,
          34.0783,
          34.0761
         ],
         "legendgroup": "Wilshire",
         "lon": [
          -118.3737,
          -118.3548,
          -118.3747,
          -118.3563,
          -118.3538,
          -118.3418,
          -118.3806,
          -118.3425,
          -118.3359,
          -118.3474,
          -118.3685
         ],
         "marker": {
          "color": "#636efa"
         },
         "mode": "markers",
         "name": "Wilshire",
         "showlegend": true,
         "subplot": "mapbox",
         "type": "scattermapbox"
        },
        {
         "customdata": [
          [
           "IC",
           "Pacific"
          ],
          [
           "IC",
           "Pacific"
          ],
          [
           "AO",
           "Pacific"
          ],
          [
           "IC",
           "Pacific"
          ],
          [
           "AO",
           "Pacific"
          ],
          [
           "IC",
           "Pacific"
          ]
         ],
         "hovertemplate": "AREA NAME=%{customdata[1]}<br>LAT=%{lat}<br>LON=%{lon}<br>Status=%{customdata[0]}<extra></extra>",
         "lat": [
          33.9876,
          34.0081,
          33.9984,
          34.0022,
          33.9868,
          33.9925
         ],
         "legendgroup": "Pacific",
         "lon": [
          -118.4489,
          -118.4512,
          -118.4527,
          -118.4255,
          -118.4451,
          -118.4402
         ],
         "marker": {
          "color": "#EF553B"
         },
         "mode": "markers",
         "name": "Pacific",
         "showlegend": true,
         "subplot": "mapbox",
         "type": "scattermapbox"
        },
        {
         "customdata": [
          [
           "AO",
           "Rampart"
          ],
          [
           "AO",
           "Rampart"
          ],
          [
           "IC",
           "Rampart"
          ],
          [
           "AO",
           "Rampart"
          ],
          [
           "IC",
           "Rampart"
          ],
          [
           "AA",
           "Rampart"
          ],
          [
           "IC",
           "Rampart"
          ],
          [
           "IC",
           "Rampart"
          ],
          [
           "IC",
           "Rampart"
          ],
          [
           "AO",
           "Rampart"
          ],
          [
           "AO",
           "Rampart"
          ],
          [
           "AO",
           "Rampart"
          ],
          [
           "IC",
           "Rampart"
          ],
          [
           "AO",
           "Rampart"
          ],
          [
           "IC",
           "Rampart"
          ],
          [
           "AO",
           "Rampart"
          ]
         ],
         "hovertemplate": "AREA NAME=%{customdata[1]}<br>LAT=%{lat}<br>LON=%{lon}<br>Status=%{customdata[0]}<extra></extra>",
         "lat": [
          34.0708,
          34.0609,
          34.0574,
          34.0868,
          34.0517,
          34.0535,
          34.0777,
          34.09,
          34.0648,
          34.071,
          34.057,
          34.0519,
          34.0473,
          34.0589,
          34.0601,
          34.0583
         ],
         "legendgroup": "Rampart",
         "lon": [
          -118.2798,
          -118.2823,
          -118.2747,
          -118.2991,
          -118.2798,
          -118.2714,
          -118.2961,
          -118.2807,
          -118.2696,
          -118.2759,
          -118.2635,
          -118.2624,
          -118.2827,
          -118.2835,
          -118.2761,
          -118.2616
         ],
         "marker": {
          "color": "#00cc96"
         },
         "mode": "markers",
         "name": "Rampart",
         "showlegend": true,
         "subplot": "mapbox",
         "type": "scattermapbox"
        },
        {
         "customdata": [
          [
           "AA",
           "77th Street"
          ],
          [
           "AO",
           "77th Street"
          ],
          [
           "AA",
           "77th Street"
          ],
          [
           "IC",
           "77th Street"
          ],
          [
           "IC",
           "77th Street"
          ],
          [
           "AO",
           "77th Street"
          ],
          [
           "AA",
           "77th Street"
          ],
          [
           "IC",
           "77th Street"
          ],
          [
           "IC",
           "77th Street"
          ]
         ],
         "hovertemplate": "AREA NAME=%{customdata[1]}<br>LAT=%{lat}<br>LON=%{lon}<br>Status=%{customdata[0]}<extra></extra>",
         "lat": [
          33.9698,
          33.98,
          33.9703,
          33.9691,
          33.9694,
          33.9828,
          33.9936,
          33.9837,
          33.9782
         ],
         "legendgroup": "77th Street",
         "lon": [
          -118.2833,
          -118.3177,
          -118.2783,
          -118.3309,
          -118.2608,
          -118.3235,
          -118.3215,
          -118.3279,
          -118.2893
         ],
         "marker": {
          "color": "#ab63fa"
         },
         "mode": "markers",
         "name": "77th Street",
         "showlegend": true,
         "subplot": "mapbox",
         "type": "scattermapbox"
        },
        {
         "customdata": [
          [
           "IC",
           "Hollenbeck"
          ],
          [
           "AO",
           "Hollenbeck"
          ],
          [
           "AA",
           "Hollenbeck"
          ],
          [
           "IC",
           "Hollenbeck"
          ],
          [
           "AO",
           "Hollenbeck"
          ],
          [
           "IC",
           "Hollenbeck"
          ],
          [
           "AA",
           "Hollenbeck"
          ],
          [
           "IC",
           "Hollenbeck"
          ],
          [
           "AO",
           "Hollenbeck"
          ],
          [
           "AO",
           "Hollenbeck"
          ],
          [
           "IC",
           "Hollenbeck"
          ],
          [
           "AO",
           "Hollenbeck"
          ],
          [
           "IC",
           "Hollenbeck"
          ],
          [
           "IC",
           "Hollenbeck"
          ],
          [
           "IC",
           "Hollenbeck"
          ],
          [
           "IC",
           "Hollenbeck"
          ]
         ],
         "hovertemplate": "AREA NAME=%{customdata[1]}<br>LAT=%{lat}<br>LON=%{lon}<br>Status=%{customdata[0]}<extra></extra>",
         "lat": [
          34.0736,
          34.0436,
          34.078,
          34.0707,
          34.0445,
          34.0711,
          34.0811,
          34.097,
          34.0277,
          34.0609,
          34.0246,
          34.0832,
          34.0726,
          34.0664,
          34.0425,
          34.0609
         ],
         "legendgroup": "Hollenbeck",
         "lon": [
          -118.2156,
          -118.2051,
          -118.2181,
          -118.2103,
          -118.2116,
          -118.1643,
          -118.1614,
          -118.1695,
          -118.1978,
          -118.2052,
          -118.1998,
          -118.1933,
          -118.2201,
          -118.1722,
          -118.2217,
          -118.2052
         ],
         "marker": {
          "color": "#FFA15A"
         },
         "mode": "markers",
         "name": "Hollenbeck",
         "showlegend": true,
         "subplot": "mapbox",
         "type": "scattermapbox"
        },
        {
         "customdata": [
          [
           "AO",
           "Southeast"
          ],
          [
           "AO",
           "Southeast"
          ],
          [
           "AO",
           "Southeast"
          ],
          [
           "AO",
           "Southeast"
          ],
          [
           "AA",
           "Southeast"
          ],
          [
           "IC",
           "Southeast"
          ],
          [
           "AO",
           "Southeast"
          ],
          [
           "AO",
           "Southeast"
          ],
          [
           "AO",
           "Southeast"
          ],
          [
           "IC",
           "Southeast"
          ]
         ],
         "hovertemplate": "AREA NAME=%{customdata[1]}<br>LAT=%{lat}<br>LON=%{lon}<br>Status=%{customdata[0]}<extra></extra>",
         "lat": [
          33.9425,
          33.952,
          33.9297,
          33.9406,
          33.9311,
          33.9601,
          33.9419,
          33.9465,
          33.959,
          33.9492
         ],
         "legendgroup": "Southeast",
         "lon": [
          -118.2781,
          -118.2446,
          -118.2335,
          -118.237,
          -118.2493,
          -118.2768,
          -118.2784,
          -118.2397,
          -118.2739,
          -118.2739
         ],
         "marker": {
          "color": "#19d3f3"
         },
         "mode": "markers",
         "name": "Southeast",
         "showlegend": true,
         "subplot": "mapbox",
         "type": "scattermapbox"
        },
        {
         "customdata": [
          [
           "AO",
           "Hollywood"
          ],
          [
           "AO",
           "Hollywood"
          ],
          [
           "AA",
           "Hollywood"
          ],
          [
           "AA",
           "Hollywood"
          ],
          [
           "IC",
           "Hollywood"
          ],
          [
           "IC",
           "Hollywood"
          ],
          [
           "IC",
           "Hollywood"
          ],
          [
           "AO",
           "Hollywood"
          ],
          [
           "IC",
           "Hollywood"
          ],
          [
           "IC",
           "Hollywood"
          ],
          [
           "IC",
           "Hollywood"
          ],
          [
           "IC",
           "Hollywood"
          ],
          [
           "IC",
           "Hollywood"
          ],
          [
           "IC",
           "Hollywood"
          ],
          [
           "IC",
           "Hollywood"
          ],
          [
           "AA",
           "Hollywood"
          ],
          [
           "IC",
           "Hollywood"
          ]
         ],
         "hovertemplate": "AREA NAME=%{customdata[1]}<br>LAT=%{lat}<br>LON=%{lon}<br>Status=%{customdata[0]}<extra></extra>",
         "lat": [
          34.1017,
          34.0862,
          34.1039,
          34.098,
          34.098,
          34.0858,
          34.0908,
          34.098,
          34.0845,
          34.1038,
          34.1007,
          34.0998,
          34.0944,
          34.0981,
          34.098,
          34.1123,
          34.0836
         ],
         "legendgroup": "Hollywood",
         "lon": [
          -118.3136,
          -118.3064,
          -118.3318,
          -118.3416,
          -118.3335,
          -118.3118,
          -118.3012,
          -118.3316,
          -118.3078,
          -118.3035,
          -118.3494,
          -118.3211,
          -118.3277,
          -118.3114,
          -118.3266,
          -118.308,
          -118.3016
         ],
         "marker": {
          "color": "#FF6692"
         },
         "mode": "markers",
         "name": "Hollywood",
         "showlegend": true,
         "subplot": "mapbox",
         "type": "scattermapbox"
        },
        {
         "customdata": [
          [
           "AO",
           "Newton"
          ],
          [
           "AO",
           "Newton"
          ],
          [
           "AO",
           "Newton"
          ]
         ],
         "hovertemplate": "AREA NAME=%{customdata[1]}<br>LAT=%{lat}<br>LON=%{lon}<br>Status=%{customdata[0]}<extra></extra>",
         "lat": [
          33.9842,
          33.9765,
          34.0084
         ],
         "legendgroup": "Newton",
         "lon": [
          -118.2789,
          -118.2789,
          -118.2455
         ],
         "marker": {
          "color": "#B6E880"
         },
         "mode": "markers",
         "name": "Newton",
         "showlegend": true,
         "subplot": "mapbox",
         "type": "scattermapbox"
        },
        {
         "customdata": [
          [
           "IC",
           "Foothill"
          ],
          [
           "IC",
           "Foothill"
          ],
          [
           "AA",
           "Foothill"
          ],
          [
           "IC",
           "Foothill"
          ],
          [
           "AA",
           "Foothill"
          ]
         ],
         "hovertemplate": "AREA NAME=%{customdata[1]}<br>LAT=%{lat}<br>LON=%{lon}<br>Status=%{customdata[0]}<extra></extra>",
         "lat": [
          34.2219,
          34.2719,
          34.2309,
          34.2276,
          34.2157
         ],
         "legendgroup": "Foothill",
         "lon": [
          -118.3814,
          -118.3592,
          -118.3727,
          -118.3955,
          -118.3902
         ],
         "marker": {
          "color": "#FF97FF"
         },
         "mode": "markers",
         "name": "Foothill",
         "showlegend": true,
         "subplot": "mapbox",
         "type": "scattermapbox"
        },
        {
         "customdata": [
          [
           "IC",
           "Olympic"
          ],
          [
           "AO",
           "Olympic"
          ],
          [
           "IC",
           "Olympic"
          ],
          [
           "IC",
           "Olympic"
          ],
          [
           "IC",
           "Olympic"
          ]
         ],
         "hovertemplate": "AREA NAME=%{customdata[1]}<br>LAT=%{lat}<br>LON=%{lon}<br>Status=%{customdata[0]}<extra></extra>",
         "lat": [
          34.0726,
          34.0605,
          34.0618,
          34.0545,
          34.0608
         ],
         "legendgroup": "Olympic",
         "lon": [
          -118.3029,
          -118.2903,
          -118.2923,
          -118.3031,
          -118.2941
         ],
         "marker": {
          "color": "#FECB52"
         },
         "mode": "markers",
         "name": "Olympic",
         "showlegend": true,
         "subplot": "mapbox",
         "type": "scattermapbox"
        },
        {
         "customdata": [
          [
           "AO",
           "Topanga"
          ]
         ],
         "hovertemplate": "AREA NAME=%{customdata[1]}<br>LAT=%{lat}<br>LON=%{lon}<br>Status=%{customdata[0]}<extra></extra>",
         "lat": [
          34.2011
         ],
         "legendgroup": "Topanga",
         "lon": [
          -118.5884
         ],
         "marker": {
          "color": "#636efa"
         },
         "mode": "markers",
         "name": "Topanga",
         "showlegend": true,
         "subplot": "mapbox",
         "type": "scattermapbox"
        }
       ],
       "layout": {
        "height": 1000,
        "legend": {
         "title": {
          "text": "AREA NAME"
         },
         "tracegroupgap": 0
        },
        "mapbox": {
         "center": {
          "lat": 34.049904600000005,
          "lon": -118.26960930000001
         },
         "domain": {
          "x": [
           0,
           1
          ],
          "y": [
           0,
           1
          ]
         },
         "style": "open-street-map",
         "zoom": 8
        },
        "margin": {
         "b": 0,
         "l": 0,
         "r": 0,
         "t": 0
        },
        "template": {
         "data": {
          "bar": [
           {
            "error_x": {
             "color": "#2a3f5f"
            },
            "error_y": {
             "color": "#2a3f5f"
            },
            "marker": {
             "line": {
              "color": "#E5ECF6",
              "width": 0.5
             },
             "pattern": {
              "fillmode": "overlay",
              "size": 10,
              "solidity": 0.2
             }
            },
            "type": "bar"
           }
          ],
          "barpolar": [
           {
            "marker": {
             "line": {
              "color": "#E5ECF6",
              "width": 0.5
             },
             "pattern": {
              "fillmode": "overlay",
              "size": 10,
              "solidity": 0.2
             }
            },
            "type": "barpolar"
           }
          ],
          "carpet": [
           {
            "aaxis": {
             "endlinecolor": "#2a3f5f",
             "gridcolor": "white",
             "linecolor": "white",
             "minorgridcolor": "white",
             "startlinecolor": "#2a3f5f"
            },
            "baxis": {
             "endlinecolor": "#2a3f5f",
             "gridcolor": "white",
             "linecolor": "white",
             "minorgridcolor": "white",
             "startlinecolor": "#2a3f5f"
            },
            "type": "carpet"
           }
          ],
          "choropleth": [
           {
            "colorbar": {
             "outlinewidth": 0,
             "ticks": ""
            },
            "type": "choropleth"
           }
          ],
          "contour": [
           {
            "colorbar": {
             "outlinewidth": 0,
             "ticks": ""
            },
            "colorscale": [
             [
              0,
              "#0d0887"
             ],
             [
              0.1111111111111111,
              "#46039f"
             ],
             [
              0.2222222222222222,
              "#7201a8"
             ],
             [
              0.3333333333333333,
              "#9c179e"
             ],
             [
              0.4444444444444444,
              "#bd3786"
             ],
             [
              0.5555555555555556,
              "#d8576b"
             ],
             [
              0.6666666666666666,
              "#ed7953"
             ],
             [
              0.7777777777777778,
              "#fb9f3a"
             ],
             [
              0.8888888888888888,
              "#fdca26"
             ],
             [
              1,
              "#f0f921"
             ]
            ],
            "type": "contour"
           }
          ],
          "contourcarpet": [
           {
            "colorbar": {
             "outlinewidth": 0,
             "ticks": ""
            },
            "type": "contourcarpet"
           }
          ],
          "heatmap": [
           {
            "colorbar": {
             "outlinewidth": 0,
             "ticks": ""
            },
            "colorscale": [
             [
              0,
              "#0d0887"
             ],
             [
              0.1111111111111111,
              "#46039f"
             ],
             [
              0.2222222222222222,
              "#7201a8"
             ],
             [
              0.3333333333333333,
              "#9c179e"
             ],
             [
              0.4444444444444444,
              "#bd3786"
             ],
             [
              0.5555555555555556,
              "#d8576b"
             ],
             [
              0.6666666666666666,
              "#ed7953"
             ],
             [
              0.7777777777777778,
              "#fb9f3a"
             ],
             [
              0.8888888888888888,
              "#fdca26"
             ],
             [
              1,
              "#f0f921"
             ]
            ],
            "type": "heatmap"
           }
          ],
          "heatmapgl": [
           {
            "colorbar": {
             "outlinewidth": 0,
             "ticks": ""
            },
            "colorscale": [
             [
              0,
              "#0d0887"
             ],
             [
              0.1111111111111111,
              "#46039f"
             ],
             [
              0.2222222222222222,
              "#7201a8"
             ],
             [
              0.3333333333333333,
              "#9c179e"
             ],
             [
              0.4444444444444444,
              "#bd3786"
             ],
             [
              0.5555555555555556,
              "#d8576b"
             ],
             [
              0.6666666666666666,
              "#ed7953"
             ],
             [
              0.7777777777777778,
              "#fb9f3a"
             ],
             [
              0.8888888888888888,
              "#fdca26"
             ],
             [
              1,
              "#f0f921"
             ]
            ],
            "type": "heatmapgl"
           }
          ],
          "histogram": [
           {
            "marker": {
             "pattern": {
              "fillmode": "overlay",
              "size": 10,
              "solidity": 0.2
             }
            },
            "type": "histogram"
           }
          ],
          "histogram2d": [
           {
            "colorbar": {
             "outlinewidth": 0,
             "ticks": ""
            },
            "colorscale": [
             [
              0,
              "#0d0887"
             ],
             [
              0.1111111111111111,
              "#46039f"
             ],
             [
              0.2222222222222222,
              "#7201a8"
             ],
             [
              0.3333333333333333,
              "#9c179e"
             ],
             [
              0.4444444444444444,
              "#bd3786"
             ],
             [
              0.5555555555555556,
              "#d8576b"
             ],
             [
              0.6666666666666666,
              "#ed7953"
             ],
             [
              0.7777777777777778,
              "#fb9f3a"
             ],
             [
              0.8888888888888888,
              "#fdca26"
             ],
             [
              1,
              "#f0f921"
             ]
            ],
            "type": "histogram2d"
           }
          ],
          "histogram2dcontour": [
           {
            "colorbar": {
             "outlinewidth": 0,
             "ticks": ""
            },
            "colorscale": [
             [
              0,
              "#0d0887"
             ],
             [
              0.1111111111111111,
              "#46039f"
             ],
             [
              0.2222222222222222,
              "#7201a8"
             ],
             [
              0.3333333333333333,
              "#9c179e"
             ],
             [
              0.4444444444444444,
              "#bd3786"
             ],
             [
              0.5555555555555556,
              "#d8576b"
             ],
             [
              0.6666666666666666,
              "#ed7953"
             ],
             [
              0.7777777777777778,
              "#fb9f3a"
             ],
             [
              0.8888888888888888,
              "#fdca26"
             ],
             [
              1,
              "#f0f921"
             ]
            ],
            "type": "histogram2dcontour"
           }
          ],
          "mesh3d": [
           {
            "colorbar": {
             "outlinewidth": 0,
             "ticks": ""
            },
            "type": "mesh3d"
           }
          ],
          "parcoords": [
           {
            "line": {
             "colorbar": {
              "outlinewidth": 0,
              "ticks": ""
             }
            },
            "type": "parcoords"
           }
          ],
          "pie": [
           {
            "automargin": true,
            "type": "pie"
           }
          ],
          "scatter": [
           {
            "fillpattern": {
             "fillmode": "overlay",
             "size": 10,
             "solidity": 0.2
            },
            "type": "scatter"
           }
          ],
          "scatter3d": [
           {
            "line": {
             "colorbar": {
              "outlinewidth": 0,
              "ticks": ""
             }
            },
            "marker": {
             "colorbar": {
              "outlinewidth": 0,
              "ticks": ""
             }
            },
            "type": "scatter3d"
           }
          ],
          "scattercarpet": [
           {
            "marker": {
             "colorbar": {
              "outlinewidth": 0,
              "ticks": ""
             }
            },
            "type": "scattercarpet"
           }
          ],
          "scattergeo": [
           {
            "marker": {
             "colorbar": {
              "outlinewidth": 0,
              "ticks": ""
             }
            },
            "type": "scattergeo"
           }
          ],
          "scattergl": [
           {
            "marker": {
             "colorbar": {
              "outlinewidth": 0,
              "ticks": ""
             }
            },
            "type": "scattergl"
           }
          ],
          "scattermapbox": [
           {
            "marker": {
             "colorbar": {
              "outlinewidth": 0,
              "ticks": ""
             }
            },
            "type": "scattermapbox"
           }
          ],
          "scatterpolar": [
           {
            "marker": {
             "colorbar": {
              "outlinewidth": 0,
              "ticks": ""
             }
            },
            "type": "scatterpolar"
           }
          ],
          "scatterpolargl": [
           {
            "marker": {
             "colorbar": {
              "outlinewidth": 0,
              "ticks": ""
             }
            },
            "type": "scatterpolargl"
           }
          ],
          "scatterternary": [
           {
            "marker": {
             "colorbar": {
              "outlinewidth": 0,
              "ticks": ""
             }
            },
            "type": "scatterternary"
           }
          ],
          "surface": [
           {
            "colorbar": {
             "outlinewidth": 0,
             "ticks": ""
            },
            "colorscale": [
             [
              0,
              "#0d0887"
             ],
             [
              0.1111111111111111,
              "#46039f"
             ],
             [
              0.2222222222222222,
              "#7201a8"
             ],
             [
              0.3333333333333333,
              "#9c179e"
             ],
             [
              0.4444444444444444,
              "#bd3786"
             ],
             [
              0.5555555555555556,
              "#d8576b"
             ],
             [
              0.6666666666666666,
              "#ed7953"
             ],
             [
              0.7777777777777778,
              "#fb9f3a"
             ],
             [
              0.8888888888888888,
              "#fdca26"
             ],
             [
              1,
              "#f0f921"
             ]
            ],
            "type": "surface"
           }
          ],
          "table": [
           {
            "cells": {
             "fill": {
              "color": "#EBF0F8"
             },
             "line": {
              "color": "white"
             }
            },
            "header": {
             "fill": {
              "color": "#C8D4E3"
             },
             "line": {
              "color": "white"
             }
            },
            "type": "table"
           }
          ]
         },
         "layout": {
          "annotationdefaults": {
           "arrowcolor": "#2a3f5f",
           "arrowhead": 0,
           "arrowwidth": 1
          },
          "autotypenumbers": "strict",
          "coloraxis": {
           "colorbar": {
            "outlinewidth": 0,
            "ticks": ""
           }
          },
          "colorscale": {
           "diverging": [
            [
             0,
             "#8e0152"
            ],
            [
             0.1,
             "#c51b7d"
            ],
            [
             0.2,
             "#de77ae"
            ],
            [
             0.3,
             "#f1b6da"
            ],
            [
             0.4,
             "#fde0ef"
            ],
            [
             0.5,
             "#f7f7f7"
            ],
            [
             0.6,
             "#e6f5d0"
            ],
            [
             0.7,
             "#b8e186"
            ],
            [
             0.8,
             "#7fbc41"
            ],
            [
             0.9,
             "#4d9221"
            ],
            [
             1,
             "#276419"
            ]
           ],
           "sequential": [
            [
             0,
             "#0d0887"
            ],
            [
             0.1111111111111111,
             "#46039f"
            ],
            [
             0.2222222222222222,
             "#7201a8"
            ],
            [
             0.3333333333333333,
             "#9c179e"
            ],
            [
             0.4444444444444444,
             "#bd3786"
            ],
            [
             0.5555555555555556,
             "#d8576b"
            ],
            [
             0.6666666666666666,
             "#ed7953"
            ],
            [
             0.7777777777777778,
             "#fb9f3a"
            ],
            [
             0.8888888888888888,
             "#fdca26"
            ],
            [
             1,
             "#f0f921"
            ]
           ],
           "sequentialminus": [
            [
             0,
             "#0d0887"
            ],
            [
             0.1111111111111111,
             "#46039f"
            ],
            [
             0.2222222222222222,
             "#7201a8"
            ],
            [
             0.3333333333333333,
             "#9c179e"
            ],
            [
             0.4444444444444444,
             "#bd3786"
            ],
            [
             0.5555555555555556,
             "#d8576b"
            ],
            [
             0.6666666666666666,
             "#ed7953"
            ],
            [
             0.7777777777777778,
             "#fb9f3a"
            ],
            [
             0.8888888888888888,
             "#fdca26"
            ],
            [
             1,
             "#f0f921"
            ]
           ]
          },
          "colorway": [
           "#636efa",
           "#EF553B",
           "#00cc96",
           "#ab63fa",
           "#FFA15A",
           "#19d3f3",
           "#FF6692",
           "#B6E880",
           "#FF97FF",
           "#FECB52"
          ],
          "font": {
           "color": "#2a3f5f"
          },
          "geo": {
           "bgcolor": "white",
           "lakecolor": "white",
           "landcolor": "#E5ECF6",
           "showlakes": true,
           "showland": true,
           "subunitcolor": "white"
          },
          "hoverlabel": {
           "align": "left"
          },
          "hovermode": "closest",
          "mapbox": {
           "style": "light"
          },
          "paper_bgcolor": "white",
          "plot_bgcolor": "#E5ECF6",
          "polar": {
           "angularaxis": {
            "gridcolor": "white",
            "linecolor": "white",
            "ticks": ""
           },
           "bgcolor": "#E5ECF6",
           "radialaxis": {
            "gridcolor": "white",
            "linecolor": "white",
            "ticks": ""
           }
          },
          "scene": {
           "xaxis": {
            "backgroundcolor": "#E5ECF6",
            "gridcolor": "white",
            "gridwidth": 2,
            "linecolor": "white",
            "showbackground": true,
            "ticks": "",
            "zerolinecolor": "white"
           },
           "yaxis": {
            "backgroundcolor": "#E5ECF6",
            "gridcolor": "white",
            "gridwidth": 2,
            "linecolor": "white",
            "showbackground": true,
            "ticks": "",
            "zerolinecolor": "white"
           },
           "zaxis": {
            "backgroundcolor": "#E5ECF6",
            "gridcolor": "white",
            "gridwidth": 2,
            "linecolor": "white",
            "showbackground": true,
            "ticks": "",
            "zerolinecolor": "white"
           }
          },
          "shapedefaults": {
           "line": {
            "color": "#2a3f5f"
           }
          },
          "ternary": {
           "aaxis": {
            "gridcolor": "white",
            "linecolor": "white",
            "ticks": ""
           },
           "baxis": {
            "gridcolor": "white",
            "linecolor": "white",
            "ticks": ""
           },
           "bgcolor": "#E5ECF6",
           "caxis": {
            "gridcolor": "white",
            "linecolor": "white",
            "ticks": ""
           }
          },
          "title": {
           "x": 0.05
          },
          "xaxis": {
           "automargin": true,
           "gridcolor": "white",
           "linecolor": "white",
           "ticks": "",
           "title": {
            "standoff": 15
           },
           "zerolinecolor": "white",
           "zerolinewidth": 2
          },
          "yaxis": {
           "automargin": true,
           "gridcolor": "white",
           "linecolor": "white",
           "ticks": "",
           "title": {
            "standoff": 15
           },
           "zerolinecolor": "white",
           "zerolinewidth": 2
          }
         }
        },
        "width": 1500
       }
      }
     },
     "metadata": {},
     "output_type": "display_data"
    }
   ],
   "source": [
    "#plot map\n",
    "\n",
    "color_scale = [(0, 'orange'), (1,'red')]\n",
    "\n",
    "fig = px.scatter_mapbox(df, \n",
    "                        lat=\"LAT\", \n",
    "                        lon=\"LON\",\n",
    "                        zoom=8,\n",
    "                        color=\"AREA NAME\",\n",
    "                        hover_data=[\"Status\", \"AREA NAME\"], \n",
    "                        height=1000,\n",
    "                        width=1500)\n",
    "\n",
    "fig.update_layout(mapbox_style=\"open-street-map\")\n",
    "fig.update_layout(margin={\"r\":0,\"t\":0,\"l\":0,\"b\":0})\n",
    "fig.show()"
   ]
  },
  {
   "cell_type": "code",
   "execution_count": null,
   "metadata": {},
   "outputs": [],
   "source": []
  }
 ],
 "metadata": {
  "kernelspec": {
   "display_name": "sega",
   "language": "python",
   "name": "python3"
  },
  "language_info": {
   "codemirror_mode": {
    "name": "ipython",
    "version": 3
   },
   "file_extension": ".py",
   "mimetype": "text/x-python",
   "name": "python",
   "nbconvert_exporter": "python",
   "pygments_lexer": "ipython3",
   "version": "3.9.17"
  },
  "orig_nbformat": 4
 },
 "nbformat": 4,
 "nbformat_minor": 2
}
